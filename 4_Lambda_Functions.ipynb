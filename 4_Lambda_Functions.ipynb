{
  "nbformat": 4,
  "nbformat_minor": 0,
  "metadata": {
    "colab": {
      "name": "4-Lambda Functions.ipynb",
      "provenance": [],
      "collapsed_sections": [],
      "toc_visible": true
    },
    "kernelspec": {
      "name": "python3",
      "display_name": "Python 3"
    }
  },
  "cells": [
    {
      "cell_type": "markdown",
      "metadata": {
        "id": "zFNpLf1iI7rT",
        "colab_type": "text"
      },
      "source": [
        "# Lambda Functions\n",
        "\n",
        "\n",
        "####  Learn how to define a Python function in one line! \n",
        "\n",
        "\n",
        "A function is an object that is able to accept some sort of input, possibly modify it, and return some sort of output. In Python, a **lambda function is a one-line shorthand for function**. A simple lambda function might look like this:\n"
      ]
    },
    {
      "cell_type": "code",
      "metadata": {
        "id": "i9fnDweIJLC-",
        "colab_type": "code",
        "colab": {
          "base_uri": "https://localhost:8080/",
          "height": 34
        },
        "outputId": "897efed6-de9b-425b-f219-9c5e645bcd0a"
      },
      "source": [
        "add_two = lambda my_input: my_input + 2\n",
        "print(add_two(23))"
      ],
      "execution_count": 2,
      "outputs": [
        {
          "output_type": "stream",
          "text": [
            "25\n"
          ],
          "name": "stdout"
        }
      ]
    },
    {
      "cell_type": "markdown",
      "metadata": {
        "id": "6AeZnjwJW9dj",
        "colab_type": "text"
      },
      "source": [
        "So this code:"
      ]
    },
    {
      "cell_type": "code",
      "metadata": {
        "id": "PZumJECvW98L",
        "colab_type": "code",
        "colab": {
          "base_uri": "https://localhost:8080/",
          "height": 69
        },
        "outputId": "d559b9cb-5195-49d5-d2de-03df83950ceb"
      },
      "source": [
        "print(add_two(3))\n",
        "print(add_two(100))\n",
        "print(add_two(-2))\n",
        "# will produce this: "
      ],
      "execution_count": 3,
      "outputs": [
        {
          "output_type": "stream",
          "text": [
            "5\n",
            "102\n",
            "0\n"
          ],
          "name": "stdout"
        }
      ]
    },
    {
      "cell_type": "markdown",
      "metadata": {
        "id": "dQ457BsSXHcd",
        "colab_type": "text"
      },
      "source": [
        "** Let’s break this syntax down:** \n",
        "\n",
        "* The function is stored in a variable called a`dd_two`\n",
        "* `lambda` declares that this is a lambda function (if you are familiar with normal Python functions, this is similar to how we use `def` to declare a function)\n",
        "* `my_input` is what we call the input we are passing into add_two\n",
        "We are returning `my_input` plus 2 (with normal Python functions, we use the keyword `return`)\n"
      ]
    },
    {
      "cell_type": "markdown",
      "metadata": {
        "id": "mOfg3HdSXyRN",
        "colab_type": "text"
      },
      "source": [
        "Let’s write a lambda function that checks if a string is a substring of the string “This is the master string”."
      ]
    },
    {
      "cell_type": "code",
      "metadata": {
        "id": "c0SveSEVX0ko",
        "colab_type": "code",
        "colab": {}
      },
      "source": [
        "is_substring = lambda my_string: my_string in \"This is the master string\""
      ],
      "execution_count": 0,
      "outputs": []
    },
    {
      "cell_type": "code",
      "metadata": {
        "id": "ks9r7IPmX3-M",
        "colab_type": "code",
        "colab": {
          "base_uri": "https://localhost:8080/",
          "height": 86
        },
        "outputId": "b97e9ad5-c5a0-4539-e2aa-b5e2bc25c251"
      },
      "source": [
        "print(is_substring('I'))\n",
        "print(is_substring('am'))\n",
        "print(is_substring('the'))\n",
        "print(is_substring('master'))"
      ],
      "execution_count": 6,
      "outputs": [
        {
          "output_type": "stream",
          "text": [
            "False\n",
            "False\n",
            "True\n",
            "True\n"
          ],
          "name": "stdout"
        }
      ]
    },
    {
      "cell_type": "markdown",
      "metadata": {
        "id": "eJzCPTQeYBJ7",
        "colab_type": "text"
      },
      "source": [
        "We might want a function that will perform differently based on different inputs. Let’s say that we have a function check_if_A_grade that outputs 'Got an A!' if a grade is at least 90, and otherwise says you 'Did not get an A…'. So, the code: "
      ]
    },
    {
      "cell_type": "code",
      "metadata": {
        "id": "v5OInK0zYFeR",
        "colab_type": "code",
        "colab": {}
      },
      "source": [
        "check_if_A_grade = lambda grade: 'Got an A!' if grade >= 90 else 'Did not get an A...'"
      ],
      "execution_count": 0,
      "outputs": []
    },
    {
      "cell_type": "code",
      "metadata": {
        "id": "zPrEmweXYINO",
        "colab_type": "code",
        "colab": {
          "base_uri": "https://localhost:8080/",
          "height": 69
        },
        "outputId": "24da0107-01ef-453c-a4dd-6edb87033c27"
      },
      "source": [
        "print(check_if_A_grade(91))\n",
        "print(check_if_A_grade(70))\n",
        "print(check_if_A_grade(20))"
      ],
      "execution_count": 8,
      "outputs": [
        {
          "output_type": "stream",
          "text": [
            "Got an A!\n",
            "Did not get an A...\n",
            "Did not get an A...\n"
          ],
          "name": "stdout"
        }
      ]
    },
    {
      "cell_type": "markdown",
      "metadata": {
        "id": "5nOEtXsuYNrg",
        "colab_type": "text"
      },
      "source": [
        "This is what this line of code does: \n",
        "\n",
        "* Declare lambda function with an input called `grade` (lambda grade:)\n",
        "* Return 'Got an A!' if this statement is true:\n",
        "```\n",
        "    grade >= 90\n",
        "```\n",
        "* Otherwise, return 'Did not get an A...' if this statement is not true:\n",
        "```\n",
        "    grade >= 90\n",
        "```\n"
      ]
    },
    {
      "cell_type": "markdown",
      "metadata": {
        "id": "wVfPKcqrYc6z",
        "colab_type": "text"
      },
      "source": [
        "Lambda functions only work if we’re just doing a one line command. If we wanted to something longer, we’d need a more complex function. Lambda functions are great when you need to use a function once. Because you aren’t defining a function, the reusability aspect functions is not present with lambda functions. By saving the work of defining a function, a lambda function allows us to efficiently run an expression and produce an output for a specific task, such as defining a column in a table, or populating information in a dictionary."
      ]
    },
    {
      "cell_type": "markdown",
      "metadata": {
        "id": "eFfmvdUxYnX3",
        "colab_type": "text"
      },
      "source": [
        "## Lambda Function Code Challenge"
      ]
    },
    {
      "cell_type": "markdown",
      "metadata": {
        "id": "QLH46OwoYsdb",
        "colab_type": "text"
      },
      "source": [
        "Contains A\n",
        "\n",
        "In Python, you can check if a string contains a substring by using the keyword `in`. For example, the line:\n",
        "```\n",
        "return \"I\" in \"Team\"\n",
        "```\n",
        "would return `False`, as there is no `\"I\"` in `\"Team\"`. However:\n",
        "\n",
        "```\n",
        "return \"I\" in \"I love Python\"\n",
        "```\n",
        "\n",
        "Returns `True`, because there is an `\"I\"` in `\"I love Python\"`.\n",
        "\n",
        "Remember that to make a lambda function you can use the syntax:\n",
        "\n",
        "```\n",
        "lambda my_input: <my_input modified somehow>\n",
        "```\n",
        "For example, a lambda that would return `my_input` plus `1` would look like:\n",
        "\n",
        "```\n",
        "plus_one = lambda my_input: my_input+1\n",
        "```\n"
      ]
    },
    {
      "cell_type": "markdown",
      "metadata": {
        "id": "oYtVK9RLZJrt",
        "colab_type": "text"
      },
      "source": [
        "## Contains A \n",
        "Create a lambda function named `contains_a` that takes an input `word` and returns `True` if the input contains the letter `'a'`. Otherwise, return `False`.\n"
      ]
    },
    {
      "cell_type": "code",
      "metadata": {
        "id": "vo5JFkCRZPGb",
        "colab_type": "code",
        "colab": {}
      },
      "source": [
        "#Write your lambda function here\n",
        "\n",
        "contains_a = lambda word: 'a' in word; "
      ],
      "execution_count": 0,
      "outputs": []
    },
    {
      "cell_type": "code",
      "metadata": {
        "id": "2M3u98_TZj6u",
        "colab_type": "code",
        "colab": {
          "base_uri": "https://localhost:8080/",
          "height": 69
        },
        "outputId": "1e399388-c1b5-4cc1-b4ed-8b644d557212"
      },
      "source": [
        "print (contains_a(\"banana\"))\n",
        "print (contains_a(\"apple\"))\n",
        "print (contains_a(\"cherry\"))"
      ],
      "execution_count": 15,
      "outputs": [
        {
          "output_type": "stream",
          "text": [
            "True\n",
            "True\n",
            "False\n"
          ],
          "name": "stdout"
        }
      ]
    },
    {
      "cell_type": "markdown",
      "metadata": {
        "id": "Yy1VyKcEZyBG",
        "colab_type": "text"
      },
      "source": [
        "## Long String \n",
        "\n",
        "To find the number of characters in a string, we use `len`. This block of code:\n",
        "\n",
        "```\n",
        "print(len(\"Hello\"))\n",
        "print(len(\"world!\"))\n",
        "print(len(\"Hello, world!\"))\n",
        "\n",
        "```\n",
        "would print out:\n",
        "```\n",
        "5\n",
        "6\n",
        "13\n",
        "```\n"
      ]
    },
    {
      "cell_type": "markdown",
      "metadata": {
        "id": "fwkDwYkBZ9JR",
        "colab_type": "text"
      },
      "source": [
        "Create a lambda function named `long_string` that takes an input `str` and returns `True` if the string has over 12 characters in it. Otherwise, return `False`.\n"
      ]
    },
    {
      "cell_type": "code",
      "metadata": {
        "id": "doqSQ8AFaDfN",
        "colab_type": "code",
        "colab": {
          "base_uri": "https://localhost:8080/",
          "height": 52
        },
        "outputId": "a0e35dfe-a10c-4ce3-9acd-e4d1a4a311e2"
      },
      "source": [
        "long_string = lambda str: len(str) > 12 \n",
        "\n",
        "print (long_string(\"short\"))\n",
        "print (long_string(\"photosynthesis\"))\n"
      ],
      "execution_count": 22,
      "outputs": [
        {
          "output_type": "stream",
          "text": [
            "False\n",
            "True\n"
          ],
          "name": "stdout"
        }
      ]
    },
    {
      "cell_type": "markdown",
      "metadata": {
        "id": "oxjRrEW9aw3z",
        "colab_type": "text"
      },
      "source": [
        "## Ends With A\n",
        "\n",
        "You can get a character of a string string_name by using the syntax `string_name[index]`, where `index` is the place of character you want to get, starting at 0. The last character in the string is `string_name[-1]`.\n",
        "\n",
        "For example:\n",
        "\n",
        "```\n",
        "my_string = \"Whoa! A seesaw\"\n",
        "print(my_string[0])\n",
        "print(my_string[2])\n",
        "print(my_string[-1])\n",
        "```\n",
        "\n",
        "would print\n",
        "\n",
        "```\n",
        "\"W\"\n",
        "\"o\"\n",
        "\"w\"\n",
        "```"
      ]
    },
    {
      "cell_type": "markdown",
      "metadata": {
        "id": "ANCdEWVubLbD",
        "colab_type": "text"
      },
      "source": [
        "Create a lambda function named `ends_in_a` that takes an input `str` and returns `True` if the last character in the string is an a. Otherwise, return `False`.\n"
      ]
    },
    {
      "cell_type": "code",
      "metadata": {
        "id": "rUQ_ObJJct7d",
        "colab_type": "code",
        "colab": {
          "base_uri": "https://localhost:8080/",
          "height": 52
        },
        "outputId": "f60af1b1-5937-4582-af2d-79f6f6734e40"
      },
      "source": [
        "#Write your lambda function here\n",
        "ends_in_a = lambda str: str[-1] == \"a\"\n",
        "\n",
        "print (ends_in_a(\"data\"))\n",
        "print (ends_in_a(\"aardvark\"))\n"
      ],
      "execution_count": 24,
      "outputs": [
        {
          "output_type": "stream",
          "text": [
            "True\n",
            "False\n"
          ],
          "name": "stdout"
        }
      ]
    },
    {
      "cell_type": "markdown",
      "metadata": {
        "id": "u946ibJDcz1n",
        "colab_type": "text"
      },
      "source": [
        "## Double Or Zero \n",
        "\n",
        "Create a lambda function named `double_or_zero` that takes an integer named `num`. If num is greater than 10, return double num. Otherwise, return 0.\n"
      ]
    },
    {
      "cell_type": "code",
      "metadata": {
        "id": "E_4OzKHfdhgP",
        "colab_type": "code",
        "colab": {
          "base_uri": "https://localhost:8080/",
          "height": 52
        },
        "outputId": "4581e27f-38c7-4c15-80ae-1efda67ebe21"
      },
      "source": [
        "double_or_zero = lambda num: num * 2 if num > 10 else 0 \n",
        "\n",
        "print (double_or_zero(15))\n",
        "print (double_or_zero(5))"
      ],
      "execution_count": 25,
      "outputs": [
        {
          "output_type": "stream",
          "text": [
            "30\n",
            "0\n"
          ],
          "name": "stdout"
        }
      ]
    },
    {
      "cell_type": "markdown",
      "metadata": {
        "id": "7Q_kHwPQdl0O",
        "colab_type": "text"
      },
      "source": [
        "## Even/Odd \n",
        "\n",
        "Create a lambda function named `even_or_odd` that takes an integer named `num`. If num is even, return `\"even\"`. If num is odd, return `\"odd\"`.\n"
      ]
    },
    {
      "cell_type": "code",
      "metadata": {
        "id": "9EOfQ-6CdsxZ",
        "colab_type": "code",
        "colab": {
          "base_uri": "https://localhost:8080/",
          "height": 52
        },
        "outputId": "3a679a08-31c3-4df2-8e34-98db4e9b3904"
      },
      "source": [
        "even_or_odd = lambda num: 'even' if num %2 ==0 else 'odd'\n",
        "\n",
        "print (even_or_odd(10))\n",
        "print (even_or_odd(5))\n"
      ],
      "execution_count": 27,
      "outputs": [
        {
          "output_type": "stream",
          "text": [
            "even\n",
            "odd\n"
          ],
          "name": "stdout"
        }
      ]
    },
    {
      "cell_type": "markdown",
      "metadata": {
        "id": "tVaT_YeheCDl",
        "colab_type": "text"
      },
      "source": [
        "## Multiple of Three \n",
        "\n",
        "In general, using `%n` will tell you if an integer is a multiple of `n`. If the result is `0`, the integer is a multiple of `n` (since there is no remainder in the division): \n",
        "\n",
        "```\n",
        ">>> 4%4 #4 is a multiple of 4\n",
        "0\n",
        ">>> 12%5 #12 is not a multiple of 5\n",
        "2 \n",
        ">>> 9%2 #9 is not a multiple of 2\n",
        "1\n",
        ">>> 100%10 #100 is a multiple of 10\n",
        "0\n",
        "```\n",
        "\n"
      ]
    },
    {
      "cell_type": "markdown",
      "metadata": {
        "id": "xxiBUQLJeZU6",
        "colab_type": "text"
      },
      "source": [
        "Create a lambda function named `multiple_of_three` that takes an integer named `num`. If `num` is a multiple of three, return `\"multiple of three\"`. Otherwise, return `\"not a multiple\"`.\n"
      ]
    },
    {
      "cell_type": "code",
      "metadata": {
        "id": "jtEjjIlFeeXg",
        "colab_type": "code",
        "colab": {
          "base_uri": "https://localhost:8080/",
          "height": 52
        },
        "outputId": "b1370d18-8ae5-4d1f-af56-4bd2a5be4ebd"
      },
      "source": [
        "#Write your lambda function here\n",
        "\n",
        "multiple_of_three = lambda num: \"multiple of three\" if num % 3 == 0 else \"not a multiple\"\n",
        "\n",
        "print (multiple_of_three(9))\n",
        "print (multiple_of_three(10))\n"
      ],
      "execution_count": 29,
      "outputs": [
        {
          "output_type": "stream",
          "text": [
            "multiple of three\n",
            "not a multiple\n"
          ],
          "name": "stdout"
        }
      ]
    },
    {
      "cell_type": "markdown",
      "metadata": {
        "id": "xvrHquSyeye7",
        "colab_type": "text"
      },
      "source": [
        "## Movie Rating \n",
        "\n",
        "Create a lambda function named `rate_movie` that takes a number named `rating`. If rating is greater than 8.5, return `\"I liked this movie\"`. Otherwise return `\"This movie was not very good\"`.\n"
      ]
    },
    {
      "cell_type": "code",
      "metadata": {
        "id": "ri9mNsaee36F",
        "colab_type": "code",
        "colab": {
          "base_uri": "https://localhost:8080/",
          "height": 52
        },
        "outputId": "6d08ddf9-1e8b-411f-ed6f-9ee6b8cc5215"
      },
      "source": [
        "rate_movie = lambda rating: \"I liked this movie\" if rating > 8.5 else \"This movie was not very good\"\n",
        "\n",
        "print (rate_movie(9.2))\n",
        "print (rate_movie(7.2))\n"
      ],
      "execution_count": 32,
      "outputs": [
        {
          "output_type": "stream",
          "text": [
            "I liked this movie\n",
            "This movie was not very good\n"
          ],
          "name": "stdout"
        }
      ]
    },
    {
      "cell_type": "markdown",
      "metadata": {
        "id": "CZtrt7SPfQGi",
        "colab_type": "text"
      },
      "source": [
        "## Ones' Place \n",
        "\n",
        "You can use the modulo function (%) with 10 to find the ones’ place of an integer.\n",
        "\n",
        "Here are some examples:\n",
        "\n",
        "```\n",
        ">>> 41%10\n",
        "1\n",
        ">>> 2%10\n",
        "2 \n",
        ">>> 39%10\n",
        "9\n",
        ">>> 103%10\n",
        "3\n",
        ">>> 20%10\n",
        "0\n",
        "```\n"
      ]
    },
    {
      "cell_type": "markdown",
      "metadata": {
        "id": "1F2JWxk2fYEL",
        "colab_type": "text"
      },
      "source": [
        "Create a lambda function named `ones_place` that returns the ones’ place of the input `num`.\n"
      ]
    },
    {
      "cell_type": "code",
      "metadata": {
        "id": "uAHnDNJFfaxL",
        "colab_type": "code",
        "colab": {
          "base_uri": "https://localhost:8080/",
          "height": 52
        },
        "outputId": "dbf337ca-099f-49ec-f165-4145058203a1"
      },
      "source": [
        "ones_place = lambda num: num% 10\n",
        "print (ones_place(123))\n",
        "print (ones_place(4))\n"
      ],
      "execution_count": 33,
      "outputs": [
        {
          "output_type": "stream",
          "text": [
            "3\n",
            "4\n"
          ],
          "name": "stdout"
        }
      ]
    },
    {
      "cell_type": "markdown",
      "metadata": {
        "id": "lG2V_C6efr2j",
        "colab_type": "text"
      },
      "source": [
        "## Double Square\n",
        "\n",
        "Create a lambda function named `double_square` that takes an input named `num`. The function should return twice the square of num.\n"
      ]
    },
    {
      "cell_type": "code",
      "metadata": {
        "id": "_eeV3k0-f6Lb",
        "colab_type": "code",
        "colab": {
          "base_uri": "https://localhost:8080/",
          "height": 52
        },
        "outputId": "6d6c1feb-aadd-4824-b8e6-1eddcad2dbb4"
      },
      "source": [
        "double_square = lambda num: num*num*2\n",
        "\n",
        "print (double_square(5))\n",
        "print (double_square(3))\n"
      ],
      "execution_count": 34,
      "outputs": [
        {
          "output_type": "stream",
          "text": [
            "50\n",
            "18\n"
          ],
          "name": "stdout"
        }
      ]
    },
    {
      "cell_type": "markdown",
      "metadata": {
        "id": "lH_1vz-Xf_Jk",
        "colab_type": "text"
      },
      "source": [
        "# Add Random \n",
        "\n",
        "`random.randint(a,b)` will return an integer between a and b (inclusive).\n",
        "\n",
        "So, r`andom.randint(5, 8)` could return any integer between 5 and 8 including both 5 and 8.\n",
        "\n",
        "`random.randint(0, 100)` could return any integer between 0 and 100 including both 0 and 100.\n"
      ]
    },
    {
      "cell_type": "markdown",
      "metadata": {
        "id": "rwhr4eYBgIo3",
        "colab_type": "text"
      },
      "source": [
        "Create a lambda function named `add_random` that takes an input named `num`. The function should return num plus a random integer number between 1 and 10 (inclusive).\n"
      ]
    },
    {
      "cell_type": "code",
      "metadata": {
        "id": "TQh6JtFwgLsz",
        "colab_type": "code",
        "colab": {
          "base_uri": "https://localhost:8080/",
          "height": 52
        },
        "outputId": "5b9294b1-6d5d-4fe1-934b-1bfcdb9a95b3"
      },
      "source": [
        "import random\n",
        "#Write your lambda function here\n",
        "\n",
        "add_random = lambda num: num + random.randint(1,10)\n",
        "\n",
        "print (add_random(5))\n",
        "print (add_random(100))"
      ],
      "execution_count": 35,
      "outputs": [
        {
          "output_type": "stream",
          "text": [
            "12\n",
            "108\n"
          ],
          "name": "stdout"
        }
      ]
    },
    {
      "cell_type": "markdown",
      "metadata": {
        "id": "bMk8vUFTgiEx",
        "colab_type": "text"
      },
      "source": [
        "## Conclusion\n",
        "\n",
        "You practiced basic lambda function syntax like: \n",
        "```\n",
        "add_two = lambda my_input: my_input+2\n",
        "```\n",
        "\n",
        "as well as more complicated lambda functions with `if/else` statements like:\n",
        "\n",
        "```\n",
        "check_if_A_grade = lambda grade: 'Got an A!' if grade >= 90 else 'Did not get an A...'\n",
        "```\n",
        "\n",
        "Also, along the way you practiced these core Python concepts:\n",
        "\n",
        "* Strings and substrings\n",
        "* Getting characters from strings\n",
        "* Mathematical operations\n",
        "* Comparators\n",
        "* Random integers\n"
      ]
    }
  ]
}