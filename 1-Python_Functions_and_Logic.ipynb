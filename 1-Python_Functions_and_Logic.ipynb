{
  "nbformat": 4,
  "nbformat_minor": 0,
  "metadata": {
    "colab": {
      "name": "Python Functions and Logic.ipynb",
      "provenance": [],
      "collapsed_sections": [],
      "toc_visible": true
    },
    "kernelspec": {
      "name": "python3",
      "display_name": "Python 3"
    }
  },
  "cells": [
    {
      "cell_type": "markdown",
      "metadata": {
        "id": "x7lC-9e2sw3S",
        "colab_type": "text"
      },
      "source": [
        "# Python Functions and Logic\n",
        "\n",
        "Congratulations on finishing the SQL section of the path! Now you can create databases to store data and query them to retrieve the information you need. If you want to keep practicing your SQL knowledge, we recommend finding a dataset that interests you and creating a SQLite database locally to store the data. Query the database and see what you can learn about the data!\n",
        "With SQL now in your data science toolkit, it’s time to learn an extremely useful tool that will help you further analyze data and discover insights: Python! Python is a general-purpose programming language that excels in data analysis. With Python, you will be able to perform more advanced data analyses than SQL, as well as create data visualizations and perform machine learning.\n",
        "Proceed to begin your journey into the wonderful world of Python!\n"
      ]
    },
    {
      "cell_type": "markdown",
      "metadata": {
        "id": "0vAW-S8is2kb",
        "colab_type": "text"
      },
      "source": [
        "## Welcome\n",
        "\n",
        "Python is a programming language. Like other languages, it gives us a way to communicate ideas. In the case of a programming language, these ideas are “commands” that people use to communicate with a computer!\n",
        "We convey our commands to the computer by writing them in a text file using a programming language. These files are called programs. Running a program means telling a computer to read the text file, translate it to the set of operations that it understands, and perform those actions."
      ]
    },
    {
      "cell_type": "markdown",
      "metadata": {
        "id": "FR42orGBs5wc",
        "colab_type": "text"
      },
      "source": [
        "## Learn Python: Syntax\n",
        "\n",
        "Comments\n",
        "Ironically, the first thing we’re going to do is show how to tell a computer to ignore a part of a program. Text written in a program but not run by the computer is called a comment. Python interprets anything after a # as a comment.\n",
        "Comments can: \n",
        "\n",
        "\n",
        "* Provide context for why something is written the way it is: `# This variable will be used to count the number of times anyone tweets the word persnickety\n",
        "persnickety_count = 0`\n",
        "* Help other people reading the code understand it faster: `# This code will calculate the likelihood that it will rain tomorrow\n",
        "complicated_rain_calculation_for_tomorrow()`\n",
        "* Ignore a line of code and see how a program will run without it:`# useful_value = old_sloppy_code()`\n"
      ]
    },
    {
      "cell_type": "markdown",
      "metadata": {
        "id": "LcxK-ZSHtZCp",
        "colab_type": "text"
      },
      "source": [
        "## Print\n",
        "Now what we’re going to do is teach our computer to communicate. The gift of speech is valuable: a computer can answer many questions we have about “how” or “why” or “what” it is doing. In Python, the print() function is used to tell a computer to talk. The message to be printed should be surrounded by quotes:\n",
        "`#from Mary Shelley's Frankenstein`\n",
        "`print(\"There is something at work in my soul, which I do not understand.\")`\n",
        "\n",
        "\n",
        "In the above example, we direct our program to `print()` an excerpt from a notable book. The printed words that appear as a result of the print() function are referred to **as output**. The output of this example program would be:\n",
        "\n",
        "`There is something at work in my soul, which I do not understand.`\n"
      ]
    },
    {
      "cell_type": "code",
      "metadata": {
        "id": "fNdSaVnvttVF",
        "colab_type": "code",
        "colab": {
          "base_uri": "https://localhost:8080/",
          "height": 34
        },
        "outputId": "f6ac7bce-d227-485a-a247-52e1e8a735c2"
      },
      "source": [
        "print(\"There is something at work in my soul, which I do not understand.\")\n"
      ],
      "execution_count": 1,
      "outputs": [
        {
          "output_type": "stream",
          "text": [
            "There is something at work in my soul, which I do not understand.\n"
          ],
          "name": "stdout"
        }
      ]
    },
    {
      "cell_type": "markdown",
      "metadata": {
        "id": "9WCmmAWPy0l6",
        "colab_type": "text"
      },
      "source": [
        "## Strings \n",
        "Computer programmers refer to blocks of text as strings. In our last exercise, we created the string `“Hello world!”`. In Python a string is either surrounded by double quotes (\"Hello world\") or single quotes `('Hello world')`. It doesn’t matter which kind you use, just be consistent.\n"
      ]
    },
    {
      "cell_type": "markdown",
      "metadata": {
        "id": "CeCPr06TzB7P",
        "colab_type": "text"
      },
      "source": [
        "## Variables \n",
        "\n",
        "Programming languages offer a method of storing data for reuse. If there is a greeting we want to present, a date we need to reuse, or a user ID we need to remember we can create a variable which can store a value. **In Python, we assign variables by using the equals sign (=).**\n"
      ]
    },
    {
      "cell_type": "code",
      "metadata": {
        "id": "AD-vC44rzVI2",
        "colab_type": "code",
        "colab": {}
      },
      "source": [
        ""
      ],
      "execution_count": 0,
      "outputs": []
    },
    {
      "cell_type": "code",
      "metadata": {
        "id": "450YOs8DzKTA",
        "colab_type": "code",
        "colab": {
          "base_uri": "https://localhost:8080/",
          "height": 34
        },
        "outputId": "92ee71e8-ee31-4f88-9a20-0f19a0878813"
      },
      "source": [
        "message_string = \"Hello there\"\n",
        "# Prints \"Hello there\"\n",
        "print(message_string)"
      ],
      "execution_count": 1,
      "outputs": [
        {
          "output_type": "stream",
          "text": [
            "Hello there\n"
          ],
          "name": "stdout"
        }
      ]
    },
    {
      "cell_type": "markdown",
      "metadata": {
        "id": "AWoDE2TmzOkO",
        "colab_type": "text"
      },
      "source": [
        "In the above example, we store the message `“Hello there”` in a variable called `message_string`. Variables can’t have spaces or symbols in their names other than an underscore (_). **They can’t begin with numbers but they can have numbers after the first letter** (e.g., cool_variable_5 is OK). \n"
      ]
    },
    {
      "cell_type": "markdown",
      "metadata": {
        "id": "GPpz8cW6zWxc",
        "colab_type": "text"
      },
      "source": [
        "It’s no coincidence we call these creatures “variables”. If the context of a program changes, we can update a variable but perform the same logical process on it.\n"
      ]
    },
    {
      "cell_type": "code",
      "metadata": {
        "id": "lgjzQOQizcD6",
        "colab_type": "code",
        "colab": {
          "base_uri": "https://localhost:8080/",
          "height": 52
        },
        "outputId": "2e1201c0-a079-4bf0-c7d4-b9e74fea47b8"
      },
      "source": [
        "# Greeting\n",
        "message_string = \"Hello there\"\n",
        "print(message_string)\n",
        "\n",
        "# Farewell\n",
        "message_string = \"Hasta la vista\"\n",
        "print(message_string)\n"
      ],
      "execution_count": 2,
      "outputs": [
        {
          "output_type": "stream",
          "text": [
            "Hello there\n",
            "Hasta la vista\n"
          ],
          "name": "stdout"
        }
      ]
    },
    {
      "cell_type": "markdown",
      "metadata": {
        "id": "0jYlOw0Bzgf5",
        "colab_type": "text"
      },
      "source": [
        "Above, we create the variable `message_string`, assign a welcome message, and print the greeting. After we greet the user, we want to wish them goodbye. We then **update** `message_string` to a departure message and print that out.\n"
      ]
    },
    {
      "cell_type": "markdown",
      "metadata": {
        "id": "K_MzFZCSzsjZ",
        "colab_type": "text"
      },
      "source": [
        "## Numbers \n",
        "Computers can understand much more than just strings of text. Python has **a few numeric data types*. It has multiple ways of storing numbers. Which one you use depends on your intended purpose for the number you are saving.\n",
        "\n",
        "\n",
        "**An integer**, or `int`, is a whole number. It has no decimal point and contains all counting numbers (1, 2, 3, …) as well as their negative counterparts and the number 0. If you were counting the number of people in a room, the number of jellybeans in a jar, or the number of keys on a keyboard you would likely use an integer.\n",
        "\n",
        "\n",
        "**A floating-point number**, or a `float`, is a decimal number. It can be used to represent fractional quantities as well as precise measurements. If you were measuring the length of your bedroom wall, calculating the average test score of a seventh-grade class, or storing a baseball player’s batting average for the 1998 season you would likely use a float.\n",
        "Numbers can be assigned to variables or used literally in a program:\n"
      ]
    },
    {
      "cell_type": "code",
      "metadata": {
        "id": "-EIIRS3vz7Mq",
        "colab_type": "code",
        "colab": {
          "base_uri": "https://localhost:8080/",
          "height": 52
        },
        "outputId": "fdadc3e1-b54a-45ba-e433-ddd9c4489898"
      },
      "source": [
        "an_int = 2\n",
        "a_float = 2.1\n",
        "print(an_int + 3)\n",
        "print(a_float + 3)"
      ],
      "execution_count": 4,
      "outputs": [
        {
          "output_type": "stream",
          "text": [
            "5\n",
            "5.1\n"
          ],
          "name": "stdout"
        }
      ]
    },
    {
      "cell_type": "markdown",
      "metadata": {
        "id": "0YwfCjJw0E94",
        "colab_type": "text"
      },
      "source": [
        "Above we defined an integer and a float as the variables `an_int` and `a_float`. We printed out the sum of the variable an_int with the number 3. **We call the number 3 here a literal**, meaning it’s actually the number 3 and not a variable with the number 3 assigned to it.\n",
        "\n",
        "Floating-point numbers can behave in some unexpected ways due to how computers store them. For more information on floating-point numbers and Python, review Python’s documentation on floating-point limitations.\n",
        "\n"
      ]
    },
    {
      "cell_type": "markdown",
      "metadata": {
        "id": "UzYET-nl0g-v",
        "colab_type": "text"
      },
      "source": [
        "## Calculations\n",
        "\n",
        "Computers absolutely excel at performing calculations. The “compute” in their name comes from their historical association with providing answers to mathematical questions. Python performs addition, subtraction, multiplication, and division with +, -, *, and /.\n"
      ]
    },
    {
      "cell_type": "code",
      "metadata": {
        "id": "3V-I5LpL0oaQ",
        "colab_type": "code",
        "colab": {
          "base_uri": "https://localhost:8080/",
          "height": 86
        },
        "outputId": "65be686f-085a-4fb2-ca0e-9f9eb9ef7881"
      },
      "source": [
        "print(573 - 74 + 1)\n",
        "print(25 * 2)\n",
        "print(10 / 5)\n",
        "print(int(10 / 5))\n"
      ],
      "execution_count": 7,
      "outputs": [
        {
          "output_type": "stream",
          "text": [
            "500\n",
            "50\n",
            "2.0\n",
            "2\n"
          ],
          "name": "stdout"
        }
      ]
    },
    {
      "cell_type": "markdown",
      "metadata": {
        "id": "9fxRn1z20rA1",
        "colab_type": "text"
      },
      "source": [
        "Notice that when we perform division, the result has a decimal place. **This is because Python converts all ints to floats before performing division**. In older versions of Python (2.7 and earlier) this conversion did not happen, and integer division would always round down to the nearest integer.\n"
      ]
    },
    {
      "cell_type": "markdown",
      "metadata": {
        "id": "R3Q6y0e61BxY",
        "colab_type": "text"
      },
      "source": [
        "Division can throw its own special error: `ZeroDivisionError`. Python will raise this error when attempting to divide by 0.\n",
        "\n",
        "Mathematical operations in Python follow the standard mathematical order of operations.\n"
      ]
    },
    {
      "cell_type": "markdown",
      "metadata": {
        "id": "KnOR8z-A1Gh7",
        "colab_type": "text"
      },
      "source": [
        "## Changing Numbers\n",
        "**Variables that are assigned numeric values can be treated the same as the numbers themselves**. \n",
        "\n",
        "Two variables can be added together, divided by 2, and multiplied by a third variable without Python distinguishing between the variables and **literals** (like the number 2 in this example). Performing arithmetic on variables does not change the variable — you can only update a variable using the = sign.\n"
      ]
    },
    {
      "cell_type": "code",
      "metadata": {
        "id": "rIllmjLT1TVH",
        "colab_type": "code",
        "colab": {
          "base_uri": "https://localhost:8080/",
          "height": 121
        },
        "outputId": "fb8efd4d-0a4f-4ba1-fbc0-0caa7fd43e01"
      },
      "source": [
        "coffee_price = 1.50\n",
        "number_of_coffees = 4\n",
        "\n",
        "# Prints \"6.0\"\n",
        "print(coffee_price * number_of_coffees)\n",
        "# Prints \"1.5\"\n",
        "print(coffee_price)\n",
        "# Prints \"4\"\n",
        "print(number_of_coffees)\n",
        "\n",
        "# Updating the price \n",
        "coffee_price = 2.00\n",
        "\n",
        "# Prints \"8.0\"\n",
        "print(coffee_price * number_of_coffees)\n",
        "# Prints \"2.0\"\n",
        "print(coffee_price)\n",
        "# Prints \"4\"\n",
        "print(number_of_coffees)\n"
      ],
      "execution_count": 8,
      "outputs": [
        {
          "output_type": "stream",
          "text": [
            "6.0\n",
            "1.5\n",
            "4\n",
            "8.0\n",
            "2.0\n",
            "4\n"
          ],
          "name": "stdout"
        }
      ]
    },
    {
      "cell_type": "markdown",
      "metadata": {
        "id": "ePpz_2kk1bOs",
        "colab_type": "text"
      },
      "source": [
        "We create two variables and assign numeric values to them. Then we perform a calculation on them. This doesn’t update the variables! When we update the `coffee_price` variable and perform the calculations again, they use the updated values for the variable!\n"
      ]
    },
    {
      "cell_type": "markdown",
      "metadata": {
        "id": "pSOvE39kAbP7",
        "colab_type": "text"
      },
      "source": [
        "## Exponents\n",
        "Python can also perform exponentiation. In written math, you might see an exponent as a superscript number, but typing superscript numbers isn’t always easy on modern keyboards. Since this operation is so related to multiplication, we use the notation **.\n"
      ]
    },
    {
      "cell_type": "code",
      "metadata": {
        "id": "YSTCg0Q9AeFc",
        "colab_type": "code",
        "colab": {
          "base_uri": "https://localhost:8080/",
          "height": 86
        },
        "outputId": "db4395bf-5dfd-4adf-d3a8-d4b68477dfc6"
      },
      "source": [
        "# 2 to the 10th power, or 1024\n",
        "print(2 ** 10)\n",
        "# 8 squared, or 64\n",
        "print(8 ** 2)\n",
        "# 9 * 9 * 9, 9 cubed, or 729\n",
        "print(9 ** 3)\n",
        "# We can even perform fractional exponents\n",
        "# 4 to the half power, or 2\n",
        "print(4 ** 0.5)\n"
      ],
      "execution_count": 9,
      "outputs": [
        {
          "output_type": "stream",
          "text": [
            "1024\n",
            "64\n",
            "729\n",
            "2.0\n"
          ],
          "name": "stdout"
        }
      ]
    },
    {
      "cell_type": "markdown",
      "metadata": {
        "id": "5-LeSSMcAhRZ",
        "colab_type": "text"
      },
      "source": [
        "Here, we compute some simple exponents. We calculate 2 to the 10th power, 8 to the 2nd power, 9 to the 3rd power, and 4 to the 0.5th power.\n"
      ]
    },
    {
      "cell_type": "markdown",
      "metadata": {
        "id": "p65ORr_qAioa",
        "colab_type": "text"
      },
      "source": [
        "## Modulo\n",
        "Python offers a companion to the division operator called the modulo operator. The modulo operator is indicated by % and gives the remainder of a division calculation. If the number is divisible, then the result of the modulo operator will be 0.\n"
      ]
    },
    {
      "cell_type": "code",
      "metadata": {
        "id": "2JNvl9p0AlgM",
        "colab_type": "code",
        "colab": {
          "base_uri": "https://localhost:8080/",
          "height": 69
        },
        "outputId": "2343ee82-ab2c-4829-b237-88b51e650098"
      },
      "source": [
        "# Prints 4 because 29 / 5 is 5 with a remainder of 4\n",
        "print(29 % 5)\n",
        "# Prints 2 because 32 / 3 is 10 with a remainder of 2\n",
        "print(32 % 3)\n",
        "# Modulo by 2 returns 0 for even numbers and 1 for odd numbers\n",
        "# Prints 0\n",
        "print(44 % 2)\n"
      ],
      "execution_count": 10,
      "outputs": [
        {
          "output_type": "stream",
          "text": [
            "4\n",
            "2\n",
            "0\n"
          ],
          "name": "stdout"
        }
      ]
    },
    {
      "cell_type": "markdown",
      "metadata": {
        "id": "xjQTMW7NApCF",
        "colab_type": "text"
      },
      "source": [
        "Here, we use the modulo operator to find the remainder of division operations. We see that 29 % 5 equals 4, 32 % 3 equals 2, and 44 % 2 equals 0.\n",
        "The modulo operator is useful in programming when we want to perform an action every nth-time the code is run. Can the result of a modulo operation be larger than the divisor? Why or why not?"
      ]
    },
    {
      "cell_type": "markdown",
      "metadata": {
        "id": "B7TQBletArkA",
        "colab_type": "text"
      },
      "source": [
        "## Concatenation\n",
        "The + operator doesn’t just add two numbers, it can also “add” two strings! The process of combining two strings is called **string concatenation**. Performing string concatenation creates a brand new string comprised of the first string’s contents followed by the second string’s contents (without any added space in-between).\n"
      ]
    },
    {
      "cell_type": "code",
      "metadata": {
        "id": "AUxVdcPaAy-K",
        "colab_type": "code",
        "colab": {
          "base_uri": "https://localhost:8080/",
          "height": 34
        },
        "outputId": "f4e7c39e-1cc8-49be-87cf-5c7af198b68d"
      },
      "source": [
        "greeting_text = \"Hey there!\"\n",
        "question_text = \"How are you doing?\"\n",
        "full_text = greeting_text + question_text\n",
        "# Prints \"Hey there!How are you doing?\"\n",
        "print(full_text)\n"
      ],
      "execution_count": 11,
      "outputs": [
        {
          "output_type": "stream",
          "text": [
            "Hey there!How are you doing?\n"
          ],
          "name": "stdout"
        }
      ]
    },
    {
      "cell_type": "markdown",
      "metadata": {
        "id": "FlYUepjqA12e",
        "colab_type": "text"
      },
      "source": [
        "In this sample of code, we create two variables that hold strings and then concatenate them. But we notice that the result was missing a space between the two, let’s add the space in-between using the same concatenation operator!\n"
      ]
    },
    {
      "cell_type": "code",
      "metadata": {
        "id": "18fHy7XjEixu",
        "colab_type": "code",
        "colab": {
          "base_uri": "https://localhost:8080/",
          "height": 34
        },
        "outputId": "a347dc79-7965-492b-a6c5-20359aff1503"
      },
      "source": [
        "full_text = greeting_text + \" \" + question_text\n",
        "\n",
        "# Prints \"Hey there! How are you doing?\"\n",
        "print(full_text)"
      ],
      "execution_count": 12,
      "outputs": [
        {
          "output_type": "stream",
          "text": [
            "Hey there! How are you doing?\n"
          ],
          "name": "stdout"
        }
      ]
    },
    {
      "cell_type": "markdown",
      "metadata": {
        "id": "BDiOT1vlEmEG",
        "colab_type": "text"
      },
      "source": [
        "Now the code prints the message we expected.\n",
        "\n",
        "If you want to concatenate a string with a number you will need to make the number a string first, using the `str()`function. If you’re trying to `print()` a numeric variable you can use commas to pass it as a different argument rather than converting it to a string.\n"
      ]
    },
    {
      "cell_type": "code",
      "metadata": {
        "id": "vbEW5slEPt6B",
        "colab_type": "code",
        "colab": {
          "base_uri": "https://localhost:8080/",
          "height": 52
        },
        "outputId": "950ae5bd-92c0-4605-d9c5-b0857772a45a"
      },
      "source": [
        "birthday_string = \"I am \"\n",
        "age = 10\n",
        "birthday_string_2 = \" years old today!\"\n",
        "\n",
        "# Concatenating an integer with strings is possible if we turn the integer into\n",
        "# a string first\n",
        "full_birthday_string = birthday_string + str(age) + birthday_string_2\n",
        "\n",
        "# Prints \"I am 10 years old today!\"\n",
        "print(full_birthday_string)\n",
        "\n",
        "# If we just want to print an integer \n",
        "# we can pass a variable as an argument to \n",
        "# print() regardless of whether \n",
        "# it is a string.\n",
        "\n",
        "# This also prints \"I am 10 years old today!\"\n",
        "print(birthday_string, age, birthday_string_2)"
      ],
      "execution_count": 15,
      "outputs": [
        {
          "output_type": "stream",
          "text": [
            "I am 10 years old today!\n",
            "I am  10  years old today!\n"
          ],
          "name": "stdout"
        }
      ]
    },
    {
      "cell_type": "markdown",
      "metadata": {
        "id": "-G4iRBESQAzH",
        "colab_type": "text"
      },
      "source": [
        "Using `str()` we can convert variables that are not strings to strings and then concatenate them. But we don’t need to convert a number to a string for it to be an argument to a print statement.\n"
      ]
    },
    {
      "cell_type": "markdown",
      "metadata": {
        "id": "0ky6cypNQJbY",
        "colab_type": "text"
      },
      "source": [
        "## Plus Equals\n",
        "Python offers a shorthand for updating variables. When you have a number saved in a variable and want to add to the current value of the variable, you can use the `+= `(plus-equals) operator.\n",
        "\n"
      ]
    },
    {
      "cell_type": "code",
      "metadata": {
        "id": "VEVXPkgTQN15",
        "colab_type": "code",
        "colab": {
          "base_uri": "https://localhost:8080/",
          "height": 34
        },
        "outputId": "c5e27257-5e0d-4189-f129-bb411b0dd352"
      },
      "source": [
        "# First we have a variable with a number saved\n",
        "number_of_miles_hiked = 12\n",
        "\n",
        "# Then we need to update that variable\n",
        "# Let's say we hike another two miles today\n",
        "number_of_miles_hiked += 2\n",
        "\n",
        "# The new value is the old value\n",
        "# Plus the number after the plus-equals\n",
        "print(number_of_miles_hiked)\n",
        "# Prints 14"
      ],
      "execution_count": 16,
      "outputs": [
        {
          "output_type": "stream",
          "text": [
            "14\n"
          ],
          "name": "stdout"
        }
      ]
    },
    {
      "cell_type": "markdown",
      "metadata": {
        "id": "d3OaiR6oQSIt",
        "colab_type": "text"
      },
      "source": [
        "Above, we keep a running count of the number of miles a person has gone hiking over time. Instead of recalculating from the start, we keep a grand total and update it when we’ve gone hiking further.\n",
        "\n",
        "The plus-equals operator also can be used for string concatenation, like so:"
      ]
    },
    {
      "cell_type": "code",
      "metadata": {
        "id": "SkAJwK79QVbl",
        "colab_type": "code",
        "colab": {}
      },
      "source": [
        "hike_caption = \"What an amazing time to walk through nature!\"\n",
        "# Almost forgot the hashtags!\n",
        "hike_caption += \" #nofilter\"\n",
        "hike_caption += \" #blessed\"\n"
      ],
      "execution_count": 0,
      "outputs": []
    },
    {
      "cell_type": "markdown",
      "metadata": {
        "id": "1IT3BFkfQcGC",
        "colab_type": "text"
      },
      "source": [
        "We create the social media caption for the photograph of nature we took on our hike, but then update the caption to include important social media tags we almost forgot.\n"
      ]
    },
    {
      "cell_type": "markdown",
      "metadata": {
        "id": "78dQjo-oQdXp",
        "colab_type": "text"
      },
      "source": [
        "## Multi-line Strings\n",
        "Python strings are very flexible, but if we try to create a string that occupies multiple lines we find ourselves face-to-face with a SyntaxError. Python offers a solution: **multi-line strings**. By using three quote-marks (\"\"\" or ''') instead of one, we tell the program that the string doesn’t end until the next triple-quote. This method is useful if the string being defined contains a lot of quotation marks and we want to be sure we don’t close it prematurely.\n"
      ]
    },
    {
      "cell_type": "code",
      "metadata": {
        "id": "iinOAs7IQlbS",
        "colab_type": "code",
        "colab": {
          "base_uri": "https://localhost:8080/",
          "height": 139
        },
        "outputId": "2b232483-2c1e-4bf6-fbee-af3ed13d89d6"
      },
      "source": [
        "leaves_of_grass = \"\"\"\n",
        "Poets to come! orators, singers, musicians to come!\n",
        "Not to-day is to justify me and answer what I am for,\n",
        "But you, a new brood, native, athletic, continental, greater than\n",
        "  before known,\n",
        "Arouse! for you must justify me.\n",
        "\"\"\"\n",
        "print(leaves_of_grass)"
      ],
      "execution_count": 18,
      "outputs": [
        {
          "output_type": "stream",
          "text": [
            "\n",
            "Poets to come! orators, singers, musicians to come!\n",
            "Not to-day is to justify me and answer what I am for,\n",
            "But you, a new brood, native, athletic, continental, greater than\n",
            "  before known,\n",
            "Arouse! for you must justify me.\n",
            "\n"
          ],
          "name": "stdout"
        }
      ]
    },
    {
      "cell_type": "markdown",
      "metadata": {
        "id": "KLVo1Z-0QozQ",
        "colab_type": "text"
      },
      "source": [
        "In the above example, we assign a famous poet’s words to a variable. Even though the quote contains multiple linebreaks, the code works!\n",
        "\n",
        "If a multi-line string isn’t assigned a variable or used in an expression it is treated as a comment.\n",
        "\n"
      ]
    },
    {
      "cell_type": "markdown",
      "metadata": {
        "id": "b5exTlvjQrAU",
        "colab_type": "text"
      },
      "source": [
        "## Review\n",
        "In this lesson, we accomplished a lot of things! We instructed our computers to print messages, we stored these messages as variables, and we learned to update those messages depending on the part of the program we were in. We performed mathematical calculations and explored some of the mathematical expressions that Python offers us. We learned about errors and other valuable skills that will continue to serve us as we develop our programming skills.\n"
      ]
    },
    {
      "cell_type": "markdown",
      "metadata": {
        "id": "N2BpRrHWQukW",
        "colab_type": "text"
      },
      "source": [
        "# Introduction to Functions\n",
        "\n",
        "A **function** is a collection of several lines of code. By calling a function, we can call all of these lines of code at once, without having to repeat ourselves.\n",
        "\n",
        "**So, a function is a tool that you can use over and over again to produce consistent output from different inputs.**\n"
      ]
    },
    {
      "cell_type": "markdown",
      "metadata": {
        "id": "oWQMXQQDQ5gj",
        "colab_type": "text"
      },
      "source": [
        "We have already learned about one function, called `print`. We know that we call print by using this syntax:\n"
      ]
    },
    {
      "cell_type": "code",
      "metadata": {
        "id": "7C6u-BJWQ7-C",
        "colab_type": "code",
        "colab": {
          "base_uri": "https://localhost:8080/",
          "height": 34
        },
        "outputId": "41c2c77c-68ed-4d56-a179-1b5d510fc8a6"
      },
      "source": [
        "print(\"something_to_print\")"
      ],
      "execution_count": 20,
      "outputs": [
        {
          "output_type": "stream",
          "text": [
            "something_to_print\n"
          ],
          "name": "stdout"
        }
      ]
    },
    {
      "cell_type": "markdown",
      "metadata": {
        "id": "q1PLded_RApp",
        "colab_type": "text"
      },
      "source": [
        "In the rest of the lesson, we’ll learn how to build more functions, call them with and wit\n"
      ]
    },
    {
      "cell_type": "markdown",
      "metadata": {
        "id": "lXZ_MGHDRBT2",
        "colab_type": "text"
      },
      "source": [
        "## What is a Function?\n",
        "\n",
        "Let’s imagine that we are creating a program that greets customers as they enter a grocery store. We want a big screen at the entrance of the store to say:\n",
        "\n",
        "`Welcome to Engrossing Grocers.\n",
        "Our special is mandarin oranges.\n",
        "Have fun shopping!`\n",
        "\n",
        "We have learned to use print statements for this purpose:\n",
        "\n"
      ]
    },
    {
      "cell_type": "code",
      "metadata": {
        "id": "21A1VB9hRHYn",
        "colab_type": "code",
        "colab": {
          "base_uri": "https://localhost:8080/",
          "height": 69
        },
        "outputId": "70c3e0e8-f001-41a2-9a4c-92f9effa3978"
      },
      "source": [
        "print(\"Welcome to Engrossing Grocers.\")\n",
        "print(\"Our special is mandarin oranges.\")\n",
        "print(\"Have fun shopping!\")\n"
      ],
      "execution_count": 21,
      "outputs": [
        {
          "output_type": "stream",
          "text": [
            "Welcome to Engrossing Grocers.\n",
            "Our special is mandarin oranges.\n",
            "Have fun shopping!\n"
          ],
          "name": "stdout"
        }
      ]
    },
    {
      "cell_type": "markdown",
      "metadata": {
        "id": "92B82HjoRKtf",
        "colab_type": "text"
      },
      "source": [
        "Every time a customer enters, we call these three lines of code. Even if only 3 or 4 customers come in, that’s a lot of lines of code required.\n",
        "\n",
        "In Python, we can make this process easier by assigning these lines of code to a function. We’ll name this function greet_customer. In order to call a function, we use the syntax function_name(). **The parentheses are important! They make the code inside the function run**. In this example, the function call looks like:\n"
      ]
    },
    {
      "cell_type": "markdown",
      "metadata": {
        "id": "EijML_cjRTwA",
        "colab_type": "text"
      },
      "source": [
        "`greet_customer()`\n",
        "Every time we call `greet_customer()`, we would see:\n",
        "`Welcome to Engrossing Grocer's.\n",
        "Our special is mandarin oranges.\n",
        "Have fun shopping!`\n",
        "\n",
        "\n",
        "Having this functionality inside `greet_customer()` is better form, because we have isolated this behavior from the rest of our code. Once we determine that `greet_customer()`works the way we want, we can reuse it anywhere and be confident that it greets, without having to look at the implementation. We can get the same output, with less repeated code. Repeated code is generally more error prone and harder to understand, so it’s a good goal to reduce the amount of it.\n"
      ]
    },
    {
      "cell_type": "code",
      "metadata": {
        "id": "JRDP3J2GRe-u",
        "colab_type": "code",
        "colab": {
          "base_uri": "https://localhost:8080/",
          "height": 86
        },
        "outputId": "7c2b06b6-18dd-417a-afa3-790c713f9208"
      },
      "source": [
        "def sing_song():\n",
        "  print(\"You may say I'm a dreamer\")\n",
        "  print(\"But I'm not the only one\")\n",
        "  print(\"I hope some day you'll join us\")\n",
        "  print(\"And the world will be as one\")\n",
        "# call sing_song() below:\n",
        "sing_song();\n"
      ],
      "execution_count": 22,
      "outputs": [
        {
          "output_type": "stream",
          "text": [
            "You may say I'm a dreamer\n",
            "But I'm not the only one\n",
            "I hope some day you'll join us\n",
            "And the world will be as one\n"
          ],
          "name": "stdout"
        }
      ]
    },
    {
      "cell_type": "markdown",
      "metadata": {
        "id": "opL0LbmoRlP4",
        "colab_type": "text"
      },
      "source": [
        "##  Write a Function\n",
        "We have seen the value of simple functions for modularizing code. Now we need to understand how to write a function. To write a function, you must have a heading and an indented block of code. The heading starts with the keyword def and the name of the function, followed by parentheses, and a colon. The indented block of code performs some sort of operation. This syntax looks like:\n",
        "\n",
        "`def function_name():\n",
        "  some code`\n",
        "\n",
        "For our `greet_customer()` example, the function definition looks like:\n"
      ]
    },
    {
      "cell_type": "code",
      "metadata": {
        "id": "nObBOceXR22m",
        "colab_type": "code",
        "colab": {
          "base_uri": "https://localhost:8080/",
          "height": 69
        },
        "outputId": "2aecd676-266a-42fb-bfd5-1460808da801"
      },
      "source": [
        "def greet_customer():\n",
        "  print(\"Welcome to Engrossing Grocers.\")\n",
        "  print(\"Our special is mandarin oranges.\")\n",
        "  print(\"Have fun shopping!\")\n",
        "  \n",
        "greet_customer()\n",
        "  "
      ],
      "execution_count": 30,
      "outputs": [
        {
          "output_type": "stream",
          "text": [
            "Welcome to Engrossing Grocers.\n",
            "Our special is mandarin oranges.\n",
            "Have fun shopping!\n"
          ],
          "name": "stdout"
        }
      ]
    },
    {
      "cell_type": "markdown",
      "metadata": {
        "id": "2w4FXFFMR9iv",
        "colab_type": "text"
      },
      "source": [
        "The keyword `def` tells Python that we are defining a function. This function is called `greet_customer`. Everything that is **indented after the :** is what is run when `greet_customer()` is called. So every time we call `greet_customer()`, the three print statements run.\n"
      ]
    },
    {
      "cell_type": "markdown",
      "metadata": {
        "id": "kHvalxLbSGxq",
        "colab_type": "text"
      },
      "source": [
        "## Parameters\n",
        "Let’s return to Engrossing Grocers. The special of the day will not always be mandarin oranges, it will change every day. What if we wanted to call these three print statements again, except with a variable special? We can use **parameters**, which are variables that you can pass into the function when you call it.\n",
        "\n"
      ]
    },
    {
      "cell_type": "code",
      "metadata": {
        "id": "c0iRi7XYSWZM",
        "colab_type": "code",
        "colab": {}
      },
      "source": [
        "def greet_customer(special_item):\n",
        "    print(\"Welcome to Engrossing Grocers.\")\n",
        "    print(\"Our special is \" + special_item + \".\")\n",
        "    print(\"Have fun shopping!\")\n"
      ],
      "execution_count": 0,
      "outputs": []
    },
    {
      "cell_type": "markdown",
      "metadata": {
        "id": "gUH_4T17SYs9",
        "colab_type": "text"
      },
      "source": [
        "In the definition heading for `greet_customer()`, the `special_item` is referred to as a **formal parameter**. This variable name is a **placeholder** for the name of the item that is the grocery’s special today. Now, when we call greet_customer, **we have to provide a special_item**:\n"
      ]
    },
    {
      "cell_type": "code",
      "metadata": {
        "id": "hn_MoX37Simu",
        "colab_type": "code",
        "colab": {
          "base_uri": "https://localhost:8080/",
          "height": 69
        },
        "outputId": "6afc51a3-b5ec-4c6b-b3e5-adbd00c9ac72"
      },
      "source": [
        "greet_customer(\"peanut butter\")\n"
      ],
      "execution_count": 33,
      "outputs": [
        {
          "output_type": "stream",
          "text": [
            "Welcome to Engrossing Grocers.\n",
            "Our special is peanut butter.\n",
            "Have fun shopping!\n"
          ],
          "name": "stdout"
        }
      ]
    },
    {
      "cell_type": "markdown",
      "metadata": {
        "id": "2pEN-f4bSlM0",
        "colab_type": "text"
      },
      "source": [
        "The value between the parentheses when we call the function (in this case, `\"peanut butter\"`) is referred to as an **argument** of the function call. The argument is the information that is to be used in the execution of the function. When we then call the function, Python assigns the formal parameter name `special_item` with the actual parameter data, `\"peanut_butter\"`. In other words, it is as if this line was included at the top of the function:\n",
        "\n",
        "`special_item = \"peanut butter\"`\n",
        "\n",
        "Every time we call `greet_customer()` with a different value between the parentheses, `special_item` is assigned to hold that value.\n"
      ]
    },
    {
      "cell_type": "markdown",
      "metadata": {
        "id": "zrq1TZmrS18i",
        "colab_type": "text"
      },
      "source": [
        "## Multiple Parameters\n",
        "\n",
        "Our grocery greeting system has gotten popular, and now other supermarkets want to use it. As such, we want to be able to modify both the special item and the name of the grocery store in a greeting like this:\n",
        "\n",
        "`Welcome to [grocery store].\n",
        "Our special is [special item].\n",
        "Have fun shopping!\n",
        "`\n",
        "\n",
        "We can make a function take more than one parameter by using commas:\n",
        "\n"
      ]
    },
    {
      "cell_type": "code",
      "metadata": {
        "id": "t5PYWR27TC6m",
        "colab_type": "code",
        "colab": {}
      },
      "source": [
        "def greet_customer(grocery_store, special_item):\n",
        "    print(\"Welcome to \"+ grocery_store + \".\")\n",
        "    print(\"Our special is \" + special_item + \".\")\n",
        "    print(\"Have fun shopping!\")\n"
      ],
      "execution_count": 0,
      "outputs": []
    },
    {
      "cell_type": "markdown",
      "metadata": {
        "id": "kmzkbtgBTFqK",
        "colab_type": "text"
      },
      "source": [
        "The variables `grocery_store` and `special_item` must now both be provided to the function upon calling it:\n"
      ]
    },
    {
      "cell_type": "code",
      "metadata": {
        "id": "9Khwz0LkTKNF",
        "colab_type": "code",
        "colab": {
          "base_uri": "https://localhost:8080/",
          "height": 69
        },
        "outputId": "ef5b4534-5708-4cac-df20-c3deec87582f"
      },
      "source": [
        "greet_customer(\"Stu's Staples\", \"papayas\")\n"
      ],
      "execution_count": 35,
      "outputs": [
        {
          "output_type": "stream",
          "text": [
            "Welcome to Stu's Staples.\n",
            "Our special is papayas.\n",
            "Have fun shopping!\n"
          ],
          "name": "stdout"
        }
      ]
    },
    {
      "cell_type": "markdown",
      "metadata": {
        "id": "PYfYvknwVOvI",
        "colab_type": "text"
      },
      "source": [
        "## Keyword Arguments\n",
        "\n",
        "In our `greet_customer()` function from the last exercise, we had two arguments:\n"
      ]
    },
    {
      "cell_type": "code",
      "metadata": {
        "id": "medQ_2rZVVKs",
        "colab_type": "code",
        "colab": {}
      },
      "source": [
        "def greet_customer(grocery_store, special_item):\n",
        "    print(\"Welcome to \"+ grocery_store + \".\")\n",
        "    print(\"Our special is \" + special_item + \".\")"
      ],
      "execution_count": 0,
      "outputs": []
    },
    {
      "cell_type": "markdown",
      "metadata": {
        "id": "9s6IbpKvesxY",
        "colab_type": "text"
      },
      "source": [
        "We can also pass these arguments as **keyword arguments**, where we explicitly refer to what each argument is assigned to in the function call.\n"
      ]
    },
    {
      "cell_type": "code",
      "metadata": {
        "id": "qn46Mn7New4l",
        "colab_type": "code",
        "colab": {
          "base_uri": "https://localhost:8080/",
          "height": 52
        },
        "outputId": "5e79f241-9b6d-4814-cf05-01297509014c"
      },
      "source": [
        "greet_customer(special_item=\"chips and salsa\", grocery_store=\"Stu's Staples\")"
      ],
      "execution_count": 40,
      "outputs": [
        {
          "output_type": "stream",
          "text": [
            "Welcome to Stu's Staples.\n",
            "Our special is chips and salsa.\n"
          ],
          "name": "stdout"
        }
      ]
    },
    {
      "cell_type": "markdown",
      "metadata": {
        "id": "N2XdLWCee2Yo",
        "colab_type": "text"
      },
      "source": [
        "**We can use keyword arguments to make it explicit what each of our arguments to a function should refer to in the body of the function itself.**"
      ]
    },
    {
      "cell_type": "markdown",
      "metadata": {
        "id": "fAmEY_9ze5QY",
        "colab_type": "text"
      },
      "source": [
        "We can also define default arguments for a function using syntax very similar to our keyword-argument syntax, but used during the function definition. If the function is called without an argument for that parameter, it relies on the default.\n"
      ]
    },
    {
      "cell_type": "code",
      "metadata": {
        "id": "HWeQjhiie7PD",
        "colab_type": "code",
        "colab": {}
      },
      "source": [
        "def greet_customer(special_item, grocery_store=\"Engrossing Grocers\"):\n",
        "    print(\"Welcome to \"+ grocery_store + \".\")\n",
        "    print(\"Our special is \" + special_item + \".\")\n",
        "    print(\"Have fun shopping!\")\n"
      ],
      "execution_count": 0,
      "outputs": []
    },
    {
      "cell_type": "markdown",
      "metadata": {
        "id": "XcsfehBre_Mt",
        "colab_type": "text"
      },
      "source": [
        "In this case, `grocery_store` has a default value of `\"Engrossing Grocers\"`. If we call the function with only one argument, the value of \"Engrossing Grocers\" is used for `grocery_store:`\n"
      ]
    },
    {
      "cell_type": "code",
      "metadata": {
        "id": "szZzpN1qfVX8",
        "colab_type": "code",
        "colab": {
          "base_uri": "https://localhost:8080/",
          "height": 69
        },
        "outputId": "bf97732c-ece0-49f6-cbeb-007f85cc59ce"
      },
      "source": [
        "greet_customer(\"bananas\")"
      ],
      "execution_count": 42,
      "outputs": [
        {
          "output_type": "stream",
          "text": [
            "Welcome to Engrossing Grocers.\n",
            "Our special is bananas.\n",
            "Have fun shopping!\n"
          ],
          "name": "stdout"
        }
      ]
    },
    {
      "cell_type": "markdown",
      "metadata": {
        "id": "9QnHRlCdfYRI",
        "colab_type": "text"
      },
      "source": [
        "**Once you give an argument a default value (making it a keyword argument), no arguments that follow can be used positionally.**"
      ]
    },
    {
      "cell_type": "code",
      "metadata": {
        "id": "Dh0JDytLfqMD",
        "colab_type": "code",
        "colab": {
          "base_uri": "https://localhost:8080/",
          "height": 34
        },
        "outputId": "c89d115c-49fc-46fc-f927-560c0ba19b0b"
      },
      "source": [
        "def create_spreadsheet(title, row_count = 1000):\n",
        "  print(\"Creating a spreadsheet called \" + title + \" with \" + str(row_count) + \" rows\")\n",
        "\n",
        "create_spreadsheet(\"Downloads\")"
      ],
      "execution_count": 48,
      "outputs": [
        {
          "output_type": "stream",
          "text": [
            "Creating a spreadsheet called Downloads with 1000 rows\n"
          ],
          "name": "stdout"
        }
      ]
    },
    {
      "cell_type": "code",
      "metadata": {
        "id": "4cy-KTnDfwue",
        "colab_type": "code",
        "colab": {
          "base_uri": "https://localhost:8080/",
          "height": 34
        },
        "outputId": "135afc7b-d6be-43be-ff55-cc635387f5ed"
      },
      "source": [
        "def create_spreadsheet(title, row_count = 1000):\n",
        "  print(\"Creating a spreadsheet called \" + title + \" with \" \n",
        "  + str(row_count) + \" rows\")\n",
        "\n",
        "create_spreadsheet(\"Applications\", 10)"
      ],
      "execution_count": 55,
      "outputs": [
        {
          "output_type": "stream",
          "text": [
            "Creating a spreadsheet called Applications with 10 rows\n"
          ],
          "name": "stdout"
        }
      ]
    },
    {
      "cell_type": "markdown",
      "metadata": {
        "id": "fI2xeMLTgCFh",
        "colab_type": "text"
      },
      "source": [
        "## Returns\n",
        "\n",
        "So far, we have only seen functions that print out some result to the console. Functions can also return a value to the user so that this value can be modified or used later. When there is a result from a function that can be stored in a variable, it is called a **returned function** value. We use the keyword return to do this.\n"
      ]
    },
    {
      "cell_type": "code",
      "metadata": {
        "id": "ME55eG4rgSdI",
        "colab_type": "code",
        "colab": {
          "base_uri": "https://localhost:8080/",
          "height": 34
        },
        "outputId": "e62afa4f-2cc5-4ca1-a4f8-cd95ea452b5f"
      },
      "source": [
        "def divide_by_four(input_number):\n",
        "    return input_number/4\n",
        "\n",
        "divide_by_four(34)\n"
      ],
      "execution_count": 57,
      "outputs": [
        {
          "output_type": "execute_result",
          "data": {
            "text/plain": [
              "8.5"
            ]
          },
          "metadata": {
            "tags": []
          },
          "execution_count": 57
        }
      ]
    },
    {
      "cell_type": "markdown",
      "metadata": {
        "id": "snoP61u9gbqg",
        "colab_type": "text"
      },
      "source": [
        "The program that calls divide_by_four can then use the result later:\n"
      ]
    },
    {
      "cell_type": "code",
      "metadata": {
        "id": "ZxXtdh19gd0l",
        "colab_type": "code",
        "colab": {
          "base_uri": "https://localhost:8080/",
          "height": 52
        },
        "outputId": "5afc24c8-8bc7-4f47-b816-250f8a0c4ac6"
      },
      "source": [
        "result = divide_by_four(16)\n",
        "# result now holds 4\n",
        "print(\"16 divided by 4 is \" + str(result) + \"!\")\n",
        "result2 = divide_by_four(result)\n",
        "print(str(result) + \" divided by 4 is \" + str(result2) + \"!\")\n"
      ],
      "execution_count": 59,
      "outputs": [
        {
          "output_type": "stream",
          "text": [
            "16 divided by 4 is 4.0!\n",
            "4.0 divided by 4 is 1.0!\n"
          ],
          "name": "stdout"
        }
      ]
    },
    {
      "cell_type": "markdown",
      "metadata": {
        "id": "M2MXKZgXg1B3",
        "colab_type": "text"
      },
      "source": [
        "Example return a string"
      ]
    },
    {
      "cell_type": "code",
      "metadata": {
        "id": "A6ELDKGJg31e",
        "colab_type": "code",
        "colab": {
          "base_uri": "https://localhost:8080/",
          "height": 34
        },
        "outputId": "c2aaeb92-98cf-4ee2-921d-27a3c53786f6"
      },
      "source": [
        "def create_special_string(special_item):\n",
        "    return \"Our special is \" + special_item + \".\"\n",
        "\n",
        "special_string = create_special_string(\"banana yogurt\")\n",
        "\n",
        "print(special_string)\n"
      ],
      "execution_count": 60,
      "outputs": [
        {
          "output_type": "stream",
          "text": [
            "Our special is banana yogurt.\n"
          ],
          "name": "stdout"
        }
      ]
    },
    {
      "cell_type": "code",
      "metadata": {
        "id": "_rZj-V9Zg8RT",
        "colab_type": "code",
        "colab": {
          "base_uri": "https://localhost:8080/",
          "height": 34
        },
        "outputId": "96dbf232-58cd-4314-fcb8-be664dfb5128"
      },
      "source": [
        "def calculate_age(current_year, birth_year):\n",
        "  age = current_year - birth_year\n",
        "  return age\n",
        "  \n",
        "my_age = calculate_age(2049, 1993)\n",
        "dads_age = calculate_age(2049, 1953)\n",
        "\n",
        "print(\"I am \"+str(my_age)+\" years old and my dad is \"+str(dads_age)+\" years old\")\n"
      ],
      "execution_count": 62,
      "outputs": [
        {
          "output_type": "stream",
          "text": [
            "I am 56 years old and my dad is 96 years old\n"
          ],
          "name": "stdout"
        }
      ]
    },
    {
      "cell_type": "markdown",
      "metadata": {
        "id": "m_9cEjhFhVff",
        "colab_type": "text"
      },
      "source": [
        "## Multiple Return Values\n",
        "\n",
        "Sometimes we may want to return more than one value from a function. **We can return several values by separating them with a comma:**"
      ]
    },
    {
      "cell_type": "code",
      "metadata": {
        "id": "SvbGLlIphZNR",
        "colab_type": "code",
        "colab": {}
      },
      "source": [
        "def square_point(x_value, y_value):\n",
        "  x_2 = x_value * x_value\n",
        "  y_2 = y_value * y_value\n",
        "  return x_2, y_2\n"
      ],
      "execution_count": 0,
      "outputs": []
    },
    {
      "cell_type": "markdown",
      "metadata": {
        "id": "kinW7bR1hdRX",
        "colab_type": "text"
      },
      "source": [
        "This function takes in an x value and a y value, and returns them both, squared. We can get those values by assigning them both to variables when we call the function:\n"
      ]
    },
    {
      "cell_type": "code",
      "metadata": {
        "id": "hG_NIpKfhewW",
        "colab_type": "code",
        "colab": {
          "base_uri": "https://localhost:8080/",
          "height": 52
        },
        "outputId": "ab912c54-ec82-440b-b526-6bc50c613069"
      },
      "source": [
        "x_squared, y_squared = square_point(5, 3)\n",
        "print(x_squared)\n",
        "print(y_squared)\n",
        "\n"
      ],
      "execution_count": 66,
      "outputs": [
        {
          "output_type": "stream",
          "text": [
            "25\n",
            "9\n"
          ],
          "name": "stdout"
        }
      ]
    },
    {
      "cell_type": "code",
      "metadata": {
        "id": "NuT0_llRhoV5",
        "colab_type": "code",
        "colab": {
          "base_uri": "https://localhost:8080/",
          "height": 34
        },
        "outputId": "a29ff478-3741-4fe6-a1d5-1bf0b4648e11"
      },
      "source": [
        "def get_boundaries(target, margin):\n",
        "  low_limit = target - margin\n",
        "  high_limit = target + margin\n",
        "  return low_limit, high_limit\n",
        "\n",
        "low, high = get_boundaries(100, 20)\n",
        "\n",
        "print(\"Low limit: \"+str(low)+\", high limit: \"+str(high))\n",
        "\n"
      ],
      "execution_count": 68,
      "outputs": [
        {
          "output_type": "stream",
          "text": [
            "Low limit: 80, high limit: 120\n"
          ],
          "name": "stdout"
        }
      ]
    },
    {
      "cell_type": "markdown",
      "metadata": {
        "id": "2aNB-5olhtRs",
        "colab_type": "text"
      },
      "source": [
        "## Scope\n",
        "Let’s say we have our function from the last exercise that creates a string about a special item:\n"
      ]
    },
    {
      "cell_type": "code",
      "metadata": {
        "id": "8qWODAVswNT4",
        "colab_type": "code",
        "colab": {}
      },
      "source": [
        "def create_special_string(special_item):\n",
        "    return \"Our special is \" + special_item + \".\"\n"
      ],
      "execution_count": 0,
      "outputs": []
    },
    {
      "cell_type": "markdown",
      "metadata": {
        "id": "iitpRxCXwN6h",
        "colab_type": "text"
      },
      "source": [
        "What if we wanted to access the variable special_item outside of the function? Could we use it?\n"
      ]
    },
    {
      "cell_type": "code",
      "metadata": {
        "id": "Xs6ZOG_iwPJV",
        "colab_type": "code",
        "colab": {}
      },
      "source": [
        "def create_special_string(special_item):\n",
        "    return \"Our special is \" + special_item + \".\"\n",
        "\n",
        "print(\"I don't like \" + special_item)\n"
      ],
      "execution_count": 0,
      "outputs": []
    },
    {
      "cell_type": "markdown",
      "metadata": {
        "id": "V8ik8qZdwSdH",
        "colab_type": "text"
      },
      "source": [
        "If we try to run this code, we will get a NameError, telling us that `'special_item'` is not defined. **The variable special_item has only been defined inside the space of a function**, so it **does not exist** outside the function. We call the part of a program where special_item can be accessed its scope. The scope of `special_item` is only the `create_special_string` function.\n"
      ]
    },
    {
      "cell_type": "markdown",
      "metadata": {
        "id": "y8btkIlkwbrN",
        "colab_type": "text"
      },
      "source": [
        "Variables defined outside the scope of a function may be accessible inside the body of the function:\n"
      ]
    },
    {
      "cell_type": "code",
      "metadata": {
        "id": "KN0eJqoewdar",
        "colab_type": "code",
        "colab": {
          "base_uri": "https://localhost:8080/",
          "height": 34
        },
        "outputId": "e63ddb29-fe01-4a8f-ef68-a113dd67cffc"
      },
      "source": [
        "header_string = \"Our special is \" \n",
        "\n",
        "def create_special_string(special_item):\n",
        "    return header_string + special_item + \".\"\n",
        "print(create_special_string(\"grapes\"))\n",
        "\n",
        "# There is no error here. header_string can be used inside the \n",
        "# create_special_string function because the scope of header_string is \n",
        "# the whole file. This file would produce:"
      ],
      "execution_count": 71,
      "outputs": [
        {
          "output_type": "stream",
          "text": [
            "Our special is grapes.\n"
          ],
          "name": "stdout"
        }
      ]
    },
    {
      "cell_type": "code",
      "metadata": {
        "id": "0aN_LM3mwolw",
        "colab_type": "code",
        "colab": {
          "base_uri": "https://localhost:8080/",
          "height": 34
        },
        "outputId": "3c19d10a-99cf-4343-a30a-a882125c713e"
      },
      "source": [
        "current_year = 2048\n",
        "\n",
        "def calculate_age( birth_year):\n",
        "  age = current_year - birth_year\n",
        "  return age\n",
        "\n",
        "new_age = calculate_age(1996);\n",
        "\n",
        "print(new_age)\n"
      ],
      "execution_count": 72,
      "outputs": [
        {
          "output_type": "stream",
          "text": [
            "52\n"
          ],
          "name": "stdout"
        }
      ]
    },
    {
      "cell_type": "markdown",
      "metadata": {
        "id": "bRgG2fySwsGc",
        "colab_type": "text"
      },
      "source": [
        "## Review\n",
        "\n",
        "Great! So far you have learned:\n",
        "* How to write a function\n",
        "* How to give a function inputs\n",
        "* How to return values from a function\n",
        "* What scope means\n",
        "\n",
        "Let’s practice these concepts again so that you won’t forget them!\n"
      ]
    },
    {
      "cell_type": "markdown",
      "metadata": {
        "id": "ZQqpWrLUwyKy",
        "colab_type": "text"
      },
      "source": [
        "## Advanced Python Code Challenges: Functions\n",
        "\n"
      ]
    },
    {
      "cell_type": "markdown",
      "metadata": {
        "id": "6ZncIwyNw0Ox",
        "colab_type": "text"
      },
      "source": [
        "1) Write a function named `first_three_multiples()` that has one parameter named `num`. This function should print the first three multiples of `num`. Then, it should return the third multiple. For example, `first_three_multiples(7)` should print `7, 14,` and `21` on three different lines, and return `21`.\n"
      ]
    },
    {
      "cell_type": "code",
      "metadata": {
        "id": "p3_xsA9Bw-CD",
        "colab_type": "code",
        "colab": {
          "base_uri": "https://localhost:8080/",
          "height": 52
        },
        "outputId": "0c9d0f74-75b0-4890-e33f-5b07d8505f8b"
      },
      "source": [
        "# Write your first_three_multiples function here\n",
        "def first_three_multiples(num):\n",
        "  return print(num, num*2, num*3); \n",
        "# Uncomment these function calls to test your first_three_multiples function:\n",
        "first_three_multiples(10)\n",
        "# should print 10, 20, 30, and return 30\n",
        "first_three_multiples(0)\n",
        "# should print 0, 0, 0, and return 0\n"
      ],
      "execution_count": 73,
      "outputs": [
        {
          "output_type": "stream",
          "text": [
            "10 20 30\n",
            "0 0 0\n"
          ],
          "name": "stdout"
        }
      ]
    },
    {
      "cell_type": "markdown",
      "metadata": {
        "id": "zbDA2phmxBE9",
        "colab_type": "text"
      },
      "source": [
        "2) Create a function called `tip()` that has two parameters named `total` and `percentage`. This function should return the amount you should tip given a total and the percentage you want to tip.\n"
      ]
    },
    {
      "cell_type": "code",
      "metadata": {
        "id": "oOqXcSTsxGCc",
        "colab_type": "code",
        "colab": {
          "base_uri": "https://localhost:8080/",
          "height": 52
        },
        "outputId": "58f4308c-441b-4444-d79a-96ff1d8ea9cd"
      },
      "source": [
        "# Write your tip function here:\n",
        "def tip(total, percentage):\n",
        "  if total != 0:\n",
        "    return str(percentage/total); \n",
        "  else:\n",
        "    return 0.0\n",
        "# Uncomment these function calls to test your tip function:\n",
        "print(tip(10, 25))\n",
        "# should print 2.5\n",
        "print(tip(0, 100))\n",
        "# should print 0.0"
      ],
      "execution_count": 87,
      "outputs": [
        {
          "output_type": "stream",
          "text": [
            "2.5\n",
            "0.0\n"
          ],
          "name": "stdout"
        }
      ]
    },
    {
      "cell_type": "markdown",
      "metadata": {
        "id": "JCSGfZjyyDQ3",
        "colab_type": "text"
      },
      "source": [
        "3) Write a function named `introduction()` that has two parameters named `first_name` and `last_name`. \n",
        "\n",
        "The function should return the `last_name`, followed by a comma, a space, `first_name` another space, and finally `last_name`. \n"
      ]
    },
    {
      "cell_type": "code",
      "metadata": {
        "id": "OQHPbRK7yN9U",
        "colab_type": "code",
        "colab": {
          "base_uri": "https://localhost:8080/",
          "height": 52
        },
        "outputId": "2543110e-f39c-46ef-80f9-ff981181caf8"
      },
      "source": [
        "# Write your introduction function here:\n",
        "def introduction(first_name,last_name):\n",
        "  return \"%s, %s %s\" %(last_name,first_name,last_name)\n",
        "# Uncomment these function calls to test your introduction function:\n",
        "print(introduction(\"James\", \"Bond\"))\n",
        "# should print Bond, James Bond\n",
        "print(introduction(\"Maya\", \"Angelou\"))\n",
        "# should print Angelou, Maya Angelou\n"
      ],
      "execution_count": 90,
      "outputs": [
        {
          "output_type": "stream",
          "text": [
            "Bond, James Bond\n",
            "Angelou, Maya Angelou\n"
          ],
          "name": "stdout"
        }
      ]
    },
    {
      "cell_type": "markdown",
      "metadata": {
        "id": "97tVja_AyYLW",
        "colab_type": "text"
      },
      "source": [
        "4) Some say that every one year of a human’s life is equivalent to seven years of a dog’s life. Write a function named `dog_years()` that has two parameters named `name` and `age`. \n",
        "The function should compute the age in dog years and return the following string:"
      ]
    },
    {
      "cell_type": "code",
      "metadata": {
        "id": "2Qtsda-Hyb8-",
        "colab_type": "code",
        "colab": {
          "base_uri": "https://localhost:8080/",
          "height": 52
        },
        "outputId": "d2f4f3c7-cc57-4d83-cd94-5c4d2668a499"
      },
      "source": [
        "# Write your dog_years function here:\n",
        "def dog_years(name,age):\n",
        " return \"{}, you are {} years old in dog years\".format(name, age * 7); \n",
        "# Uncomment these function calls to test your dog_years function:\n",
        "print(dog_years(\"Lola\", 16))\n",
        "# should print \"Lola, you are 112 years old in dog years\"\n",
        "print(dog_years(\"Baby\", 0))\n",
        "# should print \"Baby, you are 0 years old in dog years”\n"
      ],
      "execution_count": 91,
      "outputs": [
        {
          "output_type": "stream",
          "text": [
            "Lola, you are 112 years old in dog years\n",
            "Baby, you are 0 years old in dog years\n"
          ],
          "name": "stdout"
        }
      ]
    },
    {
      "cell_type": "markdown",
      "metadata": {
        "id": "UiohleY0ykuz",
        "colab_type": "text"
      },
      "source": [
        "5) Create a function named `lots_of_math()`. This function should have four parameters named `a`, `b`, `c`, and `d`. The function should print 3 lines and return 1 value. \n",
        "* First, print the sum of a and b. \n",
        "* Second, print d subtracted from c.\n",
        "* Third, print the first number printed, multiplied by the second number printed.\n",
        "* Finally, return the third number printed mod a."
      ]
    },
    {
      "cell_type": "code",
      "metadata": {
        "id": "sOZWWRrZyuTc",
        "colab_type": "code",
        "colab": {
          "base_uri": "https://localhost:8080/",
          "height": 156
        },
        "outputId": "8195dcb4-03be-452d-ea69-c89935a82a3c"
      },
      "source": [
        "# Write your lots_of_math function here:\n",
        "def lots_of_math(a,b,c,d):\n",
        "  operation1 = a + b\n",
        "  operation2 = d - c\n",
        "  operation3 = operation1 * operation2 \n",
        "  print(operation1)\n",
        "  print(operation2)\n",
        "  print(operation3)\n",
        "  return operation3 % a\n",
        "# Uncomment these function calls to test your lots_of_math function:\n",
        "print(lots_of_math(1, 2, 3, 4))\n",
        "# should print 3, -1, -3, 0\n",
        "print(lots_of_math(1, 1, 1, 1))\n",
        "# should print 2, 0, 0, 0\n"
      ],
      "execution_count": 92,
      "outputs": [
        {
          "output_type": "stream",
          "text": [
            "3\n",
            "1\n",
            "3\n",
            "0\n",
            "2\n",
            "0\n",
            "0\n",
            "0\n"
          ],
          "name": "stdout"
        }
      ]
    },
    {
      "cell_type": "markdown",
      "metadata": {
        "id": "HUUkW0x9y3eL",
        "colab_type": "text"
      },
      "source": [
        "Physics formulas: \n"
      ]
    },
    {
      "cell_type": "code",
      "metadata": {
        "id": "5J8_WjXLy6Jb",
        "colab_type": "code",
        "colab": {
          "base_uri": "https://localhost:8080/",
          "height": 104
        },
        "outputId": "569e7fc2-7878-4759-bd2d-e2018207ec99"
      },
      "source": [
        "def f_to_c(f_temp):\n",
        "  c_temp = ((f_temp-32)*5/9)\n",
        "  return c_temp; \n",
        "print(f_to_c(100));\n",
        "\n",
        "def c_to_f(c_temp): \n",
        "  f_temp = (c_temp*(9/5)+32)\n",
        "  return f_temp;\n",
        "print(c_to_f(0));\n",
        "\n",
        "def get_force(mass,acceleration):\n",
        "  train_force = mass * acceleration\n",
        "  return \"The GE train supplies %s Newtons of force\" %(train_force); \n",
        "print(get_force(23,56));\n",
        "\n",
        "def get_energy(mass,c=3*10**8): \n",
        "  bomb_energy = mass* c\n",
        "  return \"A 1kg bomb supplies %s Joules\" %(bomb_energy);\n",
        "print(get_energy(23));\n",
        "\n",
        "def get_work(mass, acceleration, distance):\n",
        "  train_work = (mass * acceleration)*distance\n",
        "  return \"The GE train does %s Joules of work over %s meters.\" %(train_work,distance)\n",
        "print(get_work(2,4,5))\n"
      ],
      "execution_count": 93,
      "outputs": [
        {
          "output_type": "stream",
          "text": [
            "37.77777777777778\n",
            "32.0\n",
            "The GE train supplies 1288 Newtons of force\n",
            "A 1kg bomb supplies 6900000000 Joules\n",
            "The GE train does 40 Joules of work over 5 meters.\n"
          ],
          "name": "stdout"
        }
      ]
    },
    {
      "cell_type": "markdown",
      "metadata": {
        "id": "EKgBgBpIzEwl",
        "colab_type": "text"
      },
      "source": [
        "# Control Flow: An Introduction\n",
        " Imagine waking up in the morning. \n",
        "\n",
        "You wake up and think,\n",
        "\n",
        "“Ugh, is it a weekday?”\n",
        "\n",
        "If so, you have to get up and get dressed and get ready for work or school. If not, you can sleep in a bit longer and catch a couple extra Z’s. But alas, it is a weekday, so you are up and dressed and you go to look outside, “What’s the weather like? Do I need an umbrella?”\n",
        "\n",
        "These questions and decisions control the flow of your morning, each step and result is a product of the conditions of the day and your surroundings. Your computer, just like you, goes through a similar flow every time it executes code. A program will run (wake up) and start moving through its checklists, is this condition met, is that condition met, okay let’s execute this code and return that value. \n",
        "\n",
        "This is the **Control Flow** of your program. In Python, your script will execute from the top down, until there is nothing left to run. It is your job to include gateways, known as conditional statements, to tell the computer when it should execute certain blocks of code. If these conditions are met, then run this function.\n",
        "Over the course of this lesson, you will learn how to build conditional statements using boolean expressions, and manage the control flow in your code.\n",
        "\n",
        "![alt text](https://i.imgur.com/1qf5g9k.png)\n",
        "\n"
      ]
    },
    {
      "cell_type": "markdown",
      "metadata": {
        "id": "34ivz8omzjzf",
        "colab_type": "text"
      },
      "source": [
        "## Boolean Expressions\n",
        "\n",
        "In order to build control flow into our program, we want to be able to check if something is true or not. A boolean expression is a statement that can either be **True** or **False**.\n",
        "\n",
        "Let’s go back to the ‘waking up’ example. The first question, “Is today a weekday?” can be written as a boolean expression:\n",
        "\n",
        "`Today is a weekday.`\n",
        "This expression can be True if today is Tuesday, or it can be False if today is Saturday. There are no other options. \n",
        "\n",
        "Consider the phrase: \n",
        "\n",
        "`Friday is the best day of the week.`\n",
        "**Is this a boolean expression?**\n",
        "\n",
        "No, this statement is an opinion and is not objectively True or False. Someone else might say that “Wednesday is the best weekday,” and their statement would be no less True or False than the one above. \n",
        "\n",
        "How about the phrase: \n",
        "`Sunday starts with the letter 'C'.`\n",
        "\n",
        "**Is this a boolean expression?**\n",
        "\n",
        "Yes! This expression can only be True or False, which makes it a boolean expression. Even though the statement itself is false (Sunday starts with the letter ‘C’), it is still a boolean expression\n",
        "\n",
        "\n",
        "\n"
      ]
    },
    {
      "cell_type": "markdown",
      "metadata": {
        "id": "1vi-SsFo0KxB",
        "colab_type": "text"
      },
      "source": [
        "## Relational Operators: Equals and Not Equals\n",
        "\n",
        "Now that we understand what boolean expressions are, let’s learn to create them in Python. We can create a boolean expression by using **relational operators.**\n",
        "\n",
        "Relational operators compare two items and return either `True` or `False`. For this reason, you will sometimes hear them called **comparators**.\n",
        "\n",
        "The two boolean operators we’ll cover first are:\n",
        "\n",
        "* Equals: ==\n",
        "*Not equals: !=\n",
        "\n",
        "These operators compare two items and return `True` or `False` if they are equal or not.\n",
        "We can create boolean expressions by comparing two values using these operators:>>> 1 == 1\n",
        "\n",
        "\n",
        "\n"
      ]
    },
    {
      "cell_type": "code",
      "metadata": {
        "id": "uzxoum610hHe",
        "colab_type": "code",
        "colab": {
          "base_uri": "https://localhost:8080/",
          "height": 34
        },
        "outputId": "4f7fadb5-37a1-4873-cb4e-dd612046c9db"
      },
      "source": [
        ">>> 1 == 1\n",
        "\n"
      ],
      "execution_count": 96,
      "outputs": [
        {
          "output_type": "execute_result",
          "data": {
            "text/plain": [
              "True"
            ]
          },
          "metadata": {
            "tags": []
          },
          "execution_count": 96
        }
      ]
    },
    {
      "cell_type": "code",
      "metadata": {
        "id": "8qzgWEac0vul",
        "colab_type": "code",
        "colab": {
          "base_uri": "https://localhost:8080/",
          "height": 34
        },
        "outputId": "1cd68152-4313-4bed-f232-ff1ab049360f"
      },
      "source": [
        ">>> 2 != 4\n"
      ],
      "execution_count": 97,
      "outputs": [
        {
          "output_type": "execute_result",
          "data": {
            "text/plain": [
              "True"
            ]
          },
          "metadata": {
            "tags": []
          },
          "execution_count": 97
        }
      ]
    },
    {
      "cell_type": "code",
      "metadata": {
        "id": "xP-_W84l0x77",
        "colab_type": "code",
        "colab": {
          "base_uri": "https://localhost:8080/",
          "height": 34
        },
        "outputId": "302a9704-1745-445e-fed4-b633da83bb43"
      },
      "source": [
        ">>> 3 == 5\n"
      ],
      "execution_count": 98,
      "outputs": [
        {
          "output_type": "execute_result",
          "data": {
            "text/plain": [
              "False"
            ]
          },
          "metadata": {
            "tags": []
          },
          "execution_count": 98
        }
      ]
    },
    {
      "cell_type": "code",
      "metadata": {
        "id": "SLAjK1WY0z5O",
        "colab_type": "code",
        "colab": {
          "base_uri": "https://localhost:8080/",
          "height": 34
        },
        "outputId": "1a92aa4a-6ad0-4f36-e896-19dd2bd47c66"
      },
      "source": [
        ">>> '7' == 7"
      ],
      "execution_count": 99,
      "outputs": [
        {
          "output_type": "execute_result",
          "data": {
            "text/plain": [
              "False"
            ]
          },
          "metadata": {
            "tags": []
          },
          "execution_count": 99
        }
      ]
    },
    {
      "cell_type": "markdown",
      "metadata": {
        "id": "C0g7vf9Wdk2w",
        "colab_type": "text"
      },
      "source": [
        "Each of these is an example of a boolean expression. >>> is the prompt when you run Python in your terminal, which you can then use to evaluate simple expressions, such as these.\n",
        "\n",
        "\n",
        "**Why is the last statement false? The '' marks in '7' make it a string, which is different from the integer value 7, so they are not equal. When using relational operators it is important to always be mindful of type.**\n"
      ]
    },
    {
      "cell_type": "markdown",
      "metadata": {
        "id": "Kst0KS3edtFE",
        "colab_type": "text"
      },
      "source": [
        "## Boolean Variables\n",
        "\n",
        "Before we go any further, let’s talk a little bit about `True` and `False`. You may notice that when you type them in the code editor (with uppercase `T` and `F`), they appear in a different color than variables or strings. This is because True and False are their own special type: `bool`.\n",
        "\n",
        "\n",
        "`True` and `False` are the only `bool` types, and any variable that is assigned one of these values is called a `boolean variable`. Boolean variables can be created in several ways. The easiest way is to simply assign `True` or `False` to a variable:\n"
      ]
    },
    {
      "cell_type": "code",
      "metadata": {
        "id": "gezLIHiper5R",
        "colab_type": "code",
        "colab": {}
      },
      "source": [
        "set_to_true = True\n",
        "set_to_false = False\n"
      ],
      "execution_count": 0,
      "outputs": []
    },
    {
      "cell_type": "markdown",
      "metadata": {
        "id": "UFb62qDBeti4",
        "colab_type": "text"
      },
      "source": [
        "You can also set a variable equal to a boolean expression.\n"
      ]
    },
    {
      "cell_type": "code",
      "metadata": {
        "id": "O2tXHBcKe4pe",
        "colab_type": "code",
        "colab": {}
      },
      "source": [
        "bool_one = 5 != 7 \n",
        "bool_two = 1 + 1 != 2\n",
        "bool_three = 3 * 3 == 9"
      ],
      "execution_count": 0,
      "outputs": []
    },
    {
      "cell_type": "markdown",
      "metadata": {
        "id": "4kY1qBXggNKe",
        "colab_type": "text"
      },
      "source": [
        "These variables now contain boolean values, so when you reference them they will only return the `True` or `False` values of the expression they were assigned.\n"
      ]
    },
    {
      "cell_type": "code",
      "metadata": {
        "id": "KNkfc-SthPg8",
        "colab_type": "code",
        "colab": {
          "base_uri": "https://localhost:8080/",
          "height": 69
        },
        "outputId": "2e70d14a-299d-4c1a-8e2e-ef8d63c327d4"
      },
      "source": [
        "print(bool_one)\n",
        "print(bool_two)\n",
        "print(bool_three)\n"
      ],
      "execution_count": 10,
      "outputs": [
        {
          "output_type": "stream",
          "text": [
            "True\n",
            "False\n",
            "True\n"
          ],
          "name": "stdout"
        }
      ]
    },
    {
      "cell_type": "code",
      "metadata": {
        "id": "WSIBeutlhrQT",
        "colab_type": "code",
        "colab": {
          "base_uri": "https://localhost:8080/",
          "height": 52
        },
        "outputId": "4f618315-7008-4080-b32f-03f73d2c2cbf"
      },
      "source": [
        "my_baby_bool = 'true'\n",
        "print(type(my_baby_bool))\n",
        "# <class 'str'>\n",
        "\n",
        "my_baby_bool_two = True \n",
        "print(type(my_baby_bool_two))\n",
        "# <class ‘bool'>\n"
      ],
      "execution_count": 11,
      "outputs": [
        {
          "output_type": "stream",
          "text": [
            "<class 'str'>\n",
            "<class 'bool'>\n"
          ],
          "name": "stdout"
        }
      ]
    },
    {
      "cell_type": "markdown",
      "metadata": {
        "id": "4E8wWU_gh8b2",
        "colab_type": "text"
      },
      "source": [
        "## If Statements\n",
        "“Okay okay okay, boolean variables, boolean expressions, blah blah blah, I thought I was learning how to build control flow into my code!” \n",
        "\n",
        "You are, I promise you!\n",
        "\n",
        "Understanding boolean variables and expressions is essential because they are the building blocks of **conditional statements**. \n",
        "\n",
        "Recall the waking-up example from the beginning of this lesson. The decision-making process of “Is it raining? If so, bring an umbrella” is a conditional statement. Here it is phrased in a different way:\n",
        "\n",
        "`If it is raining then bring an umbrella.`\n",
        "Can you pick out the boolean expression here?\n",
        "\n",
        "Right, `\"it is raining\"` is the boolean expression, and this conditional statement is checking to see if it is `True`. \n",
        "\n",
        "If `\"it is raining\" == True` then the rest of the conditional statement will be executed and you will bring an umbrella.\n",
        "\n",
        "This is the form of a conditional statement:\n",
        "\n",
        "If `[it is raining]` then `[bring an umbrella]`\n",
        "In Python, it looks very similar:\n",
        "\n"
      ]
    },
    {
      "cell_type": "code",
      "metadata": {
        "id": "74PFjdY_ijbZ",
        "colab_type": "code",
        "colab": {}
      },
      "source": [
        "if is_raining:\n",
        "  bring_umbrella()"
      ],
      "execution_count": 0,
      "outputs": []
    },
    {
      "cell_type": "code",
      "metadata": {
        "id": "aoBGPVuOipID",
        "colab_type": "code",
        "colab": {
          "base_uri": "https://localhost:8080/",
          "height": 34
        },
        "outputId": "bdbb79ab-f72d-4274-b258-499815a4f17e"
      },
      "source": [
        "if 2 == 4 - 2: \n",
        "  print(\"apple\")\n"
      ],
      "execution_count": 13,
      "outputs": [
        {
          "output_type": "stream",
          "text": [
            "apple\n"
          ],
          "name": "stdout"
        }
      ]
    },
    {
      "cell_type": "markdown",
      "metadata": {
        "id": "nxck0zRXirGk",
        "colab_type": "text"
      },
      "source": [
        "## Relational Operators II\n",
        "\n",
        "Now that we’ve added conditional statements to our toolkit for building control flow, let’s explore more ways to create boolean expressions. So far we know two relational operators, equals and not equals, but there are a ton (well, four) more:\n",
        "\n",
        "* Greater than: >\n",
        "* Less than: <\n",
        "* Greater than or equal to: >=\n",
        "* Less than or equal to: <=\n",
        "\n",
        "Let’s say we’re running a movie streaming platform and we want to write a function that checks if our users are over 13 when showing them a PG-13 movie. We could write something like:\n",
        "\n"
      ]
    },
    {
      "cell_type": "code",
      "metadata": {
        "id": "-WX6f-Uyi0b_",
        "colab_type": "code",
        "colab": {
          "base_uri": "https://localhost:8080/",
          "height": 34
        },
        "outputId": "37e5f00a-2af3-4a9e-bb15-1acba4f9c9da"
      },
      "source": [
        "def age_check(age):\n",
        "  if age >= 13:\n",
        "    return True\n",
        "    \n",
        "age_check(32)"
      ],
      "execution_count": 15,
      "outputs": [
        {
          "output_type": "execute_result",
          "data": {
            "text/plain": [
              "True"
            ]
          },
          "metadata": {
            "tags": []
          },
          "execution_count": 15
        }
      ]
    },
    {
      "cell_type": "markdown",
      "metadata": {
        "id": "vVu676gci9oQ",
        "colab_type": "text"
      },
      "source": [
        "This function will take the users `age` and compare it to the number 13. If age is greater than or equal to 13 it will return `True`.\n",
        "\n",
        "Write a function called `greater_than` that takes two integer inputs, `x` and `y` and returns the value that is greater. If `x` and `y` are equal, return the string \n",
        "\n",
        "`\"These numbers are the same\"` \n",
        "\n"
      ]
    },
    {
      "cell_type": "code",
      "metadata": {
        "id": "EUc-XBH1jSKt",
        "colab_type": "code",
        "colab": {
          "base_uri": "https://localhost:8080/",
          "height": 34
        },
        "outputId": "4ebd9833-2e82-4365-dbb9-a262e9bff552"
      },
      "source": [
        "def greater_than(x,y): \n",
        "  if x == y:\n",
        "    return \"These numbers are the same\"\n",
        "  if x!=y:\n",
        "    return max(x,y)\n",
        "\n",
        "print(greater_than(5,5))\n"
      ],
      "execution_count": 16,
      "outputs": [
        {
          "output_type": "stream",
          "text": [
            "These numbers are the same\n"
          ],
          "name": "stdout"
        }
      ]
    },
    {
      "cell_type": "markdown",
      "metadata": {
        "id": "T208uvTqjT6G",
        "colab_type": "text"
      },
      "source": [
        "The nearby college, **Calvin Coolidge’s Cool College** (or 4C, as the locals call it) requires students to earn 120 credits to graduate. Write a function called `graduation_reqs` that takes an input credits and checks if the student has enough credits to graduate. If they do, return the string \n",
        "\n",
        "`\"You have enough credits to graduate!”`\n",
        "\n",
        "\n"
      ]
    },
    {
      "cell_type": "code",
      "metadata": {
        "id": "knhmA0ucjkGC",
        "colab_type": "code",
        "colab": {
          "base_uri": "https://localhost:8080/",
          "height": 34
        },
        "outputId": "90846032-4837-4127-e343-dcdf932263c7"
      },
      "source": [
        "def graduation_reqs(credits): \n",
        "  if credits >= 120:\n",
        "    return \"You have enough credits to graduate!\"\n",
        "  if credits < 120:\n",
        "    return \"No graduation\"\n",
        "\n",
        "print(graduation_reqs(120))\n"
      ],
      "execution_count": 17,
      "outputs": [
        {
          "output_type": "stream",
          "text": [
            "You have enough credits to graduate!\n"
          ],
          "name": "stdout"
        }
      ]
    },
    {
      "cell_type": "markdown",
      "metadata": {
        "id": "NYD3B03djmUG",
        "colab_type": "text"
      },
      "source": [
        "## Boolean Operators: and\n",
        "\n",
        "Often, the conditions you want to check in your conditional statement will require more than one boolean expression to cover. In these cases, you can build larger boolean expressions using `boolean operators`. These operators (also known as `logical operators`) combine smaller boolean expressions into larger boolean expressions.\n",
        "\n",
        "There are three boolean operators that we will cover:\n",
        "* and\n",
        "* or\n",
        "* not\n",
        "Let’s start with and.\n",
        "and combines two boolean expressions and evaluates as True if both its components are True, but False otherwise.\n",
        "\n",
        "Consider the example\n",
        "\n",
        "`Oranges are a fruit and carrots are a vegetable.`\n",
        "\n",
        "**This boolean expression** is comprised of **two smaller expressions**, `oranges are a fruit` and `carrots are a vegetable`, both of which are True and connected by the boolean operator and, so the entire expression is `True`.\n",
        "\n",
        "\n",
        "Let’s look at an example of some AND statements in Python:\n",
        "\n"
      ]
    },
    {
      "cell_type": "code",
      "metadata": {
        "id": "U0Dp1m8ikLKq",
        "colab_type": "code",
        "colab": {
          "base_uri": "https://localhost:8080/",
          "height": 86
        },
        "outputId": "cf1c9c05-19cc-4f9e-8d1b-dcdf11827fdc"
      },
      "source": [
        "print( (1 + 1 == 2) and (2 + 2 == 4))\n",
        "print((1 + 1 == 2) and (2 < 1))\n",
        "print((1 > 9) and (5 != 6))\n",
        "print((0 == 10) and (1 + 1 == 1) )"
      ],
      "execution_count": 20,
      "outputs": [
        {
          "output_type": "stream",
          "text": [
            "True\n",
            "False\n",
            "False\n",
            "False\n"
          ],
          "name": "stdout"
        }
      ]
    },
    {
      "cell_type": "markdown",
      "metadata": {
        "id": "pmV_0HctkbLZ",
        "colab_type": "text"
      },
      "source": [
        "Notice that in the second and third examples, even though part of the expression is `True`, the entire expression as a whole is `False` because the other statement is `False`. The fourth statement is also False because both components are `False`.\n",
        "\n",
        "Let’s return to Calvin Coolidge’s Cool College. 120 credits aren’t the only graduation requirement, you also need to have a GPA of 2.0 or higher. Rewrite the graduation_reqs function so it takes two inputs, gpa and credits, and checks to see if a student meets both requirements using an and statement. \n",
        "\n",
        "If they do, return the string \n",
        "\n",
        "\n",
        "`\"You meet the requirements to graduate!\"`\n",
        "\n"
      ]
    },
    {
      "cell_type": "code",
      "metadata": {
        "id": "t86Br5O8kzRp",
        "colab_type": "code",
        "colab": {}
      },
      "source": [
        "def graduation_reqs(credits, gpa):\n",
        "  if (credits >= 120) and (gpa >=2.0):\n",
        "    return \"You meet the requirements to graduate!\""
      ],
      "execution_count": 0,
      "outputs": []
    },
    {
      "cell_type": "markdown",
      "metadata": {
        "id": "wV3-y-C4k6MI",
        "colab_type": "text"
      },
      "source": [
        "## Boolean Operators: or\n",
        "\n",
        "The boolean operator or combines two expressions into a larger expression that is `True` if either component is `True`.\n",
        "\n",
        "Consider the statement\n",
        "\n",
        "`Oranges are a fruit or apples are a vegetable.`\n",
        "This statement is composed of two expressions: `oranges are a fruit` which is `True` and `apples are a vegetable` which is `False`. Because the two expressions are connected by the or operator, the entire statement is True. Only one component needs to be True for an or statement to be True.\n",
        "\n",
        "In English, or implies that if one component is `True`, then the other component must be `False`. This is not true in Python. If an or statement has two `True` components, it is also `True`.\n",
        "\n",
        "Let’s take a look at a couple example in Python:\n"
      ]
    },
    {
      "cell_type": "code",
      "metadata": {
        "id": "invq5kL6ldJB",
        "colab_type": "code",
        "colab": {
          "base_uri": "https://localhost:8080/",
          "height": 86
        },
        "outputId": "354a4eab-ece4-42c3-c74a-ade9ed37e829"
      },
      "source": [
        "print(True or (3 + 4 == 7))\n",
        "print((1 - 1 == 0) or False)\n",
        "print((2 < 0) or True)\n",
        "print((3 == 8) or (3 > 4) )\n"
      ],
      "execution_count": 24,
      "outputs": [
        {
          "output_type": "stream",
          "text": [
            "True\n",
            "True\n",
            "True\n",
            "False\n"
          ],
          "name": "stdout"
        }
      ]
    },
    {
      "cell_type": "markdown",
      "metadata": {
        "id": "6YeUJ8JElqr9",
        "colab_type": "text"
      },
      "source": [
        "Notice that each or statement that has at least one `True` component is `True`, but the final statement has two `False` components, so it is `False`.\n"
      ]
    },
    {
      "cell_type": "markdown",
      "metadata": {
        "id": "Fdj72t-alwdq",
        "colab_type": "text"
      },
      "source": [
        "The **registrars office at Calvin Coolidge’s** Cool College has another request. They want to send out a mailer with information on the commencement ceremonies to students who have met at least one requirement for graduation (120 credits and 2.0 GPA). \n",
        "\n",
        "Write a function called `graduation_mailer` that takes two inputs, gpa and credits and checks if a student either has 120 or more credits or a GPA 2.0 or higher and if so returns True.\n",
        "\n"
      ]
    },
    {
      "cell_type": "code",
      "metadata": {
        "id": "fK6OYsDql_dH",
        "colab_type": "code",
        "colab": {}
      },
      "source": [
        "def graduation_mailer(gpa, credits):\n",
        "  if (gpa >= 2.0) or (credits >= 120):\n",
        "    return True"
      ],
      "execution_count": 0,
      "outputs": []
    },
    {
      "cell_type": "markdown",
      "metadata": {
        "id": "kRR9XBLCmC6Z",
        "colab_type": "text"
      },
      "source": [
        "## Boolean Operators: not\n",
        "\n",
        "The final boolean operator we will cover is `not`. This operator is straightforward: when applied to any boolean expression it reverses the boolean value. So if we have a `True` statement and apply a not operator we get a `False` statement.\n",
        "\n"
      ]
    },
    {
      "cell_type": "code",
      "metadata": {
        "id": "R026PzHgmJm8",
        "colab_type": "code",
        "colab": {
          "base_uri": "https://localhost:8080/",
          "height": 52
        },
        "outputId": "5788c9bd-4899-4a76-cace-45f283d1aa94"
      },
      "source": [
        "print(not True == False)\n",
        "print(not False == True)"
      ],
      "execution_count": 27,
      "outputs": [
        {
          "output_type": "stream",
          "text": [
            "True\n",
            "True\n"
          ],
          "name": "stdout"
        }
      ]
    },
    {
      "cell_type": "markdown",
      "metadata": {
        "id": "_JktXqNEmT75",
        "colab_type": "text"
      },
      "source": [
        "The registrar’s office at Calvin Coolidge’s Cool College has been so impressed with your work so far that they have another task for you. They want you to return to the first function you wrote, graduation_reqs, and add in several checks using and and not statements.\n",
        "\n",
        "\n",
        "* If a student meets both requirements the function should return\"You meet the requirements to graduate!\"\n",
        "* If a student’s GPA is greater or equal to 2.0 but they don’t have enough credits the function should return \"You do not have enough credits to graduate.\"\n",
        "* If they have enough credits but their GPA is less than 2.0 the function should return \"Your GPA is not high enough to graduate.\"\n",
        "* If they do not have enough credits and their GPA is less than 2.0, the function should return\"You do not meet either requirement to graduate!\"\n",
        "\n",
        "Make sure your return value matches those strings exactly. Capitalization, punctuation, and spaces matter!\n"
      ]
    },
    {
      "cell_type": "code",
      "metadata": {
        "id": "xj2ZPPTvmn1I",
        "colab_type": "code",
        "colab": {
          "base_uri": "https://localhost:8080/",
          "height": 34
        },
        "outputId": "48b6bf65-bf93-45d9-d7d6-cbedf19f6f96"
      },
      "source": [
        "def graduation_reqs(gpa, credits):\n",
        "  if (gpa >= 2.0) and (credits >= 120):\n",
        "    return \"You meet the requirements to graduate!\"\n",
        "  if (gpa >= 2.0) and not (credits >= 120):\n",
        "    return \"You do not have enough credits to graduate.\"\n",
        "  if not (gpa >= 2.0) and (credits >= 120):\n",
        "    return \"Your GPA is not high enough to graduate.\"\n",
        "  if not (gpa >= 2.0) and not (credits >= 120):\n",
        "    return \"You do not meet either requirement to graduate!\"\n",
        "\n",
        "\n",
        "graduation_reqs(3, 120)"
      ],
      "execution_count": 33,
      "outputs": [
        {
          "output_type": "execute_result",
          "data": {
            "text/plain": [
              "'You meet the requirements to graduate!'"
            ]
          },
          "metadata": {
            "tags": []
          },
          "execution_count": 33
        }
      ]
    },
    {
      "cell_type": "markdown",
      "metadata": {
        "id": "Maw6hh8Gm20B",
        "colab_type": "text"
      },
      "source": [
        "## Else Statements\n",
        "\n",
        "As you can tell from your work with **Calvin Coolidge’s Cool College**, once you start including lots of `if` statements in a function the code becomes a little cluttered and clunky. Luckily, there are other tools we can use to build control flow.\n",
        "\n",
        "`else` statements allow us to elegantly describe what we want our code to do when certain conditions are **not met**.\n",
        "\n",
        "\n",
        "`else` statements always appear in conjunction with `if` statements. Consider our waking-up example to see how this works:\n",
        "\n"
      ]
    },
    {
      "cell_type": "code",
      "metadata": {
        "id": "YdndohMgnHBV",
        "colab_type": "code",
        "colab": {}
      },
      "source": [
        "if weekday:\n",
        "  wake_up(\"6:30\")\n",
        "else:\n",
        "  sleep_in()"
      ],
      "execution_count": 0,
      "outputs": []
    },
    {
      "cell_type": "markdown",
      "metadata": {
        "id": "_babrpghnLA7",
        "colab_type": "text"
      },
      "source": [
        "In this way, we can build if statements that execute different code if conditions are or are not met. This prevents us from needing to write `if` statements for each possible condition, we can instead write a blanket `else` statement for all the times the condition is not met.\n",
        "\n",
        "\n",
        "Let’s return to our `age_check` function for our movie streaming platform. Previously, all it did was check if the user’s age was over 13 and if so return `True`. We can use an `else` statement to return a message in the event the user is too young to watch the movie.\n"
      ]
    },
    {
      "cell_type": "code",
      "metadata": {
        "id": "7mwWRqninZ2Q",
        "colab_type": "code",
        "colab": {
          "base_uri": "https://localhost:8080/",
          "height": 34
        },
        "outputId": "35f5c24d-4d71-458e-e9a4-1c8764b417ad"
      },
      "source": [
        "def age_check(age):\n",
        "  if age >= 13:\n",
        "    return True\n",
        "  else:\n",
        "    return \"Sorry, you must be 13 or older to watch this movie.\"\n",
        "\n",
        "age_check(12)"
      ],
      "execution_count": 36,
      "outputs": [
        {
          "output_type": "execute_result",
          "data": {
            "text/plain": [
              "'Sorry, you must be 13 or older to watch this movie.'"
            ]
          },
          "metadata": {
            "tags": []
          },
          "execution_count": 36
        }
      ]
    },
    {
      "cell_type": "markdown",
      "metadata": {
        "id": "lbW9r94bnfs4",
        "colab_type": "text"
      },
      "source": [
        "## Else If Statements\n",
        "\n",
        "We have `if` statements, we have `else` statements, we can also have `elif` statements.\n",
        "\n",
        "Now you may be asking yourself, what the heck is an `elif` statement? It’s exactly what it sounds like, `“else if”`. An `elif` statement checks another condition after the previous if statements conditions aren’t met.\n",
        "\n",
        "Let’s take a look at this in practice. The following function will display a “thank you” message after someone donates to a charity: It takes the donation amount and prints a message based on how much was donated.\n",
        "\n",
        "\n"
      ]
    },
    {
      "cell_type": "code",
      "metadata": {
        "id": "de01hUjhbMVt",
        "colab_type": "code",
        "colab": {
          "base_uri": "https://localhost:8080/",
          "height": 52
        },
        "outputId": "4c78401d-0479-4e84-c4ac-751460ded168"
      },
      "source": [
        "def thank_you(donation):\n",
        "  if donation >= 1000:\n",
        "    print(\"Thank you for your donation! You have achieved platinum donation status!\")\n",
        "  elif donation >= 500: \n",
        "    print(\"Thank you for your donation! You have achieved gold donation status!\")\n",
        "  elif donation >= 100:\n",
        "    print(\"Thank you for your donation! You have achieved silver donation status!\")\n",
        "  else:\n",
        "    print(\"Thank you for your donation! You have achieved bronze donation status!\")\n",
        "thank_you(1200)\n",
        "thank_you(300)\n",
        "\n"
      ],
      "execution_count": 39,
      "outputs": [
        {
          "output_type": "stream",
          "text": [
            "Thank you for your donation! You have achieved platinum donation status!\n",
            "Thank you for your donation! You have achieved silver donation status!\n"
          ],
          "name": "stdout"
        }
      ]
    },
    {
      "cell_type": "markdown",
      "metadata": {
        "id": "4tzBXSz7foSj",
        "colab_type": "text"
      },
      "source": [
        "Calvin Coolidge’s Cool College has noticed that students prefer to get letter grades over GPA numbers. They want you to write a function called `grade_converter` that converts an inputted `GPA` into the appropriate `letter grade`. Your function should be named grade_converter, take the input gpa, and convert the following GPAs:\n",
        "\n",
        "* 4.0 or higher should return \"A\"\n",
        "* 3.0 or higher should return \"B\"\n",
        "* 2.0 or higher should return \"C\"\n",
        "* 1.0 or higher should return \"D\"\n",
        "* 0.0 or higher should return \"F\"\n",
        "\n",
        "You can do this by creating a variable called `grade`.\n",
        "Then, you should use `elif` statements to set grade to the appropriate letter grade for the gpa entered.\n",
        "At the end of the function, return grade.\n"
      ]
    },
    {
      "cell_type": "code",
      "metadata": {
        "id": "cg_3m6dUf3_Q",
        "colab_type": "code",
        "colab": {
          "base_uri": "https://localhost:8080/",
          "height": 34
        },
        "outputId": "08a824fb-6ebb-470b-e288-edc68d83e1e1"
      },
      "source": [
        "def grade_converter(gpa):\n",
        "  if gpa >=4.0:\n",
        "    return \"A\"\n",
        "  elif gpa >=3.0:\n",
        "    return \"B\"\n",
        "  elif gpa >=2.0:\n",
        "    return \"C\"\n",
        "  elif gpa>= 1.0:\n",
        "    return \"D\"\n",
        "  else: \n",
        "    return \"F\" \n",
        "  return grade \n",
        "\n",
        "print(grade_converter(2.6))\n"
      ],
      "execution_count": 40,
      "outputs": [
        {
          "output_type": "stream",
          "text": [
            "C\n"
          ],
          "name": "stdout"
        }
      ]
    },
    {
      "cell_type": "markdown",
      "metadata": {
        "id": "o5mOSBwWf8ct",
        "colab_type": "text"
      },
      "source": [
        "## Try and Except Statements\n",
        " \n",
        "`if`, `elif`, and `else` statements aren’t the only way to build a control flow into your program. You can use `try` and `except` statements to check for possible errors that a user might encounter.\n",
        "\n",
        "The general syntax of a `try and except` statement is\n",
        "\n"
      ]
    },
    {
      "cell_type": "code",
      "metadata": {
        "id": "Yx4DvktmgKld",
        "colab_type": "code",
        "colab": {}
      },
      "source": [
        "try:\n",
        "    # some statement\n",
        "except ErrorName:\n",
        "    # some statement\n"
      ],
      "execution_count": 0,
      "outputs": []
    },
    {
      "cell_type": "markdown",
      "metadata": {
        "id": "pG1vzZgcgOBu",
        "colab_type": "text"
      },
      "source": [
        "First, the statement under `try` will be executed. If at some point an exception is raised during this execution, such as a `NameError` or a `ValueError` and that exception matches the keyword in the except statement, then the try statement will terminate and the except statement will execute.\n",
        "\n",
        "Let’s take a look at this in an application. I want to write a function that takes two numbers, `a` and `b` as an input and then returns a divided by b. **But, there is a possibility that b is zero, which will cause an error, so I want to include a try and except flow to catch this error.**\n",
        "\n"
      ]
    },
    {
      "cell_type": "code",
      "metadata": {
        "id": "27zkyFIqgfHL",
        "colab_type": "code",
        "colab": {
          "base_uri": "https://localhost:8080/",
          "height": 52
        },
        "outputId": "5d7b4d0d-be91-44ff-9b7a-b3596d648666"
      },
      "source": [
        "def divides(a,b):\n",
        "  try:\n",
        "    result = a / b\n",
        "    print (result)\n",
        "  except ZeroDivisionError:\n",
        "    print (\"Can't divide by zero!\")\n",
        "\n",
        "divides(1,0)\n",
        "divides(5,4)\n"
      ],
      "execution_count": 44,
      "outputs": [
        {
          "output_type": "stream",
          "text": [
            "Can't divide by zero!\n",
            "1.25\n"
          ],
          "name": "stdout"
        }
      ]
    },
    {
      "cell_type": "markdown",
      "metadata": {
        "id": "NSrer94qgtOU",
        "colab_type": "text"
      },
      "source": [
        "## Review\n",
        "\n",
        "Great job! We covered a ton of material in this lesson and you’ve increased the number of tools in your Python toolkit by several-fold. Let’s review what you’ve learned this lesson:\n",
        "\n",
        "* Boolean expressions are statements that can be either `True` or `False`\n",
        "* A boolean variable is a variable that is set to either `True` or `False`.\n",
        "* You can create boolean expressions using relational operators:\n",
        "      * Equals: ==\n",
        "      * Not equals: !=\n",
        "      * Greater than: >\n",
        "      *  Greater than or equal to: >=\n",
        "      * Less than: <\n",
        "      * Less than or equal to: <=\n",
        "* `if` statements can be used to create control flow in your code.\n",
        "* `else` statements can be used to execute code when the conditions of an if statement are not met.\n",
        "* `elif` statements can be used to build additional checks into your if statements\n",
        "* `try` and `except` statements can be used to build error control into your code.\n"
      ]
    }
  ]
}