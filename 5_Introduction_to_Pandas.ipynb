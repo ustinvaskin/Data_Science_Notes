{
  "nbformat": 4,
  "nbformat_minor": 0,
  "metadata": {
    "colab": {
      "name": "5-Introduction to Pandas.ipynb",
      "provenance": [],
      "collapsed_sections": [],
      "toc_visible": true
    },
    "kernelspec": {
      "name": "python3",
      "display_name": "Python 3"
    }
  },
  "cells": [
    {
      "cell_type": "markdown",
      "metadata": {
        "id": "EW21jE02kkqR",
        "colab_type": "text"
      },
      "source": [
        "# Introduction to Pandas \n",
        "\n",
        "[CheetSheet](https://www.codecademy.com/learn/paths/data-science/tracks/data-processing-pandas/modules/dspath-intro-pandas/cheatsheet)"
      ]
    },
    {
      "cell_type": "markdown",
      "metadata": {
        "id": "6PtZ10nGlNlq",
        "colab_type": "text"
      },
      "source": [
        "## Create a DataFrame I\n",
        "A DataFrame is an object \n",
        "\n",
        "take a dictionary: \n",
        "```\n",
        "thisdict =\t{\n",
        "  \"brand\": \"Ford\",\n",
        "  \"model\": \"Mustang\",\n",
        "  \"year\": 1964\n",
        "}\n",
        "print(thisdict)\n",
        "```\n",
        "\n",
        "that stores data as rows and columns. You can think of a DataFrame as a spreadsheet or as a SQL table. You can manually create a DataFrame or fill it with data from a CSV, an Excel spreadsheet, or a SQL query.\n",
        "\n",
        "DataFrames have rows and columns. Each column has a name, which is a string. Each row has an index, which is an integer. DataFrames can contain many different data types: strings, ints, floats, tuples, etc.\n",
        "\n",
        "You can pass in a **dictionary** to `pd.DataFrame()`. **Each key is a column name and each value is a list of column values.** The columns must all be the same length or you will get an error. Here’s an example:\n",
        "\n",
        "```\n",
        "df1 = pd.DataFrame({\n",
        "    'name': ['John Smith', 'Jane Doe', 'Joe Schmo'],\n",
        "    'address': ['123 Main St.', '456 Maple Ave.', '789 Broadway'],\n",
        "    'age': [34, 28, 51]\n",
        "})\n",
        "```"
      ]
    },
    {
      "cell_type": "markdown",
      "metadata": {
        "id": "8Y3RAcCimFku",
        "colab_type": "text"
      },
      "source": [
        ""
      ]
    },
    {
      "cell_type": "code",
      "metadata": {
        "id": "Yt8p4Yw1lWLD",
        "colab_type": "code",
        "colab": {
          "base_uri": "https://localhost:8080/",
          "height": 143
        },
        "outputId": "e3ec8fed-20aa-4265-ccef-d4a092247acc"
      },
      "source": [
        "import pandas as pd\n",
        "df1 = pd.DataFrame({\n",
        "    'name': ['John Smith', 'Jane Doe', 'Joe Schmo'],\n",
        "    'address': ['123 Main St.', '456 Maple Ave.', '789 Broadway'],\n",
        "    'age': [34, 28, 51]\n",
        "})\n",
        "(df1)"
      ],
      "execution_count": 4,
      "outputs": [
        {
          "output_type": "execute_result",
          "data": {
            "text/html": [
              "<div>\n",
              "<style scoped>\n",
              "    .dataframe tbody tr th:only-of-type {\n",
              "        vertical-align: middle;\n",
              "    }\n",
              "\n",
              "    .dataframe tbody tr th {\n",
              "        vertical-align: top;\n",
              "    }\n",
              "\n",
              "    .dataframe thead th {\n",
              "        text-align: right;\n",
              "    }\n",
              "</style>\n",
              "<table border=\"1\" class=\"dataframe\">\n",
              "  <thead>\n",
              "    <tr style=\"text-align: right;\">\n",
              "      <th></th>\n",
              "      <th>name</th>\n",
              "      <th>address</th>\n",
              "      <th>age</th>\n",
              "    </tr>\n",
              "  </thead>\n",
              "  <tbody>\n",
              "    <tr>\n",
              "      <th>0</th>\n",
              "      <td>John Smith</td>\n",
              "      <td>123 Main St.</td>\n",
              "      <td>34</td>\n",
              "    </tr>\n",
              "    <tr>\n",
              "      <th>1</th>\n",
              "      <td>Jane Doe</td>\n",
              "      <td>456 Maple Ave.</td>\n",
              "      <td>28</td>\n",
              "    </tr>\n",
              "    <tr>\n",
              "      <th>2</th>\n",
              "      <td>Joe Schmo</td>\n",
              "      <td>789 Broadway</td>\n",
              "      <td>51</td>\n",
              "    </tr>\n",
              "  </tbody>\n",
              "</table>\n",
              "</div>"
            ],
            "text/plain": [
              "         name         address  age\n",
              "0  John Smith    123 Main St.   34\n",
              "1    Jane Doe  456 Maple Ave.   28\n",
              "2   Joe Schmo    789 Broadway   51"
            ]
          },
          "metadata": {
            "tags": []
          },
          "execution_count": 4
        }
      ]
    },
    {
      "cell_type": "markdown",
      "metadata": {
        "id": "iQBibsYRlkyz",
        "colab_type": "text"
      },
      "source": [
        "Note that the columns will appear in alphabetical order because dictionaries don’t have any inherent order for columns."
      ]
    },
    {
      "cell_type": "markdown",
      "metadata": {
        "id": "Vyxm0H7HlyCu",
        "colab_type": "text"
      },
      "source": [
        "Another example \n",
        "\n",
        "Fill up the table\n",
        "```\n",
        "import codecademylib\n",
        "import pandas as pd\n",
        "\n",
        "df1 = pd.DataFrame({\n",
        "  'Product ID': [1, 2, 3, 4],\n",
        "  ....... \n",
        "})\n",
        "\n",
        "print(df1)\n",
        "```"
      ]
    },
    {
      "cell_type": "code",
      "metadata": {
        "id": "zGNEmR7ll4hd",
        "colab_type": "code",
        "colab": {
          "base_uri": "https://localhost:8080/",
          "height": 175
        },
        "outputId": "6907a8d5-c530-4e92-e02d-e3955b123630"
      },
      "source": [
        "import pandas as pd\n",
        "\n",
        "df1 = pd.DataFrame({\n",
        "  'Product ID': [1, 2, 3, 4],\n",
        "  'Product Name': ['t-shirt', 't-shirt', 'skirt', 'skirt'],\n",
        "  'Color': ['blue', 'green', 'red', 'black']\n",
        "})\n",
        "\n",
        "(df1)"
      ],
      "execution_count": 5,
      "outputs": [
        {
          "output_type": "execute_result",
          "data": {
            "text/html": [
              "<div>\n",
              "<style scoped>\n",
              "    .dataframe tbody tr th:only-of-type {\n",
              "        vertical-align: middle;\n",
              "    }\n",
              "\n",
              "    .dataframe tbody tr th {\n",
              "        vertical-align: top;\n",
              "    }\n",
              "\n",
              "    .dataframe thead th {\n",
              "        text-align: right;\n",
              "    }\n",
              "</style>\n",
              "<table border=\"1\" class=\"dataframe\">\n",
              "  <thead>\n",
              "    <tr style=\"text-align: right;\">\n",
              "      <th></th>\n",
              "      <th>Product ID</th>\n",
              "      <th>Product Name</th>\n",
              "      <th>Color</th>\n",
              "    </tr>\n",
              "  </thead>\n",
              "  <tbody>\n",
              "    <tr>\n",
              "      <th>0</th>\n",
              "      <td>1</td>\n",
              "      <td>t-shirt</td>\n",
              "      <td>blue</td>\n",
              "    </tr>\n",
              "    <tr>\n",
              "      <th>1</th>\n",
              "      <td>2</td>\n",
              "      <td>t-shirt</td>\n",
              "      <td>green</td>\n",
              "    </tr>\n",
              "    <tr>\n",
              "      <th>2</th>\n",
              "      <td>3</td>\n",
              "      <td>skirt</td>\n",
              "      <td>red</td>\n",
              "    </tr>\n",
              "    <tr>\n",
              "      <th>3</th>\n",
              "      <td>4</td>\n",
              "      <td>skirt</td>\n",
              "      <td>black</td>\n",
              "    </tr>\n",
              "  </tbody>\n",
              "</table>\n",
              "</div>"
            ],
            "text/plain": [
              "   Product ID Product Name  Color\n",
              "0           1      t-shirt   blue\n",
              "1           2      t-shirt  green\n",
              "2           3        skirt    red\n",
              "3           4        skirt  black"
            ]
          },
          "metadata": {
            "tags": []
          },
          "execution_count": 5
        }
      ]
    },
    {
      "cell_type": "markdown",
      "metadata": {
        "id": "tk-s45OCmHnB",
        "colab_type": "text"
      },
      "source": [
        "## Create a DataFrame II\n",
        "\n",
        "For example, you can pass in a **list of lists**, where each one represents a row of data. Use the keyword argument **columns** to pass a list of column names. "
      ]
    },
    {
      "cell_type": "code",
      "metadata": {
        "id": "2CWkkzJ5mPii",
        "colab_type": "code",
        "colab": {
          "base_uri": "https://localhost:8080/",
          "height": 143
        },
        "outputId": "2824b217-9486-494c-c5ed-1bab9b5f68da"
      },
      "source": [
        "import pandas as pd\n",
        "\n",
        "df2 = pd.DataFrame([\n",
        "    ['John Smith', '123 Main St.', 34],\n",
        "    ['Jane Doe', '456 Maple Ave.', 28],\n",
        "    ['Joe Schmo', '789 Broadway', 51]\n",
        "    ],\n",
        "    columns=['name', 'address', 'age'])\n",
        "(df2)"
      ],
      "execution_count": 6,
      "outputs": [
        {
          "output_type": "execute_result",
          "data": {
            "text/html": [
              "<div>\n",
              "<style scoped>\n",
              "    .dataframe tbody tr th:only-of-type {\n",
              "        vertical-align: middle;\n",
              "    }\n",
              "\n",
              "    .dataframe tbody tr th {\n",
              "        vertical-align: top;\n",
              "    }\n",
              "\n",
              "    .dataframe thead th {\n",
              "        text-align: right;\n",
              "    }\n",
              "</style>\n",
              "<table border=\"1\" class=\"dataframe\">\n",
              "  <thead>\n",
              "    <tr style=\"text-align: right;\">\n",
              "      <th></th>\n",
              "      <th>name</th>\n",
              "      <th>address</th>\n",
              "      <th>age</th>\n",
              "    </tr>\n",
              "  </thead>\n",
              "  <tbody>\n",
              "    <tr>\n",
              "      <th>0</th>\n",
              "      <td>John Smith</td>\n",
              "      <td>123 Main St.</td>\n",
              "      <td>34</td>\n",
              "    </tr>\n",
              "    <tr>\n",
              "      <th>1</th>\n",
              "      <td>Jane Doe</td>\n",
              "      <td>456 Maple Ave.</td>\n",
              "      <td>28</td>\n",
              "    </tr>\n",
              "    <tr>\n",
              "      <th>2</th>\n",
              "      <td>Joe Schmo</td>\n",
              "      <td>789 Broadway</td>\n",
              "      <td>51</td>\n",
              "    </tr>\n",
              "  </tbody>\n",
              "</table>\n",
              "</div>"
            ],
            "text/plain": [
              "         name         address  age\n",
              "0  John Smith    123 Main St.   34\n",
              "1    Jane Doe  456 Maple Ave.   28\n",
              "2   Joe Schmo    789 Broadway   51"
            ]
          },
          "metadata": {
            "tags": []
          },
          "execution_count": 6
        }
      ]
    },
    {
      "cell_type": "markdown",
      "metadata": {
        "id": "X4-RzspImqfT",
        "colab_type": "text"
      },
      "source": [
        "Another Example: "
      ]
    },
    {
      "cell_type": "code",
      "metadata": {
        "id": "v8J67nOImq7Y",
        "colab_type": "code",
        "colab": {
          "base_uri": "https://localhost:8080/",
          "height": 175
        },
        "outputId": "3d66f7ad-50cb-4b7b-d6ea-b83ecc9aa771"
      },
      "source": [
        "import pandas as pd\n",
        "\n",
        "df2 = pd.DataFrame([\n",
        "  [1, 'San Diego', 100],\n",
        "  [2, 'Los Angeles', 120],\n",
        "  [3, 'San Francisco', 90],\n",
        "  [4, 'Sacramento', 115]\n",
        "],\n",
        "  columns=[\n",
        "   'Store ID', 'Location', 'Number of Employees'\n",
        "  ])\n",
        "\n",
        "(df2)"
      ],
      "execution_count": 7,
      "outputs": [
        {
          "output_type": "execute_result",
          "data": {
            "text/html": [
              "<div>\n",
              "<style scoped>\n",
              "    .dataframe tbody tr th:only-of-type {\n",
              "        vertical-align: middle;\n",
              "    }\n",
              "\n",
              "    .dataframe tbody tr th {\n",
              "        vertical-align: top;\n",
              "    }\n",
              "\n",
              "    .dataframe thead th {\n",
              "        text-align: right;\n",
              "    }\n",
              "</style>\n",
              "<table border=\"1\" class=\"dataframe\">\n",
              "  <thead>\n",
              "    <tr style=\"text-align: right;\">\n",
              "      <th></th>\n",
              "      <th>Store ID</th>\n",
              "      <th>Location</th>\n",
              "      <th>Number of Employees</th>\n",
              "    </tr>\n",
              "  </thead>\n",
              "  <tbody>\n",
              "    <tr>\n",
              "      <th>0</th>\n",
              "      <td>1</td>\n",
              "      <td>San Diego</td>\n",
              "      <td>100</td>\n",
              "    </tr>\n",
              "    <tr>\n",
              "      <th>1</th>\n",
              "      <td>2</td>\n",
              "      <td>Los Angeles</td>\n",
              "      <td>120</td>\n",
              "    </tr>\n",
              "    <tr>\n",
              "      <th>2</th>\n",
              "      <td>3</td>\n",
              "      <td>San Francisco</td>\n",
              "      <td>90</td>\n",
              "    </tr>\n",
              "    <tr>\n",
              "      <th>3</th>\n",
              "      <td>4</td>\n",
              "      <td>Sacramento</td>\n",
              "      <td>115</td>\n",
              "    </tr>\n",
              "  </tbody>\n",
              "</table>\n",
              "</div>"
            ],
            "text/plain": [
              "   Store ID       Location  Number of Employees\n",
              "0         1      San Diego                  100\n",
              "1         2    Los Angeles                  120\n",
              "2         3  San Francisco                   90\n",
              "3         4     Sacramento                  115"
            ]
          },
          "metadata": {
            "tags": []
          },
          "execution_count": 7
        }
      ]
    },
    {
      "cell_type": "markdown",
      "metadata": {
        "id": "8_xW-J7-nH8v",
        "colab_type": "text"
      },
      "source": [
        "## Comma Separated Variables (CSV) \n",
        "\n",
        "We now know how to create our own DataFrame. However, most of the time, we’ll be working with datasets that already exist. One of the most common formats for big datasets is the CSV.\n",
        "\n",
        "CSV (comma separated values) is a text-only spreadsheet format. You can find CSVs in lots of places:\n",
        "\n",
        "* Online datasets (here’s an example from data.gov)\n",
        "* Export from Excel or Google Sheets\n",
        "* Export from SQL\n",
        "\n",
        "The first row of a CSV contains column headings. All subsequent rows contain values. Each column heading and each variable is separated by a comma:\n",
        "\n",
        "```\n",
        "column1,column2,column3\n",
        "value1,value2,value3\n",
        "```"
      ]
    },
    {
      "cell_type": "markdown",
      "metadata": {
        "id": "eFYH8r2Wnjf9",
        "colab_type": "text"
      },
      "source": [
        "Write the following data as a CSV in cupcakes.csv. \n",
        "\n",
        "```\n",
        "name,\tcake_flavor, \tfrosting_flavor, \ttopping,\n",
        "Devil’s Food, \tchocolate,\tchocolate, \tchocolate shavings,\n",
        "Birthday Cake, \tvanilla, \tvanilla \trainbow sprinkles\n",
        "Carrot Cake, \tcarrot, \tcream, cheese, \talmonds\n",
        "```"
      ]
    },
    {
      "cell_type": "markdown",
      "metadata": {
        "id": "CZm4rHm8oiIL",
        "colab_type": "text"
      },
      "source": [
        "## Loading and Saving CSVs \n",
        "\n",
        "When you have data in a CSV, you can load it into a DataFrame in Pandas using .`read_csv()`:\n",
        "\n",
        "```\n",
        "pd.read_csv('my-csv-file.csv')\n",
        "```\n",
        "\n",
        "In the example above, the `.read_csv()` method is called. The CSV file called `my-csv-file` is passed in as an argument.\n",
        "\n",
        "We can also save data to a CSV, using `.to_csv()`.\n",
        "\n",
        "```\n",
        "df.to_csv('new-csv-file.csv')\n",
        "```\n",
        "\n",
        "In the example above, the .`to_csv()` method is called on `df` (which represents a DataFrame object). The name of the CSV file is passed in as an argument `(new-csv-file.csv)`. By default, this method will save the CSV file in your current directory.\n"
      ]
    },
    {
      "cell_type": "code",
      "metadata": {
        "id": "_aajtuq-Pu_S",
        "colab_type": "code",
        "colab": {
          "base_uri": "https://localhost:8080/",
          "height": 206
        },
        "outputId": "85602ecc-3aa4-46c4-f990-ccb133d8ab64"
      },
      "source": [
        "import pandas as pd\n",
        "# df is a varibale taht stores table \n",
        "\n",
        "df= pd.read_csv('sample.csv') \n",
        "\n",
        "(df.head(3))\n",
        "(df)"
      ],
      "execution_count": 3,
      "outputs": [
        {
          "output_type": "execute_result",
          "data": {
            "text/html": [
              "<div>\n",
              "<style scoped>\n",
              "    .dataframe tbody tr th:only-of-type {\n",
              "        vertical-align: middle;\n",
              "    }\n",
              "\n",
              "    .dataframe tbody tr th {\n",
              "        vertical-align: top;\n",
              "    }\n",
              "\n",
              "    .dataframe thead th {\n",
              "        text-align: right;\n",
              "    }\n",
              "</style>\n",
              "<table border=\"1\" class=\"dataframe\">\n",
              "  <thead>\n",
              "    <tr style=\"text-align: right;\">\n",
              "      <th></th>\n",
              "      <th>City</th>\n",
              "      <th>Population</th>\n",
              "      <th>Median Age</th>\n",
              "    </tr>\n",
              "  </thead>\n",
              "  <tbody>\n",
              "    <tr>\n",
              "      <th>0</th>\n",
              "      <td>Maplewood</td>\n",
              "      <td>100000</td>\n",
              "      <td>40</td>\n",
              "    </tr>\n",
              "    <tr>\n",
              "      <th>1</th>\n",
              "      <td>Wayne</td>\n",
              "      <td>350000</td>\n",
              "      <td>33</td>\n",
              "    </tr>\n",
              "    <tr>\n",
              "      <th>2</th>\n",
              "      <td>Forrest Hills</td>\n",
              "      <td>300000</td>\n",
              "      <td>35</td>\n",
              "    </tr>\n",
              "    <tr>\n",
              "      <th>3</th>\n",
              "      <td>Paramus</td>\n",
              "      <td>400000</td>\n",
              "      <td>55</td>\n",
              "    </tr>\n",
              "    <tr>\n",
              "      <th>4</th>\n",
              "      <td>Hackensack</td>\n",
              "      <td>290000</td>\n",
              "      <td>39</td>\n",
              "    </tr>\n",
              "  </tbody>\n",
              "</table>\n",
              "</div>"
            ],
            "text/plain": [
              "            City  Population  Median Age\n",
              "0      Maplewood      100000          40\n",
              "1          Wayne      350000          33\n",
              "2  Forrest Hills      300000          35\n",
              "3        Paramus      400000          55\n",
              "4     Hackensack      290000          39"
            ]
          },
          "metadata": {
            "tags": []
          },
          "execution_count": 3
        }
      ]
    },
    {
      "cell_type": "code",
      "metadata": {
        "id": "wR7RBTkyQf23",
        "colab_type": "code",
        "colab": {
          "base_uri": "https://localhost:8080/",
          "height": 121
        },
        "outputId": "358eba8c-73dc-4434-f925-0ad690265303"
      },
      "source": [
        "series = df['City']\n",
        "# series one column of data has 2 objects: values and index\n",
        "series"
      ],
      "execution_count": 8,
      "outputs": [
        {
          "output_type": "execute_result",
          "data": {
            "text/plain": [
              "0        Maplewood\n",
              "1            Wayne\n",
              "2    Forrest Hills\n",
              "3          Paramus\n",
              "4       Hackensack\n",
              "Name: City, dtype: object"
            ]
          },
          "metadata": {
            "tags": []
          },
          "execution_count": 8
        }
      ]
    },
    {
      "cell_type": "markdown",
      "metadata": {
        "id": "r8TGs3yyRDl7",
        "colab_type": "text"
      },
      "source": [
        "## Inspect a DataFrame \n",
        "\n",
        "When we load a new DataFrame from a CSV, we want to know what it looks like.\n",
        "\n",
        "If it’s a small DataFrame, you can display it by typing `print(df)`.\n",
        "\n",
        "If it’s a larger DataFrame, **it’s helpful to be able to inspect a few items** without having to look at the entire DataFrame.\n",
        "\n",
        "The method `.head()` gives the first 5 rows of a DataFrame. If you want to see more rows, you can pass in the positional argument `n`. For example, df.head(10) would show the first 10 rows.\n",
        "\n",
        "The method `df.info()` gives some statistics for each column.\n"
      ]
    },
    {
      "cell_type": "code",
      "metadata": {
        "id": "D5hTsBm5ZPO7",
        "colab_type": "code",
        "colab": {
          "base_uri": "https://localhost:8080/",
          "height": 363
        },
        "outputId": "7c51d5dd-e8c6-4065-afb9-5291ee6f4226"
      },
      "source": [
        "import pandas as pd\n",
        "\n",
        "df = pd.read_csv('imdb.csv')\n",
        "\n",
        "(df.head(10))\n",
        "\n"
      ],
      "execution_count": 11,
      "outputs": [
        {
          "output_type": "execute_result",
          "data": {
            "text/html": [
              "<div>\n",
              "<style scoped>\n",
              "    .dataframe tbody tr th:only-of-type {\n",
              "        vertical-align: middle;\n",
              "    }\n",
              "\n",
              "    .dataframe tbody tr th {\n",
              "        vertical-align: top;\n",
              "    }\n",
              "\n",
              "    .dataframe thead th {\n",
              "        text-align: right;\n",
              "    }\n",
              "</style>\n",
              "<table border=\"1\" class=\"dataframe\">\n",
              "  <thead>\n",
              "    <tr style=\"text-align: right;\">\n",
              "      <th></th>\n",
              "      <th>id</th>\n",
              "      <th>name</th>\n",
              "      <th>genre</th>\n",
              "      <th>year</th>\n",
              "      <th>imdb_rating</th>\n",
              "    </tr>\n",
              "  </thead>\n",
              "  <tbody>\n",
              "    <tr>\n",
              "      <th>0</th>\n",
              "      <td>1</td>\n",
              "      <td>Avatar</td>\n",
              "      <td>action</td>\n",
              "      <td>2009</td>\n",
              "      <td>7.9</td>\n",
              "    </tr>\n",
              "    <tr>\n",
              "      <th>1</th>\n",
              "      <td>2</td>\n",
              "      <td>Jurassic World</td>\n",
              "      <td>action</td>\n",
              "      <td>2015</td>\n",
              "      <td>7.3</td>\n",
              "    </tr>\n",
              "    <tr>\n",
              "      <th>2</th>\n",
              "      <td>3</td>\n",
              "      <td>The Avengers</td>\n",
              "      <td>action</td>\n",
              "      <td>2012</td>\n",
              "      <td>8.1</td>\n",
              "    </tr>\n",
              "    <tr>\n",
              "      <th>3</th>\n",
              "      <td>4</td>\n",
              "      <td>The Dark Knight</td>\n",
              "      <td>action</td>\n",
              "      <td>2008</td>\n",
              "      <td>9.0</td>\n",
              "    </tr>\n",
              "    <tr>\n",
              "      <th>4</th>\n",
              "      <td>5</td>\n",
              "      <td>Star Wars: Episode I - The Phantom Menace</td>\n",
              "      <td>action</td>\n",
              "      <td>1999</td>\n",
              "      <td>6.6</td>\n",
              "    </tr>\n",
              "    <tr>\n",
              "      <th>5</th>\n",
              "      <td>6</td>\n",
              "      <td>Star Wars</td>\n",
              "      <td>action</td>\n",
              "      <td>1977</td>\n",
              "      <td>8.7</td>\n",
              "    </tr>\n",
              "    <tr>\n",
              "      <th>6</th>\n",
              "      <td>7</td>\n",
              "      <td>Avengers: Age of Ultron</td>\n",
              "      <td>action</td>\n",
              "      <td>2015</td>\n",
              "      <td>7.9</td>\n",
              "    </tr>\n",
              "    <tr>\n",
              "      <th>7</th>\n",
              "      <td>8</td>\n",
              "      <td>The Dark Knight Rises</td>\n",
              "      <td>action</td>\n",
              "      <td>2012</td>\n",
              "      <td>8.5</td>\n",
              "    </tr>\n",
              "    <tr>\n",
              "      <th>8</th>\n",
              "      <td>9</td>\n",
              "      <td>Pirates of the Caribbean: Dead Mans Chest</td>\n",
              "      <td>action</td>\n",
              "      <td>2006</td>\n",
              "      <td>7.3</td>\n",
              "    </tr>\n",
              "    <tr>\n",
              "      <th>9</th>\n",
              "      <td>10</td>\n",
              "      <td>Iron Man 3</td>\n",
              "      <td>action</td>\n",
              "      <td>2013</td>\n",
              "      <td>7.3</td>\n",
              "    </tr>\n",
              "  </tbody>\n",
              "</table>\n",
              "</div>"
            ],
            "text/plain": [
              "   id                                       name   genre  year  imdb_rating\n",
              "0   1                                     Avatar  action  2009          7.9\n",
              "1   2                             Jurassic World  action  2015          7.3\n",
              "2   3                               The Avengers  action  2012          8.1\n",
              "3   4                            The Dark Knight  action  2008          9.0\n",
              "4   5  Star Wars: Episode I - The Phantom Menace  action  1999          6.6\n",
              "5   6                                  Star Wars  action  1977          8.7\n",
              "6   7                    Avengers: Age of Ultron  action  2015          7.9\n",
              "7   8                      The Dark Knight Rises  action  2012          8.5\n",
              "8   9  Pirates of the Caribbean: Dead Mans Chest  action  2006          7.3\n",
              "9  10                                 Iron Man 3  action  2013          7.3"
            ]
          },
          "metadata": {
            "tags": []
          },
          "execution_count": 11
        }
      ]
    },
    {
      "cell_type": "code",
      "metadata": {
        "id": "dOYj3I7aZcKF",
        "colab_type": "code",
        "colab": {
          "base_uri": "https://localhost:8080/",
          "height": 243
        },
        "outputId": "b80233a7-dd74-402e-87d1-ec1ab3f7a0a4"
      },
      "source": [
        "\n",
        "print(df.info())"
      ],
      "execution_count": 12,
      "outputs": [
        {
          "output_type": "stream",
          "text": [
            "<class 'pandas.core.frame.DataFrame'>\n",
            "RangeIndex: 220 entries, 0 to 219\n",
            "Data columns (total 5 columns):\n",
            " #   Column       Non-Null Count  Dtype  \n",
            "---  ------       --------------  -----  \n",
            " 0   id           220 non-null    int64  \n",
            " 1   name         220 non-null    object \n",
            " 2   genre        220 non-null    object \n",
            " 3   year         220 non-null    int64  \n",
            " 4   imdb_rating  220 non-null    float64\n",
            "dtypes: float64(1), int64(2), object(2)\n",
            "memory usage: 8.7+ KB\n",
            "None\n"
          ],
          "name": "stdout"
        }
      ]
    },
    {
      "cell_type": "markdown",
      "metadata": {
        "id": "r4it2JtmZ-hM",
        "colab_type": "text"
      },
      "source": [
        "## Select Columns\n",
        "\n",
        "Now we know how to create and load data. Let’s select parts of those datasets that are interesting or important to our analyses.\n",
        "\n",
        "Suppose you have the DataFrame called customers, which contains the ages of your customers:\n",
        "```\n",
        "name \tage\n",
        "Rebecca Erikson \t35\n",
        "Thomas Roberson \t28\n",
        "Diane Ochoa \t42\n",
        "… \t…\n",
        "```\n",
        "\n",
        "Perhaps you want to take the average or plot a histogram of the ages. In order to do either of these tasks, you’d need to select the column.\n",
        "\n",
        "There are two possible syntaxes for selecting all values from a column:\n",
        "\n",
        "* Select the column as if you were selecting a value from a dictionary using a key. In our example, we would type `customers['age']` to select the ages.\n",
        "\n",
        "* If the name of a column follows all of the rules for a variable name (doesn’t start with a number, doesn’t contain spaces or special characters, etc.), then you can select it using the following notation: `df.MySecondColumn`. In our example, we would type `customers.age`.\n",
        "\n",
        "* **If its only one colums the type will be series**\n"
      ]
    },
    {
      "cell_type": "code",
      "metadata": {
        "id": "rd6b-Iu4kyGo",
        "colab_type": "code",
        "colab": {
          "base_uri": "https://localhost:8080/",
          "height": 394
        },
        "outputId": "3e593afd-074b-4845-d87f-b66d6bf374f5"
      },
      "source": [
        "import pandas as pd\n",
        "\n",
        "df = pd.DataFrame([\n",
        "  ['January', 100, 100, 23, 100],\n",
        "  ['February', 51, 45, 145, 45],\n",
        "  ['March', 81, 96, 65, 96],\n",
        "  ['April', 80, 80, 54, 180],\n",
        "  ['May', 51, 54, 54, 154],\n",
        "  ['June', 112, 109, 79, 129]],\n",
        "  columns=['month', 'clinic_east',\n",
        "           'clinic_north', 'clinic_south',\n",
        "           'clinic_west'])\n",
        "# selecting clinic_north column and saving it in clinic_north var\n",
        "clinic_north = df[\"clinic_north\"]\n",
        "# or clinic_north = df.clinic_north\n",
        "\n",
        "print(clinic_north)\n",
        "\n",
        "print(type(clinic_north))\n",
        "\n",
        "print(type(df))\n",
        "(df)\n"
      ],
      "execution_count": 53,
      "outputs": [
        {
          "output_type": "stream",
          "text": [
            "0    100\n",
            "1     45\n",
            "2     96\n",
            "3     80\n",
            "4     54\n",
            "5    109\n",
            "Name: clinic_north, dtype: int64\n",
            "<class 'pandas.core.series.Series'>\n",
            "<class 'pandas.core.frame.DataFrame'>\n"
          ],
          "name": "stdout"
        },
        {
          "output_type": "execute_result",
          "data": {
            "text/html": [
              "<div>\n",
              "<style scoped>\n",
              "    .dataframe tbody tr th:only-of-type {\n",
              "        vertical-align: middle;\n",
              "    }\n",
              "\n",
              "    .dataframe tbody tr th {\n",
              "        vertical-align: top;\n",
              "    }\n",
              "\n",
              "    .dataframe thead th {\n",
              "        text-align: right;\n",
              "    }\n",
              "</style>\n",
              "<table border=\"1\" class=\"dataframe\">\n",
              "  <thead>\n",
              "    <tr style=\"text-align: right;\">\n",
              "      <th></th>\n",
              "      <th>month</th>\n",
              "      <th>clinic_east</th>\n",
              "      <th>clinic_north</th>\n",
              "      <th>clinic_south</th>\n",
              "      <th>clinic_west</th>\n",
              "    </tr>\n",
              "  </thead>\n",
              "  <tbody>\n",
              "    <tr>\n",
              "      <th>0</th>\n",
              "      <td>January</td>\n",
              "      <td>100</td>\n",
              "      <td>100</td>\n",
              "      <td>23</td>\n",
              "      <td>100</td>\n",
              "    </tr>\n",
              "    <tr>\n",
              "      <th>1</th>\n",
              "      <td>February</td>\n",
              "      <td>51</td>\n",
              "      <td>45</td>\n",
              "      <td>145</td>\n",
              "      <td>45</td>\n",
              "    </tr>\n",
              "    <tr>\n",
              "      <th>2</th>\n",
              "      <td>March</td>\n",
              "      <td>81</td>\n",
              "      <td>96</td>\n",
              "      <td>65</td>\n",
              "      <td>96</td>\n",
              "    </tr>\n",
              "    <tr>\n",
              "      <th>3</th>\n",
              "      <td>April</td>\n",
              "      <td>80</td>\n",
              "      <td>80</td>\n",
              "      <td>54</td>\n",
              "      <td>180</td>\n",
              "    </tr>\n",
              "    <tr>\n",
              "      <th>4</th>\n",
              "      <td>May</td>\n",
              "      <td>51</td>\n",
              "      <td>54</td>\n",
              "      <td>54</td>\n",
              "      <td>154</td>\n",
              "    </tr>\n",
              "    <tr>\n",
              "      <th>5</th>\n",
              "      <td>June</td>\n",
              "      <td>112</td>\n",
              "      <td>109</td>\n",
              "      <td>79</td>\n",
              "      <td>129</td>\n",
              "    </tr>\n",
              "  </tbody>\n",
              "</table>\n",
              "</div>"
            ],
            "text/plain": [
              "      month  clinic_east  clinic_north  clinic_south  clinic_west\n",
              "0   January          100           100            23          100\n",
              "1  February           51            45           145           45\n",
              "2     March           81            96            65           96\n",
              "3     April           80            80            54          180\n",
              "4       May           51            54            54          154\n",
              "5      June          112           109            79          129"
            ]
          },
          "metadata": {
            "tags": []
          },
          "execution_count": 53
        }
      ]
    },
    {
      "cell_type": "code",
      "metadata": {
        "id": "OV1n49jsmLjn",
        "colab_type": "code",
        "colab": {}
      },
      "source": [
        ""
      ],
      "execution_count": 0,
      "outputs": []
    },
    {
      "cell_type": "markdown",
      "metadata": {
        "id": "S-1fMbmymV_y",
        "colab_type": "text"
      },
      "source": [
        "## Selecting Multiple Columns\n",
        "\n",
        "When you have a larger DataFrame, you might want to select just a few columns.\n",
        "\n",
        "For instance, let’s return to a DataFrame of orders from ShoeFly.com:\n",
        "\n",
        "```\n",
        "id \tfirst_name \tlast_name \temail \tshoe_type \tshoe_material \tshoe_color\n",
        "54791 \tRebecca \tLindsay \tRebeccaLindsay57@hotmail.com \tclogs \tfaux-leather \tblack\n",
        "53450 \tEmily \tJoyce \tEmilyJoyce25@gmail.com \tballet flats \tfaux-leather \tnavy\n",
        "91987 \tJoyce \tWaller \tJoyce.Waller@gmail.com \tsandals \tfabric \tblack\n",
        "14437 \tJustin \tErickson \tJustin.Erickson@outlook.com \tclogs \tfaux-leather \tred\n",
        "```\n",
        "\n",
        "We might just be interested in the customer’s `last_name` and `email`. We want a DataFrame like this:\n",
        "```\n",
        "last_name \temail\n",
        "Lindsay \tRebeccaLindsay57@hotmail.com\n",
        "Joyce \tEmilyJoyce25@gmail.com\n",
        "Waller \tJoyce.Waller@gmail.com\n",
        "Erickson \tJustin.Erickson@outlook.com\n",
        "```\n",
        "\n",
        "To select two or more columns from a DataFrame, we use a list of the column names. To create the DataFrame shown above, we would use:\n",
        "```\n",
        "new_df = orders[['last_name', 'email']]\n",
        "```\n",
        "\n",
        "** *Note: *Make sure that you have a double set of brackets ([[]]), or this command won’t work!**\n"
      ]
    },
    {
      "cell_type": "code",
      "metadata": {
        "id": "ouatKOrJmpiJ",
        "colab_type": "code",
        "colab": {
          "base_uri": "https://localhost:8080/",
          "height": 498
        },
        "outputId": "1f5bc204-f7d5-4d43-e546-396f83fe176f"
      },
      "source": [
        "import pandas as pd\n",
        "\n",
        "df = pd.DataFrame([\n",
        "  ['January', 100, 100, 23, 100],\n",
        "  ['February', 51, 45, 145, 45],\n",
        "  ['March', 81, 96, 65, 96],\n",
        "  ['April', 80, 80, 54, 180],\n",
        "  ['May', 51, 54, 54, 154],\n",
        "  ['June', 112, 109, 79, 129]],\n",
        "  columns=['month', 'clinic_east',\n",
        "           'clinic_north', 'clinic_south',\n",
        "           'clinic_west']\n",
        ")\n",
        "\n",
        "# selecting 2 columns using [[]]  df[['ddd', 'ggg']]\n",
        "clinic_north_south = df[['clinic_north', 'clinic_south']]\n",
        "\n",
        "print(type(clinic_north_south))\n",
        "print(df.clinic_north)\n",
        "print(df.clinic_south)\n",
        "\n",
        "(df)"
      ],
      "execution_count": 31,
      "outputs": [
        {
          "output_type": "stream",
          "text": [
            "<class 'pandas.core.frame.DataFrame'>\n",
            "0    100\n",
            "1     45\n",
            "2     96\n",
            "3     80\n",
            "4     54\n",
            "5    109\n",
            "Name: clinic_north, dtype: int64\n",
            "0     23\n",
            "1    145\n",
            "2     65\n",
            "3     54\n",
            "4     54\n",
            "5     79\n",
            "Name: clinic_south, dtype: int64\n"
          ],
          "name": "stdout"
        },
        {
          "output_type": "execute_result",
          "data": {
            "text/html": [
              "<div>\n",
              "<style scoped>\n",
              "    .dataframe tbody tr th:only-of-type {\n",
              "        vertical-align: middle;\n",
              "    }\n",
              "\n",
              "    .dataframe tbody tr th {\n",
              "        vertical-align: top;\n",
              "    }\n",
              "\n",
              "    .dataframe thead th {\n",
              "        text-align: right;\n",
              "    }\n",
              "</style>\n",
              "<table border=\"1\" class=\"dataframe\">\n",
              "  <thead>\n",
              "    <tr style=\"text-align: right;\">\n",
              "      <th></th>\n",
              "      <th>month</th>\n",
              "      <th>clinic_east</th>\n",
              "      <th>clinic_north</th>\n",
              "      <th>clinic_south</th>\n",
              "      <th>clinic_west</th>\n",
              "    </tr>\n",
              "  </thead>\n",
              "  <tbody>\n",
              "    <tr>\n",
              "      <th>0</th>\n",
              "      <td>January</td>\n",
              "      <td>100</td>\n",
              "      <td>100</td>\n",
              "      <td>23</td>\n",
              "      <td>100</td>\n",
              "    </tr>\n",
              "    <tr>\n",
              "      <th>1</th>\n",
              "      <td>February</td>\n",
              "      <td>51</td>\n",
              "      <td>45</td>\n",
              "      <td>145</td>\n",
              "      <td>45</td>\n",
              "    </tr>\n",
              "    <tr>\n",
              "      <th>2</th>\n",
              "      <td>March</td>\n",
              "      <td>81</td>\n",
              "      <td>96</td>\n",
              "      <td>65</td>\n",
              "      <td>96</td>\n",
              "    </tr>\n",
              "    <tr>\n",
              "      <th>3</th>\n",
              "      <td>April</td>\n",
              "      <td>80</td>\n",
              "      <td>80</td>\n",
              "      <td>54</td>\n",
              "      <td>180</td>\n",
              "    </tr>\n",
              "    <tr>\n",
              "      <th>4</th>\n",
              "      <td>May</td>\n",
              "      <td>51</td>\n",
              "      <td>54</td>\n",
              "      <td>54</td>\n",
              "      <td>154</td>\n",
              "    </tr>\n",
              "    <tr>\n",
              "      <th>5</th>\n",
              "      <td>June</td>\n",
              "      <td>112</td>\n",
              "      <td>109</td>\n",
              "      <td>79</td>\n",
              "      <td>129</td>\n",
              "    </tr>\n",
              "  </tbody>\n",
              "</table>\n",
              "</div>"
            ],
            "text/plain": [
              "      month  clinic_east  clinic_north  clinic_south  clinic_west\n",
              "0   January          100           100            23          100\n",
              "1  February           51            45           145           45\n",
              "2     March           81            96            65           96\n",
              "3     April           80            80            54          180\n",
              "4       May           51            54            54          154\n",
              "5      June          112           109            79          129"
            ]
          },
          "metadata": {
            "tags": []
          },
          "execution_count": 31
        }
      ]
    },
    {
      "cell_type": "markdown",
      "metadata": {
        "id": "fJ04T3O2ocf9",
        "colab_type": "text"
      },
      "source": [
        "## Select Rows\n",
        "\n",
        "Let’s revisit our orders from ShoeFly.com:\n",
        "```\n",
        "id \tfirst_name \tlast_name \temail \tshoe_type \tshoe_material \tshoe_color\n",
        "54791 \tRebecca \tLindsay \tRebeccaLindsay57@hotmail.com \tclogs \tfaux-leather \tblack\n",
        "53450 \tEmily \tJames \tEmilyJames25@gmail.com \tballet flats \tfaux-leather \tnavy\n",
        "91987 \tJoyce \tWaller \tJoyce.Waller@gmail.com \tsandals \tfabric \tblack\n",
        "14437 \tJustin \tErickson \tJustin.Erickson@outlook.com \tclogs \tfaux-leather \tred\n",
        "…\n",
        "```\n",
        "\n",
        "Maybe our Customer Service department has just received a message from Joyce Waller, so we want to know exactly what she ordered. We want to select this single row of data.\n",
        "\n",
        "DataFrames are zero-indexed, meaning that we start with the 0th row and count up from there. Joyce Waller’s order is the 2nd row.\n",
        "\n",
        "We select it using the following command:\n",
        "\n",
        "`orders.iloc[2]`\n",
        "\n"
      ]
    },
    {
      "cell_type": "code",
      "metadata": {
        "id": "E-CKedUAomjY",
        "colab_type": "code",
        "colab": {
          "base_uri": "https://localhost:8080/",
          "height": 121
        },
        "outputId": "c028224f-edf5-43d9-c4d4-6c4c1a0bc553"
      },
      "source": [
        "import pandas as pd\n",
        "\n",
        "df = pd.DataFrame([\n",
        "  ['January', 100, 100, 23, 100],\n",
        "  ['February', 51, 45, 145, 45],\n",
        "  ['March', 81, 96, 65, 96],\n",
        "  ['April', 80, 80, 54, 180],\n",
        "  ['May', 51, 54, 54, 154],\n",
        "  ['June', 112, 109, 79, 129]],\n",
        "  columns=['month', 'clinic_east',\n",
        "           'clinic_north', 'clinic_south',\n",
        "           'clinic_west'])\n",
        "\n",
        "march = df.iloc[2]\n",
        "print(march)"
      ],
      "execution_count": 38,
      "outputs": [
        {
          "output_type": "stream",
          "text": [
            "month           March\n",
            "clinic_east        81\n",
            "clinic_north       96\n",
            "clinic_south       65\n",
            "clinic_west        96\n",
            "Name: 2, dtype: object\n"
          ],
          "name": "stdout"
        }
      ]
    },
    {
      "cell_type": "markdown",
      "metadata": {
        "id": "euVo9DCepKS0",
        "colab_type": "text"
      },
      "source": [
        "## Selecting Multiple Rows\n",
        "\n",
        "You can also select multiple rows from a DataFrame.\n",
        "\n",
        "Here are a few more rows from ShoeFly.com’s orders DataFrame:\n",
        "```\n",
        "id \tfirst_name \tlast_name \temail \tshoe_type \tshoe_material \tshoe_color\n",
        "54791 \tRebecca \tLindsay \tRebeccaLindsay57@hotmail.com \tclogs \tfaux-leather \tblack\n",
        "53450 \tEmily \tJoyce \tEmilyJoyce25@gmail.com \tballet flats \tfaux-leather \tnavy\n",
        "91987 \tJoyce \tWaller \tJoyce.Waller@gmail.com \tsandals \tfabric \tblack\n",
        "14437 \tJustin \tErickson \tJustin.Erickson@outlook.com \tclogs \tfaux-leather \tred\n",
        "79357 \tAndrew \tBanks \tAB4318@gmail.com \tboots \tleather \tbrown\n",
        "52386 \tJulie \tMarsh \tJulieMarsh59@gmail.com \tsandals \tfabric \tblack\n",
        "20487 \tThomas \tJensen \tTJ5470@gmail.com \tclogs \tfabric \tnavy\n",
        "76971 \tJanice \tHicks \tJanice.Hicks@gmail.com \tclogs \tfaux-leather \tnavy\n",
        "21586 \tGabriel \tPorter \tGabrielPorter24@gmail.com \tclogs \tleather \tbrown\n",
        "```\n",
        "Here are some different ways of selecting multiple rows:\n",
        "\n",
        "`orders.iloc[3:7]` \n",
        "would select all rows starting at the 3rd row and up to but not including the 7th row (i.e., the 3rd row, 4th row, 5th row, and 6th row)\n",
        "\n",
        "```\n",
        "id \tfirst_name \tlast_name \temail \tshoe_type \tshoe_material \tshoe_color\n",
        "14437 \tJustin \tErickson \tJustin.Erickson@outlook.com \tclogs \tfaux-leather \tred\n",
        "79357 \tAndrew \tBanks \tAB4318@gmail.com \tboots \tleather \tbrown\n",
        "52386 \tJulie \tMarsh \tJulieMarsh59@gmail.com \tsandals \tfabric \tblack\n",
        "20487 \tThomas \tJensen \tTJ5470@gmail.com \tclogs \tfabric \tnavy\n",
        "```\n",
        "\n",
        "`orders.iloc[:4]` would select all rows up to, but not including the 4th row (i.e., the 0th, 1st, 2nd, and 3rd rows)\n",
        "\n",
        "```\n",
        "id \tfirst_name \tlast_name \temail \tshoe_type \tshoe_material \tshoe_color\n",
        "54791 \tRebecca \tLindsay \tRebeccaLindsay57@hotmail.com \tclogs \tfaux-leather \tblack\n",
        "53450 \tEmily \tJoyce \tEmilyJoyce25@gmail.com \tballet flats \tfaux-leather \tnavy\n",
        "91987 \tJoyce \tWaller \tJoyce.Waller@gmail.com \tsandals \tfabric \tblack\n",
        "14437 \tJustin \tErickson \tJustin.Erickson@outlook.com \tclogs \tfaux-leather \tred\n",
        "```\n",
        "\n",
        "`orders.iloc[-3:]` would select the rows starting at the 3rd to last row and up to and including the final row\n",
        "\n",
        "\n"
      ]
    },
    {
      "cell_type": "code",
      "metadata": {
        "id": "QzMPRbiEpab9",
        "colab_type": "code",
        "colab": {
          "base_uri": "https://localhost:8080/",
          "height": 86
        },
        "outputId": "1d209437-f480-488c-8ad1-6149d6cc0287"
      },
      "source": [
        "import pandas as pd\n",
        "\n",
        "df = pd.DataFrame([\n",
        "  ['January', 100, 100, 23, 100],\n",
        "  ['February', 51, 45, 145, 45],\n",
        "  ['March', 81, 96, 65, 96],\n",
        "  ['April', 80, 80, 54, 180],\n",
        "  ['May', 51, 54, 54, 154],\n",
        "  ['June', 112, 109, 79, 129]],\n",
        "  columns=['month', 'clinic_east',\n",
        "           'clinic_north', 'clinic_south',\n",
        "           'clinic_west']\n",
        ")\n",
        "\n",
        "april_may_june = df.iloc[3:6]\n",
        "\n",
        "print(april_may_june)"
      ],
      "execution_count": 34,
      "outputs": [
        {
          "output_type": "stream",
          "text": [
            "   month  clinic_east  clinic_north  clinic_south  clinic_west\n",
            "3  April           80            80            54          180\n",
            "4    May           51            54            54          154\n",
            "5   June          112           109            79          129\n"
          ],
          "name": "stdout"
        }
      ]
    },
    {
      "cell_type": "markdown",
      "metadata": {
        "id": "6affVu_OpjYw",
        "colab_type": "text"
      },
      "source": [
        "## Select Rows with Logic I\n",
        "\n",
        "You can select a subset of a DataFrame by using logical statements:\n",
        "\n",
        "`df[df.MyColumnName == desired_column_value]`\n",
        "\n",
        "We have a large DataFrame with information about our customers. A few of the many rows look like this:\n",
        "```\n",
        "name \taddress \tphone \tage\n",
        "Martha Jones \t123 Main St. \t234-567-8910 \t28\n",
        "Rose Tyler \t456 Maple Ave. \t212-867-5309 \t22\n",
        "Donna Noble \t789 Broadway \t949-123-4567 \t35\n",
        "Amy Pond \t98 West End Ave. \t646-555-1234 \t29\n",
        "Clara Oswald \t54 Columbus Ave. \t714-225-1957 \t31\n",
        "… \t… \t… \t…\n",
        "```\n",
        "\n",
        "Suppose we want to select all rows where the customer’s age is 30. We would use:\n",
        "\n",
        "`df[df.age == 30]`\n",
        "\n",
        "In Python, == is how we test if a value is exactly equal to another value.\n",
        "\n",
        "We can use other logical statements, such as:\n",
        "\n",
        "* Greater Than, > — Here, we select all rows where the customer’s age is greater than 30:\n",
        "\n",
        "`df[df.age > 30]`\n",
        "\n",
        "* Less Than, < — Here, we select all rows where the customer’s age is less than 30:\n",
        "\n",
        "`df[df.age < 30]`\n",
        "\n",
        "* Not Equal, != — This snippet selects all rows where the customer’s name is not Clara Oswald:\n",
        "\n",
        "`df[df.name != 'Clara Oswald']`\n",
        "\n"
      ]
    },
    {
      "cell_type": "code",
      "metadata": {
        "id": "bMvG_Xnuwo5M",
        "colab_type": "code",
        "colab": {
          "base_uri": "https://localhost:8080/",
          "height": 81
        },
        "outputId": "e2972f63-1404-4cdc-f6c2-1811ea264242"
      },
      "source": [
        "import pandas as pd\n",
        "\n",
        "df = pd.DataFrame([\n",
        "  ['January', 100, 100, 23, 100],\n",
        "  ['February', 51, 45, 145, 45],\n",
        "  ['March', 81, 96, 65, 96],\n",
        "  ['April', 80, 80, 54, 180],\n",
        "  ['May', 51, 54, 54, 154],\n",
        "  ['June', 112, 109, 79, 129]],\n",
        "  columns=['month', 'clinic_east',\n",
        "           'clinic_north', 'clinic_south',\n",
        "           'clinic_west'])\n",
        "\n",
        "# Create variable january using a logical statement that selects \n",
        "#the row of df where the 'month' column is 'January'.\n",
        "january = df[df.month == 'January']\n",
        "\n",
        "# inspect january\n",
        "january"
      ],
      "execution_count": 36,
      "outputs": [
        {
          "output_type": "execute_result",
          "data": {
            "text/html": [
              "<div>\n",
              "<style scoped>\n",
              "    .dataframe tbody tr th:only-of-type {\n",
              "        vertical-align: middle;\n",
              "    }\n",
              "\n",
              "    .dataframe tbody tr th {\n",
              "        vertical-align: top;\n",
              "    }\n",
              "\n",
              "    .dataframe thead th {\n",
              "        text-align: right;\n",
              "    }\n",
              "</style>\n",
              "<table border=\"1\" class=\"dataframe\">\n",
              "  <thead>\n",
              "    <tr style=\"text-align: right;\">\n",
              "      <th></th>\n",
              "      <th>month</th>\n",
              "      <th>clinic_east</th>\n",
              "      <th>clinic_north</th>\n",
              "      <th>clinic_south</th>\n",
              "      <th>clinic_west</th>\n",
              "    </tr>\n",
              "  </thead>\n",
              "  <tbody>\n",
              "    <tr>\n",
              "      <th>0</th>\n",
              "      <td>January</td>\n",
              "      <td>100</td>\n",
              "      <td>100</td>\n",
              "      <td>23</td>\n",
              "      <td>100</td>\n",
              "    </tr>\n",
              "  </tbody>\n",
              "</table>\n",
              "</div>"
            ],
            "text/plain": [
              "     month  clinic_east  clinic_north  clinic_south  clinic_west\n",
              "0  January          100           100            23          100"
            ]
          },
          "metadata": {
            "tags": []
          },
          "execution_count": 36
        }
      ]
    },
    {
      "cell_type": "markdown",
      "metadata": {
        "id": "hT_-sFUOxFMa",
        "colab_type": "text"
      },
      "source": [
        "## Select Rows with Logic II\n",
        "\n",
        "You can also combine multiple logical statements, as long as each statement is in parentheses.\n",
        "\n",
        "For instance, suppose we wanted to select all rows where the customer’s age was under 30 or the \n",
        "customer’s name was “Martha Jones”:\n",
        "```\n",
        "name \taddress \tphone \tage\n",
        "Martha Jones \t123 Main St. \t234-567-8910 \t28\n",
        "Rose Tyler \t456 Maple Ave. \t212-867-5309 \t22\n",
        "Donna Noble \t789 Broadway \t949-123-4567 \t35\n",
        "Amy Pond \t98 West End Ave. \t646-555-1234 \t29\n",
        "Clara Oswald \t54 Columbus Ave. \t714-225-1957 \t31\n",
        "… \t\t\t\n",
        "```\n",
        "\n",
        "We could use the following code:\n",
        "\n",
        "```\n",
        "df[(df.age < 30) |\n",
        "   (df.name == 'Martha Jones')]\n",
        "```\n",
        "\n",
        "\n",
        "** In Python, | means “or” and & means “and”.**\n",
        "\n"
      ]
    },
    {
      "cell_type": "code",
      "metadata": {
        "id": "HgU9-OqJyIas",
        "colab_type": "code",
        "colab": {
          "base_uri": "https://localhost:8080/",
          "height": 112
        },
        "outputId": "4bfef04e-5559-4cff-f1ff-ba20c3ea2f60"
      },
      "source": [
        "import pandas as pd\n",
        "\n",
        "df = pd.DataFrame([\n",
        "  ['January', 100, 100, 23, 100],\n",
        "  ['February', 51, 45, 145, 45],\n",
        "  ['March', 81, 96, 65, 96],\n",
        "  ['April', 80, 80, 54, 180],\n",
        "  ['May', 51, 54, 54, 154],\n",
        "  ['June', 112, 109, 79, 129]],\n",
        "  columns=['month', 'clinic_east',\n",
        "           'clinic_north', 'clinic_south',\n",
        "           'clinic_west'])\n",
        "\n",
        "# month \"March\" | (or) month \"April\"\n",
        "march_april = df[(df.month == \"March\") | (df.month == \"April\" )]\n",
        "\n",
        "march_april"
      ],
      "execution_count": 42,
      "outputs": [
        {
          "output_type": "execute_result",
          "data": {
            "text/html": [
              "<div>\n",
              "<style scoped>\n",
              "    .dataframe tbody tr th:only-of-type {\n",
              "        vertical-align: middle;\n",
              "    }\n",
              "\n",
              "    .dataframe tbody tr th {\n",
              "        vertical-align: top;\n",
              "    }\n",
              "\n",
              "    .dataframe thead th {\n",
              "        text-align: right;\n",
              "    }\n",
              "</style>\n",
              "<table border=\"1\" class=\"dataframe\">\n",
              "  <thead>\n",
              "    <tr style=\"text-align: right;\">\n",
              "      <th></th>\n",
              "      <th>month</th>\n",
              "      <th>clinic_east</th>\n",
              "      <th>clinic_north</th>\n",
              "      <th>clinic_south</th>\n",
              "      <th>clinic_west</th>\n",
              "    </tr>\n",
              "  </thead>\n",
              "  <tbody>\n",
              "    <tr>\n",
              "      <th>2</th>\n",
              "      <td>March</td>\n",
              "      <td>81</td>\n",
              "      <td>96</td>\n",
              "      <td>65</td>\n",
              "      <td>96</td>\n",
              "    </tr>\n",
              "    <tr>\n",
              "      <th>3</th>\n",
              "      <td>April</td>\n",
              "      <td>80</td>\n",
              "      <td>80</td>\n",
              "      <td>54</td>\n",
              "      <td>180</td>\n",
              "    </tr>\n",
              "  </tbody>\n",
              "</table>\n",
              "</div>"
            ],
            "text/plain": [
              "   month  clinic_east  clinic_north  clinic_south  clinic_west\n",
              "2  March           81            96            65           96\n",
              "3  April           80            80            54          180"
            ]
          },
          "metadata": {
            "tags": []
          },
          "execution_count": 42
        }
      ]
    },
    {
      "cell_type": "markdown",
      "metadata": {
        "id": "igpIOej6ySg4",
        "colab_type": "text"
      },
      "source": [
        "## Select Rows with Logic III\n",
        "\n",
        "Suppose we want to select the rows where the customer’s name is either “Martha Jones”, “Rose Tyler” or “Amy Pond”.\n",
        "```\n",
        "name \taddress \tphone \tage\n",
        "Martha Jones \t123 Main St. \t234-567-8910 \t28\n",
        "Rose Tyler \t456 Maple Ave. \t212-867-5309 \t22\n",
        "Donna Noble \t789 Broadway \t949-123-4567 \t35\n",
        "Amy Pond \t98 West End Ave. \t646-555-1234 \t29\n",
        "Clara Oswald \t54 Columbus Ave. \t714-225-1957 \t31\n",
        "… \t… \t… \t…\n",
        "```\n",
        "\n",
        "We could use the isin command to check that df.name is one of a list of values:\n",
        "\n",
        "```\n",
        "df[df.name.isin(['Martha Jones',\n",
        "     'Rose Tyler',\n",
        "     'Amy Pond'])]\n",
        "```\n",
        "\n"
      ]
    },
    {
      "cell_type": "code",
      "metadata": {
        "id": "qQZdFnoizHgL",
        "colab_type": "code",
        "colab": {
          "base_uri": "https://localhost:8080/",
          "height": 143
        },
        "outputId": "f78f46fd-71d7-4a83-a759-e66178339e02"
      },
      "source": [
        "import pandas as pd\n",
        "\n",
        "df = pd.DataFrame([\n",
        "  ['January', 100, 100, 23, 100],\n",
        "  ['February', 51, 45, 145, 45],\n",
        "  ['March', 81, 96, 65, 96],\n",
        "  ['April', 80, 80, 54, 180],\n",
        "  ['May', 51, 54, 54, 154],\n",
        "  ['June', 112, 109, 79, 129]],\n",
        "  columns=['month', 'clinic_east',\n",
        "           'clinic_north', 'clinic_south',\n",
        "           'clinic_west'])\n",
        "\n",
        "# to choose all we use \n",
        "# df[df.nameOfColumn.isin([\"name1\", \"name2\"])]\n",
        "\n",
        "january_february_march = df[df.month.isin([\"January\", \"February\", \"March\"])]\n",
        "\n",
        "january_february_march"
      ],
      "execution_count": 46,
      "outputs": [
        {
          "output_type": "execute_result",
          "data": {
            "text/html": [
              "<div>\n",
              "<style scoped>\n",
              "    .dataframe tbody tr th:only-of-type {\n",
              "        vertical-align: middle;\n",
              "    }\n",
              "\n",
              "    .dataframe tbody tr th {\n",
              "        vertical-align: top;\n",
              "    }\n",
              "\n",
              "    .dataframe thead th {\n",
              "        text-align: right;\n",
              "    }\n",
              "</style>\n",
              "<table border=\"1\" class=\"dataframe\">\n",
              "  <thead>\n",
              "    <tr style=\"text-align: right;\">\n",
              "      <th></th>\n",
              "      <th>month</th>\n",
              "      <th>clinic_east</th>\n",
              "      <th>clinic_north</th>\n",
              "      <th>clinic_south</th>\n",
              "      <th>clinic_west</th>\n",
              "    </tr>\n",
              "  </thead>\n",
              "  <tbody>\n",
              "    <tr>\n",
              "      <th>0</th>\n",
              "      <td>January</td>\n",
              "      <td>100</td>\n",
              "      <td>100</td>\n",
              "      <td>23</td>\n",
              "      <td>100</td>\n",
              "    </tr>\n",
              "    <tr>\n",
              "      <th>1</th>\n",
              "      <td>February</td>\n",
              "      <td>51</td>\n",
              "      <td>45</td>\n",
              "      <td>145</td>\n",
              "      <td>45</td>\n",
              "    </tr>\n",
              "    <tr>\n",
              "      <th>2</th>\n",
              "      <td>March</td>\n",
              "      <td>81</td>\n",
              "      <td>96</td>\n",
              "      <td>65</td>\n",
              "      <td>96</td>\n",
              "    </tr>\n",
              "  </tbody>\n",
              "</table>\n",
              "</div>"
            ],
            "text/plain": [
              "      month  clinic_east  clinic_north  clinic_south  clinic_west\n",
              "0   January          100           100            23          100\n",
              "1  February           51            45           145           45\n",
              "2     March           81            96            65           96"
            ]
          },
          "metadata": {
            "tags": []
          },
          "execution_count": 46
        }
      ]
    },
    {
      "cell_type": "markdown",
      "metadata": {
        "id": "L8Bnttb2zu1M",
        "colab_type": "text"
      },
      "source": [
        "## Setting indices\n",
        "\n",
        "When we select a subset of a DataFrame using logic, we end up with non-consecutive indices. This is inelegant and makes it hard to use `.iloc()`.\n",
        "\n",
        "We can fix this using the method `.reset_index()`. For example, here is a DataFrame called `df` with non-consecutive indices:\n",
        "```\n",
        "\tFirst Name \tLast Name\n",
        "0 \tJohn \tSmith\n",
        "4 \tJane \tDoe\n",
        "7 \tJoe \tSchmo\n",
        "```\n",
        "\n",
        "If we use the command `df.reset_index()`, we get a new DataFrame with a new set of indices:\n",
        "```\n",
        "\tindex \tFirst Name \tLast Name\n",
        "0 \t0 \tJohn \tSmith\n",
        "1 \t4 \tJane \tDoe\n",
        "2 \t7 \tJoe \tSchmo\n",
        "```\n",
        "\n",
        "Note that the old indices have been moved into a new column called `'index'`. Unless you need those values for something special, it’s probably better to use the keyword `drop=True` so that you don’t end up with that extra column. If we run the command `df.reset_index(drop=True)`, we get a new DataFrame that looks like this:\n",
        "```\n",
        "\tFirst Name \tLast Name\n",
        "0 \tJohn \tSmith\n",
        "1 \tJane \tDoe\n",
        "2 \tJoe \tSchmo\n",
        "```\n",
        "\n",
        "Using `.reset_index()` will return a new DataFrame, but we usually just want to modify our existing DataFrame. If we use the keyword inplace=True we can just modify our existing DataFrame.\n"
      ]
    },
    {
      "cell_type": "code",
      "metadata": {
        "id": "8B4xmuBG09U6",
        "colab_type": "code",
        "colab": {
          "base_uri": "https://localhost:8080/",
          "height": 143
        },
        "outputId": "b036631c-dd1b-4470-9187-ccfcb41718f0"
      },
      "source": [
        "import pandas as pd\n",
        "\n",
        "df = pd.DataFrame([\n",
        "  ['January', 100, 100, 23, 100],\n",
        "  ['February', 51, 45, 145, 45],\n",
        "  ['March', 81, 96, 65, 96],\n",
        "  ['April', 80, 80, 54, 180],\n",
        "  ['May', 51, 54, 54, 154],\n",
        "  ['June', 112, 109, 79, 129]],\n",
        "  columns=['month', 'clinic_east',\n",
        "           'clinic_north', 'clinic_south',\n",
        "           'clinic_west']\n",
        ")\n",
        "\n",
        "\n",
        "# choosing indexes to show 0= Jan, 1= Feb .... \n",
        "df2 = df.loc[[1, 3, 5]]\n",
        "df2\n"
      ],
      "execution_count": 48,
      "outputs": [
        {
          "output_type": "execute_result",
          "data": {
            "text/html": [
              "<div>\n",
              "<style scoped>\n",
              "    .dataframe tbody tr th:only-of-type {\n",
              "        vertical-align: middle;\n",
              "    }\n",
              "\n",
              "    .dataframe tbody tr th {\n",
              "        vertical-align: top;\n",
              "    }\n",
              "\n",
              "    .dataframe thead th {\n",
              "        text-align: right;\n",
              "    }\n",
              "</style>\n",
              "<table border=\"1\" class=\"dataframe\">\n",
              "  <thead>\n",
              "    <tr style=\"text-align: right;\">\n",
              "      <th></th>\n",
              "      <th>month</th>\n",
              "      <th>clinic_east</th>\n",
              "      <th>clinic_north</th>\n",
              "      <th>clinic_south</th>\n",
              "      <th>clinic_west</th>\n",
              "    </tr>\n",
              "  </thead>\n",
              "  <tbody>\n",
              "    <tr>\n",
              "      <th>1</th>\n",
              "      <td>February</td>\n",
              "      <td>51</td>\n",
              "      <td>45</td>\n",
              "      <td>145</td>\n",
              "      <td>45</td>\n",
              "    </tr>\n",
              "    <tr>\n",
              "      <th>3</th>\n",
              "      <td>April</td>\n",
              "      <td>80</td>\n",
              "      <td>80</td>\n",
              "      <td>54</td>\n",
              "      <td>180</td>\n",
              "    </tr>\n",
              "    <tr>\n",
              "      <th>5</th>\n",
              "      <td>June</td>\n",
              "      <td>112</td>\n",
              "      <td>109</td>\n",
              "      <td>79</td>\n",
              "      <td>129</td>\n",
              "    </tr>\n",
              "  </tbody>\n",
              "</table>\n",
              "</div>"
            ],
            "text/plain": [
              "      month  clinic_east  clinic_north  clinic_south  clinic_west\n",
              "1  February           51            45           145           45\n",
              "3     April           80            80            54          180\n",
              "5      June          112           109            79          129"
            ]
          },
          "metadata": {
            "tags": []
          },
          "execution_count": 48
        }
      ]
    },
    {
      "cell_type": "code",
      "metadata": {
        "id": "jF_M21J11Cz1",
        "colab_type": "code",
        "colab": {
          "base_uri": "https://localhost:8080/",
          "height": 143
        },
        "outputId": "daf53f4b-5fa6-4425-8da6-30bdb5292d99"
      },
      "source": [
        "\n",
        "## resseting indexes in the previous DataFrame so indexes start from 0,1,2,3, ... \n",
        "df3 = df2.reset_index()\n",
        "df3"
      ],
      "execution_count": 49,
      "outputs": [
        {
          "output_type": "execute_result",
          "data": {
            "text/html": [
              "<div>\n",
              "<style scoped>\n",
              "    .dataframe tbody tr th:only-of-type {\n",
              "        vertical-align: middle;\n",
              "    }\n",
              "\n",
              "    .dataframe tbody tr th {\n",
              "        vertical-align: top;\n",
              "    }\n",
              "\n",
              "    .dataframe thead th {\n",
              "        text-align: right;\n",
              "    }\n",
              "</style>\n",
              "<table border=\"1\" class=\"dataframe\">\n",
              "  <thead>\n",
              "    <tr style=\"text-align: right;\">\n",
              "      <th></th>\n",
              "      <th>index</th>\n",
              "      <th>month</th>\n",
              "      <th>clinic_east</th>\n",
              "      <th>clinic_north</th>\n",
              "      <th>clinic_south</th>\n",
              "      <th>clinic_west</th>\n",
              "    </tr>\n",
              "  </thead>\n",
              "  <tbody>\n",
              "    <tr>\n",
              "      <th>0</th>\n",
              "      <td>1</td>\n",
              "      <td>February</td>\n",
              "      <td>51</td>\n",
              "      <td>45</td>\n",
              "      <td>145</td>\n",
              "      <td>45</td>\n",
              "    </tr>\n",
              "    <tr>\n",
              "      <th>1</th>\n",
              "      <td>3</td>\n",
              "      <td>April</td>\n",
              "      <td>80</td>\n",
              "      <td>80</td>\n",
              "      <td>54</td>\n",
              "      <td>180</td>\n",
              "    </tr>\n",
              "    <tr>\n",
              "      <th>2</th>\n",
              "      <td>5</td>\n",
              "      <td>June</td>\n",
              "      <td>112</td>\n",
              "      <td>109</td>\n",
              "      <td>79</td>\n",
              "      <td>129</td>\n",
              "    </tr>\n",
              "  </tbody>\n",
              "</table>\n",
              "</div>"
            ],
            "text/plain": [
              "   index     month  clinic_east  clinic_north  clinic_south  clinic_west\n",
              "0      1  February           51            45           145           45\n",
              "1      3     April           80            80            54          180\n",
              "2      5      June          112           109            79          129"
            ]
          },
          "metadata": {
            "tags": []
          },
          "execution_count": 49
        }
      ]
    },
    {
      "cell_type": "code",
      "metadata": {
        "id": "PYjM7gIb1FWX",
        "colab_type": "code",
        "colab": {
          "base_uri": "https://localhost:8080/",
          "height": 143
        },
        "outputId": "897b9bde-e3b8-4582-8fc9-f994618b8ee2"
      },
      "source": [
        "# get rid of index column \n",
        "df2.reset_index(inplace = True, drop = True)\n",
        "df2"
      ],
      "execution_count": 51,
      "outputs": [
        {
          "output_type": "execute_result",
          "data": {
            "text/html": [
              "<div>\n",
              "<style scoped>\n",
              "    .dataframe tbody tr th:only-of-type {\n",
              "        vertical-align: middle;\n",
              "    }\n",
              "\n",
              "    .dataframe tbody tr th {\n",
              "        vertical-align: top;\n",
              "    }\n",
              "\n",
              "    .dataframe thead th {\n",
              "        text-align: right;\n",
              "    }\n",
              "</style>\n",
              "<table border=\"1\" class=\"dataframe\">\n",
              "  <thead>\n",
              "    <tr style=\"text-align: right;\">\n",
              "      <th></th>\n",
              "      <th>month</th>\n",
              "      <th>clinic_east</th>\n",
              "      <th>clinic_north</th>\n",
              "      <th>clinic_south</th>\n",
              "      <th>clinic_west</th>\n",
              "    </tr>\n",
              "  </thead>\n",
              "  <tbody>\n",
              "    <tr>\n",
              "      <th>0</th>\n",
              "      <td>February</td>\n",
              "      <td>51</td>\n",
              "      <td>45</td>\n",
              "      <td>145</td>\n",
              "      <td>45</td>\n",
              "    </tr>\n",
              "    <tr>\n",
              "      <th>1</th>\n",
              "      <td>April</td>\n",
              "      <td>80</td>\n",
              "      <td>80</td>\n",
              "      <td>54</td>\n",
              "      <td>180</td>\n",
              "    </tr>\n",
              "    <tr>\n",
              "      <th>2</th>\n",
              "      <td>June</td>\n",
              "      <td>112</td>\n",
              "      <td>109</td>\n",
              "      <td>79</td>\n",
              "      <td>129</td>\n",
              "    </tr>\n",
              "  </tbody>\n",
              "</table>\n",
              "</div>"
            ],
            "text/plain": [
              "      month  clinic_east  clinic_north  clinic_south  clinic_west\n",
              "0  February           51            45           145           45\n",
              "1     April           80            80            54          180\n",
              "2      June          112           109            79          129"
            ]
          },
          "metadata": {
            "tags": []
          },
          "execution_count": 51
        }
      ]
    },
    {
      "cell_type": "markdown",
      "metadata": {
        "id": "RlwMV1GV1nqY",
        "colab_type": "text"
      },
      "source": [
        "## Review\n",
        "\n",
        "You’ve completed the lesson! You’ve just learned the basics of working with a single table in Pandas, including:\n",
        "\n",
        "* Create a table from scratch\n",
        "* Loading data from another file\n",
        "* Selecting certain rows or columns of a table\n",
        "\n",
        "Let’s practice what you’ve learned.\n"
      ]
    },
    {
      "cell_type": "code",
      "metadata": {
        "id": "qjLSfuP65owc",
        "colab_type": "code",
        "colab": {
          "base_uri": "https://localhost:8080/",
          "height": 206
        },
        "outputId": "0e277482-cf7f-41c8-92cc-119951909550"
      },
      "source": [
        "\n",
        "import pandas as pd\n",
        "\n",
        "#Part 1: reading the csv\n",
        "orders = pd.read_csv('shoefly.csv')\n",
        "\n",
        "#Part 2: inspecting the first five lines of data\n",
        "orders.head(5)\n"
      ],
      "execution_count": 57,
      "outputs": [
        {
          "output_type": "execute_result",
          "data": {
            "text/html": [
              "<div>\n",
              "<style scoped>\n",
              "    .dataframe tbody tr th:only-of-type {\n",
              "        vertical-align: middle;\n",
              "    }\n",
              "\n",
              "    .dataframe tbody tr th {\n",
              "        vertical-align: top;\n",
              "    }\n",
              "\n",
              "    .dataframe thead th {\n",
              "        text-align: right;\n",
              "    }\n",
              "</style>\n",
              "<table border=\"1\" class=\"dataframe\">\n",
              "  <thead>\n",
              "    <tr style=\"text-align: right;\">\n",
              "      <th></th>\n",
              "      <th>id</th>\n",
              "      <th>first_name</th>\n",
              "      <th>last_name</th>\n",
              "      <th>email</th>\n",
              "      <th>shoe_type</th>\n",
              "      <th>shoe_material</th>\n",
              "      <th>shoe_color</th>\n",
              "    </tr>\n",
              "  </thead>\n",
              "  <tbody>\n",
              "    <tr>\n",
              "      <th>0</th>\n",
              "      <td>54791</td>\n",
              "      <td>Rebecca</td>\n",
              "      <td>Lindsay</td>\n",
              "      <td>RebeccaLindsay57@hotmail.com</td>\n",
              "      <td>clogs</td>\n",
              "      <td>faux-leather</td>\n",
              "      <td>black</td>\n",
              "    </tr>\n",
              "    <tr>\n",
              "      <th>1</th>\n",
              "      <td>53450</td>\n",
              "      <td>Emily</td>\n",
              "      <td>Joyce</td>\n",
              "      <td>EmilyJoyce25@gmail.com</td>\n",
              "      <td>ballet flats</td>\n",
              "      <td>faux-leather</td>\n",
              "      <td>navy</td>\n",
              "    </tr>\n",
              "    <tr>\n",
              "      <th>2</th>\n",
              "      <td>91987</td>\n",
              "      <td>Joyce</td>\n",
              "      <td>Waller</td>\n",
              "      <td>Joyce.Waller@gmail.com</td>\n",
              "      <td>sandals</td>\n",
              "      <td>fabric</td>\n",
              "      <td>black</td>\n",
              "    </tr>\n",
              "    <tr>\n",
              "      <th>3</th>\n",
              "      <td>14437</td>\n",
              "      <td>Justin</td>\n",
              "      <td>Erickson</td>\n",
              "      <td>Justin.Erickson@outlook.com</td>\n",
              "      <td>clogs</td>\n",
              "      <td>faux-leather</td>\n",
              "      <td>red</td>\n",
              "    </tr>\n",
              "    <tr>\n",
              "      <th>4</th>\n",
              "      <td>79357</td>\n",
              "      <td>Andrew</td>\n",
              "      <td>Banks</td>\n",
              "      <td>AB4318@gmail.com</td>\n",
              "      <td>boots</td>\n",
              "      <td>leather</td>\n",
              "      <td>brown</td>\n",
              "    </tr>\n",
              "  </tbody>\n",
              "</table>\n",
              "</div>"
            ],
            "text/plain": [
              "      id first_name last_name  ...     shoe_type shoe_material shoe_color\n",
              "0  54791    Rebecca   Lindsay  ...         clogs  faux-leather      black\n",
              "1  53450      Emily     Joyce  ...  ballet flats  faux-leather       navy\n",
              "2  91987      Joyce    Waller  ...       sandals        fabric      black\n",
              "3  14437     Justin  Erickson  ...         clogs  faux-leather        red\n",
              "4  79357     Andrew     Banks  ...         boots       leather      brown\n",
              "\n",
              "[5 rows x 7 columns]"
            ]
          },
          "metadata": {
            "tags": []
          },
          "execution_count": 57
        }
      ]
    },
    {
      "cell_type": "code",
      "metadata": {
        "id": "B1hqXMAT5wEi",
        "colab_type": "code",
        "colab": {
          "base_uri": "https://localhost:8080/",
          "height": 382
        },
        "outputId": "4abd484d-48d2-48ea-e7af-39fc101c6730"
      },
      "source": [
        "\n",
        "#Part 3: selecting the column 'email'\n",
        "emails = orders.email; \n",
        "print(emails)\n"
      ],
      "execution_count": 59,
      "outputs": [
        {
          "output_type": "stream",
          "text": [
            "0     RebeccaLindsay57@hotmail.com\n",
            "1           EmilyJoyce25@gmail.com\n",
            "2           Joyce.Waller@gmail.com\n",
            "3      Justin.Erickson@outlook.com\n",
            "4                 AB4318@gmail.com\n",
            "5           JulieMarsh59@gmail.com\n",
            "6                 TJ5470@gmail.com\n",
            "7           Janice.Hicks@gmail.com\n",
            "8        GabrielPorter24@gmail.com\n",
            "9        FrancesPalmer50@gmail.com\n",
            "10         JessicaHale25@gmail.com\n",
            "11      LawrenceParker44@gmail.com\n",
            "12         SusanDennis58@gmail.com\n",
            "13                DO2680@gmail.com\n",
            "14       Rebecca.Charles@gmail.com\n",
            "15              JC2072@hotmail.com\n",
            "16              VS4753@outlook.com\n",
            "17          RoyTillman20@gmail.com\n",
            "18       Thomas.Roberson@gmail.com\n",
            "19         ANewton1977@outlook.com\n",
            "Name: email, dtype: object\n"
          ],
          "name": "stdout"
        }
      ]
    },
    {
      "cell_type": "code",
      "metadata": {
        "id": "MU7qgh7c568r",
        "colab_type": "code",
        "colab": {
          "base_uri": "https://localhost:8080/",
          "height": 81
        },
        "outputId": "01f151a2-9650-4aa3-ed31-5c753b256c9e"
      },
      "source": [
        "\n",
        "# Frances Palmer claims that her order was wrong. What did Frances Palmer order?\n",
        "# Use logic to select that row of orders and save it to the variable frances_palmer.\n",
        "\n",
        "frances_palmer = orders[(orders.first_name == 'Frances') & (orders.last_name == 'Palmer')]\n",
        "frances_palmer\n",
        "\n"
      ],
      "execution_count": 61,
      "outputs": [
        {
          "output_type": "execute_result",
          "data": {
            "text/html": [
              "<div>\n",
              "<style scoped>\n",
              "    .dataframe tbody tr th:only-of-type {\n",
              "        vertical-align: middle;\n",
              "    }\n",
              "\n",
              "    .dataframe tbody tr th {\n",
              "        vertical-align: top;\n",
              "    }\n",
              "\n",
              "    .dataframe thead th {\n",
              "        text-align: right;\n",
              "    }\n",
              "</style>\n",
              "<table border=\"1\" class=\"dataframe\">\n",
              "  <thead>\n",
              "    <tr style=\"text-align: right;\">\n",
              "      <th></th>\n",
              "      <th>id</th>\n",
              "      <th>first_name</th>\n",
              "      <th>last_name</th>\n",
              "      <th>email</th>\n",
              "      <th>shoe_type</th>\n",
              "      <th>shoe_material</th>\n",
              "      <th>shoe_color</th>\n",
              "    </tr>\n",
              "  </thead>\n",
              "  <tbody>\n",
              "    <tr>\n",
              "      <th>9</th>\n",
              "      <td>62083</td>\n",
              "      <td>Frances</td>\n",
              "      <td>Palmer</td>\n",
              "      <td>FrancesPalmer50@gmail.com</td>\n",
              "      <td>wedges</td>\n",
              "      <td>leather</td>\n",
              "      <td>white</td>\n",
              "    </tr>\n",
              "  </tbody>\n",
              "</table>\n",
              "</div>"
            ],
            "text/plain": [
              "      id first_name last_name  ... shoe_type shoe_material shoe_color\n",
              "9  62083    Frances    Palmer  ...    wedges       leather      white\n",
              "\n",
              "[1 rows x 7 columns]"
            ]
          },
          "metadata": {
            "tags": []
          },
          "execution_count": 61
        }
      ]
    },
    {
      "cell_type": "code",
      "metadata": {
        "id": "DKT0xDV4598-",
        "colab_type": "code",
        "colab": {
          "base_uri": "https://localhost:8080/",
          "height": 426
        },
        "outputId": "eb0c939f-51a0-4133-8627-13c9d9c52a22"
      },
      "source": [
        "#Part 5: Comfy feet means more time on the street\n",
        "comfy_shoes = orders[orders.shoe_type.isin(['clogs', 'boots', 'ballet flats'])]\n",
        "\n",
        "comfy_shoes"
      ],
      "execution_count": 62,
      "outputs": [
        {
          "output_type": "execute_result",
          "data": {
            "text/html": [
              "<div>\n",
              "<style scoped>\n",
              "    .dataframe tbody tr th:only-of-type {\n",
              "        vertical-align: middle;\n",
              "    }\n",
              "\n",
              "    .dataframe tbody tr th {\n",
              "        vertical-align: top;\n",
              "    }\n",
              "\n",
              "    .dataframe thead th {\n",
              "        text-align: right;\n",
              "    }\n",
              "</style>\n",
              "<table border=\"1\" class=\"dataframe\">\n",
              "  <thead>\n",
              "    <tr style=\"text-align: right;\">\n",
              "      <th></th>\n",
              "      <th>id</th>\n",
              "      <th>first_name</th>\n",
              "      <th>last_name</th>\n",
              "      <th>email</th>\n",
              "      <th>shoe_type</th>\n",
              "      <th>shoe_material</th>\n",
              "      <th>shoe_color</th>\n",
              "    </tr>\n",
              "  </thead>\n",
              "  <tbody>\n",
              "    <tr>\n",
              "      <th>0</th>\n",
              "      <td>54791</td>\n",
              "      <td>Rebecca</td>\n",
              "      <td>Lindsay</td>\n",
              "      <td>RebeccaLindsay57@hotmail.com</td>\n",
              "      <td>clogs</td>\n",
              "      <td>faux-leather</td>\n",
              "      <td>black</td>\n",
              "    </tr>\n",
              "    <tr>\n",
              "      <th>1</th>\n",
              "      <td>53450</td>\n",
              "      <td>Emily</td>\n",
              "      <td>Joyce</td>\n",
              "      <td>EmilyJoyce25@gmail.com</td>\n",
              "      <td>ballet flats</td>\n",
              "      <td>faux-leather</td>\n",
              "      <td>navy</td>\n",
              "    </tr>\n",
              "    <tr>\n",
              "      <th>3</th>\n",
              "      <td>14437</td>\n",
              "      <td>Justin</td>\n",
              "      <td>Erickson</td>\n",
              "      <td>Justin.Erickson@outlook.com</td>\n",
              "      <td>clogs</td>\n",
              "      <td>faux-leather</td>\n",
              "      <td>red</td>\n",
              "    </tr>\n",
              "    <tr>\n",
              "      <th>4</th>\n",
              "      <td>79357</td>\n",
              "      <td>Andrew</td>\n",
              "      <td>Banks</td>\n",
              "      <td>AB4318@gmail.com</td>\n",
              "      <td>boots</td>\n",
              "      <td>leather</td>\n",
              "      <td>brown</td>\n",
              "    </tr>\n",
              "    <tr>\n",
              "      <th>6</th>\n",
              "      <td>20487</td>\n",
              "      <td>Thomas</td>\n",
              "      <td>Jensen</td>\n",
              "      <td>TJ5470@gmail.com</td>\n",
              "      <td>clogs</td>\n",
              "      <td>fabric</td>\n",
              "      <td>navy</td>\n",
              "    </tr>\n",
              "    <tr>\n",
              "      <th>7</th>\n",
              "      <td>76971</td>\n",
              "      <td>Janice</td>\n",
              "      <td>Hicks</td>\n",
              "      <td>Janice.Hicks@gmail.com</td>\n",
              "      <td>clogs</td>\n",
              "      <td>faux-leather</td>\n",
              "      <td>navy</td>\n",
              "    </tr>\n",
              "    <tr>\n",
              "      <th>8</th>\n",
              "      <td>21586</td>\n",
              "      <td>Gabriel</td>\n",
              "      <td>Porter</td>\n",
              "      <td>GabrielPorter24@gmail.com</td>\n",
              "      <td>clogs</td>\n",
              "      <td>leather</td>\n",
              "      <td>brown</td>\n",
              "    </tr>\n",
              "    <tr>\n",
              "      <th>10</th>\n",
              "      <td>91629</td>\n",
              "      <td>Jessica</td>\n",
              "      <td>Hale</td>\n",
              "      <td>JessicaHale25@gmail.com</td>\n",
              "      <td>clogs</td>\n",
              "      <td>leather</td>\n",
              "      <td>red</td>\n",
              "    </tr>\n",
              "    <tr>\n",
              "      <th>12</th>\n",
              "      <td>45832</td>\n",
              "      <td>Susan</td>\n",
              "      <td>Dennis</td>\n",
              "      <td>SusanDennis58@gmail.com</td>\n",
              "      <td>ballet flats</td>\n",
              "      <td>fabric</td>\n",
              "      <td>white</td>\n",
              "    </tr>\n",
              "    <tr>\n",
              "      <th>14</th>\n",
              "      <td>73431</td>\n",
              "      <td>Rebecca</td>\n",
              "      <td>Charles</td>\n",
              "      <td>Rebecca.Charles@gmail.com</td>\n",
              "      <td>boots</td>\n",
              "      <td>faux-leather</td>\n",
              "      <td>white</td>\n",
              "    </tr>\n",
              "    <tr>\n",
              "      <th>16</th>\n",
              "      <td>39888</td>\n",
              "      <td>Vincent</td>\n",
              "      <td>Stephenson</td>\n",
              "      <td>VS4753@outlook.com</td>\n",
              "      <td>boots</td>\n",
              "      <td>leather</td>\n",
              "      <td>black</td>\n",
              "    </tr>\n",
              "    <tr>\n",
              "      <th>17</th>\n",
              "      <td>35961</td>\n",
              "      <td>Roy</td>\n",
              "      <td>Tillman</td>\n",
              "      <td>RoyTillman20@gmail.com</td>\n",
              "      <td>boots</td>\n",
              "      <td>leather</td>\n",
              "      <td>white</td>\n",
              "    </tr>\n",
              "  </tbody>\n",
              "</table>\n",
              "</div>"
            ],
            "text/plain": [
              "       id first_name   last_name  ...     shoe_type shoe_material shoe_color\n",
              "0   54791    Rebecca     Lindsay  ...         clogs  faux-leather      black\n",
              "1   53450      Emily       Joyce  ...  ballet flats  faux-leather       navy\n",
              "3   14437     Justin    Erickson  ...         clogs  faux-leather        red\n",
              "4   79357     Andrew       Banks  ...         boots       leather      brown\n",
              "6   20487     Thomas      Jensen  ...         clogs        fabric       navy\n",
              "7   76971     Janice       Hicks  ...         clogs  faux-leather       navy\n",
              "8   21586    Gabriel      Porter  ...         clogs       leather      brown\n",
              "10  91629    Jessica        Hale  ...         clogs       leather        red\n",
              "12  45832      Susan      Dennis  ...  ballet flats        fabric      white\n",
              "14  73431    Rebecca     Charles  ...         boots  faux-leather      white\n",
              "16  39888    Vincent  Stephenson  ...         boots       leather      black\n",
              "17  35961        Roy     Tillman  ...         boots       leather      white\n",
              "\n",
              "[12 rows x 7 columns]"
            ]
          },
          "metadata": {
            "tags": []
          },
          "execution_count": 62
        }
      ]
    }
  ]
}