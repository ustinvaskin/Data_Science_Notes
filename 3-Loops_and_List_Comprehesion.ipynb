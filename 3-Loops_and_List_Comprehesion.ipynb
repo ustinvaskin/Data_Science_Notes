{
  "nbformat": 4,
  "nbformat_minor": 0,
  "metadata": {
    "colab": {
      "name": "Loops and List Comprehesion",
      "provenance": [],
      "collapsed_sections": [],
      "toc_visible": true
    },
    "kernelspec": {
      "name": "python3",
      "display_name": "Python 3"
    }
  },
  "cells": [
    {
      "cell_type": "markdown",
      "metadata": {
        "id": "7w7Osg8Olmqi",
        "colab_type": "text"
      },
      "source": [
        "# Loops \n",
        "\n",
        "[CheetCheet](https://www.codecademy.com/learn/paths/data-science/tracks/dspath-python-lists-and-loops/modules/dspath-loops/cheatsheet)"
      ]
    },
    {
      "cell_type": "markdown",
      "metadata": {
        "id": "w_3ZrmtvlpJJ",
        "colab_type": "text"
      },
      "source": [
        "## Introduction \n",
        "\n",
        "Suppose we want to `print()` each item from a list of `dog_breeds`. We would need to use the following code snippet:"
      ]
    },
    {
      "cell_type": "code",
      "metadata": {
        "id": "4ANrKPh-lvGR",
        "colab_type": "code",
        "outputId": "b434838d-c53f-4ab6-c05c-3ff2cdb31528",
        "colab": {
          "base_uri": "https://localhost:8080/",
          "height": 104
        }
      },
      "source": [
        "dog_breeds = ['french_bulldog', 'dalmatian', 'shihtzu', 'poodle', 'collie']\n",
        "\n",
        "print(dog_breeds[0])\n",
        "print(dog_breeds[1])\n",
        "print(dog_breeds[2])\n",
        "print(dog_breeds[3])\n",
        "print(dog_breeds[4])"
      ],
      "execution_count": 0,
      "outputs": [
        {
          "output_type": "stream",
          "text": [
            "french_bulldog\n",
            "dalmatian\n",
            "shihtzu\n",
            "poodle\n",
            "collie\n"
          ],
          "name": "stdout"
        }
      ]
    },
    {
      "cell_type": "markdown",
      "metadata": {
        "id": "uhglct_1l0za",
        "colab_type": "text"
      },
      "source": [
        "This seems inefficient. Luckily, Python (and most other programming languages) gives us an easier way of using, or iterating through, every item in a list. We can use loops! A loop is a way of repeating a set of code many times.\n",
        "\n",
        "In this lesson, we’ll be learning about:\n",
        "\n",
        "    Loops that let us move through each item in a list, called for loops\n",
        "    Loops that keep going until we tell them to stop, called while loops\n",
        "    Loops that create new lists, called list comprehensions\n"
      ]
    },
    {
      "cell_type": "code",
      "metadata": {
        "id": "auB_cR1tmFAi",
        "colab_type": "code",
        "outputId": "924daffd-c91d-431a-c7e3-912b2d3b4a87",
        "colab": {
          "base_uri": "https://localhost:8080/",
          "height": 104
        }
      },
      "source": [
        "dog_breeds = ['french_bulldog', 'dalmatian', 'shihtzu', 'poodle', 'collie']\n",
        "\n",
        "for breed in dog_breeds:\n",
        "    print(breed)"
      ],
      "execution_count": 0,
      "outputs": [
        {
          "output_type": "stream",
          "text": [
            "french_bulldog\n",
            "dalmatian\n",
            "shihtzu\n",
            "poodle\n",
            "collie\n"
          ],
          "name": "stdout"
        }
      ]
    },
    {
      "cell_type": "markdown",
      "metadata": {
        "id": "uVTdmZiAmLfx",
        "colab_type": "text"
      },
      "source": [
        "## Create a For Loop\n",
        "\n",
        "In the previous exercise, we saw that we can print each item in a list using a for loop. A for loop lets us perform an action on each item in a list. Using each element of a list is known as **iterating**.\n",
        "\n",
        "This loop `prints` each breed in `dog_breeds`:"
      ]
    },
    {
      "cell_type": "code",
      "metadata": {
        "id": "5GvY0ZEomTy2",
        "colab_type": "code",
        "outputId": "b4b29839-93fa-4149-b8e5-edcc857ee279",
        "colab": {
          "base_uri": "https://localhost:8080/",
          "height": 104
        }
      },
      "source": [
        "dog_breeds = ['french_bulldog', 'dalmation', 'shihtzu', 'poodle', 'collie']\n",
        "for breed in dog_breeds:\n",
        "    print(breed)"
      ],
      "execution_count": 0,
      "outputs": [
        {
          "output_type": "stream",
          "text": [
            "french_bulldog\n",
            "dalmation\n",
            "shihtzu\n",
            "poodle\n",
            "collie\n"
          ],
          "name": "stdout"
        }
      ]
    },
    {
      "cell_type": "markdown",
      "metadata": {
        "id": "Cz6sYRJTmXvd",
        "colab_type": "text"
      },
      "source": [
        "The general way of writing a for loop is:"
      ]
    },
    {
      "cell_type": "code",
      "metadata": {
        "id": "1RNg9CrBmYH2",
        "colab_type": "code",
        "colab": {}
      },
      "source": [
        "for <temporary variable> in <list variable>:\n",
        "    <action>"
      ],
      "execution_count": 0,
      "outputs": []
    },
    {
      "cell_type": "markdown",
      "metadata": {
        "id": "CqWHSUDPmdqt",
        "colab_type": "text"
      },
      "source": [
        "In our dog breeds example, `breed `was the **temporary variable**, `dog_breeds` was the **list variable**, and `print(breed)` was the **action** performed on every item in the list.\n",
        "\n",
        "Our temporary variable can be named whatever we want and does not need to be defined beforehand. Each of the following code snippets does the exact same thing as our example:"
      ]
    },
    {
      "cell_type": "code",
      "metadata": {
        "id": "97txlVmEmo9c",
        "colab_type": "code",
        "outputId": "506fe6be-3310-44ea-b182-42dd3fb3f01e",
        "colab": {
          "base_uri": "https://localhost:8080/",
          "height": 104
        }
      },
      "source": [
        "for i in dog_breeds:\n",
        "    print(i)\n"
      ],
      "execution_count": 0,
      "outputs": [
        {
          "output_type": "stream",
          "text": [
            "french_bulldog\n",
            "dalmation\n",
            "shihtzu\n",
            "poodle\n",
            "collie\n"
          ],
          "name": "stdout"
        }
      ]
    },
    {
      "cell_type": "code",
      "metadata": {
        "id": "rD8-r5Ohmu6x",
        "colab_type": "code",
        "outputId": "1193112d-c11b-4bdf-a5f7-0763d7c9b8cb",
        "colab": {
          "base_uri": "https://localhost:8080/",
          "height": 104
        }
      },
      "source": [
        "for dog in dog_breeds:\n",
        "    print(dog)"
      ],
      "execution_count": 0,
      "outputs": [
        {
          "output_type": "stream",
          "text": [
            "french_bulldog\n",
            "dalmation\n",
            "shihtzu\n",
            "poodle\n",
            "collie\n"
          ],
          "name": "stdout"
        }
      ]
    },
    {
      "cell_type": "markdown",
      "metadata": {
        "id": "SyUkv_slmyLm",
        "colab_type": "text"
      },
      "source": [
        "Notice that in all of these examples the print statement is **indented**. Everything in the same level of indentation after the for loop declaration is included in the for loop, and run every iteration.\n",
        "\n",
        "If we forget to indent, we’ll get an `IndentationError`."
      ]
    },
    {
      "cell_type": "code",
      "metadata": {
        "id": "difM5L6FnCqc",
        "colab_type": "code",
        "outputId": "2c16dae5-ba8d-4005-ecbd-c3b642af742a",
        "colab": {
          "base_uri": "https://localhost:8080/",
          "height": 191
        }
      },
      "source": [
        "board_games = ['Settlers of Catan', 'Carcassone', 'Power Grid', 'Agricola', \n",
        "               'Scrabble']\n",
        "\n",
        "sport_games = ['football', 'football - American', 'hockey', 'baseball', \n",
        "               'cricket']\n",
        "\n",
        "for game in board_games:\n",
        "  print(game)\n",
        "\n",
        "for sport in sport_games:\n",
        "  print(sport)"
      ],
      "execution_count": 0,
      "outputs": [
        {
          "output_type": "stream",
          "text": [
            "Settlers of Catan\n",
            "Carcassone\n",
            "Power Grid\n",
            "Agricola\n",
            "Scrabble\n",
            "football\n",
            "football - American\n",
            "hockey\n",
            "baseball\n",
            "cricket\n"
          ],
          "name": "stdout"
        }
      ]
    },
    {
      "cell_type": "markdown",
      "metadata": {
        "id": "uyfVo2vInJmi",
        "colab_type": "text"
      },
      "source": [
        "## Using Range in Loops\n",
        "Previously, we iterated through an existing list.\n",
        "\n",
        "Often we won’t be iterating through a specific list, we’ll just want to do a certain action multiple times. For example, if we wanted to print out a `\"WARNING!\"` message three times, we would want to say something like:"
      ]
    },
    {
      "cell_type": "code",
      "metadata": {
        "id": "4bLGmHMJnR9I",
        "colab_type": "code",
        "colab": {}
      },
      "source": [
        "for i in <a list of length 3>:\n",
        "  print(\"WARNING!\")"
      ],
      "execution_count": 0,
      "outputs": []
    },
    {
      "cell_type": "markdown",
      "metadata": {
        "id": "GCIvKa0InUhR",
        "colab_type": "text"
      },
      "source": [
        "Notice that we need to iterate through a list of length 3, but we don’t care what’s in the list. To create these lists of length `n`, we can use the `range` function. `range` takes in a number `n` as input, and returns a list from 0 to `n-1`. For example:"
      ]
    },
    {
      "cell_type": "code",
      "metadata": {
        "id": "TRhcTRglneOs",
        "colab_type": "code",
        "colab": {}
      },
      "source": [
        "zero_thru_five = range(6)\n",
        "# zero_thru_five is now [0, 1, 2, 3, 4, 5]\n",
        "zero_thru_one = range(2)\n",
        "# zero_thru_one is now [0, 1]"
      ],
      "execution_count": 0,
      "outputs": []
    },
    {
      "cell_type": "markdown",
      "metadata": {
        "id": "Bbk8iKDpnimx",
        "colab_type": "text"
      },
      "source": [
        "So, an easy way to accomplish our \"WARNING!\" example would be:"
      ]
    },
    {
      "cell_type": "code",
      "metadata": {
        "id": "Wwnp1DbsnjSz",
        "colab_type": "code",
        "outputId": "aee347c5-e4c8-4402-8cd9-47e6c7f8ab0d",
        "colab": {
          "base_uri": "https://localhost:8080/",
          "height": 69
        }
      },
      "source": [
        "for i in range(3):\n",
        "  print(\"WARNING!\")"
      ],
      "execution_count": 0,
      "outputs": [
        {
          "output_type": "stream",
          "text": [
            "WARNING!\n",
            "WARNING!\n",
            "WARNING!\n"
          ],
          "name": "stdout"
        }
      ]
    },
    {
      "cell_type": "code",
      "metadata": {
        "id": "Gk65XTntnsUv",
        "colab_type": "code",
        "outputId": "cadd9d2e-da87-4201-b78e-2df89cf536d0",
        "colab": {
          "base_uri": "https://localhost:8080/",
          "height": 104
        }
      },
      "source": [
        "promise = \"I will not chew gum in class\"\n",
        "for i in range(5):\n",
        "  print(promise)"
      ],
      "execution_count": 0,
      "outputs": [
        {
          "output_type": "stream",
          "text": [
            "I will not chew gum in class\n",
            "I will not chew gum in class\n",
            "I will not chew gum in class\n",
            "I will not chew gum in class\n",
            "I will not chew gum in class\n"
          ],
          "name": "stdout"
        }
      ]
    },
    {
      "cell_type": "markdown",
      "metadata": {
        "id": "e9Rg7OoenvEo",
        "colab_type": "text"
      },
      "source": [
        "## Infinite Loops\n",
        "We’ve iterated through lists that have a discrete beginning and end. However, let’s consider this example:"
      ]
    },
    {
      "cell_type": "code",
      "metadata": {
        "id": "iCCcwYKAnyWw",
        "colab_type": "code",
        "colab": {}
      },
      "source": [
        "my_favorite_numbers = [4, 8, 15, 16, 42]\n",
        "\n",
        "for number in my_favorite_numbers:\n",
        "  my_favorite_numbers.append(1)"
      ],
      "execution_count": 0,
      "outputs": []
    },
    {
      "cell_type": "markdown",
      "metadata": {
        "id": "8sgFW4LEn2tF",
        "colab_type": "text"
      },
      "source": [
        "What happens here? Every time we enter the loop, we add a `1` to the end of the list that we are iterating through. As a result, we never make it to the end of the list! It keeps growing!\n",
        "\n",
        "\n",
        "A loop that never terminates is called an infinite loop. These are very dangerous for your code!\n",
        "\n",
        "A program that hits an infinite loop often becomes completely unusable. The best course of action is to never write an infinite loop. But if you accidentally stumble into one, you can end the loop by using `control + c` to terminate the program.\n",
        "\n",
        "Note: The `control + c` solution will work when your code is stuck in an infinite loop on your own machine. If you’re writing code in our online editor, you’ll need to refresh the page to get out of an infinite loop!"
      ]
    },
    {
      "cell_type": "markdown",
      "metadata": {
        "id": "fdoA-O6Oo6Bt",
        "colab_type": "text"
      },
      "source": [
        "Suppose we have two lists of students, students_period_A and students_period_B. We want to combine all students into students_period_B.\n",
        "\n",
        "Write a for loop that goes through each student in students_period_A and adds it to the end of students_period_B.\n"
      ]
    },
    {
      "cell_type": "code",
      "metadata": {
        "id": "UkRt916IozJj",
        "colab_type": "code",
        "outputId": "ede90af4-5527-48c9-d60c-97ced59a715c",
        "colab": {
          "base_uri": "https://localhost:8080/",
          "height": 34
        }
      },
      "source": [
        "students_period_A = [\"Alex\", \"Briana\", \"Cheri\", \"Daniele\"]\n",
        "students_period_B = [\"Dora\", \"Minerva\", \"Alexa\", \"Obie\"]\n",
        "\n",
        "for student in students_period_A:\n",
        "  #students_period_A.append(student)\n",
        "  students_period_B.append(student)\n",
        "  \n",
        "  \n",
        "print(students_period_B)\n",
        "\n",
        "# ['Dora', 'Minerva', 'Alexa', 'Obie', 'Alex', 'Briana', 'Cheri', 'Daniele']\n"
      ],
      "execution_count": 0,
      "outputs": [
        {
          "output_type": "stream",
          "text": [
            "['Dora', 'Minerva', 'Alexa', 'Obie', 'Alex', 'Briana', 'Cheri', 'Daniele']\n"
          ],
          "name": "stdout"
        }
      ]
    },
    {
      "cell_type": "markdown",
      "metadata": {
        "id": "tzzRaDyNxd4s",
        "colab_type": "text"
      },
      "source": [
        "## Break\n",
        "\n",
        "We often want to use a `for` `in` loop to search through a list for some value:\n",
        "\n"
      ]
    },
    {
      "cell_type": "code",
      "metadata": {
        "id": "Yawf4W1rxhb0",
        "colab_type": "code",
        "outputId": "3db01144-3b56-409b-8988-4837dca9e43e",
        "colab": {
          "base_uri": "https://localhost:8080/",
          "height": 34
        }
      },
      "source": [
        "items_on_sale = [\"blue_shirt\", \"striped_socks\", \"knit_dress\", \n",
        "                 \"red_headband\", \"dinosaur_onesie\"]\n",
        "\n",
        "# we want to check if the item with ID \"knit_dress\" is on sale:\n",
        "for item in items_on_sale:\n",
        "  if item == \"knit_dress\":\n",
        "    print(\"Knit Dress is on sale!\")"
      ],
      "execution_count": 0,
      "outputs": [
        {
          "output_type": "stream",
          "text": [
            "Knit Dress is on sale!\n"
          ],
          "name": "stdout"
        }
      ]
    },
    {
      "cell_type": "markdown",
      "metadata": {
        "id": "Fv-r5EDLxrEs",
        "colab_type": "text"
      },
      "source": [
        "This code goes through each `item` in `items_on_sale` and checks for a match. After we find that `\"knit_dress\"` is in the list `items_on_sale`, we don’t need to go through the rest of the items_on_sale list. Since it’s only 5 elements long, iterating through the entire list is not a big deal in this case. \n",
        "\n",
        "But what if `items_on_sale` had 1000 items after \"knit_dress\"? What if it had 100,000 items after \"knit_dress\"? "
      ]
    },
    {
      "cell_type": "markdown",
      "metadata": {
        "id": "oU0FHSvFx4zC",
        "colab_type": "text"
      },
      "source": [
        "You can stop a `for` loop from inside the loop by using `break`. When the program hits a break statement, control returns to the code outside of the for loop. For example:"
      ]
    },
    {
      "cell_type": "code",
      "metadata": {
        "id": "BT2Uk1Kfx90z",
        "colab_type": "code",
        "outputId": "49896112-cd9c-4f6c-a06b-6f7cdf199dbd",
        "colab": {
          "base_uri": "https://localhost:8080/",
          "height": 104
        }
      },
      "source": [
        "items_on_sale = [\"blue_shirt\", \"striped_socks\", \n",
        "                 \"knit_dress\", \"red_headband\", \"dinosaur_onesie\"]\n",
        "\n",
        "print(\"Checking the sale list!\")\n",
        "for item in items_on_sale:\n",
        "  print(item)\n",
        "  if item == \"knit_dress\":\n",
        "    break\n",
        "print(\"End of search!\")"
      ],
      "execution_count": 0,
      "outputs": [
        {
          "output_type": "stream",
          "text": [
            "Checking the sale list!\n",
            "blue_shirt\n",
            "striped_socks\n",
            "knit_dress\n",
            "End of search!\n"
          ],
          "name": "stdout"
        }
      ]
    },
    {
      "cell_type": "markdown",
      "metadata": {
        "id": "46FCqUr6ySTR",
        "colab_type": "text"
      },
      "source": [
        "We didn’t need to check `\"red_headband\"` or `\"dinosaur_onesie\"` at all!"
      ]
    },
    {
      "cell_type": "code",
      "metadata": {
        "id": "s4FnjQOszsGg",
        "colab_type": "code",
        "outputId": "7cd7a97f-d662-4d76-d740-0c1d5cdd2ffc",
        "colab": {
          "base_uri": "https://localhost:8080/",
          "height": 69
        }
      },
      "source": [
        "dog_breeds_available_for_adoption = ['french_bulldog', \n",
        "                                     'dalmatian', 'shihtzu', \n",
        "                                     'poodle', 'collie']\n",
        "dog_breed_I_want = 'dalmatian'\n",
        "\n",
        "\n",
        "for item in dog_breeds_available_for_adoption:\n",
        "  print(item)\n",
        "  if item == 'dalmatian':\n",
        "    print(\"They have the dog I want!\")\n",
        "    break;"
      ],
      "execution_count": 0,
      "outputs": [
        {
          "output_type": "stream",
          "text": [
            "french_bulldog\n",
            "dalmatian\n",
            "They have the dog I want!\n"
          ],
          "name": "stdout"
        }
      ]
    },
    {
      "cell_type": "markdown",
      "metadata": {
        "id": "w45hlXxDz0NQ",
        "colab_type": "text"
      },
      "source": [
        "## Continue\n",
        "When we’re iterating through lists, we may want to skip some values. Let’s say we want to print out all of the numbers in a list, unless they’re negative. We can use `continue` to move to the next `i` in the list:\n",
        "\n"
      ]
    },
    {
      "cell_type": "code",
      "metadata": {
        "id": "MqBeBU44z5GX",
        "colab_type": "code",
        "outputId": "1d09a64e-bc06-4d8e-af33-3cd46dbd8033",
        "colab": {
          "base_uri": "https://localhost:8080/",
          "height": 104
        }
      },
      "source": [
        "big_number_list = [1, 2, -1, 4, -5, 5, 2, -9]\n",
        "\n",
        "for i in big_number_list:\n",
        "  if i < 0:\n",
        "    continue\n",
        "  print(i)"
      ],
      "execution_count": 0,
      "outputs": [
        {
          "output_type": "stream",
          "text": [
            "1\n",
            "2\n",
            "4\n",
            "5\n",
            "2\n"
          ],
          "name": "stdout"
        }
      ]
    },
    {
      "cell_type": "markdown",
      "metadata": {
        "id": "mU7_dnGv0EHJ",
        "colab_type": "text"
      },
      "source": [
        "Every time there was a negative number, the `continue` keyword moved the index to the next value in the list, without executing the code in the rest of the for loop. "
      ]
    },
    {
      "cell_type": "code",
      "metadata": {
        "id": "igjdx5wh0Ts6",
        "colab_type": "code",
        "outputId": "7505e674-502d-4ed1-dee6-d9f304e81a4e",
        "colab": {
          "base_uri": "https://localhost:8080/"
        }
      },
      "source": [
        "ages = [12, 38, 34, 26, 21, 19, 67, 41, 17]\n",
        "for age in ages:\n",
        "  if age < 21: \n",
        "    continue\n",
        "  print(age)"
      ],
      "execution_count": 0,
      "outputs": [
        {
          "output_type": "stream",
          "text": [
            "38\n",
            "34\n",
            "26\n",
            "21\n",
            "67\n",
            "41\n"
          ],
          "name": "stdout"
        }
      ]
    },
    {
      "cell_type": "markdown",
      "metadata": {
        "id": "cq3kj9jGBmB8",
        "colab_type": "text"
      },
      "source": [
        "## While Loops\n",
        "\n",
        "We now have seen and used a lot of examples of for loops. There is another type of loop we can also use, called a **while loop**. The while loop performs a set of code until some condition is reached.\n",
        "\n",
        "While loops can be used to iterate through lists, just like for loops: "
      ]
    },
    {
      "cell_type": "code",
      "metadata": {
        "id": "0wHDo-fZBsMJ",
        "colab_type": "code",
        "colab": {
          "base_uri": "https://localhost:8080/",
          "height": 104
        },
        "outputId": "4b8cc381-4559-4114-dd9c-1f3e01c6bac7"
      },
      "source": [
        "dog_breeds = ['bulldog', 'dalmation', 'shihtzu', 'poodle', 'collie']\n",
        "\n",
        "index = 0\n",
        "while index < len(dog_breeds):\n",
        "  print(dog_breeds[index])\n",
        "  index += 1"
      ],
      "execution_count": 1,
      "outputs": [
        {
          "output_type": "stream",
          "text": [
            "bulldog\n",
            "dalmation\n",
            "shihtzu\n",
            "poodle\n",
            "collie\n"
          ],
          "name": "stdout"
        }
      ]
    },
    {
      "cell_type": "markdown",
      "metadata": {
        "id": "UyU5DHoiBu-k",
        "colab_type": "text"
      },
      "source": [
        "Every time the condition of the `while loop` (in this case, `index < len(dog_breeds)`) is **satisfied**, the code inside the while loop runs.\n",
        "\n",
        "While loops can be useful when you don’t know how many iterations it will take to satisfy a condition."
      ]
    },
    {
      "cell_type": "code",
      "metadata": {
        "id": "dE_BwuRBwJcm",
        "colab_type": "code",
        "colab": {
          "base_uri": "https://localhost:8080/",
          "height": 34
        },
        "outputId": "7728cb64-124b-4f72-a7d5-ddfad3f9cee7"
      },
      "source": [
        "all_students = [\"Alex\", \"Briana\", \"Cheri\", \"Daniele\", \"Dora\", \"Minerva\", \"Alexa\", \"Obie\", \"Arius\", \"Loki\"]\n",
        "students_in_poetry = []\n",
        "\n",
        "while len(students_in_poetry) < 6:\n",
        "  student = all_students.pop()\n",
        "  students_in_poetry.append(student)\n",
        "  \n",
        "print(students_in_poetry)"
      ],
      "execution_count": 1,
      "outputs": [
        {
          "output_type": "stream",
          "text": [
            "['Loki', 'Arius', 'Obie', 'Alexa', 'Minerva', 'Dora']\n"
          ],
          "name": "stdout"
        }
      ]
    },
    {
      "cell_type": "markdown",
      "metadata": {
        "id": "a_QPAghRwOyh",
        "colab_type": "text"
      },
      "source": [
        "## Nested Loops\n",
        "We have seen how we can go through the elements of a list. What if we have a **list made up of multiple lists**? How can we loop through all of the individual elements?\n",
        "\n",
        "Suppose we are in charge of a science class, that is split into three project teams:"
      ]
    },
    {
      "cell_type": "code",
      "metadata": {
        "id": "CAcmAQbEwVZp",
        "colab_type": "code",
        "colab": {}
      },
      "source": [
        "project_teams = [[\"Ava\", \"Samantha\", \"James\"], [\"Lucille\", \"Zed\"], [\"Edgar\", \"Gabriel\"]]"
      ],
      "execution_count": 0,
      "outputs": []
    },
    {
      "cell_type": "markdown",
      "metadata": {
        "id": "-suMyniUwc-i",
        "colab_type": "text"
      },
      "source": [
        "If we want to go through each student, we have to put one loop inside another:"
      ]
    },
    {
      "cell_type": "code",
      "metadata": {
        "id": "PzZdo5HIwdkl",
        "colab_type": "code",
        "colab": {
          "base_uri": "https://localhost:8080/",
          "height": 139
        },
        "outputId": "f1287449-f260-4afd-a839-5e74a396d642"
      },
      "source": [
        "for team in project_teams:\n",
        "  for student in team:\n",
        "    print(student)"
      ],
      "execution_count": 3,
      "outputs": [
        {
          "output_type": "stream",
          "text": [
            "Ava\n",
            "Samantha\n",
            "James\n",
            "Lucille\n",
            "Zed\n",
            "Edgar\n",
            "Gabriel\n"
          ],
          "name": "stdout"
        }
      ]
    },
    {
      "cell_type": "code",
      "metadata": {
        "id": "A-5BRPEEw-Uu",
        "colab_type": "code",
        "colab": {
          "base_uri": "https://localhost:8080/",
          "height": 173
        },
        "outputId": "8e6d9c2e-4672-4e16-dca2-f9f3ca72d06a"
      },
      "source": [
        "sales_data = [[12, 17, 22], [2, 10, 3], [5, 12, 13]]\n",
        "\n",
        "for data in sales_data:\n",
        "  for num in data:\n",
        "    print(num)"
      ],
      "execution_count": 4,
      "outputs": [
        {
          "output_type": "stream",
          "text": [
            "12\n",
            "17\n",
            "22\n",
            "2\n",
            "10\n",
            "3\n",
            "5\n",
            "12\n",
            "13\n"
          ],
          "name": "stdout"
        }
      ]
    },
    {
      "cell_type": "code",
      "metadata": {
        "id": "6wxVWGzqxL-w",
        "colab_type": "code",
        "colab": {
          "base_uri": "https://localhost:8080/",
          "height": 86
        },
        "outputId": "be12f3b5-1a9e-4e7a-ae67-a950bfbe143b"
      },
      "source": [
        "sales_data = [[12, 17, 22], [2, 10, 3], [5, 12, 13]]\n",
        "\n",
        "scoops_sold = 0\n",
        "\n",
        "for location in sales_data:\n",
        "  print(location)\n",
        "  for element in location:\n",
        "    scoops_sold += element\n",
        "    \n",
        "print(scoops_sold)"
      ],
      "execution_count": 5,
      "outputs": [
        {
          "output_type": "stream",
          "text": [
            "[12, 17, 22]\n",
            "[2, 10, 3]\n",
            "[5, 12, 13]\n",
            "96\n"
          ],
          "name": "stdout"
        }
      ]
    },
    {
      "cell_type": "markdown",
      "metadata": {
        "id": "Ftf3-Mc1xYdZ",
        "colab_type": "text"
      },
      "source": [
        "## List Comprehensions\n",
        "\n",
        "Let’s say we have scraped a certain website and gotten these words: "
      ]
    },
    {
      "cell_type": "code",
      "metadata": {
        "id": "wrpV7xl_xeIn",
        "colab_type": "code",
        "colab": {}
      },
      "source": [
        "words = [\"@coolguy35\", \"#nofilter\", \"@kewldawg54\", \"reply\", \"timestamp\", \"@matchamom\", \"follow\", \"#updog\"]"
      ],
      "execution_count": 0,
      "outputs": []
    },
    {
      "cell_type": "markdown",
      "metadata": {
        "id": "419f02EvxhRH",
        "colab_type": "text"
      },
      "source": [
        "We want to make a new list, called `usernames`, that has all of the strings in words with an `'@'` as the first character. We know we can do this with a for loop:"
      ]
    },
    {
      "cell_type": "code",
      "metadata": {
        "id": "Ndvk_xwaxlV6",
        "colab_type": "code",
        "colab": {
          "base_uri": "https://localhost:8080/",
          "height": 34
        },
        "outputId": "d08ea623-0141-4e29-f22a-7d910e0099a4"
      },
      "source": [
        "words = [\"@coolguy35\", \"#nofilter\", \"@kewldawg54\", \"reply\", \"timestamp\", \"@matchamom\", \"follow\", \"#updog\"]\n",
        "usernames = []\n",
        "\n",
        "for word in words:\n",
        "  if word[0] == '@':\n",
        "    usernames.append(word)"
      ],
      "execution_count": 8,
      "outputs": [
        {
          "output_type": "stream",
          "text": [
            "['@coolguy35', '@kewldawg54', '@matchamom']\n"
          ],
          "name": "stdout"
        }
      ]
    },
    {
      "cell_type": "markdown",
      "metadata": {
        "id": "O4rNYVUXxtAQ",
        "colab_type": "text"
      },
      "source": [
        "First, we created a new empty list, `usernames`, and as we looped through the words list, we added every **word that matched our criterion**. Now, the usernames list looks like this:"
      ]
    },
    {
      "cell_type": "code",
      "metadata": {
        "id": "FTye3PyBxzBv",
        "colab_type": "code",
        "colab": {
          "base_uri": "https://localhost:8080/",
          "height": 34
        },
        "outputId": "6082f413-45b2-4d58-a601-9a463224f161"
      },
      "source": [
        ">>> print(usernames)\n"
      ],
      "execution_count": 10,
      "outputs": [
        {
          "output_type": "stream",
          "text": [
            "['@coolguy35', '@kewldawg54', '@matchamom']\n"
          ],
          "name": "stdout"
        }
      ]
    },
    {
      "cell_type": "markdown",
      "metadata": {
        "id": "SZ3rrhVQx3o3",
        "colab_type": "text"
      },
      "source": [
        "Python has a convenient shorthand to create lists like this with one line:"
      ]
    },
    {
      "cell_type": "code",
      "metadata": {
        "id": "TQIW55eDx6mr",
        "colab_type": "code",
        "colab": {}
      },
      "source": [
        "username_comprehension = [word for word in words if word[0] == '@']"
      ],
      "execution_count": 0,
      "outputs": []
    },
    {
      "cell_type": "markdown",
      "metadata": {
        "id": "C_wdFg8hx-nf",
        "colab_type": "text"
      },
      "source": [
        "This is called a **list comprehension**. It will produce the same output as the for loop did:"
      ]
    },
    {
      "cell_type": "code",
      "metadata": {
        "id": "Kawgfcu4yB2_",
        "colab_type": "code",
        "colab": {
          "base_uri": "https://localhost:8080/",
          "height": 34
        },
        "outputId": "b6031df0-431a-4fd1-e0ca-bde1f56c7928"
      },
      "source": [
        "print(username_comprehension)"
      ],
      "execution_count": 21,
      "outputs": [
        {
          "output_type": "stream",
          "text": [
            "['@coolguy35', '@kewldawg54', '@matchamom']\n"
          ],
          "name": "stdout"
        }
      ]
    },
    {
      "cell_type": "markdown",
      "metadata": {
        "id": "sEkkh0hXyPex",
        "colab_type": "text"
      },
      "source": [
        "his list comprehension:\n",
        "\n",
        "    Takes an element in words\n",
        "    Assigns that element to a variable called word\n",
        "    Checks if word[0] == '@', and if so, it adds word to the new list, usernames. If not, nothing happens.\n",
        "    Repeats steps 1-3 for all of the strings in words\n",
        "\n",
        "Note: if we hadn’t done any checking (let’s say we had omitted if word[0] == '@'), the new list would be just a copy of words:"
      ]
    },
    {
      "cell_type": "code",
      "metadata": {
        "id": "K7zKChvIyV5P",
        "colab_type": "code",
        "colab": {
          "base_uri": "https://localhost:8080/",
          "height": 34
        },
        "outputId": "f931419d-0637-439f-9d2a-74274feda643"
      },
      "source": [
        "usernames = [word for word in words]\n",
        "#usernames is now [\"@coolguy35\", \"#nofilter\", \"@kewldawg54\", \"reply\", \"timestamp\", \"@matchamom\", \"follow\", \"#updog\"]\n",
        "print(usernames)"
      ],
      "execution_count": 17,
      "outputs": [
        {
          "output_type": "stream",
          "text": [
            "['@coolguy35', '#nofilter', '@kewldawg54', 'reply', 'timestamp', '@matchamom', 'follow', '#updog']\n"
          ],
          "name": "stdout"
        }
      ]
    },
    {
      "cell_type": "code",
      "metadata": {
        "id": "4M1xaQ6VyzCA",
        "colab_type": "code",
        "colab": {}
      },
      "source": [
        "heights = [161, 164, 156, 144, 158, 170, 163, 163, 157]\n",
        "# You can ride a road if you're aboiuvbe 161: \n",
        "\n",
        "can_ride_coaster = [height for height in heights if height > 161 ]\n",
        "print(can_ride_coaster)\n",
        "\n"
      ],
      "execution_count": 0,
      "outputs": []
    },
    {
      "cell_type": "markdown",
      "metadata": {
        "id": "V674qDkjy8de",
        "colab_type": "text"
      },
      "source": [
        "## More List Comprehensions\n",
        "Let’s say we’re working with the `usernames` list from the last exercise:\n",
        "\n"
      ]
    },
    {
      "cell_type": "markdown",
      "metadata": {
        "id": "2gP2IPmrV3Gf",
        "colab_type": "text"
      },
      "source": [
        "example: \n",
        "\n",
        "temperatures = [-15, 12, 45, 67 ,34]\n",
        "* We want to add 5 to each temperature \n",
        "\n",
        "    temperatures_adjusment = ? \n",
        "    List Comprehension: \n",
        "\n",
        "**[operation for item in listname]**\n",
        "\n",
        "temperatures_adjusment = [temp + 5 for temp in temperatures] \n"
      ]
    },
    {
      "cell_type": "code",
      "metadata": {
        "id": "LkDgfufSWcz-",
        "colab_type": "code",
        "colab": {
          "base_uri": "https://localhost:8080/",
          "height": 34
        },
        "outputId": "6ef1a886-ea19-4ec3-8c58-500d44e461ab"
      },
      "source": [
        "temperatures = [-15, 12, 45, 67 ,34]\n",
        "\n",
        "temperatures_adjusment = [temp + 5 for temp in temperatures] \n",
        "\n",
        "print(temperatures_adjusment)\n"
      ],
      "execution_count": 8,
      "outputs": [
        {
          "output_type": "stream",
          "text": [
            "[-10, 17, 50, 72, 39]\n"
          ],
          "name": "stdout"
        }
      ]
    },
    {
      "cell_type": "code",
      "metadata": {
        "id": "S8FLvhNhy_84",
        "colab_type": "code",
        "colab": {
          "base_uri": "https://localhost:8080/",
          "height": 34
        },
        "outputId": "a313a3c1-1c98-47bb-d486-93cd4c9fd161"
      },
      "source": [
        "print(username_comprehension)\n"
      ],
      "execution_count": 25,
      "outputs": [
        {
          "output_type": "stream",
          "text": [
            "['@coolguy35', '@kewldawg54', '@matchamom']\n"
          ],
          "name": "stdout"
        }
      ]
    },
    {
      "cell_type": "markdown",
      "metadata": {
        "id": "HjyvL5P0zcIf",
        "colab_type": "text"
      },
      "source": [
        "We want to create a new list with the string `\" please follow me!\"` added to the end of each username. We want to call this new list messages. We can use a list comprehension to make this list with one line:"
      ]
    },
    {
      "cell_type": "code",
      "metadata": {
        "id": "G-UydHRYzgG1",
        "colab_type": "code",
        "colab": {}
      },
      "source": [
        "messages = [user + \" please follow me!\" for user in usernames]\n"
      ],
      "execution_count": 0,
      "outputs": []
    },
    {
      "cell_type": "markdown",
      "metadata": {
        "id": "H8h9a899zmPm",
        "colab_type": "text"
      },
      "source": [
        "This list comprehension:\n",
        "\n",
        "    Takes a string in usernames\n",
        "    Assigns that string to a variable called user\n",
        "    Adds “ please follow me!” to user\n",
        "    Appends that concatenation to the new list called messages\n",
        "    Repeats steps 1-4 for all of the strings in usernames\n",
        "\n",
        "Now, messages contains these values:"
      ]
    },
    {
      "cell_type": "code",
      "metadata": {
        "id": "PNKjQvAZzo89",
        "colab_type": "code",
        "colab": {
          "base_uri": "https://localhost:8080/",
          "height": 54
        },
        "outputId": "23fb70ac-3ebe-4463-8776-f71b629f3288"
      },
      "source": [
        "print (messages)"
      ],
      "execution_count": 29,
      "outputs": [
        {
          "output_type": "stream",
          "text": [
            "['@coolguy35 please follow me!', '#nofilter please follow me!', '@kewldawg54 please follow me!', 'reply please follow me!', 'timestamp please follow me!', '@matchamom please follow me!', 'follow please follow me!', '#updog please follow me!']\n"
          ],
          "name": "stdout"
        }
      ]
    },
    {
      "cell_type": "markdown",
      "metadata": {
        "id": "oBIeiO9Izs0r",
        "colab_type": "text"
      },
      "source": [
        "Being able to create lists with modified values is especially useful when working with numbers. Let’s say we have this list:"
      ]
    },
    {
      "cell_type": "code",
      "metadata": {
        "id": "lcxYfZlezuDs",
        "colab_type": "code",
        "colab": {}
      },
      "source": [
        "my_upvotes = [192, 34, 22, 175, 75, 101, 97]"
      ],
      "execution_count": 0,
      "outputs": []
    },
    {
      "cell_type": "markdown",
      "metadata": {
        "id": "WJCtdeNAzvUj",
        "colab_type": "text"
      },
      "source": [
        "We want to add 100 to each value. We can accomplish this goal in one line:"
      ]
    },
    {
      "cell_type": "code",
      "metadata": {
        "id": "YVKDtGfgzvqw",
        "colab_type": "code",
        "colab": {}
      },
      "source": [
        "updated_upvotes = [vote_value + 100 for vote_value in my_upvotes]\n"
      ],
      "execution_count": 0,
      "outputs": []
    },
    {
      "cell_type": "markdown",
      "metadata": {
        "id": "WYKtvpyWz2z2",
        "colab_type": "text"
      },
      "source": [
        "This list comprehension:\n",
        "\n",
        "    Takes a number in my_upvotes\n",
        "    Assigns that number to a variable called vote_value\n",
        "    Adds 100 to vote_value\n",
        "    Appends that sum to the new list updated_upvotes\n",
        "    Repeats steps 1-4 for all of the numbers in my_upvotes\n",
        "\n",
        "Now, updated_upvotes contains these values:"
      ]
    },
    {
      "cell_type": "code",
      "metadata": {
        "id": "QE0THW9Ez4Fn",
        "colab_type": "code",
        "colab": {
          "base_uri": "https://localhost:8080/",
          "height": 34
        },
        "outputId": "de0dea2c-f260-477c-874a-1e05ade0fd4c"
      },
      "source": [
        "print(updated_upvotes)"
      ],
      "execution_count": 34,
      "outputs": [
        {
          "output_type": "stream",
          "text": [
            "[292, 134, 122, 275, 175, 201, 197]\n"
          ],
          "name": "stdout"
        }
      ]
    },
    {
      "cell_type": "code",
      "metadata": {
        "id": "uA0xpfrS1D1H",
        "colab_type": "code",
        "colab": {
          "base_uri": "https://localhost:8080/",
          "height": 34
        },
        "outputId": "2a16d74b-74ab-4ef8-d08d-f01e5d7a9055"
      },
      "source": [
        "celsius = [0, 10, 15, 32, -5, 27, 3]\n",
        "\n",
        "temperature_in_fahrenheit = [cel*9/5 + 32 for cel in celsius]\n",
        "\n",
        "print(temperature_in_fahrenheit)"
      ],
      "execution_count": 35,
      "outputs": [
        {
          "output_type": "stream",
          "text": [
            "[32.0, 50.0, 59.0, 89.6, 23.0, 80.6, 37.4]\n"
          ],
          "name": "stdout"
        }
      ]
    },
    {
      "cell_type": "markdown",
      "metadata": {
        "id": "yMBRiZ1N1GX8",
        "colab_type": "text"
      },
      "source": [
        "## Review\n",
        "\n",
        "Good job! In this lesson, you learned\n",
        "\n",
        "    how to write a for loop\n",
        "    how to use range in a loop\n",
        "    what infinite loops are and how to avoid them\n",
        "    how to skip values in a loop\n",
        "    how to write a while loop\n",
        "    how to make lists with one line\n",
        "\n",
        "Let’s get some more practice with these concepts!\n"
      ]
    },
    {
      "cell_type": "markdown",
      "metadata": {
        "id": "KAMBZX3z1Ucm",
        "colab_type": "text"
      },
      "source": [
        "Create a list called single_digits that consists of the numbers 0-9 (inclusive).\n"
      ]
    },
    {
      "cell_type": "code",
      "metadata": {
        "id": "_5147GVr1U26",
        "colab_type": "code",
        "colab": {}
      },
      "source": [
        "single_digits = range(10)"
      ],
      "execution_count": 0,
      "outputs": []
    },
    {
      "cell_type": "markdown",
      "metadata": {
        "id": "1nxb6yVy1j72",
        "colab_type": "text"
      },
      "source": [
        "Create a for loop that goes through single_digits and prints out each one.\n"
      ]
    },
    {
      "cell_type": "code",
      "metadata": {
        "id": "Wh4rT7_M1lDa",
        "colab_type": "code",
        "colab": {
          "base_uri": "https://localhost:8080/",
          "height": 191
        },
        "outputId": "b07cd0ea-95cd-4759-e388-298a505551d8"
      },
      "source": [
        "for i in single_digits: \n",
        "  print (i)"
      ],
      "execution_count": 37,
      "outputs": [
        {
          "output_type": "stream",
          "text": [
            "0\n",
            "1\n",
            "2\n",
            "3\n",
            "4\n",
            "5\n",
            "6\n",
            "7\n",
            "8\n",
            "9\n"
          ],
          "name": "stdout"
        }
      ]
    },
    {
      "cell_type": "markdown",
      "metadata": {
        "id": "OwpFcqh01ub1",
        "colab_type": "text"
      },
      "source": [
        "Before the loop, create a list called squares. Assign it to be an empty list to begin with.\n"
      ]
    },
    {
      "cell_type": "code",
      "metadata": {
        "id": "kxkgrg4N1vmN",
        "colab_type": "code",
        "colab": {}
      },
      "source": [
        "single_digits = range(10)\n",
        "\n",
        "squares = []\n",
        "\n",
        "# for i in single_digits: \n",
        "#   print (i)"
      ],
      "execution_count": 0,
      "outputs": []
    },
    {
      "cell_type": "markdown",
      "metadata": {
        "id": "4NPUAJTl10t7",
        "colab_type": "text"
      },
      "source": [
        "Inside the loop that iterates through single_digits, append the squared value of each element of single_digits to the list squares. You can do this before or after printing the element.\n"
      ]
    },
    {
      "cell_type": "code",
      "metadata": {
        "id": "q-sCIV8511IP",
        "colab_type": "code",
        "colab": {
          "base_uri": "https://localhost:8080/",
          "height": 191
        },
        "outputId": "89cc8928-c9d5-40ba-e100-8cbd3d96fab2"
      },
      "source": [
        "for item in single_digits:\n",
        "  print(item)\n",
        "  squares.append(item**2)"
      ],
      "execution_count": 40,
      "outputs": [
        {
          "output_type": "stream",
          "text": [
            "0\n",
            "1\n",
            "2\n",
            "3\n",
            "4\n",
            "5\n",
            "6\n",
            "7\n",
            "8\n",
            "9\n"
          ],
          "name": "stdout"
        }
      ]
    },
    {
      "cell_type": "markdown",
      "metadata": {
        "id": "_NLoQ4eQ2TCo",
        "colab_type": "text"
      },
      "source": [
        "Create the list cubes using a list comprehension on the single_digits list. Each element of cubes should be an element of single_digits taken to the third power.\n"
      ]
    },
    {
      "cell_type": "code",
      "metadata": {
        "id": "UIYrLf2R2VQa",
        "colab_type": "code",
        "colab": {
          "base_uri": "https://localhost:8080/",
          "height": 34
        },
        "outputId": "f5ddbdd0-09c7-4748-fc5e-068cc3902dac"
      },
      "source": [
        "cubes = [item**3 for item in single_digits]\n",
        "print(cubes)"
      ],
      "execution_count": 41,
      "outputs": [
        {
          "output_type": "stream",
          "text": [
            "[0, 1, 8, 27, 64, 125, 216, 343, 512, 729]\n"
          ],
          "name": "stdout"
        }
      ]
    },
    {
      "cell_type": "code",
      "metadata": {
        "id": "zpty1jQt20A9",
        "colab_type": "code",
        "colab": {
          "base_uri": "https://localhost:8080/",
          "height": 69
        },
        "outputId": "e0d7e4a3-7b1f-4696-8723-5acce009226f"
      },
      "source": [
        "for i in range(3):\n",
        "  print(i)"
      ],
      "execution_count": 46,
      "outputs": [
        {
          "output_type": "stream",
          "text": [
            "0\n",
            "1\n",
            "2\n"
          ],
          "name": "stdout"
        }
      ]
    },
    {
      "cell_type": "markdown",
      "metadata": {
        "id": "ySWsNToOUXUz",
        "colab_type": "text"
      },
      "source": [
        "## Challenge \n",
        "Carly's Clippers\n",
        "\n",
        "You are the Data Analyst at Carly’s Clippers, the newest hair salon on the block. Your job is to go through the lists of data that have been collected in the past couple of weeks. You will be calculating some important metrics that Carly can use to plan out the operation of the business for the rest of the month.\n",
        "\n",
        "You have been provided with three lists:\n",
        "\n",
        "    hairstyles: the names of the cuts offered at Carly’s Clippers\n",
        "    prices: the price of each hairstyle in the hairstyles list\n",
        "    last_week: the number of each hairstyle in hairstyles that was purchased last week\n",
        "\n",
        "Let’s get started!"
      ]
    },
    {
      "cell_type": "markdown",
      "metadata": {
        "id": "_k-UtPK9UirF",
        "colab_type": "text"
      },
      "source": [
        "Carly wants to be able to market her low prices. We want to find out what the average price of a cut is.\n",
        "\n",
        "First, let’s sum up all the prices of haircuts. Create a variable `total_price`, and set it to 0.\n"
      ]
    },
    {
      "cell_type": "code",
      "metadata": {
        "id": "3P83TcPaUjTj",
        "colab_type": "code",
        "colab": {}
      },
      "source": [
        "hairstyles = [\"bouffant\", \"pixie\", \"dreadlocks\", \"crew\", \"bowl\", \n",
        "              \"bob\", \"mohawk\", \"flattop\"]\n",
        "\n",
        "prices = [30, 25, 40, 20, 20, 35, 50, 35]\n",
        "\n",
        "last_week = [2, 3, 5, 8, 4, 4, 6, 2]\n",
        "\n",
        "total_price = 0 "
      ],
      "execution_count": 0,
      "outputs": []
    },
    {
      "cell_type": "markdown",
      "metadata": {
        "id": "JVo-yRLOUtpD",
        "colab_type": "text"
      },
      "source": [
        "Iterate through the prices list and add each price to the variable `total_price`.\n",
        "\n",
        "After your loop, create a variable called `average_price` that is the `total_price` divided by the number of prices.\n",
        "\n",
        "You can get the number of prices by using the len() function.\n"
      ]
    },
    {
      "cell_type": "code",
      "metadata": {
        "id": "EYoYDaesUv8E",
        "colab_type": "code",
        "colab": {
          "base_uri": "https://localhost:8080/",
          "height": 34
        },
        "outputId": "eab37c91-7653-4e28-b297-bb3c2767735c"
      },
      "source": [
        "for price in prices:\n",
        "  total_price += price\n",
        "\n",
        "# Find out the avg price\n",
        "average_price = total_price/ len(prices)\n",
        "print(\"Average haircur price is \" + str(average_price))"
      ],
      "execution_count": 3,
      "outputs": [
        {
          "output_type": "stream",
          "text": [
            "Average haircur price is 31.875\n"
          ],
          "name": "stdout"
        }
      ]
    },
    {
      "cell_type": "markdown",
      "metadata": {
        "id": "MD3Lc0DcU17c",
        "colab_type": "text"
      },
      "source": [
        "That average price is more expensive than Carly thought it would be! She wants to cut all prices by 5 dollars.\n",
        "\n",
        "Use a list comprehension to make a list called `new_prices`, which has each element in prices minus.\n"
      ]
    },
    {
      "cell_type": "code",
      "metadata": {
        "id": "dA9ZuQC6U24J",
        "colab_type": "code",
        "colab": {
          "base_uri": "https://localhost:8080/",
          "height": 34
        },
        "outputId": "12cebb62-33b4-43ee-ff14-cd31f3788042"
      },
      "source": [
        "new_prices = [price - 5 for price in prices]\n",
        "print(new_prices)"
      ],
      "execution_count": 4,
      "outputs": [
        {
          "output_type": "stream",
          "text": [
            "[25, 20, 35, 15, 15, 30, 45, 30]\n"
          ],
          "name": "stdout"
        }
      ]
    },
    {
      "cell_type": "markdown",
      "metadata": {
        "id": "HOS2kTsmU6xE",
        "colab_type": "text"
      },
      "source": [
        "Carly really wants to make sure that Carly’s Clippers is a profitable endeavor. She first wants to know how much revenue was brought in last week.\n",
        "\n",
        "Create a variable called `total_revenue` and set it to `0`.\n",
        "\n",
        "Use a `for` loop to create a variable i that goes from 0 to len(hairstyles)\n",
        "\n",
        "Hint: You can use `range()` to do this!\n"
      ]
    },
    {
      "cell_type": "code",
      "metadata": {
        "id": "pESQk9OaVIOs",
        "colab_type": "code",
        "colab": {
          "base_uri": "https://localhost:8080/",
          "height": 34
        },
        "outputId": "aaf099ff-bda2-4a6a-b624-5f1553649698"
      },
      "source": [
        "total_revenue = 0 \n",
        "for i in range(len(hairstyles)):\n",
        "  total_revenue += prices[i] * last_week[i]\n",
        "\n",
        "print(total_revenue)"
      ],
      "execution_count": 5,
      "outputs": [
        {
          "output_type": "stream",
          "text": [
            "1085\n"
          ],
          "name": "stdout"
        }
      ]
    },
    {
      "cell_type": "markdown",
      "metadata": {
        "id": "14rZCcl-VK-C",
        "colab_type": "text"
      },
      "source": [
        "Find the average daily revenue by dividing `total_revenue` by 7. Call this number `average_daily_revenue` and print it out.\n"
      ]
    },
    {
      "cell_type": "code",
      "metadata": {
        "id": "qfgHjltBVPZ0",
        "colab_type": "code",
        "colab": {
          "base_uri": "https://localhost:8080/",
          "height": 34
        },
        "outputId": "5fb5034f-c2f8-40e5-fd7e-0f1521942ac5"
      },
      "source": [
        "average_daily_revenue = total_revenue/7\n",
        "print(average_daily_revenue)"
      ],
      "execution_count": 6,
      "outputs": [
        {
          "output_type": "stream",
          "text": [
            "155.0\n"
          ],
          "name": "stdout"
        }
      ]
    },
    {
      "cell_type": "markdown",
      "metadata": {
        "id": "JUmYLRfDkztF",
        "colab_type": "text"
      },
      "source": [
        "## List Comprehensions\n",
        "\n",
        "List comprehensions are one of the easiest and most efficient ways to create lists in Python. This article will give you an overview of how list comprenhension works and show you several examples. If you would rather watch some video instruction, the following video will cover the same material. Happy comprehending!\n",
        "\n",
        "### List Comprehension\n",
        "\n",
        "When doing data analysis, we often work with lists of numbers and need to modify and perform computations on them efficiently. Let’s say we are working with this list of temperatures, in Celsius, representing some results of a science experiment:"
      ]
    },
    {
      "cell_type": "code",
      "metadata": {
        "id": "9RTim1mzk7X1",
        "colab_type": "code",
        "colab": {}
      },
      "source": [
        "temperatures = [-5, 29, 26, -7, 1, 18, 12, 31]"
      ],
      "execution_count": 0,
      "outputs": []
    },
    {
      "cell_type": "markdown",
      "metadata": {
        "id": "j7c1J74Ok82_",
        "colab_type": "text"
      },
      "source": [
        "What if we found out that our lab thermometer was actually consistently reporting 20 degrees lower than it should have been? We want to add 20 to each temperature in the list. We could do this by hand and just write out a new list:"
      ]
    },
    {
      "cell_type": "code",
      "metadata": {
        "id": "LQWYSJ15k-Z2",
        "colab_type": "code",
        "colab": {}
      },
      "source": [
        "temperatures_adjusted = [15, 49, 46, 13, 21, 38, 32, 51]"
      ],
      "execution_count": 0,
      "outputs": []
    },
    {
      "cell_type": "markdown",
      "metadata": {
        "id": "JiOFARaClALh",
        "colab_type": "text"
      },
      "source": [
        "But that method is time-consuming and prone to errors. And what if our list was thousands of temperatures long? It wouldn’t be practical. It can be helpful to perform a function on all values of a list. Python can help us do this with list comprehensions. We can use this syntax to perform a list comprehension that would yield the same output:"
      ]
    },
    {
      "cell_type": "code",
      "metadata": {
        "id": "DCEkYApUlCN0",
        "colab_type": "code",
        "colab": {}
      },
      "source": [
        "temperatures = [-5, 29, 26, -7, 1, 18, 12, 31]\n",
        "temperatures_adjusted = [temp + 20 for temp in temperatures]\n",
        "# temperatures_adjusted is now [15, 49, 46, 13, 21, 38, 32, 51]"
      ],
      "execution_count": 0,
      "outputs": []
    },
    {
      "cell_type": "markdown",
      "metadata": {
        "id": "c4oPLS3plELr",
        "colab_type": "text"
      },
      "source": [
        "This list comprehension:\n",
        "\n",
        "    takes an element in `temperatures`\n",
        "    names that element `temp`\n",
        "    stores the value of `temp + 20` in a new list called `temperatures_adjusted`\n",
        "    repeats steps 1-3 for all of the values in temperatures\n",
        "\n",
        "Note that if we hadn’t done any mathematical operations on `temp`, the new list would be just a copy of `temperatures`:"
      ]
    },
    {
      "cell_type": "code",
      "metadata": {
        "id": "D4A0flGAlTgW",
        "colab_type": "code",
        "colab": {}
      },
      "source": [
        "temperatures = [-5, 29, 26, -7, 1, 18, 12, 31]\n",
        "temperatures_new = [temp for temp in temperatures]\n",
        "# temperatures_new is now [-5, 29, 26, -7, 1, 18, 12, 31]"
      ],
      "execution_count": 0,
      "outputs": []
    },
    {
      "cell_type": "markdown",
      "metadata": {
        "id": "ru5_JL_hnUBF",
        "colab_type": "text"
      },
      "source": [
        "We can do more complicated mathematical operations like multiplication and division in our list comprehensions. This is how we would convert the temperatures list into Fahrenheit:"
      ]
    },
    {
      "cell_type": "code",
      "metadata": {
        "id": "Nn8VSJfZnV2u",
        "colab_type": "code",
        "colab": {}
      },
      "source": [
        "temperatures = [-5, 29, 26, -7, 1, 18, 12, 31]\n",
        "temperatures_F = [(9.0/5.0)*temp + 32 for temp in temperatures]\n",
        "# temperatures_F is now [23.0, 84.2, 78.8, 19.4, 33.8, 64.4, 53.6, 87.8]"
      ],
      "execution_count": 0,
      "outputs": []
    },
    {
      "cell_type": "markdown",
      "metadata": {
        "id": "Rvljy5SnnXkt",
        "colab_type": "text"
      },
      "source": [
        "List comprehensions can be useful in many different scenarios. For example, consider having to create multiple lists of the x-values for a bar chart, where we are displaying values side-by-side like this: \n",
        "![alt text](https://s3.amazonaws.com/codecademy-content/courses/matplotlib/rainfall.png)\n",
        "\n",
        "\n",
        " For this chart, we had two datasets that we wanted to plot at two different sets of x-values. The bars have a width of 0.8 (a standard for the graphing library Matplotlib), and we want the bars to be touching. We would want the first blue bar to be at x = 0.0, and the first orange bar to be at x=0.8, so that the bars are touching. The second blue bar would go at x=2.0, and the second orange bar at x=2.8, and so on.\n",
        "\n",
        "\n",
        " Instead of calculating each one of these by hand, we can use a list comprehension:"
      ]
    },
    {
      "cell_type": "code",
      "metadata": {
        "id": "8QOiQH3vnqyR",
        "colab_type": "code",
        "colab": {}
      },
      "source": [
        "x_values_1 = [2*index for index in range(5)]\n",
        "# [0.0, 2.0, 4.0, 6.0, 8.0] \n",
        "x_values_2 = [2*index + 0.8 for index in range(5)]\n",
        "# [0.8, 2.8, 4.8, 6.8, 8.8]"
      ],
      "execution_count": 0,
      "outputs": []
    },
    {
      "cell_type": "markdown",
      "metadata": {
        "id": "vr-D-_0AnugO",
        "colab_type": "text"
      },
      "source": [
        "To calculate `x_values_2`, we went through the list range(5), which is [0, 1, 2, 3, 4]. We picked out each element, called it `index`, and then calculated `2*index + 0.8`. The answer for each index was then stored in the `x_values_2` list. The x-tick labels (the ones that say 2000, 2001, 2002, etc) were placed at each midpoint of the two bars. How did we calculate those x-values? The midpoint of 0.0 and 0.8 is 0.4, so that’s where the first tick should be. The midpoint of 2.0 and 2.8 is 2.4, so that’s where the second tick should be. Using a list comprehension:"
      ]
    },
    {
      "cell_type": "code",
      "metadata": {
        "id": "IplKCVkHn4ZF",
        "colab_type": "code",
        "colab": {}
      },
      "source": [
        "x_values_midpoints = [(x1 + x2)/2.0 for (x1, x2) in zip(x_values_1, x_values_2)]\n",
        "# [0.4, 2.4, 4.4, 6.4, 8.4]"
      ],
      "execution_count": 0,
      "outputs": []
    },
    {
      "cell_type": "markdown",
      "metadata": {
        "id": "1PCOsiUSn51k",
        "colab_type": "text"
      },
      "source": [
        "To be able to go through two lists (`x_values_1` and `x_values_2`) in one list comprehension, we used the built-in Python function zip, which puts the elements of two lists together into one list. For example,"
      ]
    },
    {
      "cell_type": "code",
      "metadata": {
        "id": "IPkzo5DKn85v",
        "colab_type": "code",
        "colab": {
          "base_uri": "https://localhost:8080/",
          "height": 34
        },
        "outputId": "189aab0f-a999-4492-fb41-54010544e78f"
      },
      "source": [
        "zip([1, 2, 3], [4, 6, 8])"
      ],
      "execution_count": 16,
      "outputs": [
        {
          "output_type": "execute_result",
          "data": {
            "text/plain": [
              "<zip at 0x7fc0932d70c8>"
            ]
          },
          "metadata": {
            "tags": []
          },
          "execution_count": 16
        }
      ]
    },
    {
      "cell_type": "code",
      "metadata": {
        "id": "0SKiNhbJn-ti",
        "colab_type": "code",
        "colab": {
          "base_uri": "https://localhost:8080/",
          "height": 34
        },
        "outputId": "5f4cc013-5055-4f13-ad64-77fe9164d44f"
      },
      "source": [
        "print(list(zip([1, 2, 3], [4, 6, 8])))"
      ],
      "execution_count": 18,
      "outputs": [
        {
          "output_type": "stream",
          "text": [
            "[(1, 4), (2, 6), (3, 8)]\n"
          ],
          "name": "stdout"
        }
      ]
    },
    {
      "cell_type": "markdown",
      "metadata": {
        "id": "cg4gz4wqoDXm",
        "colab_type": "text"
      },
      "source": [
        "The list comprehension is a concise and powerful tool to modify Python lists in one line."
      ]
    },
    {
      "cell_type": "markdown",
      "metadata": {
        "id": "qeqlVZeys7K9",
        "colab_type": "text"
      },
      "source": [
        "### Another example from list comprhehention \n"
      ]
    },
    {
      "cell_type": "code",
      "metadata": {
        "id": "RcKDhpaDs_YT",
        "colab_type": "code",
        "colab": {
          "base_uri": "https://localhost:8080/",
          "height": 265
        },
        "outputId": "e83ec941-5186-4f5d-fbe5-019854bf3914"
      },
      "source": [
        "import matplotlib.pylab as plt \n",
        "\n",
        "# rainfall data \n",
        "rainfall_1 = [153, 156, 147, 149, 151]\n",
        "rainfall_2 = [159, 156, 160, 161, 148]\n",
        "\n",
        "\n",
        "# horizonayl position of bars \n",
        "x_values_1 = [x*2 for x in range(5)]\n",
        "x_values_2 = [x+1 for x in x_values_1]\n",
        "\n",
        "# height of bars \n",
        "y_values_1 = rainfall_1\n",
        "y_values_2 = rainfall_2\n",
        "\n",
        "#paylot bar chart \n",
        "plt.bar(x_values_1, y_values_1, 0.8, 140)\n",
        "plt.bar(x_values_2, y_values_2, 0.8, 140)\n",
        "plt.show()\n",
        "\n",
        "\n"
      ],
      "execution_count": 34,
      "outputs": [
        {
          "output_type": "display_data",
          "data": {
            "image/png": "[encoded data removed]",
            "text/plain": [
              "<Figure size 432x288 with 1 Axes>"
            ]
          },
          "metadata": {
            "tags": [],
            "needs_background": "light"
          }
        }
      ]
    },
    {
      "cell_type": "markdown",
      "metadata": {
        "id": "oHXqAt9Ivnik",
        "colab_type": "text"
      },
      "source": [
        "## List Comprehension Code Challenge"
      ]
    },
    {
      "cell_type": "markdown",
      "metadata": {
        "id": "nVkzgQZgvr4t",
        "colab_type": "text"
      },
      "source": [
        "## Double\n",
        "Create a new list named `double_nums` by multiplying each number in `nums` by two."
      ]
    },
    {
      "cell_type": "code",
      "metadata": {
        "id": "p2Yu3YLQvsZv",
        "colab_type": "code",
        "colab": {
          "base_uri": "https://localhost:8080/",
          "height": 52
        },
        "outputId": "a8b015b1-f65b-4405-e97e-1de9d3667154"
      },
      "source": [
        "nums = [4, 8, 15, 16, 23, 42]\n",
        "\n",
        "double_nums = [n*2 for n in nums ]\n",
        "print(\"nums \" + str(nums))\n",
        "print(\"double_nums \"+ str(double_nums))"
      ],
      "execution_count": 64,
      "outputs": [
        {
          "output_type": "stream",
          "text": [
            "nums [4, 8, 15, 16, 23, 42]\n",
            "double_nums [8, 16, 30, 32, 46, 84]\n"
          ],
          "name": "stdout"
        }
      ]
    },
    {
      "cell_type": "markdown",
      "metadata": {
        "id": "9nROSj1BwAUo",
        "colab_type": "text"
      },
      "source": [
        "## Squares\n",
        "\n",
        "For this list comprehension, you will need to make use of range and number squaring.\n",
        "`Range`\n",
        "\n",
        "The `range(n)` function gives you a list of numbers in order, starting from 0 and going up to and not including `n`. \n"
      ]
    },
    {
      "cell_type": "code",
      "metadata": {
        "id": "BOgYAPSnwJxb",
        "colab_type": "code",
        "colab": {
          "base_uri": "https://localhost:8080/",
          "height": 52
        },
        "outputId": "b7c999e3-a4ce-4399-bfae-7584df7ce826"
      },
      "source": [
        "nums = range(11)\n",
        "\n",
        "\n",
        "squares = [num ** num for num in nums]\n",
        "print(\"nums \" + str(list(nums)))\n",
        "print(\"squares \" + str(squares))"
      ],
      "execution_count": 63,
      "outputs": [
        {
          "output_type": "stream",
          "text": [
            "nums [0, 1, 2, 3, 4, 5, 6, 7, 8, 9, 10]\n",
            "squares [1, 1, 4, 27, 256, 3125, 46656, 823543, 16777216, 387420489, 10000000000]\n"
          ],
          "name": "stdout"
        }
      ]
    },
    {
      "cell_type": "markdown",
      "metadata": {
        "id": "dPh_MoY2w1Vx",
        "colab_type": "text"
      },
      "source": [
        "## Add Ten\n",
        "Create a new list named `add_ten` that adds ten to every element in the list nums."
      ]
    },
    {
      "cell_type": "code",
      "metadata": {
        "id": "d7dOiFRCw9UJ",
        "colab_type": "code",
        "colab": {
          "base_uri": "https://localhost:8080/",
          "height": 52
        },
        "outputId": "b27759c7-cd06-44a4-ac49-c6cefd6bc152"
      },
      "source": [
        "nums = [4, 8, 15, 16, 23, 42]\n",
        "add_ten = [n + 10 for n in nums]\n",
        "print(\"nums \" + str(nums) )\n",
        "print(\"add_ten \" + str(add_ten))"
      ],
      "execution_count": 62,
      "outputs": [
        {
          "output_type": "stream",
          "text": [
            "nums [4, 8, 15, 16, 23, 42]\n",
            "add_ten [14, 18, 25, 26, 33, 52]\n"
          ],
          "name": "stdout"
        }
      ]
    },
    {
      "cell_type": "markdown",
      "metadata": {
        "id": "OF4WG6ktxOAV",
        "colab_type": "text"
      },
      "source": [
        "## Divide By Two\n",
        "Create a new list named `divide_by_two` that contains half of every element in the list nums. Make sure to divide by 2, not 2.0!\n"
      ]
    },
    {
      "cell_type": "code",
      "metadata": {
        "id": "dAe32Y3WxWf7",
        "colab_type": "code",
        "colab": {
          "base_uri": "https://localhost:8080/",
          "height": 52
        },
        "outputId": "d62af0fb-ad9d-464f-cdcf-5c2a875c775c"
      },
      "source": [
        "nums = [4, 8, 15, 16, 23, 42]\n",
        "divide_by_two = [n/2 for n in nums]\n",
        "print(\"nums\" + str(nums))\n",
        "print(\"divide_by_two \" + str(divide_by_two))"
      ],
      "execution_count": 61,
      "outputs": [
        {
          "output_type": "stream",
          "text": [
            "nums[4, 8, 15, 16, 23, 42]\n",
            "divide_by_two [2.0, 4.0, 7.5, 8.0, 11.5, 21.0]\n"
          ],
          "name": "stdout"
        }
      ]
    },
    {
      "cell_type": "markdown",
      "metadata": {
        "id": "2UofE-ckxrIA",
        "colab_type": "text"
      },
      "source": [
        "## Parity\n",
        "\n",
        "In Python, %, or the modulo function, returns a remainder after a division."
      ]
    },
    {
      "cell_type": "code",
      "metadata": {
        "id": "DyPg6Uoax67j",
        "colab_type": "code",
        "colab": {
          "base_uri": "https://localhost:8080/",
          "height": 156
        },
        "outputId": "52ed129a-5eb2-4fdf-e1a8-7bd0c47f5eaa"
      },
      "source": [
        "nums = [4, 8, 15, 16, 23, 42]\n",
        "\n",
        "parity = [n%2 for n in nums]\n",
        "\n",
        "for x in nums:\n",
        "  if x%2 == 0 : \n",
        "    print(str(x) + \" odd\")\n",
        "  else:\n",
        "    print(str(x) + \" Not Odd\")\n",
        "\n",
        "print(\"nums \" + str(nums))\n",
        "print(\"party \" + str(parity))"
      ],
      "execution_count": 59,
      "outputs": [
        {
          "output_type": "stream",
          "text": [
            "4 odd\n",
            "8 odd\n",
            "15 Not Odd\n",
            "16 odd\n",
            "23 Not Odd\n",
            "42 odd\n",
            "nums [4, 8, 15, 16, 23, 42]\n",
            "party [0, 0, 1, 0, 1, 0]\n"
          ],
          "name": "stdout"
        }
      ]
    },
    {
      "cell_type": "markdown",
      "metadata": {
        "id": "_glbd0dvzJHI",
        "colab_type": "text"
      },
      "source": [
        "## Add Hello \n",
        "Create a new list named `greetings` that adds `\"Hello, \"` in front of each name in the list names."
      ]
    },
    {
      "cell_type": "code",
      "metadata": {
        "id": "sHyxEnsAzWou",
        "colab_type": "code",
        "colab": {
          "base_uri": "https://localhost:8080/",
          "height": 52
        },
        "outputId": "e5d3bdc7-3b2c-425e-dad7-a82b9f9dd02e"
      },
      "source": [
        "names = [\"Elaine\", \"George\", \"Jerry\", \"Cosmo\"]\n",
        "\n",
        "greetings = [\"Hello, \" + name for name in names]\n",
        "print(names)\n",
        "print(greetings)"
      ],
      "execution_count": 52,
      "outputs": [
        {
          "output_type": "stream",
          "text": [
            "['Elaine', 'George', 'Jerry', 'Cosmo']\n",
            "['Hello, Elaine', 'Hello, George', 'Hello, Jerry', 'Hello, Cosmo']\n"
          ],
          "name": "stdout"
        }
      ]
    },
    {
      "cell_type": "markdown",
      "metadata": {
        "id": "NjTx4S1Q0mT7",
        "colab_type": "text"
      },
      "source": [
        "## First Character\n",
        "\n",
        "You can get a character of a string by using the syntax `[index]`, where `index` is the character you want to get, starting at 0.\n",
        "\n",
        "Create a new list named `first_character` that contains the first character from every name in the list names\n",
        "\n",
        "For example:\n",
        "```\n",
        "my_string = \"Whoa! A seesaw\"\n",
        "print(my_string[0])\n",
        "print(my_string[2])\n",
        "print(my_string[5])\n",
        "```\n",
        "would print\n",
        "\n",
        "```\n",
        "\"W\"\n",
        "\"o\"\n",
        "\" \"\n",
        "```"
      ]
    },
    {
      "cell_type": "code",
      "metadata": {
        "id": "z6lMLMGS0yMG",
        "colab_type": "code",
        "colab": {
          "base_uri": "https://localhost:8080/",
          "height": 69
        },
        "outputId": "7262f5c4-bafd-453c-f67e-447044825466"
      },
      "source": [
        "names = [\"Elaine\", \"George\", \"Jerry\", \"Cosmo\"]\n",
        "\n",
        "first_character = [n[0] for n in names]\n",
        "first_character_of_a_name = zip(names, first_character)\n",
        "print(\"names \" + str(names))\n",
        "print(\"first_character \"+ str(first_character))\n",
        "print(\"The name and its first letter \" + str(list(first_character_of_a_name)))"
      ],
      "execution_count": 78,
      "outputs": [
        {
          "output_type": "stream",
          "text": [
            "names ['Elaine', 'George', 'Jerry', 'Cosmo']\n",
            "first_character ['E', 'G', 'J', 'C']\n",
            "The name and its first letter [('Elaine', 'E'), ('George', 'G'), ('Jerry', 'J'), ('Cosmo', 'C')]\n"
          ],
          "name": "stdout"
        }
      ]
    },
    {
      "cell_type": "markdown",
      "metadata": {
        "id": "RZE6cFVp1PU4",
        "colab_type": "text"
      },
      "source": [
        "## Size\n",
        "\n",
        "To find the number of characters in a string, we use len. This block of code:\n",
        "\n",
        "```\n",
        "print(len(\"Hello\"))\n",
        "print(len(\"world!\"))\n",
        "print(len(\"Hello, world!\"))\n",
        "```\n",
        "\n",
        "would print out:\n",
        "\n",
        "```\n",
        "5\n",
        "6\n",
        "13\n",
        "```"
      ]
    },
    {
      "cell_type": "markdown",
      "metadata": {
        "id": "nwIRlWDP1i6A",
        "colab_type": "text"
      },
      "source": [
        "Create a new list named `lengths` that contains the size of each name in the list of names\n"
      ]
    },
    {
      "cell_type": "code",
      "metadata": {
        "id": "P1C-KECy1idV",
        "colab_type": "code",
        "colab": {
          "base_uri": "https://localhost:8080/",
          "height": 52
        },
        "outputId": "7d496aa6-468c-40fb-a552-458f15eef85f"
      },
      "source": [
        "names = [\"Elaine\", \"George\", \"Jerry\", \"Cosmo\"]\n",
        "\n",
        "lengths = [len(n) for n in names]\n",
        "lengths_with_names = zip(names,lengths )\n",
        "\n",
        "print(lengths)\n",
        "print(\"The names and its length \" + str(list(lengths_with_names)))\n"
      ],
      "execution_count": 76,
      "outputs": [
        {
          "output_type": "stream",
          "text": [
            "[6, 6, 5, 5]\n",
            "The names and its length [('Elaine', 6), ('George', 6), ('Jerry', 5), ('Cosmo', 5)]\n"
          ],
          "name": "stdout"
        }
      ]
    },
    {
      "cell_type": "markdown",
      "metadata": {
        "id": "em2VrQDq1zcp",
        "colab_type": "text"
      },
      "source": [
        "## Opposite\n",
        "We can use the `not` operator to flip the value of a Boolean:\n",
        "\n",
        "```\n",
        "a = False\n",
        "b = True\n",
        "\n",
        "not_a = not a\n",
        "not_b = not b\n",
        "\n",
        "print(not_a)\n",
        "print(not_b)\n",
        "```\n",
        "\n",
        "This codeblock would print:\n",
        "```\n",
        "True\n",
        "False\n",
        "```"
      ]
    },
    {
      "cell_type": "markdown",
      "metadata": {
        "id": "wK9ZOVyR17AA",
        "colab_type": "text"
      },
      "source": [
        "Create a new list named `opposite` that contains the opposite boolean for each element in the list booleans.\n"
      ]
    },
    {
      "cell_type": "code",
      "metadata": {
        "id": "RNkhbnLm195a",
        "colab_type": "code",
        "colab": {
          "base_uri": "https://localhost:8080/",
          "height": 34
        },
        "outputId": "a474fe31-b2bb-41c6-ee3f-e20e3adf4adc"
      },
      "source": [
        "booleans = [True, False, True]\n",
        "opposite = [ not b for b in booleans ]\n",
        "print(opposite)"
      ],
      "execution_count": 68,
      "outputs": [
        {
          "output_type": "stream",
          "text": [
            "[False, True, False]\n"
          ],
          "name": "stdout"
        }
      ]
    },
    {
      "cell_type": "markdown",
      "metadata": {
        "id": "mPiWvO6D2K2c",
        "colab_type": "text"
      },
      "source": [
        "## Same String\n",
        "\n",
        " String comparison can be done using ==: \n",
        " ```\n",
        " >>> \"Hello\" == \"Hello!\"\n",
        "False\n",
        ">>> \"Hi\" == \"Hi\"\n",
        "True\n",
        ">>> \"Hello\" == \"\"\n",
        "False\n",
        "```"
      ]
    },
    {
      "cell_type": "markdown",
      "metadata": {
        "id": "rjKuoxU42SXn",
        "colab_type": "text"
      },
      "source": [
        "Create a new list called `is_Jerry`, in which an entry at position `i` is `True` if the entry in names at position `i` equals `\"Jerry\"`. The entry should be `False` otherwise"
      ]
    },
    {
      "cell_type": "code",
      "metadata": {
        "id": "0xV9PrgV2iQU",
        "colab_type": "code",
        "colab": {
          "base_uri": "https://localhost:8080/",
          "height": 52
        },
        "outputId": "3cca67c2-6bbd-4ff9-b68b-e6f91d9087ed"
      },
      "source": [
        "names = [\"Elaine\", \"George\", \"Jerry\", \"Cosmo\"]\n",
        "\n",
        "is_Jerry = [n == \"Jerry\" for n in names ]\n",
        "is_it_jerry = zip(names, is_Jerry)\n",
        "print(is_Jerry)\n",
        "print(\"Is it Jerry? \" + str(list(is_it_jerry)))"
      ],
      "execution_count": 75,
      "outputs": [
        {
          "output_type": "stream",
          "text": [
            "[False, False, True, False]\n",
            "Is it Jerry? [('Elaine', False), ('George', False), ('Jerry', True), ('Cosmo', False)]\n"
          ],
          "name": "stdout"
        }
      ]
    },
    {
      "cell_type": "markdown",
      "metadata": {
        "id": "ywtAV8V82n9S",
        "colab_type": "text"
      },
      "source": [
        "Greater Than Two\n",
        "\n",
        "Comparisons can be done using:\n",
        "\n",
        "    <: less than\n",
        "    <=: less than or equal to\n",
        "    >: greater than\n",
        "    >=: greater than or equal to\n",
        "    ==: equal to\n",
        "    !=: not equal to\n",
        "\n",
        "These statements return either True or False:\n",
        "\n",
        "```\n",
        ">>> 4 < 4\n",
        "False\n",
        ">>> 4 <= 4\n",
        "True \n",
        ">>> 9 > 2 \n",
        "True\n",
        ">>> 9 >= 2\n",
        "True\n",
        ">>> 1 > 2 \n",
        "False\n",
        "```"
      ]
    },
    {
      "cell_type": "markdown",
      "metadata": {
        "id": "saU_r1Rw2zek",
        "colab_type": "text"
      },
      "source": [
        "Create a new list called `greater_than_two`, in which an entry at position `i` is `True` if the entry in `nums` at position `i` is greater `than 2`.\n",
        "\n",
        "\n"
      ]
    },
    {
      "cell_type": "code",
      "metadata": {
        "id": "pZwzsaR124y9",
        "colab_type": "code",
        "colab": {
          "base_uri": "https://localhost:8080/",
          "height": 52
        },
        "outputId": "e6df268c-a32a-4317-c495-866e4fcd4434"
      },
      "source": [
        "nums = [5, -10, 40, 20, 0]\n",
        "greater_than_two = [ n > 2 for n in nums]\n",
        "print(greater_than_two)\n",
        "\n",
        "greater_than_two_nums = zip(nums, greater_than_two)\n",
        "print(\"Number is grater than ?\" + str(list(greater_than_two_nums)))"
      ],
      "execution_count": 97,
      "outputs": [
        {
          "output_type": "stream",
          "text": [
            "[True, False, True, True, False]\n",
            "Number is grater than ?[(5, True), (-10, False), (40, True), (20, True), (0, False)]\n"
          ],
          "name": "stdout"
        }
      ]
    },
    {
      "cell_type": "markdown",
      "metadata": {
        "id": "ZvJqKljP4kHp",
        "colab_type": "text"
      },
      "source": [
        "## Product Multiplication/ Sum of Sub-lists\n",
        "\n",
        "When using list comprehension, sometimes the items in the list that you’re iterating through will be lists themselves! In these cases, you can access multiple items in those sub-lists by using the following syntax:\n",
        "\n",
        "```\n",
        "original_list = [[1, 2], [3, 4],  [5, 6]]\n",
        "new_list = [item1 + item2 for (item1, item2) in original_list]\n",
        "```\n",
        "\n",
        "new_list will now contain the sum of each sub-list."
      ]
    },
    {
      "cell_type": "markdown",
      "metadata": {
        "id": "W8-dkfeJ4tRZ",
        "colab_type": "text"
      },
      "source": [
        "Create a new list named `product` that contains the product of each sub-list of nested_lists.\n"
      ]
    },
    {
      "cell_type": "code",
      "metadata": {
        "id": "t2XLlRYt4v1w",
        "colab_type": "code",
        "colab": {
          "base_uri": "https://localhost:8080/",
          "height": 52
        },
        "outputId": "2a50909c-58bc-4da3-f040-6a0579fe36c2"
      },
      "source": [
        "nested_lists = [[4, 8], [15, 16], [23, 42]]\n",
        "sum = [ e1 + e2 for (e1, e2) in nested_lists]\n",
        "product = [ item1 * item2 for (item1, item2) in nested_lists]\n",
        "print(sum)\n",
        "print(product)"
      ],
      "execution_count": 82,
      "outputs": [
        {
          "output_type": "stream",
          "text": [
            "[12, 31, 65]\n",
            "[32, 240, 966]\n"
          ],
          "name": "stdout"
        }
      ]
    },
    {
      "cell_type": "markdown",
      "metadata": {
        "id": "6ZWsoTfk5cVL",
        "colab_type": "text"
      },
      "source": [
        "## Greater Than\n",
        "\n",
        "reate a new list named `greater_than` that contains `True` if the first number in the sub-list is greater than the second number in the sub-list, and False otherwise."
      ]
    },
    {
      "cell_type": "code",
      "metadata": {
        "id": "94RfaY-F5qV2",
        "colab_type": "code",
        "colab": {
          "base_uri": "https://localhost:8080/",
          "height": 34
        },
        "outputId": "54959b90-b196-4f8a-ab1e-e1a27ca28428"
      },
      "source": [
        "nested_lists = [[4, 8], [16, 15], [23, 42]]\n",
        "greater_than = [e1>e2 for (e1,e2) in nested_lists ]\n",
        "print(greater_than)"
      ],
      "execution_count": 83,
      "outputs": [
        {
          "output_type": "stream",
          "text": [
            "[False, True, False]\n"
          ],
          "name": "stdout"
        }
      ]
    },
    {
      "cell_type": "markdown",
      "metadata": {
        "id": "Kr01Plfk508-",
        "colab_type": "text"
      },
      "source": [
        "## First Only\n",
        "Create a new list named `first_only` that contains the first element in each sub-list of nested_lists."
      ]
    },
    {
      "cell_type": "code",
      "metadata": {
        "id": "ThRw7wx46B7c",
        "colab_type": "code",
        "colab": {
          "base_uri": "https://localhost:8080/",
          "height": 34
        },
        "outputId": "013fcdba-800f-43c3-a1c3-39e0c3981761"
      },
      "source": [
        "nested_lists = [[4, 8], [16, 15], [23, 42]]\n",
        "\n",
        "first_only = [e1 for (e1,e2) in nested_lists ]\n",
        "print(first_only)"
      ],
      "execution_count": 84,
      "outputs": [
        {
          "output_type": "stream",
          "text": [
            "[4, 16, 23]\n"
          ],
          "name": "stdout"
        }
      ]
    },
    {
      "cell_type": "markdown",
      "metadata": {
        "id": "z_y6BtzVA_dh",
        "colab_type": "text"
      },
      "source": [
        "## Add With Zip\n",
        "\n",
        "In the following exercises, you will be given two lists and asked to perform operations of corresponding elements of these lists. This can be done by using List Comprehension and the built-in Python function zip. Take a look at the documentation for zip.\n",
        "\n",
        "```\n",
        "a = [1, 2, 3]\n",
        "b = [4, 5 ,6]\n",
        "combined = zip(a, b)\n",
        "```\n",
        "\n",
        "In the code above, `combined` now contains\n",
        "\n",
        "```\n",
        "[(1, 4), (2, 5), (3, 6)]\n",
        "```\n",
        "\n",
        "We can now use List Comprehension to iterate through this list to create something new!"
      ]
    },
    {
      "cell_type": "code",
      "metadata": {
        "id": "m0g4zKkzCPQf",
        "colab_type": "code",
        "colab": {
          "base_uri": "https://localhost:8080/",
          "height": 34
        },
        "outputId": "ac1346fe-57b9-43d8-cbd8-8678b51c48d2"
      },
      "source": [
        "a = [1.0, 2.0, 3.0]\n",
        "b = [4.0, 5.0, 6.0]\n",
        "sums = [item1 + item2 for (item1, item2) in zip(a, b)]\n",
        "print(sums)"
      ],
      "execution_count": 85,
      "outputs": [
        {
          "output_type": "stream",
          "text": [
            "[12, 31, 65]\n"
          ],
          "name": "stdout"
        }
      ]
    },
    {
      "cell_type": "markdown",
      "metadata": {
        "id": "RhafpmwACXCa",
        "colab_type": "text"
      },
      "source": [
        "## Divide With Zip\n",
        "\n",
        "Use list comprehension and the zip function to create a new list named `quotients` that divides the elements in list b by those in list a . For example, the second item in the new list should be 2.5 from dividing 5.0 by 2.0.\n"
      ]
    },
    {
      "cell_type": "code",
      "metadata": {
        "id": "s_ZtO-PlCcjj",
        "colab_type": "code",
        "colab": {
          "base_uri": "https://localhost:8080/",
          "height": 34
        },
        "outputId": "26c605bd-eee1-4d31-f150-ed859ab590bc"
      },
      "source": [
        "a = [1.0, 2.0, 3.0]\n",
        "b = [4.0, 5.0, 6.0]\n",
        "\n",
        "quotients = [x2 / x1 for (x1, x2) in zip(a,b)]\n",
        "print(quotients)"
      ],
      "execution_count": 86,
      "outputs": [
        {
          "output_type": "stream",
          "text": [
            "[4.0, 2.5, 2.0]\n"
          ],
          "name": "stdout"
        }
      ]
    },
    {
      "cell_type": "markdown",
      "metadata": {
        "id": "dkHw5W4sC9Sb",
        "colab_type": "text"
      },
      "source": [
        "## Capitals \n",
        "You’ve been given two lists: a list of `capitals` and a list of `countries`. Create a new list named `locations` that contains the string `\"capital, country`\" for each item in the original lists. For example, if the 5th item in the capitals list is \"Lima\" and the 5th item in the countries list is \"Peru\", then the 5th item in the new list should be \"Lima, Peru\"\n"
      ]
    },
    {
      "cell_type": "code",
      "metadata": {
        "id": "0Ojp-czSDGE9",
        "colab_type": "code",
        "colab": {
          "base_uri": "https://localhost:8080/",
          "height": 34
        },
        "outputId": "ccf0a7b4-dc01-4771-ffb7-ab45e138e858"
      },
      "source": [
        "capitals = [\"Santiago\", \"Paris\", \"Copenhagen\"]\n",
        "countries = [\"Chile\", \"France\", \"Denmark\"]\n",
        "\n",
        "locations = [capital + \", \" + country for (capital, country) in zip(capitals, countries)]\n",
        "print(locations)"
      ],
      "execution_count": 87,
      "outputs": [
        {
          "output_type": "stream",
          "text": [
            "['Santiago, Chile', 'Paris, France', 'Copenhagen, Denmark']\n"
          ],
          "name": "stdout"
        }
      ]
    },
    {
      "cell_type": "markdown",
      "metadata": {
        "id": "ZIBRNDeaFFmq",
        "colab_type": "text"
      },
      "source": [
        "## Ages\n",
        "\n",
        "To concatenate a string and an integer, we need to first use the `str()` function to cast the integer to a string. When you pass in a number to `str()`, it is returned to you as a string:\n",
        "```\n",
        ">>> str(10)\n",
        "\"10\"\n",
        ">>> str(0)\n",
        "\"0\"\n",
        ">>> str(222)\n",
        "\"222\"\n",
        "```\n",
        "\n",
        "After you have cast an integer to a string, you can concatenate it to another string by using +:\n",
        "```\n",
        ">>> \"I have \" + str(100) + \" cats!\"\n",
        "\"I have 100 cats!\"\n",
        ">>> row_count = 20\n",
        ">>> \"This spreadsheet has a row count of: \" + row_count\n",
        "\"This spreadsheet has a row count of: 20\"\n",
        "```"
      ]
    },
    {
      "cell_type": "markdown",
      "metadata": {
        "id": "cQySwQzWFRtv",
        "colab_type": "text"
      },
      "source": [
        "You’ve been given two lists: a list of names and a list of ages. Create a new list named `users` that contains the string `\"Name: name,` `Age: age\"` for each pair of elements in the original lists. For example, if the 5th item in the names list is `\"John\"` and the 5th item in ages is `42`, then the 5th item in the new list should be `\"Name: John, Age: 42\".`\n",
        "\n",
        "As you did in the previous exercise, concatenate your strings together using +. Make sure to add proper capitalization and spaces.\n"
      ]
    },
    {
      "cell_type": "code",
      "metadata": {
        "id": "dB3DTi8iFcX5",
        "colab_type": "code",
        "colab": {
          "base_uri": "https://localhost:8080/",
          "height": 34
        },
        "outputId": "24184c12-a6db-4469-e1d0-8affd5a12df7"
      },
      "source": [
        "names = [\"Jon\", \"Arya\", \"Ned\"]\n",
        "ages = [14, 9, 35]\n",
        "\n",
        "users = [\"Name: \"+ name + \", Age: \" + str(age) for (name, age) in zip(names,ages )]\n",
        "print(users)"
      ],
      "execution_count": 102,
      "outputs": [
        {
          "output_type": "stream",
          "text": [
            "['Name: Jon, Age: 14', 'Name: Arya, Age: 9', 'Name: Ned, Age: 35']\n"
          ],
          "name": "stdout"
        }
      ]
    },
    {
      "cell_type": "markdown",
      "metadata": {
        "id": "oR66RLY7GEe_",
        "colab_type": "text"
      },
      "source": [
        "## Greater Than With Zip\n",
        "\n",
        "Create a new list named `greater_than` that contains `True` or `False` depending on whether the corresponding item in list a is greater than the one in list b. For example, if the 2nd item in list a is 3, and the 2nd item in list b is 5, the 2nd item in the new list should be False.\n"
      ]
    },
    {
      "cell_type": "code",
      "metadata": {
        "id": "It8iA-3XGLf5",
        "colab_type": "code",
        "colab": {
          "base_uri": "https://localhost:8080/",
          "height": 34
        },
        "outputId": "b687b954-6ff7-40af-c75c-3315f2e846be"
      },
      "source": [
        "a = [30, 42, 10]\n",
        "b = [15, 16, 17]\n",
        "\n",
        "greater_than = [a1 > b1 for (a1, b1) in zip(a, b)]\n",
        "print(greater_than)\n"
      ],
      "execution_count": 104,
      "outputs": [
        {
          "output_type": "stream",
          "text": [
            "[True, True, False]\n"
          ],
          "name": "stdout"
        }
      ]
    },
    {
      "cell_type": "markdown",
      "metadata": {
        "id": "wOx9Qd5YG4pH",
        "colab_type": "text"
      },
      "source": [
        "## List Comprehension Challenge Conclusion\n",
        "\n",
        "List Comprehension Challenge Conclusion\n",
        "\n",
        "You practiced basic list comprehension syntax like:\n",
        "\n",
        "`temperatures = [-5, 29, 26, -7, 1, 18, 12, 31]`\n",
        "\n",
        "`temperatures_adjusted = [temp + 20 for temp in temperatures]`\n",
        "\n",
        "and basic zip syntax like:\n",
        "```\n",
        "zip([1, 2, 3], [4, 6, 8])\n",
        "```\n",
        "Also, along the way you practiced these core Python concepts:\n",
        "```\n",
        "    Strings and substrings\n",
        "    Getting characters from an index\n",
        "    Boolean operators and comparators\n",
        "    Mathematical operations\n",
        "    String concatenation\n",
        "    Casting from an integer to a string\n",
        "```\n"
      ]
    }
  ]
}