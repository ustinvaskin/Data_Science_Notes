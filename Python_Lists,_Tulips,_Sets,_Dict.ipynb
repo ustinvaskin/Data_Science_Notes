{
  "nbformat": 4,
  "nbformat_minor": 0,
  "metadata": {
    "colab": {
      "name": "Python Lists, Tulips, Sets, Dict",
      "provenance": [],
      "collapsed_sections": [
        "yuyHvFrzZfbO",
        "TAdb5cM6aOUn",
        "Jq5nqUA0a6fc",
        "Pkz9TOP4bOOV",
        "8qc5lN3zccGl"
      ],
      "toc_visible": true
    },
    "kernelspec": {
      "name": "python3",
      "display_name": "Python 3"
    }
  },
  "cells": [
    {
      "cell_type": "markdown",
      "metadata": {
        "id": "cYLtORdVaszA",
        "colab_type": "text"
      },
      "source": [
        "# Python Lists Tuples, Sets, Dictionaries\n",
        "\n",
        "[CheatCheet](https://www.codecademy.com/learn/paths/data-science/tracks/dspath-python-lists-and-loops/modules/dspath-lists/cheatsheet)\n",
        "\n"
      ]
    },
    {
      "cell_type": "markdown",
      "metadata": {
        "id": "PgLBhb14dvuM",
        "colab_type": "text"
      },
      "source": [
        "# Lists\n",
        "## Python List \n",
        "### What is a list?\n",
        "\n",
        "A list is **an ordered** set of objects in Python.\n",
        "Suppose we want to make a list of the heights of students in a class:\n",
        "\n",
        "* Jenny is 61 inches tall\n",
        "* Alexus is 70 inches tall\n",
        "* Sam is 67 inches tall\n",
        "* Grace is 64 inches tall\n",
        "\n",
        "In Python, we can create a variable called heights to store these numbers:\n"
      ]
    },
    {
      "cell_type": "code",
      "metadata": {
        "id": "NXkgacbmdyfN",
        "colab_type": "code",
        "colab": {
          "base_uri": "https://localhost:8080/",
          "height": 34
        },
        "outputId": "bf7562f6-48ef-419e-fecd-100b0c09c5b8"
      },
      "source": [
        "heights = [61, 70, 67, 64]\n",
        "print(heights)"
      ],
      "execution_count": 34,
      "outputs": [
        {
          "output_type": "stream",
          "text": [
            "[61, 70, 67, 64]\n"
          ],
          "name": "stdout"
        }
      ]
    },
    {
      "cell_type": "markdown",
      "metadata": {
        "id": "DL2TYLZIeF4t",
        "colab_type": "text"
      },
      "source": [
        "**Notice that:**\n",
        "\n",
        "1) A list begins and ends with square brackets ([ and ]).\n",
        "\n",
        "2) Each item (i.e., 67 or 70) is separated by a comma (,)\n",
        "\n",
        "3) It’s considered good practice to insert a space () after each comma, but your code will run just fine if you forget the space.\n"
      ]
    },
    {
      "cell_type": "markdown",
      "metadata": {
        "id": "GCWqrEtaeSfH",
        "colab_type": "text"
      },
      "source": [
        "##Lists II\n",
        "###Lists can contain more than just numbers.\n",
        "\n",
        "Let’s revisit our height example:\n",
        "* Jenny is 61 inches tall\n",
        "* Alexus is 70 inches tall\n",
        "* Sam is 67 inches tall\n",
        "* Grace is 64 inches tall\n",
        "\n",
        "We can make a list of strings that contain the students’ names:\n"
      ]
    },
    {
      "cell_type": "code",
      "metadata": {
        "id": "Zw7rbpY8edoS",
        "colab_type": "code",
        "colab": {
          "base_uri": "https://localhost:8080/",
          "height": 34
        },
        "outputId": "a0d0bf40-b091-4d9e-d32b-49db8ce6efc1"
      },
      "source": [
        "names = ['Jenny', 'Alexus', 'Sam', 'Grace']\n",
        "print(names)"
      ],
      "execution_count": 15,
      "outputs": [
        {
          "output_type": "stream",
          "text": [
            "['Jenny', 'Alexus', 'Sam', 'Grace']\n"
          ],
          "name": "stdout"
        }
      ]
    },
    {
      "cell_type": "markdown",
      "metadata": {
        "id": "QEfiqjr3eg-Z",
        "colab_type": "text"
      },
      "source": [
        "We can also *combine multiple data types* in one list. For example, this list contains both a string and an integer:\n"
      ]
    },
    {
      "cell_type": "code",
      "metadata": {
        "id": "wCQF5BskelpU",
        "colab_type": "code",
        "colab": {
          "base_uri": "https://localhost:8080/",
          "height": 34
        },
        "outputId": "bca03c5c-59b5-40a9-bf7b-b7a7b9dfe442"
      },
      "source": [
        "mixed_list = ['Jenny', 61]\n",
        "print(mixed_list)"
      ],
      "execution_count": 9,
      "outputs": [
        {
          "output_type": "stream",
          "text": [
            "['Jenny', 61]\n"
          ],
          "name": "stdout"
        }
      ]
    },
    {
      "cell_type": "markdown",
      "metadata": {
        "id": "qoYTB6CVetDt",
        "colab_type": "text"
      },
      "source": [
        "## List of Lists\n",
        "We’ve seen that the items in a list can be numbers or strings. They can also be other lists!\n",
        "\n",
        "Once more, let’s return to our class height example:\n",
        "\n",
        "* Jenny is 61 inches tall\n",
        "* Alexus is 70 inches tall\n",
        "* Sam is 67 inches tall\n",
        "* Grace is 64 inches tall\n",
        "\n",
        "Previously, we saw that we could create a list representing both Jenny’s name and height:\n"
      ]
    },
    {
      "cell_type": "code",
      "metadata": {
        "id": "E45b3d4ee8Ox",
        "colab_type": "code",
        "colab": {
          "base_uri": "https://localhost:8080/",
          "height": 34
        },
        "outputId": "f22e8172-7197-49f4-f09c-26a10868f0ec"
      },
      "source": [
        "jenny = ['Jenny', 61]\n",
        "print(jenny)"
      ],
      "execution_count": 10,
      "outputs": [
        {
          "output_type": "stream",
          "text": [
            "['Jenny', 61]\n"
          ],
          "name": "stdout"
        }
      ]
    },
    {
      "cell_type": "markdown",
      "metadata": {
        "id": "8fa6IKvKfAKG",
        "colab_type": "text"
      },
      "source": [
        "We can put several of these lists into one list, such that each entry in the list represents a student and their height:\n"
      ]
    },
    {
      "cell_type": "code",
      "metadata": {
        "id": "IfgvkpIAfBW5",
        "colab_type": "code",
        "colab": {
          "base_uri": "https://localhost:8080/",
          "height": 34
        },
        "outputId": "a51af836-d1c1-43b2-bbf6-c65255845803"
      },
      "source": [
        "heights = [['Jenny', 61], ['Alexus', 70], ['Sam', 67], ['Grace', 64]]\n",
        "print(heights)"
      ],
      "execution_count": 13,
      "outputs": [
        {
          "output_type": "stream",
          "text": [
            "[['Jenny', 61], ['Alexus', 70], ['Sam', 67], ['Grace', 64]]\n"
          ],
          "name": "stdout"
        }
      ]
    },
    {
      "cell_type": "markdown",
      "metadata": {
        "id": "5kV9jXXtfRBP",
        "colab_type": "text"
      },
      "source": [
        "## Zip\n",
        "Again, let’s return to our class height example:\n",
        "\n",
        "* Jenny is 61 inches tall\n",
        "* Alexus is 70 inches tall\n",
        "* Sam is 67 inches tall\n",
        "* Grace is 64 inches tall\n",
        "\n",
        "Suppose that we already had a list of names and a list of heights:"
      ]
    },
    {
      "cell_type": "code",
      "metadata": {
        "id": "qV3XvfPZfWvX",
        "colab_type": "code",
        "colab": {}
      },
      "source": [
        "names = ['Jenny', 'Alexus', 'Sam', 'Grace']\n",
        "heights = [61, 70, 67, 65]"
      ],
      "execution_count": 0,
      "outputs": []
    },
    {
      "cell_type": "markdown",
      "metadata": {
        "id": "DB_57Wv5fZuj",
        "colab_type": "text"
      },
      "source": [
        "If we wanted to create a list of lists that paired each name with a height, we could use the command **zip. zip takes two (or more) lists as inputs and returns an object that contains a list of pairs.** Each pair contains one element from each of the inputs. You won’t be able to see much about this object from just printing it:\n"
      ]
    },
    {
      "cell_type": "code",
      "metadata": {
        "id": "HM2_7jgjffdj",
        "colab_type": "code",
        "colab": {
          "base_uri": "https://localhost:8080/",
          "height": 34
        },
        "outputId": "c62c0249-17b9-4bea-a6ff-215dcdb5ff2f"
      },
      "source": [
        "names_and_heights = zip(names, heights)\n",
        "print(names_and_heights)\n",
        "# it will return the location of this object in memory. Output would \n",
        "#look something like this:"
      ],
      "execution_count": 18,
      "outputs": [
        {
          "output_type": "stream",
          "text": [
            "<zip object at 0x7f9d18c09a48>\n"
          ],
          "name": "stdout"
        }
      ]
    },
    {
      "cell_type": "markdown",
      "metadata": {
        "id": "V3ncjfayfuaD",
        "colab_type": "text"
      },
      "source": [
        "**To see the nested lists, you can convert the zip object to a list first:**\n"
      ]
    },
    {
      "cell_type": "code",
      "metadata": {
        "id": "Vhcn91Akfv8j",
        "colab_type": "code",
        "colab": {
          "base_uri": "https://localhost:8080/",
          "height": 34
        },
        "outputId": "b3c69d6b-c60a-4a82-cd34-01f2d4ec9092"
      },
      "source": [
        "print(list(names_and_heights))"
      ],
      "execution_count": 19,
      "outputs": [
        {
          "output_type": "stream",
          "text": [
            "[('Jenny', 61), ('Alexus', 70), ('Sam', 67), ('Grace', 65)]\n"
          ],
          "name": "stdout"
        }
      ]
    },
    {
      "cell_type": "code",
      "metadata": {
        "id": "sA4QGTIJf1l_",
        "colab_type": "code",
        "colab": {
          "base_uri": "https://localhost:8080/",
          "height": 34
        },
        "outputId": "4550f13b-e460-4984-f19e-076bd79ff082"
      },
      "source": [
        "names = ['Jenny', 'Alexus', 'Sam', 'Grace']\n",
        "dogs_names = ['Elphonse', 'Dr. Doggy DDS', 'Carter', 'Ralph']\n",
        "\n",
        "names_and_dogs_names = zip(names,dogs_names)\n",
        "\n",
        "print(list(names_and_dogs_names))\n"
      ],
      "execution_count": 20,
      "outputs": [
        {
          "output_type": "stream",
          "text": [
            "[('Jenny', 'Elphonse'), ('Alexus', 'Dr. Doggy DDS'), ('Sam', 'Carter'), ('Grace', 'Ralph')]\n"
          ],
          "name": "stdout"
        }
      ]
    },
    {
      "cell_type": "markdown",
      "metadata": {
        "id": "ESbQVQFIf6kV",
        "colab_type": "text"
      },
      "source": [
        "## Empty Lists\n",
        "A list doesn’t have to contain anything! You can create an empty list like this:\n",
        "\n"
      ]
    },
    {
      "cell_type": "code",
      "metadata": {
        "id": "wSGrQMLZgFme",
        "colab_type": "code",
        "colab": {}
      },
      "source": [
        "empty_list = []\n"
      ],
      "execution_count": 0,
      "outputs": []
    },
    {
      "cell_type": "markdown",
      "metadata": {
        "id": "GGKuvE2KgGwD",
        "colab_type": "text"
      },
      "source": [
        "Why would we create an empty list?\n",
        "\n",
        "*Usually, it’s because we’re planning on filling it later based on some other input. We’ll talk about two ways of filling up a list in the next exercise.*\n"
      ]
    },
    {
      "cell_type": "markdown",
      "metadata": {
        "id": "NuGfdGuCgMXc",
        "colab_type": "text"
      },
      "source": [
        "## Growing a List: Append\n",
        "\n",
        "We can add a single element to a list using `.append().` For example, suppose we have an empty list called `empty_list`:\n",
        "\n"
      ]
    },
    {
      "cell_type": "code",
      "metadata": {
        "id": "I-KcavxWgT54",
        "colab_type": "code",
        "colab": {
          "base_uri": "https://localhost:8080/",
          "height": 34
        },
        "outputId": "e0f5ccfa-b7e5-4ebb-b572-8c3eabfe0caf"
      },
      "source": [
        "empty_list = []\n",
        "empty_list.append(1)\n",
        "print(empty_list)\n"
      ],
      "execution_count": 21,
      "outputs": [
        {
          "output_type": "stream",
          "text": [
            "[1]\n"
          ],
          "name": "stdout"
        }
      ]
    },
    {
      "cell_type": "markdown",
      "metadata": {
        "id": "F9tZbfyjgvT5",
        "colab_type": "text"
      },
      "source": [
        "When we use `.append()` on a list that already has elements, our new element is added to the end of the list:\n"
      ]
    },
    {
      "cell_type": "code",
      "metadata": {
        "id": "86X7yR5UgyQB",
        "colab_type": "code",
        "colab": {
          "base_uri": "https://localhost:8080/",
          "height": 34
        },
        "outputId": "1eaa5c7e-8f2b-47d9-a05e-69c9e3e6cbf2"
      },
      "source": [
        "# Create a list\n",
        "my_list = [1, 2, 3]\n",
        "# Append a number\n",
        "my_list.append(5)\n",
        "print(my_list) # check the result\n"
      ],
      "execution_count": 22,
      "outputs": [
        {
          "output_type": "stream",
          "text": [
            "[1, 2, 3, 5]\n"
          ],
          "name": "stdout"
        }
      ]
    },
    {
      "cell_type": "markdown",
      "metadata": {
        "id": "72Ibd4hXg5iM",
        "colab_type": "text"
      },
      "source": [
        "It’s important to remember that `.append()` **comes after the list.** This is different from functions like print, which come before.\n"
      ]
    },
    {
      "cell_type": "code",
      "metadata": {
        "id": "nmz59GiWg-Iv",
        "colab_type": "code",
        "colab": {
          "base_uri": "https://localhost:8080/",
          "height": 34
        },
        "outputId": "f23bae23-2182-4a6b-b549-bbc59e7a5bf0"
      },
      "source": [
        "orders = ['daisies', 'periwinkle']\n",
        "print(orders)"
      ],
      "execution_count": 24,
      "outputs": [
        {
          "output_type": "stream",
          "text": [
            "['daisies', 'periwinkle']\n"
          ],
          "name": "stdout"
        }
      ]
    },
    {
      "cell_type": "code",
      "metadata": {
        "id": "TntruNMOhDYn",
        "colab_type": "code",
        "colab": {
          "base_uri": "https://localhost:8080/",
          "height": 34
        },
        "outputId": "bfe3ddfe-93fd-40aa-d6be-3c8d6403f539"
      },
      "source": [
        "orders.append('tulips')\n",
        "orders.append('roses')\n",
        "print(orders) "
      ],
      "execution_count": 25,
      "outputs": [
        {
          "output_type": "stream",
          "text": [
            "['daisies', 'periwinkle', 'tulips', 'roses']\n"
          ],
          "name": "stdout"
        }
      ]
    },
    {
      "cell_type": "markdown",
      "metadata": {
        "id": "937yhOKphH4Q",
        "colab_type": "text"
      },
      "source": [
        "## Growing a List: Plus (+)\n",
        "When we want to add multiple items to a list, we can use + to combine two lists.\n",
        "\n",
        "Below, we have a list of items sold at a bakery called \n",
        "`items_sold:`\n",
        "\n"
      ]
    },
    {
      "cell_type": "code",
      "metadata": {
        "id": "6N2jf3HJhPPS",
        "colab_type": "code",
        "colab": {
          "base_uri": "https://localhost:8080/",
          "height": 34
        },
        "outputId": "97fb6cf9-e1d0-46f9-8df9-994f9539bcff"
      },
      "source": [
        "items_sold = ['cake', 'cookie', 'bread']\n",
        "\n",
        "# Suppose the bakery wants to start selling 'biscuit' and 'tart':\n",
        "\n",
        "items_sold_new = items_sold + ['biscuit', 'tart']\n",
        "print(items_sold_new)"
      ],
      "execution_count": 28,
      "outputs": [
        {
          "output_type": "stream",
          "text": [
            "['cake', 'cookie', 'bread', 'biscuit', 'tart']\n"
          ],
          "name": "stdout"
        }
      ]
    },
    {
      "cell_type": "markdown",
      "metadata": {
        "id": "w3MW5HlZhmIY",
        "colab_type": "text"
      },
      "source": [
        "## Range I\n",
        "Often, we want to create a list of consecutive numbers. For example, suppose we want a list containing the numbers 0 through 9:"
      ]
    },
    {
      "cell_type": "code",
      "metadata": {
        "id": "Ru2IJAuwhqeU",
        "colab_type": "code",
        "colab": {}
      },
      "source": [
        "my_list = [0, 1, 2, 3, 4, 5, 6, 7, 8, 9]"
      ],
      "execution_count": 0,
      "outputs": []
    },
    {
      "cell_type": "markdown",
      "metadata": {
        "id": "_ba4HORHhs2a",
        "colab_type": "text"
      },
      "source": [
        "Typing out all of those numbers takes time and the more numbers we type, the more likely it is that we have a typo.\n",
        "\n",
        "Python gives us an easy way of creating these lists using a function called range. The **function range takes a single input, and generates numbers starting at 0 and ending at the number before the input.** So, if we want the numbers from 0 through 9, we use range(10) because 10 is 1 greater than 9:"
      ]
    },
    {
      "cell_type": "code",
      "metadata": {
        "id": "GQFuOd_ehzDd",
        "colab_type": "code",
        "colab": {
          "base_uri": "https://localhost:8080/",
          "height": 52
        },
        "outputId": "902e7540-86fb-43f9-a3b0-5416d69d7e10"
      },
      "source": [
        "my_range = range(10)\n",
        ">>> print(my_range)\n",
        ">>> print(list(my_range))"
      ],
      "execution_count": 30,
      "outputs": [
        {
          "output_type": "stream",
          "text": [
            "range(0, 10)\n",
            "[0, 1, 2, 3, 4, 5, 6, 7, 8, 9]\n"
          ],
          "name": "stdout"
        }
      ]
    },
    {
      "cell_type": "code",
      "metadata": {
        "id": "7qlsIwL8h6pt",
        "colab_type": "code",
        "colab": {
          "base_uri": "https://localhost:8080/",
          "height": 52
        },
        "outputId": "cf88cdd1-d664-45f5-a21e-62583127a7ec"
      },
      "source": [
        "list1 = range(9)\n",
        "list2 = range(8)\n",
        "print(list(list2))\n",
        "print(list(list1))"
      ],
      "execution_count": 32,
      "outputs": [
        {
          "output_type": "stream",
          "text": [
            "[0, 1, 2, 3, 4, 5, 6, 7]\n",
            "[0, 1, 2, 3, 4, 5, 6, 7, 8]\n"
          ],
          "name": "stdout"
        }
      ]
    },
    {
      "cell_type": "markdown",
      "metadata": {
        "id": "8-99N3A1V2lv",
        "colab_type": "text"
      },
      "source": [
        "## Range II \n",
        "We can use range to generate more interesting lists.\n",
        "By default, range creates a list starting at 0. However, **if we call range with two arguments, we can create a list that starts at a different number. For example, range(2, 9) would generate numbers starting at 2 and ending at 8 (just before 9):**\n"
      ]
    },
    {
      "cell_type": "code",
      "metadata": {
        "id": "r6axPdAZV8x3",
        "colab_type": "code",
        "colab": {
          "base_uri": "https://localhost:8080/",
          "height": 34
        },
        "outputId": "1fade5b5-c871-414b-faab-14278cc70e0e"
      },
      "source": [
        ">>> my_list = range(2, 9)\n",
        ">>> print(list(my_list))"
      ],
      "execution_count": 1,
      "outputs": [
        {
          "output_type": "stream",
          "text": [
            "[2, 3, 4, 5, 6, 7, 8]\n"
          ],
          "name": "stdout"
        }
      ]
    },
    {
      "cell_type": "markdown",
      "metadata": {
        "id": "qYmUuPwQWEVP",
        "colab_type": "text"
      },
      "source": [
        "With one or two arguments, range will create a list of consecutive numbers (i.e., each number is one greater than the previous number). **If we use a third argument, we can create a list that “skips” numbers.** For example, range(2, 9, 2) will give us a list where each number is 2 greater than the previous number up to 9 not including. \n"
      ]
    },
    {
      "cell_type": "code",
      "metadata": {
        "id": "B6svtsNYWIuz",
        "colab_type": "code",
        "colab": {
          "base_uri": "https://localhost:8080/",
          "height": 34
        },
        "outputId": "a8851471-caef-49fb-ef2c-09693a6cd08b"
      },
      "source": [
        ">>> my_range2 = range(2, 9, 2)\n",
        ">>> print(list(my_range2))"
      ],
      "execution_count": 2,
      "outputs": [
        {
          "output_type": "stream",
          "text": [
            "[2, 4, 6, 8]\n"
          ],
          "name": "stdout"
        }
      ]
    },
    {
      "cell_type": "markdown",
      "metadata": {
        "id": "4E26iT_SWNgM",
        "colab_type": "text"
      },
      "source": [
        "We can skip as many numbers as we want! In this example, we’ll start at 1 and skip 10 between each number until we get to 100:\n"
      ]
    },
    {
      "cell_type": "code",
      "metadata": {
        "id": "vmOOmpk2WPO5",
        "colab_type": "code",
        "colab": {
          "base_uri": "https://localhost:8080/",
          "height": 34
        },
        "outputId": "87c2dfe5-c1e4-4576-f18a-3af49f9e24a1"
      },
      "source": [
        ">>> my_range3 = range(1, 100, 10)\n",
        ">>> print(list(my_range3))"
      ],
      "execution_count": 3,
      "outputs": [
        {
          "output_type": "stream",
          "text": [
            "[1, 11, 21, 31, 41, 51, 61, 71, 81, 91]\n"
          ],
          "name": "stdout"
        }
      ]
    },
    {
      "cell_type": "markdown",
      "metadata": {
        "id": "8teC7HGJWUsx",
        "colab_type": "text"
      },
      "source": [
        "Our list stops at 91 because the next number in the sequence would be 101, which is greater than 100 (our stopping point).\n"
      ]
    },
    {
      "cell_type": "code",
      "metadata": {
        "id": "aoqMrCxhWXHP",
        "colab_type": "code",
        "colab": {
          "base_uri": "https://localhost:8080/",
          "height": 34
        },
        "outputId": "dd3eb9e0-cb0b-440d-ecbc-dffe338f7342"
      },
      "source": [
        "list1 = range(5, 15, 3)\n",
        "print(list(list1))"
      ],
      "execution_count": 4,
      "outputs": [
        {
          "output_type": "stream",
          "text": [
            "[5, 8, 11, 14]\n"
          ],
          "name": "stdout"
        }
      ]
    },
    {
      "cell_type": "code",
      "metadata": {
        "id": "DIeHaVZWWY48",
        "colab_type": "code",
        "colab": {
          "base_uri": "https://localhost:8080/",
          "height": 34
        },
        "outputId": "248655a1-458b-46e3-ce4b-b5590f5785ae"
      },
      "source": [
        "list2 = range(0, 40, 5)\n",
        "print(list(list2))"
      ],
      "execution_count": 5,
      "outputs": [
        {
          "output_type": "stream",
          "text": [
            "[0, 5, 10, 15, 20, 25, 30, 35]\n"
          ],
          "name": "stdout"
        }
      ]
    },
    {
      "cell_type": "markdown",
      "metadata": {
        "id": "InfNmONLWbbI",
        "colab_type": "text"
      },
      "source": [
        "## Review\n",
        "So far, we have learned: \n",
        "\n",
        "* How to create a list\n",
        "* How to create a list of lists using zip\n",
        "* How to add elements to a list using either .append() or +\n",
        "* How to use range to create lists of integers\n",
        "\n"
      ]
    },
    {
      "cell_type": "code",
      "metadata": {
        "id": "oZC0CDHNWkK9",
        "colab_type": "code",
        "colab": {
          "base_uri": "https://localhost:8080/",
          "height": 104
        },
        "outputId": "b1012046-6bcc-4a83-e5d7-9b6ea1aa2f13"
      },
      "source": [
        "first_names = ['Ainsley', 'Ben', 'Chani', 'Depak']\n",
        "age = []\n",
        "# Depak’s age is 42. Use .append() to add 42 to age.\n",
        "age.append(42)\n",
        "print(age)\n",
        "# Maria needs a list of the ages for all customers. Create a new list called \n",
        "#all_ages that adds age with the following list, containing the ages for \n",
        "#Ainsley, Ben, and Chani:\n",
        "all_ages = [32,41,29] + age\n",
        "print(all_ages)\n",
        "# Create a new variable called name_and_age that combines first_names and \n",
        "#all_ages using zip.\n",
        "name_and_age = zip(first_names, all_ages)\n",
        "print(name_and_age)\n",
        "print(list(name_and_age))\n",
        "\n",
        "# Create a range object called ids with an id number for each customer.\n",
        "# Since there are 4 customers, so id values should go from 0 to 3.\n",
        "ids = range(0,4)\n",
        "print(ids)"
      ],
      "execution_count": 12,
      "outputs": [
        {
          "output_type": "stream",
          "text": [
            "[42]\n",
            "[32, 41, 29, 42]\n",
            "<zip object at 0x7f9582d24908>\n",
            "[('Ainsley', 32), ('Ben', 41), ('Chani', 29), ('Depak', 42)]\n",
            "range(0, 4)\n"
          ],
          "name": "stdout"
        }
      ]
    },
    {
      "cell_type": "markdown",
      "metadata": {
        "id": "KsqJCLiNXH8B",
        "colab_type": "text"
      },
      "source": [
        "![Code Snippet](https://i.imgur.com/7d9S99q.png)\n",
        "\n",
        "\n"
      ]
    },
    {
      "cell_type": "markdown",
      "metadata": {
        "id": "ylAEo_ddYBbD",
        "colab_type": "text"
      },
      "source": [
        "# Operations on Lists\n",
        "\n",
        "Now that we know how to create a list, we can start working with existing lists of data.\n",
        "\n",
        "In this lesson, you’ll learn how to:\n",
        "\n",
        "* Get the length of a list\n",
        "* Select subsets of a list (called slicing)\n",
        "* Count the number of times that an element appears in a list\n",
        "* Sort a list of items\n"
      ]
    },
    {
      "cell_type": "markdown",
      "metadata": {
        "id": "0HpOuYW2YP5d",
        "colab_type": "text"
      },
      "source": [
        "## Length of a List\n",
        "Often, we’ll need to find the number of items in a list, usually called its length.\n",
        "We can do this **using the function len**. When we apply len to a list, we get the number of elements in that list:\n",
        "\n"
      ]
    },
    {
      "cell_type": "code",
      "metadata": {
        "id": "enxLAMXsYT_L",
        "colab_type": "code",
        "colab": {
          "base_uri": "https://localhost:8080/",
          "height": 52
        },
        "outputId": "021d8730-32f3-4c48-ddf8-afe2d40d1e85"
      },
      "source": [
        "my_list = [1, 2, 3, 4, 5]\n",
        "print(len(my_list))\n",
        "\n",
        "list1 = range(2, 20, 3)\n",
        "list1_len = len(list1)\n",
        "print(list1_len)\n"
      ],
      "execution_count": 13,
      "outputs": [
        {
          "output_type": "stream",
          "text": [
            "5\n",
            "6\n"
          ],
          "name": "stdout"
        }
      ]
    },
    {
      "cell_type": "markdown",
      "metadata": {
        "id": "_Q44QcFgYd-K",
        "colab_type": "text"
      },
      "source": [
        "## Selecting List Elements I\n",
        "Chris is interviewing candidates for a job. He will call each candidate in order, represented by a Python list:\n"
      ]
    },
    {
      "cell_type": "code",
      "metadata": {
        "id": "fPaqNeMMYhWk",
        "colab_type": "code",
        "colab": {}
      },
      "source": [
        "calls = ['Ali', 'Bob', 'Cam', 'Doug', 'Ellie']"
      ],
      "execution_count": 0,
      "outputs": []
    },
    {
      "cell_type": "markdown",
      "metadata": {
        "id": "tQ3-MjL1YmJF",
        "colab_type": "text"
      },
      "source": [
        "In Python, we call the order of an element in a list its index.\n",
        "\n",
        "* Python lists are zero-indexed.\n",
        "* This means that the first element in a list has index 0, rather than 1.\n",
        "\n",
        "In this example, the element with index 2 is `Cam`.\n",
        "We can select a single element from a list by using square brackets`([])` and the index of the list item. For example, if we wanted to select the third element from the list, we’d use `calls[2]`:"
      ]
    },
    {
      "cell_type": "code",
      "metadata": {
        "id": "0v5F97XXY4nm",
        "colab_type": "code",
        "colab": {
          "base_uri": "https://localhost:8080/",
          "height": 34
        },
        "outputId": "eb92c8aa-c2b5-47bd-b7ba-09c7720cc6ed"
      },
      "source": [
        ">>> print(calls[2])"
      ],
      "execution_count": 15,
      "outputs": [
        {
          "output_type": "stream",
          "text": [
            "Cam\n"
          ],
          "name": "stdout"
        }
      ]
    },
    {
      "cell_type": "code",
      "metadata": {
        "id": "EGtlUTmZY7bv",
        "colab_type": "code",
        "colab": {
          "base_uri": "https://localhost:8080/",
          "height": 52
        },
        "outputId": "94744763-3f64-4100-c14d-fde1f15d6ffa"
      },
      "source": [
        "employees = ['Michael', 'Dwight', 'Jim', 'Pam', 'Ryan', 'Andy', 'Robert']\n",
        "index4 = employees[4]\n",
        "print(len(employees))\n",
        "# 7 \n",
        "print(employees[6])\n",
        "# Robert"
      ],
      "execution_count": 16,
      "outputs": [
        {
          "output_type": "stream",
          "text": [
            "7\n",
            "Robert\n"
          ],
          "name": "stdout"
        }
      ]
    },
    {
      "cell_type": "markdown",
      "metadata": {
        "id": "gVT1PKhpZDz9",
        "colab_type": "text"
      },
      "source": [
        "## Selecting List Elements II\n",
        "What if we want to select the last element of a list?\n",
        "\n",
        "**We can use the index -1 to select the last item of a list,** even when we don’t know how many elements are in a list.\n",
        "Consider the following list with 5 elements:\n"
      ]
    },
    {
      "cell_type": "code",
      "metadata": {
        "id": "J0ZI0qlaZJH2",
        "colab_type": "code",
        "colab": {
          "base_uri": "https://localhost:8080/",
          "height": 34
        },
        "outputId": "f0470567-2f64-47d9-973a-0f5bcaa53dd9"
      },
      "source": [
        "list1 = ['a', 'b', 'c', 'd', 'e']\n",
        "# If we select the -1 element, we get the final element, 'e':\n",
        "print(list1[-1])"
      ],
      "execution_count": 18,
      "outputs": [
        {
          "output_type": "stream",
          "text": [
            "e\n"
          ],
          "name": "stdout"
        }
      ]
    },
    {
      "cell_type": "markdown",
      "metadata": {
        "id": "4axVNcp1ZWw5",
        "colab_type": "text"
      },
      "source": [
        "This is the same as selecting the element with index 4:\n"
      ]
    },
    {
      "cell_type": "code",
      "metadata": {
        "id": "o74XjhDVZXWe",
        "colab_type": "code",
        "colab": {
          "base_uri": "https://localhost:8080/",
          "height": 34
        },
        "outputId": "2fc42c53-67de-4add-bd65-cf09413db0ef"
      },
      "source": [
        "print(list1[4])\n"
      ],
      "execution_count": 19,
      "outputs": [
        {
          "output_type": "stream",
          "text": [
            "e\n"
          ],
          "name": "stdout"
        }
      ]
    },
    {
      "cell_type": "code",
      "metadata": {
        "id": "TTnHnD04ZbzD",
        "colab_type": "code",
        "colab": {
          "base_uri": "https://localhost:8080/",
          "height": 52
        },
        "outputId": "3269fe41-fbac-4d14-ae4b-25aa9d8d2af9"
      },
      "source": [
        "shopping_list = ['eggs', 'butter', 'milk', 'cucumbers', 'juice', 'cereal']\n",
        "print(len(shopping_list))\n",
        "#6\n",
        "last_element = shopping_list[-1]\n",
        "element5 = shopping_list[5]\n",
        "print(element5, last_element)\n",
        "# cereal cereal\n"
      ],
      "execution_count": 20,
      "outputs": [
        {
          "output_type": "stream",
          "text": [
            "6\n",
            "cereal cereal\n"
          ],
          "name": "stdout"
        }
      ]
    },
    {
      "cell_type": "markdown",
      "metadata": {
        "id": "yuyHvFrzZfbO",
        "colab_type": "text"
      },
      "source": [
        "## Slicing Lists\n",
        "Suppose we have a list of letters:\n",
        "\n",
        "`letters = ['a', 'b', 'c', 'd', 'e', 'f', 'g']`\n",
        "Suppose we want to select from b through `f`.\n",
        "\n",
        "We can do this using the following syntax: `letters[start:end]`, where:\n",
        "* `start` is the index of the first element that we want to include in our selection. In this case, we want to start at b, which has index 1.\n",
        "* **`end` is the index of one more than** the last index that we want to include. The last element we want is **f**, which has index 5, so `end` needs to be 6.`sublist = letters[1:6]`\n",
        "* `print(sublist)` This example would yield:`['b', 'c', 'd', 'e', 'f']` \n",
        "\n",
        "Notice that the element at index 6 (which is g) is not included in our selection.\n",
        "Creating a selection from a list is called slicing.\n",
        "\n",
        "**Creating a selection from a list is called slicing.**\n"
      ]
    },
    {
      "cell_type": "code",
      "metadata": {
        "id": "I90KI9STaLXr",
        "colab_type": "code",
        "colab": {
          "base_uri": "https://localhost:8080/",
          "height": 52
        },
        "outputId": "dde021b3-0de9-4d9c-9c4b-2d0b3d30c4c3"
      },
      "source": [
        "suitcase = ['shirt', 'shirt', 'pants', 'pants', 'pajamas', 'books']\n",
        "beginning = suitcase[0:4]\n",
        "print(beginning)\n",
        "# ['shirt', 'shirt', 'pants', 'pants']\n",
        "middle = beginning[2:4]\n",
        "print(middle)\n",
        "# ['pants', ‘pants']\n"
      ],
      "execution_count": 21,
      "outputs": [
        {
          "output_type": "stream",
          "text": [
            "['shirt', 'shirt', 'pants', 'pants']\n",
            "['pants', 'pants']\n"
          ],
          "name": "stdout"
        }
      ]
    },
    {
      "cell_type": "markdown",
      "metadata": {
        "id": "TAdb5cM6aOUn",
        "colab_type": "text"
      },
      "source": [
        "## Slicing Lists II\n",
        "If we want to select the first 3 elements of a list, we could use the following code:\n",
        "\n"
      ]
    },
    {
      "cell_type": "code",
      "metadata": {
        "id": "aYZGauNsaQ3E",
        "colab_type": "code",
        "colab": {
          "base_uri": "https://localhost:8080/",
          "height": 34
        },
        "outputId": "b9461134-bc1b-4916-808e-0659e8c82a53"
      },
      "source": [
        ">>> fruits = ['apple', 'banana', 'cherry', 'date']\n",
        ">>> print(fruits[0:3])\n"
      ],
      "execution_count": 22,
      "outputs": [
        {
          "output_type": "stream",
          "text": [
            "['apple', 'banana', 'cherry']\n"
          ],
          "name": "stdout"
        }
      ]
    },
    {
      "cell_type": "markdown",
      "metadata": {
        "id": "85SxPPeUaTly",
        "colab_type": "text"
      },
      "source": [
        "**When starting at the beginning of the list, it is also valid to omit the 0:**\n"
      ]
    },
    {
      "cell_type": "code",
      "metadata": {
        "id": "Tg7KZM6RabqL",
        "colab_type": "code",
        "colab": {
          "base_uri": "https://localhost:8080/",
          "height": 34
        },
        "outputId": "df2c7881-15f2-4f48-ca54-254516040c9d"
      },
      "source": [
        ">>> print(fruits[:3])\n"
      ],
      "execution_count": 23,
      "outputs": [
        {
          "output_type": "stream",
          "text": [
            "['apple', 'banana', 'cherry']\n"
          ],
          "name": "stdout"
        }
      ]
    },
    {
      "cell_type": "markdown",
      "metadata": {
        "id": "lU0qo4OWaeoX",
        "colab_type": "text"
      },
      "source": [
        "We can do something similar when **selecting the last few items of a list:**\n"
      ]
    },
    {
      "cell_type": "code",
      "metadata": {
        "id": "FJvLAygHagY8",
        "colab_type": "code",
        "colab": {
          "base_uri": "https://localhost:8080/",
          "height": 34
        },
        "outputId": "2e801639-4c72-4dc0-bd13-642bbcde0aa5"
      },
      "source": [
        ">>> print(fruits[2:])\n"
      ],
      "execution_count": 24,
      "outputs": [
        {
          "output_type": "stream",
          "text": [
            "['cherry', 'date']\n"
          ],
          "name": "stdout"
        }
      ]
    },
    {
      "cell_type": "markdown",
      "metadata": {
        "id": "KMV_5ZbQajYu",
        "colab_type": "text"
      },
      "source": [
        "If we want to **select the last 3 elements** of fruits, we can also use this syntax:\n"
      ]
    },
    {
      "cell_type": "code",
      "metadata": {
        "id": "zangH4xoalv3",
        "colab_type": "code",
        "colab": {
          "base_uri": "https://localhost:8080/",
          "height": 34
        },
        "outputId": "37c068c3-3ddd-4e7c-a635-39fadee17e10"
      },
      "source": [
        ">>> print(fruits[-3:])\n"
      ],
      "execution_count": 25,
      "outputs": [
        {
          "output_type": "stream",
          "text": [
            "['banana', 'cherry', 'date']\n"
          ],
          "name": "stdout"
        }
      ]
    },
    {
      "cell_type": "markdown",
      "metadata": {
        "id": "BASK4rWvaoTS",
        "colab_type": "text"
      },
      "source": [
        "We can use **negative indexes to count backward** from the last element.\n"
      ]
    },
    {
      "cell_type": "code",
      "metadata": {
        "id": "5F4w4ATaartO",
        "colab_type": "code",
        "colab": {
          "base_uri": "https://localhost:8080/",
          "height": 52
        },
        "outputId": "7467d076-aa18-4e2d-e3ae-ff26412da06e"
      },
      "source": [
        "suitcase = ['shirt', 'shirt', 'pants', 'pants', 'pajamas', 'books']\n",
        "start = suitcase[:3]\n",
        "end = suitcase[-2:]\n",
        "\n",
        "print(start)\n",
        "print(end)"
      ],
      "execution_count": 26,
      "outputs": [
        {
          "output_type": "stream",
          "text": [
            "['shirt', 'shirt', 'pants']\n",
            "['pajamas', 'books']\n"
          ],
          "name": "stdout"
        }
      ]
    },
    {
      "cell_type": "markdown",
      "metadata": {
        "id": "Jq5nqUA0a6fc",
        "colab_type": "text"
      },
      "source": [
        "## Counting elements in a list\n",
        "Suppose we have a list called letters that represents the letters in the word “Mississippi”:\n",
        "\n"
      ]
    },
    {
      "cell_type": "code",
      "metadata": {
        "id": "dUWf3VI7a-DA",
        "colab_type": "code",
        "colab": {
          "base_uri": "https://localhost:8080/",
          "height": 34
        },
        "outputId": "14672fa6-9388-4740-c4b5-fd124be9011a"
      },
      "source": [
        "letters = ['m', 'i', 's', 's', 'i', 's', 's', 'i', 'p', 'p', 'i']\n",
        "# If we want to know how many times i appears in this word, \n",
        "#we can use the function count:\n",
        "num_i = letters.count('i')\n",
        "print(num_i)"
      ],
      "execution_count": 28,
      "outputs": [
        {
          "output_type": "stream",
          "text": [
            "4\n"
          ],
          "name": "stdout"
        }
      ]
    },
    {
      "cell_type": "code",
      "metadata": {
        "id": "av0lkxmHbKaR",
        "colab_type": "code",
        "colab": {
          "base_uri": "https://localhost:8080/",
          "height": 34
        },
        "outputId": "fca5a864-b76d-4933-f8bb-95bc5ff33b35"
      },
      "source": [
        "votes = ['Jake', 'Jake', 'Laurie', 'Laurie', 'Laurie', 'Jake', 'Jake', \n",
        "         'Jake', 'Laurie', 'Cassie', 'Cassie', 'Jake', 'Jake', 'Cassie', \n",
        "         'Laurie', 'Cassie', 'Jake', 'Jake', 'Cassie', 'Laurie']\n",
        "\n",
        "jake_votes = votes.count('Jake')\n",
        "print(jake_votes)\n"
      ],
      "execution_count": 29,
      "outputs": [
        {
          "output_type": "stream",
          "text": [
            "9\n"
          ],
          "name": "stdout"
        }
      ]
    },
    {
      "cell_type": "markdown",
      "metadata": {
        "id": "Pkz9TOP4bOOV",
        "colab_type": "text"
      },
      "source": [
        "## Sorting Lists I\n",
        "Sometimes, we want to sort a list in either numerical (1, 2, 3, …) or alphabetical (a, b, c, …) order.\n",
        "\n",
        "We can sort a list in place using .`sort()`. Suppose that we have a list of names:\n",
        "\n"
      ]
    },
    {
      "cell_type": "code",
      "metadata": {
        "id": "6_LWs7qgbTVZ",
        "colab_type": "code",
        "colab": {
          "base_uri": "https://localhost:8080/",
          "height": 34
        },
        "outputId": "591b2379-c199-4361-8c64-b8a9f6e44892"
      },
      "source": [
        "names = ['Xander', 'Buffy', 'Angel', 'Willow', 'Giles']\n",
        "print(names)"
      ],
      "execution_count": 30,
      "outputs": [
        {
          "output_type": "stream",
          "text": [
            "['Xander', 'Buffy', 'Angel', 'Willow', 'Giles']\n"
          ],
          "name": "stdout"
        }
      ]
    },
    {
      "cell_type": "markdown",
      "metadata": {
        "id": "48L-ptNGbYF1",
        "colab_type": "text"
      },
      "source": [
        "Now we apply `.sort()`:\n"
      ]
    },
    {
      "cell_type": "code",
      "metadata": {
        "id": "CR7IXAn5basW",
        "colab_type": "code",
        "colab": {
          "base_uri": "https://localhost:8080/",
          "height": 34
        },
        "outputId": "38174494-0027-450f-ac7c-2160ff90a0b6"
      },
      "source": [
        "names.sort()\n",
        "print(names)\n"
      ],
      "execution_count": 31,
      "outputs": [
        {
          "output_type": "stream",
          "text": [
            "['Angel', 'Buffy', 'Giles', 'Willow', 'Xander']\n"
          ],
          "name": "stdout"
        }
      ]
    },
    {
      "cell_type": "markdown",
      "metadata": {
        "id": "rHrJ8jBEbdyU",
        "colab_type": "text"
      },
      "source": [
        "Notice **that sort goes after our list, names**. If we try sort(names), we will get a NameError.\n",
        "\n",
        "**sort does not return anything. So, if we try to assign names.sort() to a variable, our new variable would be None:**\n"
      ]
    },
    {
      "cell_type": "code",
      "metadata": {
        "id": "QdvDC22obmWI",
        "colab_type": "code",
        "colab": {
          "base_uri": "https://localhost:8080/",
          "height": 34
        },
        "outputId": "2c67cd8e-6ddd-467c-b20a-1190d4309477"
      },
      "source": [
        "sorted_names = names.sort()\n",
        "print(sorted_names)"
      ],
      "execution_count": 32,
      "outputs": [
        {
          "output_type": "stream",
          "text": [
            "None\n"
          ],
          "name": "stdout"
        }
      ]
    },
    {
      "cell_type": "markdown",
      "metadata": {
        "id": "5xa8bY0hbqJo",
        "colab_type": "text"
      },
      "source": [
        "Although `sorted_names` is `None`, the line `sorted_names = names.sort()` still edited names:\n"
      ]
    },
    {
      "cell_type": "code",
      "metadata": {
        "id": "6ufRdoupbuy4",
        "colab_type": "code",
        "colab": {
          "base_uri": "https://localhost:8080/",
          "height": 34
        },
        "outputId": "8142e66c-c08a-4839-b904-2041c719b354"
      },
      "source": [
        ">>> print(names)"
      ],
      "execution_count": 33,
      "outputs": [
        {
          "output_type": "stream",
          "text": [
            "['Angel', 'Buffy', 'Giles', 'Willow', 'Xander']\n"
          ],
          "name": "stdout"
        }
      ]
    },
    {
      "cell_type": "markdown",
      "metadata": {
        "id": "wHONHgjyb4Nb",
        "colab_type": "text"
      },
      "source": [
        "## Sorting Lists II\n",
        "\n",
        "A second way of sorting a list is to use sorted. sorted is different from .sort() in several ways:\n",
        "\n",
        "* It comes before a list, instead of after.\n",
        "* **It generates a new list**\n",
        "<br>\n",
        "<br>\n",
        "Let’s return to our list of names:\n"
      ]
    },
    {
      "cell_type": "code",
      "metadata": {
        "id": "DBMubbFjcDGB",
        "colab_type": "code",
        "colab": {}
      },
      "source": [
        "names2 = ['Xander', 'Buffy', 'Angel', 'Willow', 'Giles']"
      ],
      "execution_count": 0,
      "outputs": []
    },
    {
      "cell_type": "markdown",
      "metadata": {
        "id": "gwjvt1zecEcG",
        "colab_type": "text"
      },
      "source": [
        "Using sorted, we can create a new list, called sorted_names:\n"
      ]
    },
    {
      "cell_type": "code",
      "metadata": {
        "id": "_O2SXUCicFHw",
        "colab_type": "code",
        "colab": {
          "base_uri": "https://localhost:8080/",
          "height": 34
        },
        "outputId": "c6c1f6c4-15f3-448d-bb83-3ffade72b2dd"
      },
      "source": [
        "sorted_names = sorted(names2)\n",
        "print(sorted_names)"
      ],
      "execution_count": 39,
      "outputs": [
        {
          "output_type": "stream",
          "text": [
            "['Angel', 'Buffy', 'Giles', 'Willow', 'Xander']\n"
          ],
          "name": "stdout"
        }
      ]
    },
    {
      "cell_type": "markdown",
      "metadata": {
        "id": "YqUEEBCTcJTr",
        "colab_type": "text"
      },
      "source": [
        "Note that using sorted did not change names:\n"
      ]
    },
    {
      "cell_type": "code",
      "metadata": {
        "id": "ik_0TaykcJ1X",
        "colab_type": "code",
        "colab": {
          "base_uri": "https://localhost:8080/",
          "height": 34
        },
        "outputId": "1694c698-39bf-44eb-bb54-f3e5a0e263e5"
      },
      "source": [
        "print(names2)"
      ],
      "execution_count": 40,
      "outputs": [
        {
          "output_type": "stream",
          "text": [
            "['Xander', 'Buffy', 'Angel', 'Willow', 'Giles']\n"
          ],
          "name": "stdout"
        }
      ]
    },
    {
      "cell_type": "code",
      "metadata": {
        "id": "wO0q6fObcX5S",
        "colab_type": "code",
        "colab": {
          "base_uri": "https://localhost:8080/",
          "height": 52
        },
        "outputId": "661b09a0-656f-4f1f-cd34-e0e234e92b0a"
      },
      "source": [
        "games = ['Portal', 'Minecraft', 'Pacman', 'Tetris', 'The Sims', 'Pokemon']\n",
        "games_sorted = sorted(games)\n",
        "print(games)\n",
        "print(games_sorted)"
      ],
      "execution_count": 41,
      "outputs": [
        {
          "output_type": "stream",
          "text": [
            "['Portal', 'Minecraft', 'Pacman', 'Tetris', 'The Sims', 'Pokemon']\n",
            "['Minecraft', 'Pacman', 'Pokemon', 'Portal', 'Tetris', 'The Sims']\n"
          ],
          "name": "stdout"
        }
      ]
    },
    {
      "cell_type": "markdown",
      "metadata": {
        "id": "8qc5lN3zccGl",
        "colab_type": "text"
      },
      "source": [
        "## Review\n",
        "In this lesson, we learned how to:\n",
        "\n",
        "* Get the length of a list\n",
        "* Select subsets of a list (called slicing)\n",
        "* Count the number of times that an element appears in a list\n",
        "* Sort a list of items\n"
      ]
    },
    {
      "cell_type": "code",
      "metadata": {
        "id": "qGFsNbGIch3K",
        "colab_type": "code",
        "colab": {
          "base_uri": "https://localhost:8080/",
          "height": 89
        },
        "outputId": "c32a7b69-8a70-42f1-899d-e5c5fadab100"
      },
      "source": [
        "inventory = ['twin bed', 'twin bed', 'headboard', 'queen bed', 'king bed', \n",
        "             'dresser', 'dresser', 'table', 'table', 'nightstand', 'nightstand',\n",
        "             'king bed', 'king bed', 'twin bed', 'twin bed', 'sheets', 'sheets',\n",
        "             'pillow', 'pillow']\n",
        "\n",
        "inventory_len = len(inventory)\n",
        "print(inventory_len)\n",
        "# 19 \n",
        "\n",
        "first = inventory[0]\n",
        "last = inventory[-1]\n",
        "\n",
        "inventory_2_6 = inventory[2:6]\n",
        "\n",
        "first_3 = inventory[:3]\n",
        "# How many 'twin bed's are in inventory? Save your answer to twin_beds.\n",
        "twin_beds = inventory.count('twin bed')\n",
        "print(twin_beds)\n",
        "# 4 \n",
        "inventory.sort()\n",
        "sorted_imventory = sorted(inventory)\n",
        "print(sorted_imventory)\n",
        "# ['dresser', 'dresser', 'headboard', 'king bed', 'king bed', 'king bed', \n",
        "#'nightstand', 'nightstand', 'pillow', 'pillow', 'queen bed', 'sheets', \n",
        "#'sheets', 'table', 'table', 'twin bed', 'twin bed', 'twin bed', 'twin bed']\n"
      ],
      "execution_count": 42,
      "outputs": [
        {
          "output_type": "stream",
          "text": [
            "19\n",
            "4\n",
            "['dresser', 'dresser', 'headboard', 'king bed', 'king bed', 'king bed', 'nightstand', 'nightstand', 'pillow', 'pillow', 'queen bed', 'sheets', 'sheets', 'table', 'table', 'twin bed', 'twin bed', 'twin bed', 'twin bed']\n"
          ],
          "name": "stdout"
        }
      ]
    },
    {
      "cell_type": "code",
      "metadata": {
        "id": "hr5roXqidcvW",
        "colab_type": "code",
        "colab": {
          "base_uri": "https://localhost:8080/",
          "height": 34
        },
        "outputId": "9b8f412a-6754-422b-a17f-afd74ef7b85c"
      },
      "source": [
        "mylist = ['a', 'b', 'c', 'd', 'e']\n",
        "print(mylist[1:3])"
      ],
      "execution_count": 45,
      "outputs": [
        {
          "output_type": "stream",
          "text": [
            "['b', 'c']\n"
          ],
          "name": "stdout"
        }
      ]
    },
    {
      "cell_type": "markdown",
      "metadata": {
        "id": "-O-jbABxkFl7",
        "colab_type": "text"
      },
      "source": [
        "# Len's Slice Exersise\n",
        "\n",
        "You work at Len’s Slice, a new pizza joint in the neighborhood. You are going to use your knowledge of Python lists to organize some of your sales data."
      ]
    },
    {
      "cell_type": "markdown",
      "metadata": {
        "id": "OaVnS6WEkeBQ",
        "colab_type": "text"
      },
      "source": [
        "To keep track of the kinds of pizzas you sell, create a list called toppings that holds the following:\n",
        "\n",
        "    pepperoni\n",
        "    pineapple\n",
        "    cheese\n",
        "    sausage\n",
        "    olives\n",
        "    anchovies\n",
        "    mushrooms\n"
      ]
    },
    {
      "cell_type": "code",
      "metadata": {
        "id": "IR0WtLVPknDH",
        "colab_type": "code",
        "colab": {}
      },
      "source": [
        "toppings = ['pepperoni', 'pineapple', 'cheese', 'sausage', 'olives', 'anchovies', 'mushrooms']"
      ],
      "execution_count": 0,
      "outputs": []
    },
    {
      "cell_type": "markdown",
      "metadata": {
        "id": "qL-QKxFukpdm",
        "colab_type": "text"
      },
      "source": [
        "To keep track of how much each kind of pizza slice costs, create a list called prices that holds:\n",
        "\n",
        "    2\n",
        "    6\n",
        "    1\n",
        "    3\n",
        "    2\n",
        "    7\n",
        "    2\n",
        "\n"
      ]
    },
    {
      "cell_type": "code",
      "metadata": {
        "id": "5C2xxcCOkrai",
        "colab_type": "code",
        "colab": {}
      },
      "source": [
        "prices = [2,6,1,3,2,7,2]"
      ],
      "execution_count": 0,
      "outputs": []
    },
    {
      "cell_type": "markdown",
      "metadata": {
        "id": "XNMgFV6xkuLN",
        "colab_type": "text"
      },
      "source": [
        "Find the length of the `toppings` list and store it in a variable called `num_pizzas`.\n"
      ]
    },
    {
      "cell_type": "code",
      "metadata": {
        "id": "PEnMC53CkxeN",
        "colab_type": "code",
        "colab": {}
      },
      "source": [
        "num_pizzas = len(toppings)"
      ],
      "execution_count": 0,
      "outputs": []
    },
    {
      "cell_type": "markdown",
      "metadata": {
        "id": "a8U_3vhHkzOD",
        "colab_type": "text"
      },
      "source": [
        "Print the string `\"We sell X different kinds of pizza!\"` with `num_pizzas` where the `X` is.\n"
      ]
    },
    {
      "cell_type": "code",
      "metadata": {
        "id": "PI4KQ7S9k8ot",
        "colab_type": "code",
        "colab": {
          "base_uri": "https://localhost:8080/",
          "height": 34
        },
        "outputId": "d9eee41b-6836-489b-9ab1-3a3809bfbbaf"
      },
      "source": [
        "print('We sell %s different kinds of pizza!' %num_pizzas)"
      ],
      "execution_count": 50,
      "outputs": [
        {
          "output_type": "stream",
          "text": [
            "We sell 7 different kinds of pizza!\n"
          ],
          "name": "stdout"
        }
      ]
    },
    {
      "cell_type": "markdown",
      "metadata": {
        "id": "DgPfjHvklIkr",
        "colab_type": "text"
      },
      "source": [
        "Use zip to combine the two lists into a list called pizzas that has the structure:\n",
        "\n",
        "[(price_0, topping_0), (price_1, topping_1), (price_2, topping_2), ...]"
      ]
    },
    {
      "cell_type": "code",
      "metadata": {
        "id": "c5jPOoXYlMb2",
        "colab_type": "code",
        "colab": {
          "base_uri": "https://localhost:8080/",
          "height": 34
        },
        "outputId": "965504f2-9f82-4fba-ab88-ef71a678821d"
      },
      "source": [
        "pizzas = list(zip(prices, toppings))\n",
        "print(pizzas)"
      ],
      "execution_count": 54,
      "outputs": [
        {
          "output_type": "stream",
          "text": [
            "[(2, 'pepperoni'), (6, 'pineapple'), (1, 'cheese'), (3, 'sausage'), (2, 'olives'), (7, 'anchovies'), (2, 'mushrooms')]\n"
          ],
          "name": "stdout"
        }
      ]
    },
    {
      "cell_type": "markdown",
      "metadata": {
        "id": "VDZRnN1-lSrt",
        "colab_type": "text"
      },
      "source": [
        "Sort pizzas so that the pizzas with the lowest prices are at the start of the list.\n",
        "\n",
        "Store the first element of `pizzas` in a variable called `cheapest_pizza`.\n"
      ]
    },
    {
      "cell_type": "code",
      "metadata": {
        "id": "qOw4OAbhlTVm",
        "colab_type": "code",
        "colab": {
          "base_uri": "https://localhost:8080/",
          "height": 34
        },
        "outputId": "3f46711c-7300-4af9-a505-0dc3bc95d538"
      },
      "source": [
        "pizzas_by_order = sorted(pizzas)\n",
        "print(pizzas_by_order)"
      ],
      "execution_count": 56,
      "outputs": [
        {
          "output_type": "stream",
          "text": [
            "[(1, 'cheese'), (2, 'mushrooms'), (2, 'olives'), (2, 'pepperoni'), (3, 'sausage'), (6, 'pineapple'), (7, 'anchovies')]\n"
          ],
          "name": "stdout"
        }
      ]
    },
    {
      "cell_type": "markdown",
      "metadata": {
        "id": "xDO3BtSvlpVx",
        "colab_type": "text"
      },
      "source": [
        "Store the first element of pizzas in a variable called `cheapest_pizza`.\n"
      ]
    },
    {
      "cell_type": "code",
      "metadata": {
        "id": "UZkJ1chglq0J",
        "colab_type": "code",
        "colab": {
          "base_uri": "https://localhost:8080/",
          "height": 34
        },
        "outputId": "c1948e68-b9fa-47f4-ce73-df92aed1452e"
      },
      "source": [
        "cheapest_pizza = pizzas_by_order[:1]\n",
        "print(cheapest_pizza)"
      ],
      "execution_count": 57,
      "outputs": [
        {
          "output_type": "stream",
          "text": [
            "[(1, 'cheese')]\n"
          ],
          "name": "stdout"
        }
      ]
    },
    {
      "cell_type": "markdown",
      "metadata": {
        "id": "LB44gD-pmEVO",
        "colab_type": "text"
      },
      "source": [
        "A man in a business suit walks in and shouts “I will have your MOST EXPENSIVE pizza!”\n",
        "\n",
        "Get the last item of the `pizzas` list and store it in a variable called `priciest_pizza`.\n"
      ]
    },
    {
      "cell_type": "code",
      "metadata": {
        "id": "FuLzWu3OmbqO",
        "colab_type": "code",
        "colab": {
          "base_uri": "https://localhost:8080/",
          "height": 34
        },
        "outputId": "1bfc1a9c-4963-47d2-99f7-b0434a090057"
      },
      "source": [
        "priciest_pizza = pizzas_by_order[-1]\n",
        "print(priciest_pizza)"
      ],
      "execution_count": 58,
      "outputs": [
        {
          "output_type": "stream",
          "text": [
            "(7, 'anchovies')\n"
          ],
          "name": "stdout"
        }
      ]
    },
    {
      "cell_type": "markdown",
      "metadata": {
        "id": "vyqZB_0znRA4",
        "colab_type": "text"
      },
      "source": [
        "Three mice walk into the store. They don’t have much money (they’re mice), but they do each want different pizzas.\n",
        "\n",
        "Slice the pizzas list and store the 3 lowest cost pizzas in a list called `three_cheapest`.\n"
      ]
    },
    {
      "cell_type": "code",
      "metadata": {
        "id": "a2SgRgQRnUe-",
        "colab_type": "code",
        "colab": {
          "base_uri": "https://localhost:8080/",
          "height": 34
        },
        "outputId": "32ee94f2-0163-4103-e08e-adc7d66017fc"
      },
      "source": [
        "three_cheapest = pizzas_by_order[:3]\n",
        "print(three_cheapest)"
      ],
      "execution_count": 61,
      "outputs": [
        {
          "output_type": "stream",
          "text": [
            "[(1, 'cheese'), (2, 'mushrooms'), (2, 'olives')]\n"
          ],
          "name": "stdout"
        }
      ]
    },
    {
      "cell_type": "markdown",
      "metadata": {
        "id": "1T_Lg-uCn47J",
        "colab_type": "text"
      },
      "source": [
        "Your boss wants you to do some research on $2 slices.\n",
        "\n",
        "Count the number of occurrences of 2 in the prices list, and store the result in a variable called `num_two_dollar_slices`. Print it out.\n"
      ]
    },
    {
      "cell_type": "code",
      "metadata": {
        "id": "fnfcbaHIn7Du",
        "colab_type": "code",
        "colab": {
          "base_uri": "https://localhost:8080/",
          "height": 34
        },
        "outputId": "4e2aaa32-94fc-42e5-a334-5bdda1c095b6"
      },
      "source": [
        "num_two_dollar_slices = prices.count(2)\n",
        "print(num_two_dollar_slices)"
      ],
      "execution_count": 64,
      "outputs": [
        {
          "output_type": "stream",
          "text": [
            "3\n"
          ],
          "name": "stdout"
        }
      ]
    },
    {
      "cell_type": "markdown",
      "metadata": {
        "id": "MExVQ4_npauF",
        "colab_type": "text"
      },
      "source": [
        "# Code Challenge: \n",
        "\n"
      ]
    },
    {
      "cell_type": "markdown",
      "metadata": {
        "id": "_6QmW9H7pd1a",
        "colab_type": "text"
      },
      "source": [
        "Write a function named `larger_list` that has two parameters named `lst1` and `lst2`.\n",
        "\n",
        "The function should return the last element of the list that contains more elements. If both lists are the same size, then return the last element of lst1.\n"
      ]
    },
    {
      "cell_type": "code",
      "metadata": {
        "id": "WOzkcSWDphri",
        "colab_type": "code",
        "colab": {
          "base_uri": "https://localhost:8080/",
          "height": 34
        },
        "outputId": "f457a95f-de1a-441a-b79a-4f353d94e41c"
      },
      "source": [
        "#Write your function here\n",
        "def larger_list(lst1, lst2):\n",
        "  if len(lst1) >= len(lst2):\n",
        "    return lst1[-1]\n",
        "  else:\n",
        "    return lst2[-1]\n",
        "\n",
        "#Uncomment the line below when your function is done\n",
        "print(larger_list([4, 10, 2, 5], [-10, 2, 5, 10]))"
      ],
      "execution_count": 65,
      "outputs": [
        {
          "output_type": "stream",
          "text": [
            "5\n"
          ],
          "name": "stdout"
        }
      ]
    },
    {
      "cell_type": "markdown",
      "metadata": {
        "id": "gVBJKTVAppG6",
        "colab_type": "text"
      },
      "source": [
        "Create a function named `more_than_n` that has three parameters named `lst`, `item`, and `n`.\n",
        "\n",
        "The function should return True if item appears in the list more than n times. The function should return False otherwise.\n"
      ]
    },
    {
      "cell_type": "code",
      "metadata": {
        "id": "vOvlJ44appmC",
        "colab_type": "code",
        "colab": {
          "base_uri": "https://localhost:8080/",
          "height": 34
        },
        "outputId": "2a1b5287-1072-4274-dad9-10b15a86d544"
      },
      "source": [
        "#Write your function here\n",
        "def more_than_n(lst, item, n):\n",
        "  if lst.count(item) > n:\n",
        "    return True\n",
        "  else:\n",
        "    return False\n",
        "\n",
        "#Uncomment the line below when your function is done\n",
        "print(more_than_n([2, 4, 6, 2, 3, 2, 1, 2], 2, 3))"
      ],
      "execution_count": 66,
      "outputs": [
        {
          "output_type": "stream",
          "text": [
            "True\n"
          ],
          "name": "stdout"
        }
      ]
    },
    {
      "cell_type": "markdown",
      "metadata": {
        "id": "eteX9-X5pw50",
        "colab_type": "text"
      },
      "source": [
        "Create a function called append_size that has one parameter named lst.\n",
        "\n",
        "The function should append the size of lst (inclusive) to the end of lst. The function should then return this new list.\n",
        "\n",
        "For example, if lst was `[23, 42, 108]`, the function should return `[23, 42, 108, 3]` because the size of lst was originally 3.\n"
      ]
    },
    {
      "cell_type": "code",
      "metadata": {
        "id": "kJ45RTaIpyE7",
        "colab_type": "code",
        "colab": {
          "base_uri": "https://localhost:8080/",
          "height": 34
        },
        "outputId": "00f95099-dc8b-4b34-bac2-9068a5cc23b9"
      },
      "source": [
        "def append_size(lst):\n",
        "  lst.append(len(lst))\n",
        "  return lst\n",
        "\n",
        "  #Uncomment the line below when your function is done\n",
        "print(append_size([23, 42, 108]))"
      ],
      "execution_count": 70,
      "outputs": [
        {
          "output_type": "stream",
          "text": [
            "[23, 42, 108, 3]\n"
          ],
          "name": "stdout"
        }
      ]
    },
    {
      "cell_type": "markdown",
      "metadata": {
        "id": "5oGfua5aqTod",
        "colab_type": "text"
      },
      "source": [
        "Write a function named combine_sort that has two parameters named `lst1` and `lst2`.\n",
        "\n",
        "The function should combine these two lists into one new list and sort the result. Return the new sorted list.\n"
      ]
    },
    {
      "cell_type": "code",
      "metadata": {
        "id": "tI4tzpDAqUKh",
        "colab_type": "code",
        "colab": {
          "base_uri": "https://localhost:8080/",
          "height": 34
        },
        "outputId": "6995d063-3d36-45c5-ce6c-a63e22d326d8"
      },
      "source": [
        "def combine_sort(lst1, lst2):\n",
        "  combined = lst1 + lst2 \n",
        "  sortedList = sorted(combined)\n",
        "  return sortedList\n",
        "\n",
        "print(combine_sort([4, 10, 2, 5], [-10, 2, 5, 10]))"
      ],
      "execution_count": 77,
      "outputs": [
        {
          "output_type": "stream",
          "text": [
            "[-10, 2, 2, 4, 5, 5, 10, 10]\n"
          ],
          "name": "stdout"
        }
      ]
    },
    {
      "cell_type": "markdown",
      "metadata": {
        "id": "1IcFKdEyrFqR",
        "colab_type": "text"
      },
      "source": [
        "Write a function named append_sum that has one parameter — a list named named lst.\n",
        "\n",
        "The function should add the last two elements of lst together and append the result to lst. It should do this process three times and then return lst.\n",
        "\n",
        "For example, if lst started as `[1, 1, 2]`, the final result should be `[1, 1, 2, 3, 5, 8]`.\n"
      ]
    },
    {
      "cell_type": "code",
      "metadata": {
        "id": "fCQ_GmznrUgC",
        "colab_type": "code",
        "colab": {
          "base_uri": "https://localhost:8080/",
          "height": 34
        },
        "outputId": "60d1ab91-d5e5-4ddc-c8c1-8f387868a5ed"
      },
      "source": [
        "#Write your function here\n",
        "def append_sum(lst):\n",
        "  lst.append(lst[-1] + lst[-2])\n",
        "  lst.append(lst[-1] + lst[-2])\n",
        "  lst.append(lst[-1] + lst[-2])\n",
        "  return lst\n",
        "\n",
        "#Uncomment the line below when your function is done\n",
        "print(append_sum([1, 1, 2]))"
      ],
      "execution_count": 78,
      "outputs": [
        {
          "output_type": "stream",
          "text": [
            "[1, 1, 2, 3, 5, 8]\n"
          ],
          "name": "stdout"
        }
      ]
    },
    {
      "cell_type": "markdown",
      "metadata": {
        "id": "vtXafGLrrszv",
        "colab_type": "text"
      },
      "source": [
        "# Advanced Python Code Challenges: Lists"
      ]
    },
    {
      "cell_type": "markdown",
      "metadata": {
        "id": "4bPBH_E3rt23",
        "colab_type": "text"
      },
      "source": [
        "Create a function `called every_three_nums` that has one parameter named `start`.\n",
        "\n",
        "The function should return a list of every third number between start and 100 (inclusive). For example, every_three_nums(91) should return the list `[91, 94, 97, 100]`. If start is greater than 100, the function should return an empty list.\n"
      ]
    },
    {
      "cell_type": "code",
      "metadata": {
        "id": "L9UtaHxxslw5",
        "colab_type": "code",
        "colab": {
          "base_uri": "https://localhost:8080/",
          "height": 34
        },
        "outputId": "3c628ca4-3ab0-4322-b981-ca2e9513b19c"
      },
      "source": [
        "#Write your function here\n",
        "def every_three_nums(start):\n",
        "  return list(range(start, 101, 3))\n",
        "\n",
        "#Uncomment the line below when your function is done\n",
        "print(every_three_nums(91))"
      ],
      "execution_count": 79,
      "outputs": [
        {
          "output_type": "stream",
          "text": [
            "[91, 94, 97, 100]\n"
          ],
          "name": "stdout"
        }
      ]
    },
    {
      "cell_type": "markdown",
      "metadata": {
        "id": "-h9pkQCGsoVs",
        "colab_type": "text"
      },
      "source": [
        "Create a function named `remove_middle` which has three parameters `named lst`, `start`, and `end`.\n",
        "\n",
        "The function should return a list where all elements in lst with an index between start and end (inclusive) have been removed.\n",
        "\n",
        "For example, the following code should return `[4, 23, 42] `because elements at indices 1, 2, and 3 have been removed:\n",
        "\n",
        "remove_middle`([4, 8 , 15, 16, 23, 42], 1, 3)`\n",
        "\n"
      ]
    },
    {
      "cell_type": "code",
      "metadata": {
        "id": "iEDQ5_qZs9VR",
        "colab_type": "code",
        "colab": {
          "base_uri": "https://localhost:8080/",
          "height": 34
        },
        "outputId": "6682d3c4-ab79-42e3-dcdf-271a7be3067d"
      },
      "source": [
        "#Write your function here\n",
        "def remove_middle(lst, start, end):\n",
        "  return lst[:start] + lst[end+1:]\n",
        "\n",
        "#Uncomment the line below when your function is done\n",
        "print(remove_middle([4, 8, 15, 16, 23, 42], 1, 3))"
      ],
      "execution_count": 80,
      "outputs": [
        {
          "output_type": "stream",
          "text": [
            "[4, 23, 42]\n"
          ],
          "name": "stdout"
        }
      ]
    },
    {
      "cell_type": "markdown",
      "metadata": {
        "id": "fq0Ip40KtPWc",
        "colab_type": "text"
      },
      "source": [
        "Create a function named `more_frequent_item` that has three parameters `named lst`, `item1`, and `item2`.\n",
        "\n",
        "Return either item1 or item2 depending on which item appears more often in lst.\n",
        "\n",
        "If the two items appear the same number of times, return item1.\n"
      ]
    },
    {
      "cell_type": "code",
      "metadata": {
        "id": "8Wv7g6pNtZe6",
        "colab_type": "code",
        "colab": {
          "base_uri": "https://localhost:8080/",
          "height": 34
        },
        "outputId": "25b13e00-773a-471e-b1cb-86983fd1f692"
      },
      "source": [
        "#Write your function here\n",
        "def more_frequent_item(lst, item1, item2):\n",
        "  if lst.count(item1) >= lst.count(item2):\n",
        "    return item1\n",
        "  else:\n",
        "    return item2\n",
        "\n",
        "#Uncomment the line below when your function is done\n",
        "print(more_frequent_item([2, 3, 3, 2, 3, 2, 3, 2, 3], 2, 3))"
      ],
      "execution_count": 81,
      "outputs": [
        {
          "output_type": "stream",
          "text": [
            "3\n"
          ],
          "name": "stdout"
        }
      ]
    },
    {
      "cell_type": "markdown",
      "metadata": {
        "id": "jaqYNUJNtncR",
        "colab_type": "text"
      },
      "source": [
        "Create a function named `double_index` that has two parameters: a list named `lst` and a single number named `index`.\n",
        "\n",
        "The function should return a new list where all elements are the same as in lst except for the element at index. The element at index should be double the value of the element at index of the original lst.\n",
        "\n",
        "If index is not a valid index, the function should return the original list.\n",
        "\n",
        "For example, the following code should return `[1,2,6,4] `because the element at index 2 has been doubled:\n",
        "\n",
        "`double_index([1, 2, 3, 4], 2)`\n",
        "\n",
        "After writing your function, un-comment the call to the function that we’ve provided for you to test your results.\n"
      ]
    },
    {
      "cell_type": "code",
      "metadata": {
        "id": "g8hYUqb4ttQA",
        "colab_type": "code",
        "colab": {
          "base_uri": "https://localhost:8080/",
          "height": 34
        },
        "outputId": "92bb2b06-ac70-4bfa-a30f-2890297676b7"
      },
      "source": [
        "#Write your function here\n",
        "def double_index(lst, index):\n",
        "  # Checks to see if index is too big\n",
        "  if index >= len(lst):\n",
        "    return lst\n",
        "  else:\n",
        "    # Gets the original list up to index\n",
        "    new_lst = lst[0:index]\n",
        " # Adds double the value at index to the new list \n",
        "  new_lst.append(lst[index]*2)\n",
        "  #  Adds the rest of the original list\n",
        "  new_lst = new_lst + lst[index+1:]\n",
        "  return new_lst\n",
        "\n",
        "#Uncomment the line below when your function is done\n",
        "print(double_index([3, 8, -10, 12], 2))"
      ],
      "execution_count": 82,
      "outputs": [
        {
          "output_type": "stream",
          "text": [
            "[3, 8, -20, 12]\n"
          ],
          "name": "stdout"
        }
      ]
    },
    {
      "cell_type": "markdown",
      "metadata": {
        "id": "MPYqWQpjuFiX",
        "colab_type": "text"
      },
      "source": [
        "Create a function called `middle_element` that has one parameter named `lst`.\n",
        "\n",
        "If there are an odd number of elements in lst, the function should return the middle element. If there are an even number of elements, the function should return the average of the middle two elements.\n"
      ]
    },
    {
      "cell_type": "code",
      "metadata": {
        "id": "Okm3Yc4cuPLV",
        "colab_type": "code",
        "colab": {
          "base_uri": "https://localhost:8080/",
          "height": 34
        },
        "outputId": "3a62c103-e818-4bc5-95d5-804409e26203"
      },
      "source": [
        "#Write your function here\n",
        "def middle_element(lst):\n",
        "  if len(lst) % 2 == 0:\n",
        "    sum = lst[int(len(lst)/2)] + lst[int(len(lst)/2) - 1]\n",
        "    return sum / 2\n",
        "  else:\n",
        "    return lst[int(len(lst)/2)]\n",
        "\n",
        "#Uncomment the line below when your function is done\n",
        "print(middle_element([5, 2, -10, -4, 4, 5]))"
      ],
      "execution_count": 83,
      "outputs": [
        {
          "output_type": "stream",
          "text": [
            "-7.0\n"
          ],
          "name": "stdout"
        }
      ]
    },
    {
      "cell_type": "markdown",
      "metadata": {
        "id": "OKtoSDPYuwf-",
        "colab_type": "text"
      },
      "source": [
        "# Tuple \n",
        "A tuple is a collection which is ordered and unchangeable. In Python tuples are written with round brackets.\n",
        "\n"
      ]
    },
    {
      "cell_type": "code",
      "metadata": {
        "id": "_VIBZFGou4vn",
        "colab_type": "code",
        "colab": {
          "base_uri": "https://localhost:8080/",
          "height": 34
        },
        "outputId": "27fc52f5-1924-48d5-c1b6-3de1aee66a08"
      },
      "source": [
        "thistuple = (\"apple\", \"banana\", \"cherry\")\n",
        "print(thistuple)"
      ],
      "execution_count": 84,
      "outputs": [
        {
          "output_type": "stream",
          "text": [
            "('apple', 'banana', 'cherry')\n"
          ],
          "name": "stdout"
        }
      ]
    },
    {
      "cell_type": "markdown",
      "metadata": {
        "id": "v-1cvhSbu8HX",
        "colab_type": "text"
      },
      "source": [
        "##Access Tuple Items\n",
        "\n",
        "You can access tuple items by referring to the index number, inside square brackets:"
      ]
    },
    {
      "cell_type": "code",
      "metadata": {
        "id": "M_xHQNw2u_bT",
        "colab_type": "code",
        "colab": {
          "base_uri": "https://localhost:8080/",
          "height": 34
        },
        "outputId": "ab4f2ff8-4fd0-4bb5-b08f-a75a5191a660"
      },
      "source": [
        "thistuple = (\"apple\", \"banana\", \"cherry\")\n",
        "print(thistuple[1])"
      ],
      "execution_count": 85,
      "outputs": [
        {
          "output_type": "stream",
          "text": [
            "banana\n"
          ],
          "name": "stdout"
        }
      ]
    },
    {
      "cell_type": "markdown",
      "metadata": {
        "id": "46kxWo-HvGny",
        "colab_type": "text"
      },
      "source": [
        "## Negative Indexing\n",
        "\n",
        "Negative indexing means beginning from the end, `-1` refers to the last item, `-2` refers to the second last item etc."
      ]
    },
    {
      "cell_type": "code",
      "metadata": {
        "id": "FiX4kQWrvMlb",
        "colab_type": "code",
        "colab": {
          "base_uri": "https://localhost:8080/",
          "height": 34
        },
        "outputId": "e01485d9-63f8-4eb7-bf89-735b335bb646"
      },
      "source": [
        "thistuple = (\"apple\", \"banana\", \"cherry\")\n",
        "print(thistuple[-1])"
      ],
      "execution_count": 86,
      "outputs": [
        {
          "output_type": "stream",
          "text": [
            "cherry\n"
          ],
          "name": "stdout"
        }
      ]
    },
    {
      "cell_type": "markdown",
      "metadata": {
        "id": "0L-SPK90v17s",
        "colab_type": "text"
      },
      "source": [
        "## Range of Indexes\n",
        "You can specify a range of indexes by specifying where to start and where to end the range.\n",
        "\n",
        "When specifying a range, the return value will be a new tuple with the specified items."
      ]
    },
    {
      "cell_type": "code",
      "metadata": {
        "id": "5fUa6dmYv5Hx",
        "colab_type": "code",
        "colab": {
          "base_uri": "https://localhost:8080/",
          "height": 34
        },
        "outputId": "0ea16c59-023d-47a4-a60e-6ea04011d71c"
      },
      "source": [
        "thistuple = (\"apple\", \"banana\", \"cherry\", \"orange\", \"kiwi\", \"melon\", \"mango\")\n",
        "print(thistuple[2:5])"
      ],
      "execution_count": 87,
      "outputs": [
        {
          "output_type": "stream",
          "text": [
            "('cherry', 'orange', 'kiwi')\n"
          ],
          "name": "stdout"
        }
      ]
    },
    {
      "cell_type": "markdown",
      "metadata": {
        "id": "pGdNMn1Ax8d7",
        "colab_type": "text"
      },
      "source": [
        "## Range of Negative Indexes\n",
        "Specify negative indexes if you want to start the search from the end of the tuple:"
      ]
    },
    {
      "cell_type": "code",
      "metadata": {
        "id": "Ht3Os_nVx-bY",
        "colab_type": "code",
        "colab": {
          "base_uri": "https://localhost:8080/",
          "height": 34
        },
        "outputId": "18bd0426-7f13-450a-8ede-db88a7ba81f7"
      },
      "source": [
        "thistuple = (\"apple\", \"banana\", \"cherry\", \"orange\", \"kiwi\", \"melon\", \"mango\")\n",
        "print(thistuple[-4:-1])"
      ],
      "execution_count": 88,
      "outputs": [
        {
          "output_type": "stream",
          "text": [
            "('orange', 'kiwi', 'melon')\n"
          ],
          "name": "stdout"
        }
      ]
    },
    {
      "cell_type": "markdown",
      "metadata": {
        "id": "KXkISLVkyFKk",
        "colab_type": "text"
      },
      "source": [
        "## Change Tuple Values\n",
        "Once a tuple is created, you cannot change its values. Tuples are unchangeable, or immutable as it also is called.\n",
        "\n",
        "But there is a workaround. You can convert the tuple into a list, change the list, and convert the list back into a tuple."
      ]
    },
    {
      "cell_type": "code",
      "metadata": {
        "id": "uNYPBIwKyKBj",
        "colab_type": "code",
        "colab": {
          "base_uri": "https://localhost:8080/",
          "height": 34
        },
        "outputId": "b226da27-e53d-4840-de89-eace9c712778"
      },
      "source": [
        "x = (\"apple\", \"banana\", \"cherry\")\n",
        "y = list(x)\n",
        "y[1] = \"kiwi\"\n",
        "x = tuple(y)\n",
        "\n",
        "print(x) "
      ],
      "execution_count": 89,
      "outputs": [
        {
          "output_type": "stream",
          "text": [
            "('apple', 'kiwi', 'cherry')\n"
          ],
          "name": "stdout"
        }
      ]
    },
    {
      "cell_type": "markdown",
      "metadata": {
        "id": "ByhceJjgyPTW",
        "colab_type": "text"
      },
      "source": [
        "## Loop Through a Tuple\n",
        "You can loop through the tuple items by using a `for` loop."
      ]
    },
    {
      "cell_type": "code",
      "metadata": {
        "id": "mP-JfUVvyRwH",
        "colab_type": "code",
        "colab": {
          "base_uri": "https://localhost:8080/",
          "height": 69
        },
        "outputId": "493799f0-1f52-44c7-fbf7-b528bd71c8d0"
      },
      "source": [
        "thistuple = (\"apple\", \"banana\", \"cherry\")\n",
        "for x in thistuple:\n",
        "  print(x) "
      ],
      "execution_count": 90,
      "outputs": [
        {
          "output_type": "stream",
          "text": [
            "apple\n",
            "banana\n",
            "cherry\n"
          ],
          "name": "stdout"
        }
      ]
    },
    {
      "cell_type": "markdown",
      "metadata": {
        "id": "f52sEH9JyXAl",
        "colab_type": "text"
      },
      "source": [
        "## Check if Item Exists\n",
        "To determine if a specified item is present in a tuple use the `in` keyword:\n"
      ]
    },
    {
      "cell_type": "code",
      "metadata": {
        "id": "2RqNFUyiyen3",
        "colab_type": "code",
        "colab": {
          "base_uri": "https://localhost:8080/",
          "height": 34
        },
        "outputId": "07360fe0-a20a-46e9-f39c-c737202b0221"
      },
      "source": [
        "thistuple = (\"apple\", \"banana\", \"cherry\")\n",
        "if \"apple\" in thistuple:\n",
        "  print(\"Yes, 'apple' is in the fruits tuple\") "
      ],
      "execution_count": 91,
      "outputs": [
        {
          "output_type": "stream",
          "text": [
            "Yes, 'apple' is in the fruits tuple\n"
          ],
          "name": "stdout"
        }
      ]
    },
    {
      "cell_type": "markdown",
      "metadata": {
        "id": "YPlgVAV6ytu6",
        "colab_type": "text"
      },
      "source": [
        "## Tuple Length\n",
        "To determine how many items a tuple has, use the `len() `method:"
      ]
    },
    {
      "cell_type": "code",
      "metadata": {
        "id": "D2E8HQtky00r",
        "colab_type": "code",
        "colab": {
          "base_uri": "https://localhost:8080/",
          "height": 34
        },
        "outputId": "c44ab2fd-8f6a-4729-8d19-cd14a78a41d3"
      },
      "source": [
        "thistuple = (\"apple\", \"banana\", \"cherry\")\n",
        "print(len(thistuple)) "
      ],
      "execution_count": 92,
      "outputs": [
        {
          "output_type": "stream",
          "text": [
            "3\n"
          ],
          "name": "stdout"
        }
      ]
    },
    {
      "cell_type": "markdown",
      "metadata": {
        "id": "1-A5E0nvy-dp",
        "colab_type": "text"
      },
      "source": [
        "## Add Items\n",
        "You cannot add items to a tuple:"
      ]
    },
    {
      "cell_type": "code",
      "metadata": {
        "id": "_fG1eqsmzB0H",
        "colab_type": "code",
        "colab": {
          "base_uri": "https://localhost:8080/",
          "height": 199
        },
        "outputId": "3500fd7e-7b6a-41ab-a9ab-bea8cf3a0888"
      },
      "source": [
        "thistuple = (\"apple\", \"banana\", \"cherry\")\n",
        "thistuple[3] = \"orange\" # This will raise an error\n",
        "print(thistuple)"
      ],
      "execution_count": 93,
      "outputs": [
        {
          "output_type": "error",
          "ename": "TypeError",
          "evalue": "ignored",
          "traceback": [
            "\u001b[0;31m---------------------------------------------------------------------------\u001b[0m",
            "\u001b[0;31mTypeError\u001b[0m                                 Traceback (most recent call last)",
            "\u001b[0;32m<ipython-input-93-fe88f2910dbf>\u001b[0m in \u001b[0;36m<module>\u001b[0;34m()\u001b[0m\n\u001b[1;32m      1\u001b[0m \u001b[0mthistuple\u001b[0m \u001b[0;34m=\u001b[0m \u001b[0;34m(\u001b[0m\u001b[0;34m\"apple\"\u001b[0m\u001b[0;34m,\u001b[0m \u001b[0;34m\"banana\"\u001b[0m\u001b[0;34m,\u001b[0m \u001b[0;34m\"cherry\"\u001b[0m\u001b[0;34m)\u001b[0m\u001b[0;34m\u001b[0m\u001b[0;34m\u001b[0m\u001b[0m\n\u001b[0;32m----> 2\u001b[0;31m \u001b[0mthistuple\u001b[0m\u001b[0;34m[\u001b[0m\u001b[0;36m3\u001b[0m\u001b[0;34m]\u001b[0m \u001b[0;34m=\u001b[0m \u001b[0;34m\"orange\"\u001b[0m \u001b[0;31m# This will raise an error\u001b[0m\u001b[0;34m\u001b[0m\u001b[0;34m\u001b[0m\u001b[0m\n\u001b[0m\u001b[1;32m      3\u001b[0m \u001b[0mprint\u001b[0m\u001b[0;34m(\u001b[0m\u001b[0mthistuple\u001b[0m\u001b[0;34m)\u001b[0m\u001b[0;34m\u001b[0m\u001b[0;34m\u001b[0m\u001b[0m\n",
            "\u001b[0;31mTypeError\u001b[0m: 'tuple' object does not support item assignment"
          ]
        }
      ]
    },
    {
      "cell_type": "markdown",
      "metadata": {
        "id": "sxYP3YKFzEYL",
        "colab_type": "text"
      },
      "source": [
        "# Create Tuple With One Item\n",
        "To create a tuple with only one item, you have to add a comma after the item, otherwise Python will not recognize it as a tuple.\n",
        "\n"
      ]
    },
    {
      "cell_type": "code",
      "metadata": {
        "id": "WplkleKgzUqG",
        "colab_type": "code",
        "colab": {
          "base_uri": "https://localhost:8080/",
          "height": 52
        },
        "outputId": "5f6c12b1-fdc1-49f9-dfb0-43e4de023c59"
      },
      "source": [
        "thistuple = (\"apple\",)\n",
        "print(type(thistuple))\n",
        "\n",
        "#NOT a tuple\n",
        "thistuple = (\"apple\")\n",
        "print(type(thistuple)) "
      ],
      "execution_count": 94,
      "outputs": [
        {
          "output_type": "stream",
          "text": [
            "<class 'tuple'>\n",
            "<class 'str'>\n"
          ],
          "name": "stdout"
        }
      ]
    },
    {
      "cell_type": "code",
      "metadata": {
        "id": "6pzv3b5Yzodg",
        "colab_type": "code",
        "colab": {
          "base_uri": "https://localhost:8080/",
          "height": 199
        },
        "outputId": "4683635a-b043-4e98-e2f8-6cbc8caaaaf8"
      },
      "source": [
        " thistuple = (\"apple\", \"banana\", \"cherry\")\n",
        "del thistuple\n",
        "print(thistuple) #this will raise an error because the tuple no longer exists "
      ],
      "execution_count": 95,
      "outputs": [
        {
          "output_type": "error",
          "ename": "NameError",
          "evalue": "ignored",
          "traceback": [
            "\u001b[0;31m---------------------------------------------------------------------------\u001b[0m",
            "\u001b[0;31mNameError\u001b[0m                                 Traceback (most recent call last)",
            "\u001b[0;32m<ipython-input-95-5ea6b628c556>\u001b[0m in \u001b[0;36m<module>\u001b[0;34m()\u001b[0m\n\u001b[1;32m      1\u001b[0m \u001b[0mthistuple\u001b[0m \u001b[0;34m=\u001b[0m \u001b[0;34m(\u001b[0m\u001b[0;34m\"apple\"\u001b[0m\u001b[0;34m,\u001b[0m \u001b[0;34m\"banana\"\u001b[0m\u001b[0;34m,\u001b[0m \u001b[0;34m\"cherry\"\u001b[0m\u001b[0;34m)\u001b[0m\u001b[0;34m\u001b[0m\u001b[0;34m\u001b[0m\u001b[0m\n\u001b[1;32m      2\u001b[0m \u001b[0;32mdel\u001b[0m \u001b[0mthistuple\u001b[0m\u001b[0;34m\u001b[0m\u001b[0;34m\u001b[0m\u001b[0m\n\u001b[0;32m----> 3\u001b[0;31m \u001b[0mprint\u001b[0m\u001b[0;34m(\u001b[0m\u001b[0mthistuple\u001b[0m\u001b[0;34m)\u001b[0m \u001b[0;31m#this will raise an error because the tuple no longer exists\u001b[0m\u001b[0;34m\u001b[0m\u001b[0;34m\u001b[0m\u001b[0m\n\u001b[0m",
            "\u001b[0;31mNameError\u001b[0m: name 'thistuple' is not defined"
          ]
        }
      ]
    },
    {
      "cell_type": "markdown",
      "metadata": {
        "id": "n1lZ9LnIz_Cp",
        "colab_type": "text"
      },
      "source": [
        "## Join Two Tuples\n",
        "\n",
        "To join two or more tuples you can use the + operator:"
      ]
    },
    {
      "cell_type": "code",
      "metadata": {
        "id": "ZLwytsId0DBB",
        "colab_type": "code",
        "colab": {
          "base_uri": "https://localhost:8080/",
          "height": 34
        },
        "outputId": "ee27fec6-4de3-42bd-a20e-364704468cb8"
      },
      "source": [
        "tuple1 = (\"a\", \"b\" , \"c\")\n",
        "tuple2 = (1, 2, 3)\n",
        "\n",
        "tuple3 = tuple1 + tuple2\n",
        "print(tuple3) "
      ],
      "execution_count": 96,
      "outputs": [
        {
          "output_type": "stream",
          "text": [
            "('a', 'b', 'c', 1, 2, 3)\n"
          ],
          "name": "stdout"
        }
      ]
    },
    {
      "cell_type": "markdown",
      "metadata": {
        "id": "iscY79d80HVZ",
        "colab_type": "text"
      },
      "source": [
        "## The tuple() Constructor\n",
        "\n",
        "It is also possible to use the `tuple()`constructor to make a tuple."
      ]
    },
    {
      "cell_type": "code",
      "metadata": {
        "id": "nrxVSGAj0N2-",
        "colab_type": "code",
        "colab": {
          "base_uri": "https://localhost:8080/",
          "height": 52
        },
        "outputId": "9802e0c5-7d75-4e69-c1d8-79f84479c655"
      },
      "source": [
        "thistuple = tuple((\"apple\", \"banana\", \"cherry\")) # note the double round-brackets\n",
        "print(thistuple)\n",
        "print (type(thistuple))"
      ],
      "execution_count": 98,
      "outputs": [
        {
          "output_type": "stream",
          "text": [
            "('apple', 'banana', 'cherry')\n",
            "<class 'tuple'>\n"
          ],
          "name": "stdout"
        }
      ]
    },
    {
      "cell_type": "markdown",
      "metadata": {
        "id": "8lKYbE4e0VMm",
        "colab_type": "text"
      },
      "source": [
        "## Tuple Methods\n",
        "\n",
        "\n",
        "Python has two built-in methods that you can use on tuples.\n",
        "Method \tDescription\n",
        "\n",
        "* `count()`\tReturns the number of times a specified value occurs in a tuple\n",
        "\n",
        "* `index()`\tSearches the tuple for a specified value and returns the position of where it was found"
      ]
    },
    {
      "cell_type": "markdown",
      "metadata": {
        "id": "Zc9vIy9Pja9O",
        "colab_type": "text"
      },
      "source": [
        "# Python Dictionaries\n",
        "A dictionary is a collection which is unordered, changeable and indexed. In Python dictionaries are written with curly brackets, and they have keys and values.\n"
      ]
    },
    {
      "cell_type": "markdown",
      "metadata": {
        "id": "QEwga_A7jiZb",
        "colab_type": "text"
      },
      "source": [
        "## Create and print a dictionary:"
      ]
    },
    {
      "cell_type": "code",
      "metadata": {
        "id": "Qc77gdN8jjbw",
        "colab_type": "code",
        "colab": {
          "base_uri": "https://localhost:8080/",
          "height": 34
        },
        "outputId": "1307dcda-cc97-4d35-ace4-240d69ada12d"
      },
      "source": [
        "thisdict =\t{\n",
        "  \"brand\": \"Ford\",\n",
        "  \"model\": \"Mustang\",\n",
        "  \"year\": 1964\n",
        "}\n",
        "print(thisdict)"
      ],
      "execution_count": 99,
      "outputs": [
        {
          "output_type": "stream",
          "text": [
            "{'brand': 'Ford', 'model': 'Mustang', 'year': 1964}\n"
          ],
          "name": "stdout"
        }
      ]
    },
    {
      "cell_type": "markdown",
      "metadata": {
        "id": "Bw7UHmTHjpwJ",
        "colab_type": "text"
      },
      "source": [
        "##Accessing Items\n",
        "\n",
        "You can access the items of a dictionary by referring to its key name, inside square brackets:\n"
      ]
    },
    {
      "cell_type": "code",
      "metadata": {
        "id": "eezuWza9jrWQ",
        "colab_type": "code",
        "colab": {
          "base_uri": "https://localhost:8080/",
          "height": 34
        },
        "outputId": "5f516092-baa0-4d08-c7f3-ed3f202d318d"
      },
      "source": [
        " x = thisdict[\"model\"]\n",
        " print(x)"
      ],
      "execution_count": 102,
      "outputs": [
        {
          "output_type": "stream",
          "text": [
            "Mustang\n"
          ],
          "name": "stdout"
        }
      ]
    },
    {
      "cell_type": "markdown",
      "metadata": {
        "id": "yzCjSIRDjyBm",
        "colab_type": "text"
      },
      "source": [
        "There is also a method called get() that will give you the same result:"
      ]
    },
    {
      "cell_type": "code",
      "metadata": {
        "id": "F3W1UJtejyoB",
        "colab_type": "code",
        "colab": {
          "base_uri": "https://localhost:8080/",
          "height": 34
        },
        "outputId": "59c98db7-be43-47b4-c3d7-0192ac807072"
      },
      "source": [
        " x = thisdict.get(\"model\")\n",
        " print(x)"
      ],
      "execution_count": 104,
      "outputs": [
        {
          "output_type": "stream",
          "text": [
            "Mustang\n"
          ],
          "name": "stdout"
        }
      ]
    },
    {
      "cell_type": "markdown",
      "metadata": {
        "id": "zFeRiURkj8Ay",
        "colab_type": "text"
      },
      "source": [
        "## Change Values\n",
        "You can change the value of a specific item by referring to its key name:"
      ]
    },
    {
      "cell_type": "code",
      "metadata": {
        "id": "Q64g7By2j-N5",
        "colab_type": "code",
        "colab": {
          "base_uri": "https://localhost:8080/",
          "height": 52
        },
        "outputId": "528c14fb-1dde-492d-f0cb-cd2e401ff0bf"
      },
      "source": [
        "#Change the \"year\" to 2018:\n",
        "thisdict =\t{\n",
        "  \"brand\": \"Ford\",\n",
        "  \"model\": \"Mustang\",\n",
        "  \"year\": 1964\n",
        "}\n",
        "thisdict[\"year\"] = 2018\n",
        "print(thisdict.get(\"year\"))\n",
        "print(thisdict)"
      ],
      "execution_count": 109,
      "outputs": [
        {
          "output_type": "stream",
          "text": [
            "2018\n",
            "{'brand': 'Ford', 'model': 'Mustang', 'year': 2018}\n"
          ],
          "name": "stdout"
        }
      ]
    },
    {
      "cell_type": "markdown",
      "metadata": {
        "id": "nrjhuNfvkWn7",
        "colab_type": "text"
      },
      "source": [
        "## Loop Through a Dictionary\n",
        "You can loop through a dictionary by using a `for` loop.\n",
        "\n",
        "When looping through a dictionary, the return value are the **keys** of the dictionary, but there are methods to return the values as well"
      ]
    },
    {
      "cell_type": "code",
      "metadata": {
        "id": "sjSfot42kZlj",
        "colab_type": "code",
        "colab": {
          "base_uri": "https://localhost:8080/",
          "height": 69
        },
        "outputId": "94cce399-04ff-44b0-ca44-1abc9d13c0b7"
      },
      "source": [
        "# Returning keys\n",
        "for x in thisdict:\n",
        "  print(x);"
      ],
      "execution_count": 113,
      "outputs": [
        {
          "output_type": "stream",
          "text": [
            "brand\n",
            "model\n",
            "year\n"
          ],
          "name": "stdout"
        }
      ]
    },
    {
      "cell_type": "markdown",
      "metadata": {
        "id": "E6E6CveKki94",
        "colab_type": "text"
      },
      "source": [
        "**Print all values in the dictionary, one by one:**"
      ]
    },
    {
      "cell_type": "code",
      "metadata": {
        "id": "-eRrXiO_kk5P",
        "colab_type": "code",
        "colab": {
          "base_uri": "https://localhost:8080/",
          "height": 69
        },
        "outputId": "a0f71afb-dc94-4fa3-9b55-774e82fdadf5"
      },
      "source": [
        "for x in thisdict:\n",
        "  print(thisdict[x]);"
      ],
      "execution_count": 112,
      "outputs": [
        {
          "output_type": "stream",
          "text": [
            "Ford\n",
            "Mustang\n",
            "2018\n"
          ],
          "name": "stdout"
        }
      ]
    },
    {
      "cell_type": "markdown",
      "metadata": {
        "id": "4eK1mMbjk_Ol",
        "colab_type": "text"
      },
      "source": [
        "You can also use the `values()` method to **return values of a dictionary**:"
      ]
    },
    {
      "cell_type": "code",
      "metadata": {
        "id": "FGachMoslDU9",
        "colab_type": "code",
        "colab": {
          "base_uri": "https://localhost:8080/",
          "height": 69
        },
        "outputId": "9434fe4b-5101-4460-8974-f1ef6d838913"
      },
      "source": [
        "for x in thisdict.values():\n",
        "  print(x) "
      ],
      "execution_count": 114,
      "outputs": [
        {
          "output_type": "stream",
          "text": [
            "Ford\n",
            "Mustang\n",
            "2018\n"
          ],
          "name": "stdout"
        }
      ]
    },
    {
      "cell_type": "markdown",
      "metadata": {
        "id": "uP62ZTeSlI08",
        "colab_type": "text"
      },
      "source": [
        "Loop through **both keys and values**, by using the `items()` method:"
      ]
    },
    {
      "cell_type": "code",
      "metadata": {
        "id": "Aw2olg-NlM_l",
        "colab_type": "code",
        "colab": {}
      },
      "source": [
        "for x, y in thisdict.items():\n",
        "  print(x, y) "
      ],
      "execution_count": 0,
      "outputs": []
    },
    {
      "cell_type": "markdown",
      "metadata": {
        "id": "JKOiW3nWlT3U",
        "colab_type": "text"
      },
      "source": [
        "## Check if Key Exists\n",
        "To determine if a specified key is present `in` a dictionary use the in keyword:"
      ]
    },
    {
      "cell_type": "code",
      "metadata": {
        "id": "sdi7bUcDlYs7",
        "colab_type": "code",
        "colab": {
          "base_uri": "https://localhost:8080/",
          "height": 34
        },
        "outputId": "49b368e9-9606-4b77-d1de-6af41fa23cbb"
      },
      "source": [
        "thisdict =\t{\n",
        "  \"brand\": \"Ford\",\n",
        "  \"model\": \"Mustang\",\n",
        "  \"year\": 1964\n",
        "}\n",
        "if \"model\" in thisdict:\n",
        "  print(\"Yes, 'model' is one of the keys in the thisdict dictionary\") "
      ],
      "execution_count": 119,
      "outputs": [
        {
          "output_type": "stream",
          "text": [
            "Yes, 'model' is one of the keys in the thisdict dictionary\n"
          ],
          "name": "stdout"
        }
      ]
    },
    {
      "cell_type": "markdown",
      "metadata": {
        "id": "i5DYhwCQlk1q",
        "colab_type": "text"
      },
      "source": [
        "## Dictionary Length\n",
        "To determine how many items (key-value pairs) a dictionary has, use the `len()` function."
      ]
    },
    {
      "cell_type": "code",
      "metadata": {
        "id": "cSHE-sn_lnns",
        "colab_type": "code",
        "colab": {
          "base_uri": "https://localhost:8080/",
          "height": 34
        },
        "outputId": "36250eea-d1dd-42f4-a1d5-781d8490011a"
      },
      "source": [
        " print(len(thisdict)) "
      ],
      "execution_count": 120,
      "outputs": [
        {
          "output_type": "stream",
          "text": [
            "3\n"
          ],
          "name": "stdout"
        }
      ]
    },
    {
      "cell_type": "markdown",
      "metadata": {
        "id": "VLaTmI09l8VB",
        "colab_type": "text"
      },
      "source": [
        "## Adding Items\n",
        "Adding an item to the dictionary is done by using a new index key and assigning a value to it:"
      ]
    },
    {
      "cell_type": "code",
      "metadata": {
        "id": "K0PR5a33mCAg",
        "colab_type": "code",
        "colab": {
          "base_uri": "https://localhost:8080/",
          "height": 52
        },
        "outputId": "b662951f-823f-429f-8c4c-c4eb476ebddc"
      },
      "source": [
        "thisdict =\t{\n",
        "  \"brand\": \"Ford\",\n",
        "  \"model\": \"Mustang\",\n",
        "  \"year\": 1964\n",
        "}\n",
        "thisdict[\"color\"] = \"red\"\n",
        "print(thisdict)\n",
        "print(len(thisdict))"
      ],
      "execution_count": 122,
      "outputs": [
        {
          "output_type": "stream",
          "text": [
            "{'brand': 'Ford', 'model': 'Mustang', 'year': 1964, 'color': 'red'}\n",
            "4\n"
          ],
          "name": "stdout"
        }
      ]
    },
    {
      "cell_type": "markdown",
      "metadata": {
        "id": "slBzAArUmJPq",
        "colab_type": "text"
      },
      "source": [
        "## Removing Items\n",
        "There are several methods to remove items from a dictionary: \n"
      ]
    },
    {
      "cell_type": "markdown",
      "metadata": {
        "id": "BXI3DLlEmOVh",
        "colab_type": "text"
      },
      "source": [
        "The `pop()` method removes the item with the specified key name:"
      ]
    },
    {
      "cell_type": "code",
      "metadata": {
        "id": "-y18OQrXmRkM",
        "colab_type": "code",
        "colab": {
          "base_uri": "https://localhost:8080/",
          "height": 34
        },
        "outputId": "86b8d5d5-0c6f-46c9-96f9-abba22e0f475"
      },
      "source": [
        "thisdict =\t{\n",
        "  \"brand\": \"Ford\",\n",
        "  \"model\": \"Mustang\",\n",
        "  \"year\": 1964\n",
        "}\n",
        "thisdict.pop(\"model\")\n",
        "print(thisdict) "
      ],
      "execution_count": 123,
      "outputs": [
        {
          "output_type": "stream",
          "text": [
            "{'brand': 'Ford', 'year': 1964}\n"
          ],
          "name": "stdout"
        }
      ]
    },
    {
      "cell_type": "markdown",
      "metadata": {
        "id": "zu3J4n8amUly",
        "colab_type": "text"
      },
      "source": [
        "The `popitem()` method removes the **last inserted item** (in versions before 3.7, a random item is removed instead):"
      ]
    },
    {
      "cell_type": "code",
      "metadata": {
        "id": "XsrppQO-mYiY",
        "colab_type": "code",
        "colab": {
          "base_uri": "https://localhost:8080/",
          "height": 34
        },
        "outputId": "84f428dc-0ceb-494f-a2f8-e8c02c6c7a9f"
      },
      "source": [
        "thisdict =\t{\n",
        "  \"brand\": \"Ford\",\n",
        "  \"model\": \"Mustang\",\n",
        "  \"year\": 1964\n",
        "}\n",
        "thisdict.popitem()\n",
        "print(thisdict) "
      ],
      "execution_count": 124,
      "outputs": [
        {
          "output_type": "stream",
          "text": [
            "{'brand': 'Ford', 'model': 'Mustang'}\n"
          ],
          "name": "stdout"
        }
      ]
    },
    {
      "cell_type": "markdown",
      "metadata": {
        "id": "_Bbjbp4tmgc0",
        "colab_type": "text"
      },
      "source": [
        "The `del` keyword removes the item with the specified key name:"
      ]
    },
    {
      "cell_type": "code",
      "metadata": {
        "id": "1fYwrLEimls5",
        "colab_type": "code",
        "colab": {
          "base_uri": "https://localhost:8080/",
          "height": 34
        },
        "outputId": "e8afa76a-077a-4fa5-c901-1175e0b8897a"
      },
      "source": [
        "thisdict =\t{\n",
        "  \"brand\": \"Ford\",\n",
        "  \"model\": \"Mustang\",\n",
        "  \"year\": 1964\n",
        "}\n",
        "del thisdict[\"model\"]\n",
        "print(thisdict) "
      ],
      "execution_count": 125,
      "outputs": [
        {
          "output_type": "stream",
          "text": [
            "{'brand': 'Ford', 'year': 1964}\n"
          ],
          "name": "stdout"
        }
      ]
    },
    {
      "cell_type": "markdown",
      "metadata": {
        "id": "oRDcvfZ2mqAG",
        "colab_type": "text"
      },
      "source": [
        "The `clear()` method empties the dictionary:"
      ]
    },
    {
      "cell_type": "code",
      "metadata": {
        "id": "WEGRTrMImsm7",
        "colab_type": "code",
        "colab": {
          "base_uri": "https://localhost:8080/",
          "height": 34
        },
        "outputId": "b5b78fbf-98bb-46b7-811b-5ad911179753"
      },
      "source": [
        "thisdict =\t{\n",
        "  \"brand\": \"Ford\",\n",
        "  \"model\": \"Mustang\",\n",
        "  \"year\": 1964\n",
        "}\n",
        "thisdict.clear()\n",
        "print(thisdict) "
      ],
      "execution_count": 126,
      "outputs": [
        {
          "output_type": "stream",
          "text": [
            "{}\n"
          ],
          "name": "stdout"
        }
      ]
    },
    {
      "cell_type": "markdown",
      "metadata": {
        "id": "TUXKWa_cmuy6",
        "colab_type": "text"
      },
      "source": [
        "## Copy a Dictionary\n",
        "You cannot copy a dictionary simply by typing `dict2 = dict1`, because: `dict2` will only be a reference to `dict1`, and **changes made in dict1 will automatically also be made in dict2**.\n",
        "\n",
        "There are ways to make a copy, one way is to use the built-in Dictionary method `copy()`."
      ]
    },
    {
      "cell_type": "code",
      "metadata": {
        "id": "g9O9tb9Um4Iy",
        "colab_type": "code",
        "colab": {
          "base_uri": "https://localhost:8080/",
          "height": 52
        },
        "outputId": "59818a1e-38ea-42af-bc1c-8cf6c60abb32"
      },
      "source": [
        "thisdict =\t{\n",
        "  \"brand\": \"Ford\",\n",
        "  \"model\": \"Mustang\",\n",
        "  \"year\": 1964\n",
        "}\n",
        "mydict = thisdict.copy()\n",
        "print(thisdict)\n",
        "print(mydict)"
      ],
      "execution_count": 128,
      "outputs": [
        {
          "output_type": "stream",
          "text": [
            "{'brand': 'Ford', 'model': 'Mustang', 'year': 1964}\n",
            "{'brand': 'Ford', 'model': 'Mustang', 'year': 1964}\n"
          ],
          "name": "stdout"
        }
      ]
    },
    {
      "cell_type": "markdown",
      "metadata": {
        "id": "1Be73-3zm_U6",
        "colab_type": "text"
      },
      "source": [
        "Another way to make a copy is to use the built-in function `dict()`."
      ]
    },
    {
      "cell_type": "code",
      "metadata": {
        "id": "9MBY-gPlnAqA",
        "colab_type": "code",
        "colab": {
          "base_uri": "https://localhost:8080/",
          "height": 34
        },
        "outputId": "711f8187-8ffd-4532-e3ef-2f0587d9be59"
      },
      "source": [
        "thisdict =\t{\n",
        "  \"brand\": \"Ford\",\n",
        "  \"model\": \"Mustang\",\n",
        "  \"year\": 1964\n",
        "}\n",
        "mydict = dict(thisdict)\n",
        "print(mydict) "
      ],
      "execution_count": 129,
      "outputs": [
        {
          "output_type": "stream",
          "text": [
            "{'brand': 'Ford', 'model': 'Mustang', 'year': 1964}\n"
          ],
          "name": "stdout"
        }
      ]
    },
    {
      "cell_type": "markdown",
      "metadata": {
        "id": "nIu58aTJnHUD",
        "colab_type": "text"
      },
      "source": [
        "## Nested Dictionaries\n",
        "A dictionary can also contain many dictionaries, this is called nested dictionaries. "
      ]
    },
    {
      "cell_type": "code",
      "metadata": {
        "id": "BK4PkfF-nOKE",
        "colab_type": "code",
        "colab": {}
      },
      "source": [
        "myfamily = {\n",
        "  \"child1\" : {\n",
        "    \"name\" : \"Emil\",\n",
        "    \"year\" : 2004\n",
        "  },\n",
        "  \"child2\" : {\n",
        "    \"name\" : \"Tobias\",\n",
        "    \"year\" : 2007\n",
        "  },\n",
        "  \"child3\" : {\n",
        "    \"name\" : \"Linus\",\n",
        "    \"year\" : 2011\n",
        "  }\n",
        "} "
      ],
      "execution_count": 0,
      "outputs": []
    },
    {
      "cell_type": "markdown",
      "metadata": {
        "id": "NFFnQZJhnSAn",
        "colab_type": "text"
      },
      "source": [
        "## The dict() Constructor\n",
        "It is also possible to use the `dict()` constructor to make a new dictionary:"
      ]
    },
    {
      "cell_type": "code",
      "metadata": {
        "id": "7jUMHbwLnVHl",
        "colab_type": "code",
        "colab": {
          "base_uri": "https://localhost:8080/",
          "height": 34
        },
        "outputId": "d90824ad-67d9-4729-f502-d2316e637a27"
      },
      "source": [
        "thisdict = dict(brand=\"Ford\", model=\"Mustang\", year=1964)\n",
        "# note that keywords are not string literals\n",
        "# note the use of equals rather than colon for the assignment\n",
        "print(thisdict)"
      ],
      "execution_count": 131,
      "outputs": [
        {
          "output_type": "stream",
          "text": [
            "{'brand': 'Ford', 'model': 'Mustang', 'year': 1964}\n"
          ],
          "name": "stdout"
        }
      ]
    },
    {
      "cell_type": "markdown",
      "metadata": {
        "id": "E8K6lCSbndz1",
        "colab_type": "text"
      },
      "source": [
        "## Dictionary Methods\n",
        "\n",
        "Python has a set of built-in methods that you can use on dictionaries.\n",
        "\n",
        "* `clear()`\tRemoves all the elements from the dictionary\n",
        "* `copy()`\tReturns a copy of the dictionary\n",
        "* `fromkeys()`\tReturns a dictionary with the specified keys and value\n",
        "* `get()`\tReturns the value of the specified key\n",
        "* `items()`\tReturns a list containing a tuple for each key value pair\n",
        "* `keys()`\tReturns a list containing the dictionary's keys\n",
        "* `pop()`\tRemoves the element with the specified key\n",
        "* `popitem()`\tRemoves the last inserted key-value pair\n",
        "* `setdefault()`\tReturns the value of the specified key. If the key does not exist: insert the key, with the specified value\n",
        "* `update()`\tUpdates the dictionary with the specified key-value pairs\n",
        "* `values()`\tReturns a list of all the values in the dictionary"
      ]
    }
  ]
}